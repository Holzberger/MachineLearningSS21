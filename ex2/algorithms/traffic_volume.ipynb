{
 "cells": [
  {
   "cell_type": "code",
   "execution_count": 1,
   "metadata": {},
   "outputs": [],
   "source": [
    "import numpy as np\n",
    "import pandas as pd\n",
    "\n",
    "import matplotlib.pyplot as plt\n",
    "import seaborn as sns\n",
    "from sklearn.linear_model import LinearRegression\n",
    "from sklearn.model_selection import train_test_split\n",
    "from sklearn.metrics import r2_score\n",
    "from sklearn.neighbors import KNeighborsRegressor\n",
    "\n",
    "from model_tree import *\n",
    "from reg_tree import *\n",
    "from sklearn.linear_model import *\n",
    "from lineartree import LinearTreeClassifier, LinearTreeRegressor"
   ]
  },
  {
   "cell_type": "code",
   "execution_count": 2,
   "metadata": {},
   "outputs": [],
   "source": [
    "link =\"https://archive.ics.uci.edu/ml/machine-learning-databases/00492/Metro_Interstate_Traffic_Volume.csv.gz\"\n",
    "df = pd.read_csv(link)"
   ]
  },
  {
   "cell_type": "code",
   "execution_count": 3,
   "metadata": {},
   "outputs": [
    {
     "name": "stdout",
     "output_type": "stream",
     "text": [
      "Missing vals:\n",
      "holiday                False\n",
      "temp                   False\n",
      "rain_1h                False\n",
      "snow_1h                False\n",
      "clouds_all             False\n",
      "weather_main           False\n",
      "weather_description    False\n",
      "date_time              False\n",
      "traffic_volume         False\n",
      "dtype: bool\n"
     ]
    }
   ],
   "source": [
    "print(\"Missing vals:\")\n",
    "print(df.isnull().any())\n",
    "\n",
    "# convert to date datatype\n",
    "df['date_time'] = pd.to_datetime(df['date_time'])\n",
    "\n",
    "# extract year, day and hour from date\n",
    "df['year'] = [d.year for d in df['date_time']]\n",
    "df['day_year'] = [d.dayofyear for d in df['date_time']]\n",
    "df['day_week'] = [d.dayofweek for d in df['date_time']]\n",
    "df['hour'] = [d.hour for d in df['date_time']]\n",
    "df['month'] = [d.month for d in df['date_time']]\n",
    "\n",
    "# date is not needed anymore\n",
    "df=df.drop(columns=['date_time'])"
   ]
  },
  {
   "cell_type": "code",
   "execution_count": 4,
   "metadata": {},
   "outputs": [],
   "source": [
    "#%% encode remaining cathegorical attrs as one hot\n",
    "df = pd.get_dummies(df, columns=[\"holiday\", \"weather_main\", \"weather_description\"], prefix=[\"holiday\", \"weather_main\", \"weather_description\"])\n"
   ]
  },
  {
   "cell_type": "code",
   "execution_count": 6,
   "metadata": {},
   "outputs": [],
   "source": [
    "#%% create test train split\n",
    "from sklearn.model_selection import train_test_split\n",
    "x = df.drop(columns=[\"traffic_volume\"])\n",
    "y = df[\"traffic_volume\"]\n",
    "x_train, x_test, y_train, y_test = train_test_split(x,y,test_size = 0.2,random_state=42, shuffle=True)"
   ]
  },
  {
   "cell_type": "code",
   "execution_count": null,
   "metadata": {},
   "outputs": [],
   "source": []
  },
  {
   "cell_type": "code",
   "execution_count": 9,
   "metadata": {},
   "outputs": [],
   "source": [
    "import warnings\n",
    "warnings.filterwarnings('ignore')\n",
    "\n",
    "n_attr_leaf= 4\n",
    "pruning= False\n",
    "smoothing= False\n",
    "optimized_model= False\n",
    "incremental_fit = False\n",
    "k=15\n",
    "max_depth = 20\n",
    "split_function=\"RMS\"\n",
    "\n",
    "kf = KFold(n_splits=10, shuffle=True, random_state=42)\n",
    "kf.split(df)\n",
    "M5regressor_r2_model, const_regressor_r2, const_regressor_sklearn_r2_model, linear_regressor_r2, random_forest_regressor_r2, extra_tree_r2 = [], [], [], [], [], []\n",
    "M5regressor_MAE_model, const_regressor_MAE, const_regressor_sklearn_MAE_model, linear_regressor_MAE, random_forest_regressor_MAE, extra_tree_MAE = [], [], [], [], [], []\n",
    "lintree_MAE, lintree_r2, linear_tree_r2, linear_tree_MAE = [], [], [], []\n"
   ]
  },
  {
   "cell_type": "code",
   "execution_count": null,
   "metadata": {},
   "outputs": [],
   "source": []
  }
 ],
 "metadata": {
  "kernelspec": {
   "display_name": "Python 3",
   "language": "python",
   "name": "python3"
  },
  "language_info": {
   "codemirror_mode": {
    "name": "ipython",
    "version": 3
   },
   "file_extension": ".py",
   "mimetype": "text/x-python",
   "name": "python",
   "nbconvert_exporter": "python",
   "pygments_lexer": "ipython3",
   "version": "3.8.5"
  }
 },
 "nbformat": 4,
 "nbformat_minor": 4
}
