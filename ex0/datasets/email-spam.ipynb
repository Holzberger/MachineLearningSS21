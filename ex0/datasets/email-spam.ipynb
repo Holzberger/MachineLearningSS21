{
 "cells": [
  {
   "cell_type": "code",
   "execution_count": 1,
   "id": "lesser-russell",
   "metadata": {},
   "outputs": [],
   "source": [
    "import pandas as pd\n",
    "%matplotlib inline\n",
    "import matplotlib.pyplot as plt\n",
    "import seaborn as sns\n",
    "import numpy as np"
   ]
  },
  {
   "cell_type": "markdown",
   "id": "express-imaging",
   "metadata": {},
   "source": [
    "We use the enronSpamSubset.csv and the lingSpam.csv as our dataset."
   ]
  },
  {
   "cell_type": "code",
   "execution_count": 85,
   "id": "broadband-necessity",
   "metadata": {},
   "outputs": [
    {
     "data": {
      "text/html": [
       "<div>\n",
       "<style scoped>\n",
       "    .dataframe tbody tr th:only-of-type {\n",
       "        vertical-align: middle;\n",
       "    }\n",
       "\n",
       "    .dataframe tbody tr th {\n",
       "        vertical-align: top;\n",
       "    }\n",
       "\n",
       "    .dataframe thead th {\n",
       "        text-align: right;\n",
       "    }\n",
       "</style>\n",
       "<table border=\"1\" class=\"dataframe\">\n",
       "  <thead>\n",
       "    <tr style=\"text-align: right;\">\n",
       "      <th></th>\n",
       "      <th>Body</th>\n",
       "      <th>Label</th>\n",
       "    </tr>\n",
       "  </thead>\n",
       "  <tbody>\n",
       "    <tr>\n",
       "      <th>0</th>\n",
       "      <td>Subject: stock promo mover : cwtd\\n * * * urge...</td>\n",
       "      <td>1</td>\n",
       "    </tr>\n",
       "    <tr>\n",
       "      <th>1</th>\n",
       "      <td>Subject: are you listed in major search engine...</td>\n",
       "      <td>1</td>\n",
       "    </tr>\n",
       "    <tr>\n",
       "      <th>2</th>\n",
       "      <td>Subject: important information thu , 30 jun 20...</td>\n",
       "      <td>1</td>\n",
       "    </tr>\n",
       "    <tr>\n",
       "      <th>3</th>\n",
       "      <td>Subject: = ? utf - 8 ? q ? bask your life with...</td>\n",
       "      <td>1</td>\n",
       "    </tr>\n",
       "    <tr>\n",
       "      <th>4</th>\n",
       "      <td>Subject: \" bidstogo \" is places to go , things...</td>\n",
       "      <td>1</td>\n",
       "    </tr>\n",
       "  </tbody>\n",
       "</table>\n",
       "</div>"
      ],
      "text/plain": [
       "                                                Body  Label\n",
       "0  Subject: stock promo mover : cwtd\\n * * * urge...      1\n",
       "1  Subject: are you listed in major search engine...      1\n",
       "2  Subject: important information thu , 30 jun 20...      1\n",
       "3  Subject: = ? utf - 8 ? q ? bask your life with...      1\n",
       "4  Subject: \" bidstogo \" is places to go , things...      1"
      ]
     },
     "execution_count": 85,
     "metadata": {},
     "output_type": "execute_result"
    }
   ],
   "source": [
    "sp_data0 = pd.read_csv(\"./enronSpamSubset.csv\").drop(['Unnamed: 0', 'Unnamed: 0.1'], axis=1)\n",
    "sp_data1 = pd.read_csv(\"./lingSpam.csv\").drop(['Unnamed: 0'], axis=1)\n",
    "sp_data1.drop(sp_data1.tail(1).index,inplace=True) # drop last rwo since it summarizes all rows again\n",
    "#sp_data2 = pd.read_csv(\"./completeSpamAssassin.csv\").drop(['Unnamed: 0'], axis=1)\n",
    "sp_data = pd.concat([sp_data0, sp_data1]) \n",
    "sp_data.head()"
   ]
  },
  {
   "cell_type": "code",
   "execution_count": 1,
   "id": "difficult-desert",
   "metadata": {},
   "outputs": [
    {
     "ename": "NameError",
     "evalue": "name 'sp_data' is not defined",
     "output_type": "error",
     "traceback": [
      "\u001b[0;31m---------------------------------------------------------------------------\u001b[0m",
      "\u001b[0;31mNameError\u001b[0m                                 Traceback (most recent call last)",
      "\u001b[0;32m<ipython-input-1-82586ef12211>\u001b[0m in \u001b[0;36m<module>\u001b[0;34m\u001b[0m\n\u001b[0;32m----> 1\u001b[0;31m \u001b[0mtextlen\u001b[0m \u001b[0;34m=\u001b[0m \u001b[0;34m[\u001b[0m\u001b[0mlen\u001b[0m\u001b[0;34m(\u001b[0m\u001b[0mtext\u001b[0m\u001b[0;34m)\u001b[0m \u001b[0;32mfor\u001b[0m \u001b[0mtext\u001b[0m \u001b[0;32min\u001b[0m \u001b[0msp_data\u001b[0m\u001b[0;34m[\u001b[0m\u001b[0;34m\"Body\"\u001b[0m\u001b[0;34m]\u001b[0m\u001b[0;34m]\u001b[0m\u001b[0;34m\u001b[0m\u001b[0;34m\u001b[0m\u001b[0m\n\u001b[0m\u001b[1;32m      2\u001b[0m \u001b[0mplt\u001b[0m\u001b[0;34m.\u001b[0m\u001b[0mfigure\u001b[0m\u001b[0;34m(\u001b[0m\u001b[0mfigsize\u001b[0m\u001b[0;34m=\u001b[0m\u001b[0;34m(\u001b[0m\u001b[0;36m5\u001b[0m\u001b[0;34m,\u001b[0m\u001b[0;36m5\u001b[0m\u001b[0;34m)\u001b[0m\u001b[0;34m)\u001b[0m\u001b[0;34m\u001b[0m\u001b[0;34m\u001b[0m\u001b[0m\n\u001b[1;32m      3\u001b[0m \u001b[0mplt\u001b[0m\u001b[0;34m.\u001b[0m\u001b[0mhist\u001b[0m\u001b[0;34m(\u001b[0m\u001b[0mtextlen\u001b[0m\u001b[0;34m,\u001b[0m \u001b[0mbins\u001b[0m\u001b[0;34m=\u001b[0m\u001b[0mnp\u001b[0m\u001b[0;34m.\u001b[0m\u001b[0mlogspace\u001b[0m\u001b[0;34m(\u001b[0m\u001b[0mnp\u001b[0m\u001b[0;34m.\u001b[0m\u001b[0mlog10\u001b[0m\u001b[0;34m(\u001b[0m\u001b[0;36m1\u001b[0m\u001b[0;34m)\u001b[0m\u001b[0;34m,\u001b[0m\u001b[0mnp\u001b[0m\u001b[0;34m.\u001b[0m\u001b[0mlog10\u001b[0m\u001b[0;34m(\u001b[0m\u001b[0;36m1e6\u001b[0m\u001b[0;34m)\u001b[0m\u001b[0;34m,\u001b[0m \u001b[0;36m30\u001b[0m\u001b[0;34m)\u001b[0m\u001b[0;34m,\u001b[0m \u001b[0mcolor\u001b[0m\u001b[0;34m=\u001b[0m\u001b[0;34m'blue'\u001b[0m\u001b[0;34m,\u001b[0m \u001b[0medgecolor\u001b[0m\u001b[0;34m=\u001b[0m\u001b[0;34m'k'\u001b[0m\u001b[0;34m,\u001b[0m \u001b[0malpha\u001b[0m\u001b[0;34m=\u001b[0m\u001b[0;36m0.65\u001b[0m\u001b[0;34m)\u001b[0m\u001b[0;34m\u001b[0m\u001b[0;34m\u001b[0m\u001b[0m\n\u001b[1;32m      4\u001b[0m \u001b[0mplt\u001b[0m\u001b[0;34m.\u001b[0m\u001b[0mxticks\u001b[0m\u001b[0;34m(\u001b[0m\u001b[0mfontsize\u001b[0m\u001b[0;34m=\u001b[0m\u001b[0;36m11\u001b[0m\u001b[0;34m)\u001b[0m\u001b[0;34m\u001b[0m\u001b[0;34m\u001b[0m\u001b[0m\n\u001b[1;32m      5\u001b[0m \u001b[0mplt\u001b[0m\u001b[0;34m.\u001b[0m\u001b[0mtitle\u001b[0m\u001b[0;34m(\u001b[0m\u001b[0;34m\"a) Distributon of the lenght of e-mails\"\u001b[0m\u001b[0;34m,\u001b[0m\u001b[0mfontsize\u001b[0m\u001b[0;34m=\u001b[0m\u001b[0;36m11\u001b[0m\u001b[0;34m)\u001b[0m\u001b[0;34m\u001b[0m\u001b[0;34m\u001b[0m\u001b[0m\n",
      "\u001b[0;31mNameError\u001b[0m: name 'sp_data' is not defined"
     ]
    }
   ],
   "source": [
    "textlen = [len(text) for text in sp_data[\"Body\"]]\n",
    "plt.figure(figsize=(5,5))\n",
    "plt.hist(textlen, bins=np.logspace(np.log10(1),np.log10(1e6), 30), color='blue', edgecolor='k', alpha=0.65)\n",
    "plt.xticks(fontsize=11)\n",
    "plt.title(\"a) Distributon of the lenght of e-mails\",fontsize=11)\n",
    "plt.ylabel(\"number of e-mails\",fontsize=11)\n",
    "plt.xlabel(\"number of characters\",fontsize=11)\n",
    "plt.gca().set_xscale(\"log\")\n",
    "plt.grid(True, which=\"both\", ls=\"-\")\n",
    "plt.tight_layout()\n",
    "plt.savefig(\"./char_count.pdf\")\n",
    "print(np.max(textlen))\n",
    "print(np.min(textlen))"
   ]
  },
  {
   "cell_type": "markdown",
   "id": "boolean-scenario",
   "metadata": {},
   "source": [
    "Below a spam and non-spam mail is shown."
   ]
  },
  {
   "cell_type": "code",
   "execution_count": 86,
   "id": "moved-evidence",
   "metadata": {},
   "outputs": [
    {
     "name": "stdout",
     "output_type": "stream",
     "text": [
      "1 Subject: inexpensive online medication here\n",
      " pummel wah springtail cutler bodyguard\n",
      " we ship quality medications overnight to your door !\n",
      " simple , quick and affordable !\n",
      " we deliver quality medications to your door !\n",
      " stop getting brochures here\n",
      " systematic defector alum arachnid inure cross he pickering\n",
      "\n",
      "0 Subject: organizational changes\n",
      " we are pleased to announce the following organizational changes :\n",
      " enron global assets and services\n",
      " in order to increase senior management focus on our international businesses , we are creating a new business unit , enron global assets and services ( egas ) . egas will be led by kevin hannon , chief executive officer , and jim hughes , chief operating officer . kevin will report to the enron corp . office of the chairman . with the exception of the wessex water company ( which will remain in the enron transportation services organization ) and enron india ( discussed below ) , egas will include all of the assets and activities of the former enron global assets group and the azurix organization . egas will include enron ' s assets and merchant activities in south america . in order to ensure continuity in the management of our south american merchant business , john lavorato will remain responsible for those merchant activities . john will report to kevin hannon with respect to the south american merchant business , and will continue to report to the enron wholesale services office of the chairman for all other activities in his role as chief executive officer of enron americas .\n",
      " enron india\n",
      " enron ' s significant interests in india are commanding increased attention from enron ' s senior management . we are pleased to announce that rebecca mcdonald will focus exclusively on enron ' s business in india , as chief executive officer of enron india , reporting to the enron corp . office of the chairman .\n",
      " enron broadband services\n",
      " with kevin ' s departure from enron broadband services ( ebs ) , we are also making a number of changes in the ebs organization . jim fallon will now be president and chief operating officer of ebs . paul racicot , marcello romano and fred cohagan will maintain their ebs risk management activities within their respective regions . dave cox will continue as chief commercial officer of ebs and will also join ken rice and jim fallon in the ebs office of the chairman . finally , rick fehl will continue as vice president of network engineering and chief network officer but will now report to the ebs office of the chairman .\n",
      " enron principal investments\n",
      " in order to better develop and manage equity investment opportunities related to enron ' s core businesses , we are combining the existing investment groups in ena , ebs , enron investment partners and the enron special asset group into a single unit , enron principal investments . enron principal investments will work with all enron business units to identify , execute , and manage equity investments that leverage enron ' s unique and proprietary knowledge . these investments may be in the form of venture capital , leveraged buy - outs , traditional private equity and distressed debt positions . this new business unit will be headed by kevin garland , managing director , and will report to an investment committee consisting of dave delainey , ken rice , and greg whalley .\n",
      " enron corporate development\n",
      " in order to improve coordination of enron ' s corporate development activities , we are consolidating these activities under andy fastow , executive vice president and chief financial officer . jeff donahue , managing director of corporate development for ebs will now head corporate development across enron . corporate development leaders in the business units will have a dual reporting relationship to their business units and to jeff .\n",
      " one of enron ' s most compelling challenges is the sale of certain assets or businesses that are no longer core operations . mark metts , executive vice president of enron corp . , will head up a new special projects group to specifically focus on the completion of some of these more challenging transactions .\n",
      " please join us in congratulating all of these individuals on their new responsibilities .\n"
     ]
    }
   ],
   "source": [
    "mail_index = 100\n",
    "print(sp_data.iloc[mail_index,1], sp_data.iloc[mail_index,0])# 1 for spam 0 for ham\n",
    "mail_index = 6006\n",
    "print(sp_data.iloc[mail_index,1], sp_data.iloc[mail_index,0])# 1 for spam 0 for ham"
   ]
  },
  {
   "cell_type": "code",
   "execution_count": 87,
   "id": "commercial-compromise",
   "metadata": {},
   "outputs": [
    {
     "name": "stdout",
     "output_type": "stream",
     "text": [
      "There are 327 duplicates.\n"
     ]
    }
   ],
   "source": [
    "# check if we have duplicates\n",
    "print(\"There are {} duplicates.\".format(np.sum(sp_data.duplicated())))\n",
    "sp_data = sp_data.drop_duplicates() # remove duplicates"
   ]
  },
  {
   "cell_type": "code",
   "execution_count": 88,
   "id": "weekly-arthur",
   "metadata": {},
   "outputs": [
    {
     "name": "stdout",
     "output_type": "stream",
     "text": [
      "<class 'pandas.core.frame.DataFrame'>\n",
      "Int64Index: 12277 entries, 0 to 2603\n",
      "Data columns (total 2 columns):\n",
      " #   Column  Non-Null Count  Dtype \n",
      "---  ------  --------------  ----- \n",
      " 0   Body    12277 non-null  object\n",
      " 1   Label   12277 non-null  int64 \n",
      "dtypes: int64(1), object(1)\n",
      "memory usage: 287.7+ KB\n"
     ]
    }
   ],
   "source": [
    "sp_data.info() # check if we have missing values"
   ]
  },
  {
   "cell_type": "code",
   "execution_count": 89,
   "id": "adverse-sweden",
   "metadata": {},
   "outputs": [
    {
     "name": "stdout",
     "output_type": "stream",
     "text": [
      "<class 'pandas.core.frame.DataFrame'>\n",
      "Int64Index: 12277 entries, 0 to 2603\n",
      "Data columns (total 2 columns):\n",
      " #   Column  Non-Null Count  Dtype \n",
      "---  ------  --------------  ----- \n",
      " 0   Body    12277 non-null  object\n",
      " 1   Label   12277 non-null  int64 \n",
      "dtypes: int64(1), object(1)\n",
      "memory usage: 287.7+ KB\n"
     ]
    }
   ],
   "source": [
    "# delete missing values\n",
    "sp_data.dropna(inplace=True)\n",
    "sp_data.info()"
   ]
  },
  {
   "cell_type": "markdown",
   "id": "stuffed-welsh",
   "metadata": {},
   "source": [
    "No missing values!"
   ]
  },
  {
   "cell_type": "markdown",
   "id": "amateur-literacy",
   "metadata": {},
   "source": [
    "Clean Data by functuion below and apply bag of words"
   ]
  },
  {
   "cell_type": "code",
   "execution_count": 90,
   "id": "nervous-heart",
   "metadata": {},
   "outputs": [
    {
     "name": "stderr",
     "output_type": "stream",
     "text": [
      "[nltk_data] Downloading package wordnet to /home/fabian/nltk_data...\n",
      "[nltk_data]   Package wordnet is already up-to-date!\n",
      "[nltk_data] Downloading package punkt to /home/fabian/nltk_data...\n",
      "[nltk_data]   Package punkt is already up-to-date!\n",
      "[nltk_data] Downloading package stopwords to /home/fabian/nltk_data...\n",
      "[nltk_data]   Package stopwords is already up-to-date!\n"
     ]
    }
   ],
   "source": [
    "import re\n",
    "import nltk\n",
    "from nltk.stem import WordNetLemmatizer\n",
    "nltk.download('wordnet')\n",
    "nltk.download('punkt')\n",
    "nltk.download('stopwords')\n",
    "\n",
    "\n",
    "def prep_mails(text_col, features=[1,1,1,1,1]):\n",
    "    \n",
    "    text_col = [text[7:] for text in text_col] # do not include \"Subject:\" prefix\n",
    "    \n",
    "    if features[0]:\n",
    "        # remove links since they end up in tokens with no meaning\n",
    "        text_col = [re.sub(r'http\\S+', '', text) for text in text_col]\n",
    "    \n",
    "    if features[1]:\n",
    "        # remove everything exept alphabetical characters and numbers\n",
    "        pattern = [\"[^a-zA-Z0-9]\", \"[^a-zA-Z]\"]\n",
    "        text_col = [re.sub(pattern[1],\" \",text) for text in text_col]\n",
    "    \n",
    "    if features[2]:\n",
    "        # convert uppercase chars in lowercase chars\n",
    "        text_col = [text.lower() for text in text_col]\n",
    "    \n",
    "    # turn sentences into seperate worlds\n",
    "    data_tokenized = [nltk.word_tokenize(text) for text in text_col]\n",
    "    \n",
    "    if features[3]:\n",
    "        # lemmatize all world, that is convert them into most basic form\n",
    "        lemma = WordNetLemmatizer()\n",
    "        data_tokenized = [[lemma.lemmatize(word) for word in text] for text in data_tokenized]\n",
    "    \n",
    "    if features[4]:\n",
    "        stopwords = nltk.corpus.stopwords.words(\"english\")\n",
    "        data_tokenized = [[word for word in text if word not in stopwords] for text in data_tokenized]\n",
    "    \n",
    "    return data_tokenized\n"
   ]
  },
  {
   "cell_type": "code",
   "execution_count": 91,
   "id": "laughing-bikini",
   "metadata": {},
   "outputs": [
    {
     "name": "stdout",
     "output_type": "stream",
     "text": [
      "[['hello', 'test', 'show', 'prep', 'mail', 'function', 'affect', 'email'], ['ial', 'found']]\n"
     ]
    }
   ],
   "source": [
    "testtext = [\"Subject: Hello, this is test 1.0. Here we show how the prep_mails function affects Emails!!!!\",\n",
    "            \"A tutorial can be found at https://www.youtube.com/watch?v=cNLPt02RwF0\"]\n",
    "outtext = prep_mails(testtext)\n",
    "print(outtext)"
   ]
  },
  {
   "cell_type": "code",
   "execution_count": 92,
   "id": "solved-basin",
   "metadata": {},
   "outputs": [
    {
     "name": "stdout",
     "output_type": "stream",
     "text": [
      "0\n",
      "Subject: euralex ' 98 - revised programme\n",
      " \n",
      " euralex ' 98 - liege , belgium ( 4 - 8 august 1998 ) dear colleagues , the final programme of the 8th international congress of the european association for lexicography ( euralex ' 98 ) is now available at the following web address : http : / / engdep1 . philo . ulg . ac . be / euralex . htm ( click on euralex ' 98 final programme ) or directly at http : / / engdep1 . philo . ulg . ac . be / michiels / final . htm best wishes , thierry fontenelle\n",
      "\n",
      "[['euralex', 'revised', 'programme', 'euralex', 'liege', 'belgium', 'august', 'dear', 'colleague', 'final', 'programme', 'th', 'international', 'congress', 'european', 'association', 'lexicography', 'euralex', 'available', 'following', 'web', 'address', 'http', 'engdep', 'philo', 'ulg', 'ac', 'euralex', 'htm', 'click', 'euralex', 'final', 'programme', 'directly', 'http', 'engdep', 'philo', 'ulg', 'ac', 'michiels', 'final', 'htm', 'best', 'wish', 'thierry', 'fontenelle']]\n"
     ]
    }
   ],
   "source": [
    "mail_index = 12276\n",
    "print(sp_data.iloc[mail_index,1]) # 1 for spam 0 for ham\n",
    "print(sp_data.iloc[mail_index,0])\n",
    "print(prep_mails( [sp_data.iloc[mail_index,0]]))"
   ]
  },
  {
   "cell_type": "markdown",
   "id": "induced-oakland",
   "metadata": {},
   "source": [
    "check number of unique words with anbd without applying cleaning steps"
   ]
  },
  {
   "cell_type": "code",
   "execution_count": 93,
   "id": "typical-placement",
   "metadata": {},
   "outputs": [],
   "source": [
    "sp_data_prepped = prep_mails(sp_data[\"Body\"])"
   ]
  },
  {
   "cell_type": "code",
   "execution_count": 94,
   "id": "bibliographic-quarter",
   "metadata": {},
   "outputs": [
    {
     "name": "stdout",
     "output_type": "stream",
     "text": [
      "103759\n"
     ]
    }
   ],
   "source": [
    "words = [word for text in sp_data_prepped for word in text]\n",
    "uwords = pd.unique(words)\n",
    "print(len(uwords))"
   ]
  },
  {
   "cell_type": "code",
   "execution_count": 95,
   "id": "cosmetic-staff",
   "metadata": {},
   "outputs": [],
   "source": [
    "sp_data_unprepped = prep_mails(sp_data[\"Body\"],[0,0,0,0,0])"
   ]
  },
  {
   "cell_type": "code",
   "execution_count": 96,
   "id": "declared-ballot",
   "metadata": {},
   "outputs": [
    {
     "name": "stdout",
     "output_type": "stream",
     "text": [
      "126019\n"
     ]
    }
   ],
   "source": [
    "words = [word for text in sp_data_unprepped for word in text]\n",
    "uwords = pd.unique(words)\n",
    "print(len(uwords))"
   ]
  },
  {
   "cell_type": "code",
   "execution_count": 97,
   "id": "whole-error",
   "metadata": {
    "scrolled": true
   },
   "outputs": [
    {
     "data": {
      "text/plain": [
       "['com',\n",
       " 'company',\n",
       " 'ect',\n",
       " 'enron',\n",
       " 'ha',\n",
       " 'information',\n",
       " 'language',\n",
       " 'please',\n",
       " 'wa',\n",
       " 'would']"
      ]
     },
     "execution_count": 97,
     "metadata": {},
     "output_type": "execute_result"
    }
   ],
   "source": [
    "# count occurences of attibutes in mails\n",
    "# reduced number of attributes to the N-attributes with most occureces\n",
    "from sklearn.feature_extraction.text import CountVectorizer\n",
    "vectorizer = CountVectorizer(max_features=10)\n",
    "x = vectorizer.fit_transform([\" \".join(text) for text in sp_data_prepped]).toarray()\n",
    "vectorizer.get_feature_names()"
   ]
  },
  {
   "cell_type": "code",
   "execution_count": 80,
   "id": "appreciated-citizen",
   "metadata": {},
   "outputs": [
    {
     "name": "stderr",
     "output_type": "stream",
     "text": [
      "<ipython-input-80-85bc1d2f8193>:2: VisibleDeprecationWarning: Creating an ndarray from ragged nested sequences (which is a list-or-tuple of lists-or-tuples-or ndarrays with different lengths or shapes) is deprecated. If you meant to do this, you must specify 'dtype=object' when creating the ndarray\n",
      "  spam_only = np.array(sp_data_prepped)[sp_data[\"Label\"]]\n",
      "<ipython-input-80-85bc1d2f8193>:3: VisibleDeprecationWarning: Creating an ndarray from ragged nested sequences (which is a list-or-tuple of lists-or-tuples-or ndarrays with different lengths or shapes) is deprecated. If you meant to do this, you must specify 'dtype=object' when creating the ndarray\n",
      "  ham_only = np.array(sp_data_prepped)[np.logical_not(sp_data[\"Label\"])]\n"
     ]
    }
   ],
   "source": [
    "# seperate spam and ham mails\n",
    "spam_only = np.array(sp_data_prepped)[sp_data[\"Label\"]]\n",
    "ham_only = np.array(sp_data_prepped)[np.logical_not(sp_data[\"Label\"])]"
   ]
  },
  {
   "cell_type": "code",
   "execution_count": 126,
   "id": "capital-cosmetic",
   "metadata": {},
   "outputs": [],
   "source": [
    "from sklearn.feature_extraction.text import CountVectorizer\n",
    "vec_size = 10\n",
    "vectorizer0 = CountVectorizer(max_features=vec_size)\n",
    "vectorizer1 = CountVectorizer(max_features=vec_size)\n",
    "spam_attr_count = vectorizer0.fit_transform([\" \".join(text) for text in spam_only]).toarray()\n",
    "ham_attr_count = vectorizer1.fit_transform([\" \".join(text) for text in ham_only]).toarray()"
   ]
  },
  {
   "cell_type": "code",
   "execution_count": 127,
   "id": "silent-sunrise",
   "metadata": {},
   "outputs": [
    {
     "name": "stdout",
     "output_type": "stream",
     "text": [
      "['company' 'ceo' 'club' 'ha' 'cwtd' 'statement' 'corp' 'world' 'trade'\n",
      " 'china']\n",
      "[ 49658  56752  56752  56752  63846  63846  70940 134786 148974 156068]\n",
      "['wa' 'com' 'would' 'hou' 'ha' 'please' 'university' 'language' 'ect'\n",
      " 'enron']\n",
      "[ 4775  4798  5129  5267  5331  5350  5952  7845 10984 17904]\n"
     ]
    }
   ],
   "source": [
    "s0 = np.sum(spam_attr_count,axis=0)\n",
    "mask0 = np.argsort(s0)\n",
    "spam_names = np.array(vectorizer0.get_feature_names())[mask0]\n",
    "print(spam_names)\n",
    "print(s0[mask0])\n",
    "\n",
    "s1 = np.sum(ham_attr_count,axis=0)\n",
    "mask1 = np.argsort(s1)\n",
    "ham_names = np.array(vectorizer1.get_feature_names())[mask1]\n",
    "print(ham_names)\n",
    "print(s1[mask1])"
   ]
  },
  {
   "cell_type": "code",
   "execution_count": 134,
   "id": "infinite-postcard",
   "metadata": {},
   "outputs": [
    {
     "data": {
      "image/png": "[encoded data removed]",
      "text/plain": [
       "<Figure size 360x360 with 1 Axes>"
      ]
     },
     "metadata": {
      "needs_background": "light"
     },
     "output_type": "display_data"
    }
   ],
   "source": [
    "#histogram with most common words descending\n",
    "np_s1=np.array(s1)\n",
    "mask1_1 = np_s1.argsort()[::-1]\n",
    "ham_names_2=ham_names[mask1_1]\n",
    "\n",
    "plt.figure(figsize=(5,5))\n",
    "plt.bar(x=ham_names_2, height=s1[mask1_1], color='blue', edgecolor='k', alpha=0.65)\n",
    "plt.xticks(rotation=30,fontsize=11, ha=\"right\")\n",
    "plt.title(\"c) Most common words in non-spam e-mails\",fontsize=11)\n",
    "plt.ylabel(\"Word count\",fontsize=11)\n",
    "plt.ylim(0,1.6e5)\n",
    "plt.grid()\n",
    "plt.tight_layout()\n",
    "plt.savefig(\"./ham_count.pdf\")"
   ]
  },
  {
   "cell_type": "code",
   "execution_count": 133,
   "id": "allied-desire",
   "metadata": {},
   "outputs": [
    {
     "data": {
      "image/png": "[encoded data removed]",
      "text/plain": [
       "<Figure size 360x360 with 1 Axes>"
      ]
     },
     "metadata": {
      "needs_background": "light"
     },
     "output_type": "display_data"
    }
   ],
   "source": [
    "#histogram with most common words descending\n",
    "np_s0=np.array(s0)\n",
    "mask0_0 = np_s0.argsort()[::-1]\n",
    "spam_names_2=spam_names[mask0_0]\n",
    "\n",
    "plt.figure(figsize=(5,5))\n",
    "plt.bar(x=spam_names_2, height=s0[mask0_0], color='blue', edgecolor='k', alpha=0.65)\n",
    "plt.xticks(rotation=30,fontsize=11, ha=\"right\")\n",
    "plt.title(\"b) Most common words in spam e-mails\",fontsize=11)\n",
    "plt.ylabel(\"Word count\",fontsize=11)\n",
    "plt.ylim(0,1.6e5)\n",
    "plt.grid()\n",
    "plt.tight_layout()\n",
    "plt.savefig(\"./spam_count.pdf\")"
   ]
  },
  {
   "cell_type": "markdown",
   "id": "surgical-botswana",
   "metadata": {},
   "source": [
    "# Plots for report"
   ]
  },
  {
   "cell_type": "code",
   "execution_count": 107,
   "id": "biblical-madagascar",
   "metadata": {},
   "outputs": [
    {
     "data": {
      "text/plain": [
       "Text(0.5, 1.0, 'Distribution of Spam and Nonspam')"
      ]
     },
     "execution_count": 107,
     "metadata": {},
     "output_type": "execute_result"
    },
    {
     "data": {
      "image/png": "[encoded data removed]",
      "text/plain": [
       "<Figure size 432x288 with 1 Axes>"
      ]
     },
     "metadata": {
      "needs_background": "light"
     },
     "output_type": "display_data"
    }
   ],
   "source": [
    "ax = sns.countplot(data=sp_data, x='Label')\n",
    "ax.set_title(\"Distribution of Spam and Nonspam\")"
   ]
  },
  {
   "cell_type": "code",
   "execution_count": 108,
   "id": "advance-chair",
   "metadata": {},
   "outputs": [
    {
     "data": {
      "text/plain": [
       "5183"
      ]
     },
     "execution_count": 108,
     "metadata": {},
     "output_type": "execute_result"
    }
   ],
   "source": [
    "sp_data['Label'].sum() #Get exact number of spam emails"
   ]
  },
  {
   "cell_type": "code",
   "execution_count": null,
   "id": "complete-father",
   "metadata": {},
   "outputs": [],
   "source": []
  }
 ],
 "metadata": {
  "kernelspec": {
   "display_name": "Python 3",
   "language": "python",
   "name": "python3"
  },
  "language_info": {
   "codemirror_mode": {
    "name": "ipython",
    "version": 3
   },
   "file_extension": ".py",
   "mimetype": "text/x-python",
   "name": "python",
   "nbconvert_exporter": "python",
   "pygments_lexer": "ipython3",
   "version": "3.8.8"
  }
 },
 "nbformat": 4,
 "nbformat_minor": 5
}
