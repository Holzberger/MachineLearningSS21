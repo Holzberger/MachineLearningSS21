{
 "cells": [
  {
   "cell_type": "code",
   "execution_count": 23,
   "id": "dress-oasis",
   "metadata": {},
   "outputs": [],
   "source": [
    "import pandas as pd\n",
    "# plot all the attributes in a histogramm\n",
    "%matplotlib inline\n",
    " # only in a Jupyter notebook\n",
    "import matplotlib.pyplot as plt\n",
    "import seaborn as sns\n",
    "import numpy as np"
   ]
  },
  {
   "cell_type": "code",
   "execution_count": 24,
   "id": "accompanied-stewart",
   "metadata": {},
   "outputs": [
    {
     "data": {
      "text/html": [
       "<div>\n",
       "<style scoped>\n",
       "    .dataframe tbody tr th:only-of-type {\n",
       "        vertical-align: middle;\n",
       "    }\n",
       "\n",
       "    .dataframe tbody tr th {\n",
       "        vertical-align: top;\n",
       "    }\n",
       "\n",
       "    .dataframe thead th {\n",
       "        text-align: right;\n",
       "    }\n",
       "</style>\n",
       "<table border=\"1\" class=\"dataframe\">\n",
       "  <thead>\n",
       "    <tr style=\"text-align: right;\">\n",
       "      <th></th>\n",
       "      <th>symboling</th>\n",
       "      <th>normalized_losses</th>\n",
       "      <th>make</th>\n",
       "      <th>fuel-type</th>\n",
       "      <th>aspirations</th>\n",
       "      <th>Nr_of_doors</th>\n",
       "      <th>body-styles</th>\n",
       "      <th>drive-wheels</th>\n",
       "      <th>engine-location</th>\n",
       "      <th>wheel-base</th>\n",
       "      <th>...</th>\n",
       "      <th>engine-size</th>\n",
       "      <th>fuel-system</th>\n",
       "      <th>bore</th>\n",
       "      <th>stroke</th>\n",
       "      <th>compression-ratio</th>\n",
       "      <th>horsepower</th>\n",
       "      <th>peak-rpm</th>\n",
       "      <th>city-mpg</th>\n",
       "      <th>highway-mpg</th>\n",
       "      <th>price</th>\n",
       "    </tr>\n",
       "  </thead>\n",
       "  <tbody>\n",
       "    <tr>\n",
       "      <th>0</th>\n",
       "      <td>3</td>\n",
       "      <td>?</td>\n",
       "      <td>alfa-romero</td>\n",
       "      <td>gas</td>\n",
       "      <td>std</td>\n",
       "      <td>two</td>\n",
       "      <td>convertible</td>\n",
       "      <td>rwd</td>\n",
       "      <td>front</td>\n",
       "      <td>88.60</td>\n",
       "      <td>...</td>\n",
       "      <td>130</td>\n",
       "      <td>mpfi</td>\n",
       "      <td>3.47</td>\n",
       "      <td>2.68</td>\n",
       "      <td>9.00</td>\n",
       "      <td>111</td>\n",
       "      <td>5000</td>\n",
       "      <td>21</td>\n",
       "      <td>27</td>\n",
       "      <td>13495</td>\n",
       "    </tr>\n",
       "    <tr>\n",
       "      <th>1</th>\n",
       "      <td>3</td>\n",
       "      <td>?</td>\n",
       "      <td>alfa-romero</td>\n",
       "      <td>gas</td>\n",
       "      <td>std</td>\n",
       "      <td>two</td>\n",
       "      <td>convertible</td>\n",
       "      <td>rwd</td>\n",
       "      <td>front</td>\n",
       "      <td>88.60</td>\n",
       "      <td>...</td>\n",
       "      <td>130</td>\n",
       "      <td>mpfi</td>\n",
       "      <td>3.47</td>\n",
       "      <td>2.68</td>\n",
       "      <td>9.00</td>\n",
       "      <td>111</td>\n",
       "      <td>5000</td>\n",
       "      <td>21</td>\n",
       "      <td>27</td>\n",
       "      <td>16500</td>\n",
       "    </tr>\n",
       "    <tr>\n",
       "      <th>2</th>\n",
       "      <td>1</td>\n",
       "      <td>?</td>\n",
       "      <td>alfa-romero</td>\n",
       "      <td>gas</td>\n",
       "      <td>std</td>\n",
       "      <td>two</td>\n",
       "      <td>hatchback</td>\n",
       "      <td>rwd</td>\n",
       "      <td>front</td>\n",
       "      <td>94.50</td>\n",
       "      <td>...</td>\n",
       "      <td>152</td>\n",
       "      <td>mpfi</td>\n",
       "      <td>2.68</td>\n",
       "      <td>3.47</td>\n",
       "      <td>9.00</td>\n",
       "      <td>154</td>\n",
       "      <td>5000</td>\n",
       "      <td>19</td>\n",
       "      <td>26</td>\n",
       "      <td>16500</td>\n",
       "    </tr>\n",
       "    <tr>\n",
       "      <th>3</th>\n",
       "      <td>2</td>\n",
       "      <td>164</td>\n",
       "      <td>audi</td>\n",
       "      <td>gas</td>\n",
       "      <td>std</td>\n",
       "      <td>four</td>\n",
       "      <td>sedan</td>\n",
       "      <td>fwd</td>\n",
       "      <td>front</td>\n",
       "      <td>99.80</td>\n",
       "      <td>...</td>\n",
       "      <td>109</td>\n",
       "      <td>mpfi</td>\n",
       "      <td>3.19</td>\n",
       "      <td>3.40</td>\n",
       "      <td>10.00</td>\n",
       "      <td>102</td>\n",
       "      <td>5500</td>\n",
       "      <td>24</td>\n",
       "      <td>30</td>\n",
       "      <td>13950</td>\n",
       "    </tr>\n",
       "    <tr>\n",
       "      <th>4</th>\n",
       "      <td>2</td>\n",
       "      <td>164</td>\n",
       "      <td>audi</td>\n",
       "      <td>gas</td>\n",
       "      <td>std</td>\n",
       "      <td>four</td>\n",
       "      <td>sedan</td>\n",
       "      <td>4wd</td>\n",
       "      <td>front</td>\n",
       "      <td>99.40</td>\n",
       "      <td>...</td>\n",
       "      <td>136</td>\n",
       "      <td>mpfi</td>\n",
       "      <td>3.19</td>\n",
       "      <td>3.40</td>\n",
       "      <td>8.00</td>\n",
       "      <td>115</td>\n",
       "      <td>5500</td>\n",
       "      <td>18</td>\n",
       "      <td>22</td>\n",
       "      <td>17450</td>\n",
       "    </tr>\n",
       "    <tr>\n",
       "      <th>...</th>\n",
       "      <td>...</td>\n",
       "      <td>...</td>\n",
       "      <td>...</td>\n",
       "      <td>...</td>\n",
       "      <td>...</td>\n",
       "      <td>...</td>\n",
       "      <td>...</td>\n",
       "      <td>...</td>\n",
       "      <td>...</td>\n",
       "      <td>...</td>\n",
       "      <td>...</td>\n",
       "      <td>...</td>\n",
       "      <td>...</td>\n",
       "      <td>...</td>\n",
       "      <td>...</td>\n",
       "      <td>...</td>\n",
       "      <td>...</td>\n",
       "      <td>...</td>\n",
       "      <td>...</td>\n",
       "      <td>...</td>\n",
       "      <td>...</td>\n",
       "    </tr>\n",
       "    <tr>\n",
       "      <th>200</th>\n",
       "      <td>-1</td>\n",
       "      <td>95</td>\n",
       "      <td>volvo</td>\n",
       "      <td>gas</td>\n",
       "      <td>std</td>\n",
       "      <td>four</td>\n",
       "      <td>sedan</td>\n",
       "      <td>rwd</td>\n",
       "      <td>front</td>\n",
       "      <td>109.10</td>\n",
       "      <td>...</td>\n",
       "      <td>141</td>\n",
       "      <td>mpfi</td>\n",
       "      <td>3.78</td>\n",
       "      <td>3.15</td>\n",
       "      <td>9.50</td>\n",
       "      <td>114</td>\n",
       "      <td>5400</td>\n",
       "      <td>23</td>\n",
       "      <td>28</td>\n",
       "      <td>16845</td>\n",
       "    </tr>\n",
       "    <tr>\n",
       "      <th>201</th>\n",
       "      <td>-1</td>\n",
       "      <td>95</td>\n",
       "      <td>volvo</td>\n",
       "      <td>gas</td>\n",
       "      <td>turbo</td>\n",
       "      <td>four</td>\n",
       "      <td>sedan</td>\n",
       "      <td>rwd</td>\n",
       "      <td>front</td>\n",
       "      <td>109.10</td>\n",
       "      <td>...</td>\n",
       "      <td>141</td>\n",
       "      <td>mpfi</td>\n",
       "      <td>3.78</td>\n",
       "      <td>3.15</td>\n",
       "      <td>8.70</td>\n",
       "      <td>160</td>\n",
       "      <td>5300</td>\n",
       "      <td>19</td>\n",
       "      <td>25</td>\n",
       "      <td>19045</td>\n",
       "    </tr>\n",
       "    <tr>\n",
       "      <th>202</th>\n",
       "      <td>-1</td>\n",
       "      <td>95</td>\n",
       "      <td>volvo</td>\n",
       "      <td>gas</td>\n",
       "      <td>std</td>\n",
       "      <td>four</td>\n",
       "      <td>sedan</td>\n",
       "      <td>rwd</td>\n",
       "      <td>front</td>\n",
       "      <td>109.10</td>\n",
       "      <td>...</td>\n",
       "      <td>173</td>\n",
       "      <td>mpfi</td>\n",
       "      <td>3.58</td>\n",
       "      <td>2.87</td>\n",
       "      <td>8.80</td>\n",
       "      <td>134</td>\n",
       "      <td>5500</td>\n",
       "      <td>18</td>\n",
       "      <td>23</td>\n",
       "      <td>21485</td>\n",
       "    </tr>\n",
       "    <tr>\n",
       "      <th>203</th>\n",
       "      <td>-1</td>\n",
       "      <td>95</td>\n",
       "      <td>volvo</td>\n",
       "      <td>diesel</td>\n",
       "      <td>turbo</td>\n",
       "      <td>four</td>\n",
       "      <td>sedan</td>\n",
       "      <td>rwd</td>\n",
       "      <td>front</td>\n",
       "      <td>109.10</td>\n",
       "      <td>...</td>\n",
       "      <td>145</td>\n",
       "      <td>idi</td>\n",
       "      <td>3.01</td>\n",
       "      <td>3.40</td>\n",
       "      <td>23.00</td>\n",
       "      <td>106</td>\n",
       "      <td>4800</td>\n",
       "      <td>26</td>\n",
       "      <td>27</td>\n",
       "      <td>22470</td>\n",
       "    </tr>\n",
       "    <tr>\n",
       "      <th>204</th>\n",
       "      <td>-1</td>\n",
       "      <td>95</td>\n",
       "      <td>volvo</td>\n",
       "      <td>gas</td>\n",
       "      <td>turbo</td>\n",
       "      <td>four</td>\n",
       "      <td>sedan</td>\n",
       "      <td>rwd</td>\n",
       "      <td>front</td>\n",
       "      <td>109.10</td>\n",
       "      <td>...</td>\n",
       "      <td>141</td>\n",
       "      <td>mpfi</td>\n",
       "      <td>3.78</td>\n",
       "      <td>3.15</td>\n",
       "      <td>9.50</td>\n",
       "      <td>114</td>\n",
       "      <td>5400</td>\n",
       "      <td>19</td>\n",
       "      <td>25</td>\n",
       "      <td>22625</td>\n",
       "    </tr>\n",
       "  </tbody>\n",
       "</table>\n",
       "<p>205 rows × 26 columns</p>\n",
       "</div>"
      ],
      "text/plain": [
       "     symboling normalized_losses         make fuel-type aspirations  \\\n",
       "0            3                 ?  alfa-romero       gas         std   \n",
       "1            3                 ?  alfa-romero       gas         std   \n",
       "2            1                 ?  alfa-romero       gas         std   \n",
       "3            2               164         audi       gas         std   \n",
       "4            2               164         audi       gas         std   \n",
       "..         ...               ...          ...       ...         ...   \n",
       "200         -1                95        volvo       gas         std   \n",
       "201         -1                95        volvo       gas       turbo   \n",
       "202         -1                95        volvo       gas         std   \n",
       "203         -1                95        volvo    diesel       turbo   \n",
       "204         -1                95        volvo       gas       turbo   \n",
       "\n",
       "    Nr_of_doors  body-styles drive-wheels engine-location  wheel-base  ...  \\\n",
       "0           two  convertible          rwd           front       88.60  ...   \n",
       "1           two  convertible          rwd           front       88.60  ...   \n",
       "2           two    hatchback          rwd           front       94.50  ...   \n",
       "3          four        sedan          fwd           front       99.80  ...   \n",
       "4          four        sedan          4wd           front       99.40  ...   \n",
       "..          ...          ...          ...             ...         ...  ...   \n",
       "200        four        sedan          rwd           front      109.10  ...   \n",
       "201        four        sedan          rwd           front      109.10  ...   \n",
       "202        four        sedan          rwd           front      109.10  ...   \n",
       "203        four        sedan          rwd           front      109.10  ...   \n",
       "204        four        sedan          rwd           front      109.10  ...   \n",
       "\n",
       "     engine-size  fuel-system  bore  stroke compression-ratio horsepower  \\\n",
       "0            130         mpfi  3.47    2.68              9.00        111   \n",
       "1            130         mpfi  3.47    2.68              9.00        111   \n",
       "2            152         mpfi  2.68    3.47              9.00        154   \n",
       "3            109         mpfi  3.19    3.40             10.00        102   \n",
       "4            136         mpfi  3.19    3.40              8.00        115   \n",
       "..           ...          ...   ...     ...               ...        ...   \n",
       "200          141         mpfi  3.78    3.15              9.50        114   \n",
       "201          141         mpfi  3.78    3.15              8.70        160   \n",
       "202          173         mpfi  3.58    2.87              8.80        134   \n",
       "203          145          idi  3.01    3.40             23.00        106   \n",
       "204          141         mpfi  3.78    3.15              9.50        114   \n",
       "\n",
       "     peak-rpm city-mpg highway-mpg  price  \n",
       "0        5000       21          27  13495  \n",
       "1        5000       21          27  16500  \n",
       "2        5000       19          26  16500  \n",
       "3        5500       24          30  13950  \n",
       "4        5500       18          22  17450  \n",
       "..        ...      ...         ...    ...  \n",
       "200      5400       23          28  16845  \n",
       "201      5300       19          25  19045  \n",
       "202      5500       18          23  21485  \n",
       "203      4800       26          27  22470  \n",
       "204      5400       19          25  22625  \n",
       "\n",
       "[205 rows x 26 columns]"
      ]
     },
     "execution_count": 24,
     "metadata": {},
     "output_type": "execute_result"
    }
   ],
   "source": [
    "csv_path = \"./Automobile-Dataset/imports-85.data\"\n",
    "headers=[ \"symboling\", \"normalized_losses\", \"make\", \"fuel-type\", \"aspirations\", \"Nr_of_doors\", \"body-styles\", \"drive-wheels\", \"engine-location\", \"wheel-base\", \"length\", \"width\", \"height\", \"curb-weight\",\"engine-type\", \"num-of-cylinders\", \"engine-size\", \"fuel-system\", \"bore\", \"stroke\", \"compression-ratio\", \"horsepower\", \"peak-rpm\", \"city-mpg\", \"highway-mpg\", \"price\"]\n",
    "auto_data = pd.read_csv(csv_path,  header=None, names=headers,delimiter=\",\")\n",
    "auto_data.head() # checkout first five rows to get an idea\n",
    "auto_data"
   ]
  },
  {
   "cell_type": "code",
   "execution_count": 25,
   "id": "patient-chick",
   "metadata": {},
   "outputs": [
    {
     "name": "stdout",
     "output_type": "stream",
     "text": [
      "<class 'pandas.core.frame.DataFrame'>\n",
      "RangeIndex: 205 entries, 0 to 204\n",
      "Data columns (total 26 columns):\n",
      " #   Column             Non-Null Count  Dtype  \n",
      "---  ------             --------------  -----  \n",
      " 0   symboling          205 non-null    int64  \n",
      " 1   normalized_losses  205 non-null    object \n",
      " 2   make               205 non-null    object \n",
      " 3   fuel-type          205 non-null    object \n",
      " 4   aspirations        205 non-null    object \n",
      " 5   Nr_of_doors        205 non-null    object \n",
      " 6   body-styles        205 non-null    object \n",
      " 7   drive-wheels       205 non-null    object \n",
      " 8   engine-location    205 non-null    object \n",
      " 9   wheel-base         205 non-null    float64\n",
      " 10  length             205 non-null    float64\n",
      " 11  width              205 non-null    float64\n",
      " 12  height             205 non-null    float64\n",
      " 13  curb-weight        205 non-null    int64  \n",
      " 14  engine-type        205 non-null    object \n",
      " 15  num-of-cylinders   205 non-null    object \n",
      " 16  engine-size        205 non-null    int64  \n",
      " 17  fuel-system        205 non-null    object \n",
      " 18  bore               205 non-null    object \n",
      " 19  stroke             205 non-null    object \n",
      " 20  compression-ratio  205 non-null    float64\n",
      " 21  horsepower         205 non-null    object \n",
      " 22  peak-rpm           205 non-null    object \n",
      " 23  city-mpg           205 non-null    int64  \n",
      " 24  highway-mpg        205 non-null    int64  \n",
      " 25  price              205 non-null    object \n",
      "dtypes: float64(5), int64(5), object(16)\n",
      "memory usage: 41.8+ KB\n"
     ]
    }
   ],
   "source": [
    "auto_data.info()"
   ]
  },
  {
   "cell_type": "code",
   "execution_count": 26,
   "id": "measured-dublin",
   "metadata": {},
   "outputs": [
    {
     "data": {
      "text/plain": [
       "symboling             0\n",
       "normalized_losses    41\n",
       "make                  0\n",
       "fuel-type             0\n",
       "aspirations           0\n",
       "Nr_of_doors           2\n",
       "body-styles           0\n",
       "drive-wheels          0\n",
       "engine-location       0\n",
       "wheel-base            0\n",
       "length                0\n",
       "width                 0\n",
       "height                0\n",
       "curb-weight           0\n",
       "engine-type           0\n",
       "num-of-cylinders      0\n",
       "engine-size           0\n",
       "fuel-system           0\n",
       "bore                  4\n",
       "stroke                4\n",
       "compression-ratio     0\n",
       "horsepower            2\n",
       "peak-rpm              2\n",
       "city-mpg              0\n",
       "highway-mpg           0\n",
       "price                 4\n",
       "dtype: int64"
      ]
     },
     "execution_count": 26,
     "metadata": {},
     "output_type": "execute_result"
    }
   ],
   "source": [
    "# calculate missing values\n",
    "auto_data = auto_data.replace('?',np.NAN) \n",
    "auto_data.isnull().sum()"
   ]
  },
  {
   "cell_type": "code",
   "execution_count": 27,
   "id": "gentle-wallpaper",
   "metadata": {},
   "outputs": [
    {
     "data": {
      "image/png": "[encoded data removed]",
      "text/plain": [
       "<Figure size 360x216 with 1 Axes>"
      ]
     },
     "metadata": {
      "needs_background": "light"
     },
     "output_type": "display_data"
    }
   ],
   "source": [
    "missing_vals = np.array(auto_data.isnull().sum())\n",
    "header_arr = np.array(headers)\n",
    "mask = missing_vals>0\n",
    "fig = plt.figure(figsize=(5,3))\n",
    "plt.bar(x=header_arr[mask], height=missing_vals[mask], color='blue', edgecolor='k', alpha=0.65)\n",
    "plt.xticks(rotation=50,fontsize=11, ha=\"right\")\n",
    "plt.title(\"Distribution of missing values\",fontsize=11)\n",
    "plt.ylabel(\"Number of instances\",fontsize=11)\n",
    "fig.subplots_adjust(bottom=0.4) \n",
    "plt.grid()\n",
    "plt.savefig(\"car_miss.pdf\")"
   ]
  },
  {
   "cell_type": "markdown",
   "id": "graphic-designation",
   "metadata": {},
   "source": [
    "replace missing values by their mean"
   ]
  },
  {
   "cell_type": "code",
   "execution_count": 28,
   "id": "bulgarian-court",
   "metadata": {},
   "outputs": [],
   "source": [
    "n=0 # normalized_losses\n",
    "mask1 = np.array(auto_data[header_arr[mask][n]].isnull())!=1\n",
    "mean1 = np.array(auto_data[header_arr[mask][n]][mask1],dtype=\"int\").mean()\n",
    "auto_data[header_arr[mask][n]]=auto_data[header_arr[mask][n]].replace(np.NAN,mean1).astype(int)\n",
    "\n",
    "n=1 # doors\n",
    "mask1 = np.array(auto_data[header_arr[mask][n]].isnull())!=1\n",
    "auto_data[header_arr[mask][n]]=auto_data[header_arr[mask][n]].replace(np.NAN,\"two\")\n",
    "\n",
    "n=2 # bore\n",
    "mask1 = np.array(auto_data[header_arr[mask][n]].isnull())!=1\n",
    "mean1 = np.array(auto_data[header_arr[mask][n]][mask1],dtype=\"float\").mean()\n",
    "auto_data[header_arr[mask][n]]=auto_data[header_arr[mask][n]].replace(np.NAN,mean1).astype(float)\n",
    "\n",
    "n=3 # stroke\n",
    "mask1 = np.array(auto_data[header_arr[mask][n]].isnull())!=1\n",
    "mean1 = np.array(auto_data[header_arr[mask][n]][mask1],dtype=\"float\").mean()\n",
    "auto_data[header_arr[mask][n]]=auto_data[header_arr[mask][n]].replace(np.NAN,mean1).astype(float)\n",
    "\n",
    "n=4 # horsepower\n",
    "mask1 = np.array(auto_data[header_arr[mask][n]].isnull())!=1\n",
    "mean1 = np.array(auto_data[header_arr[mask][n]][mask1],dtype=\"int\").mean()\n",
    "auto_data[header_arr[mask][n]]=auto_data[header_arr[mask][n]].replace(np.NAN,mean1).astype(int)\n",
    "\n",
    "n=5 # peak rpm\n",
    "mask1 = np.array(auto_data[header_arr[mask][n]].isnull())!=1\n",
    "mean1 = np.array(auto_data[header_arr[mask][n]][mask1],dtype=\"int\").mean()\n",
    "auto_data[header_arr[mask][n]]=auto_data[header_arr[mask][n]].replace(np.NAN,mean1).astype(int)\n",
    "\n",
    "n=6 # price\n",
    "mask1 = np.array(auto_data[header_arr[mask][n]].isnull())!=1\n",
    "mean1 = np.array(auto_data[header_arr[mask][n]][mask1],dtype=\"int\").mean()\n",
    "auto_data[header_arr[mask][n]]=auto_data[header_arr[mask][n]].replace(np.NAN,mean1).astype(int)"
   ]
  },
  {
   "cell_type": "code",
   "execution_count": 29,
   "id": "recent-premiere",
   "metadata": {
    "scrolled": true
   },
   "outputs": [
    {
     "data": {
      "text/plain": [
       "symboling            0\n",
       "normalized_losses    0\n",
       "make                 0\n",
       "fuel-type            0\n",
       "aspirations          0\n",
       "Nr_of_doors          0\n",
       "body-styles          0\n",
       "drive-wheels         0\n",
       "engine-location      0\n",
       "wheel-base           0\n",
       "length               0\n",
       "width                0\n",
       "height               0\n",
       "curb-weight          0\n",
       "engine-type          0\n",
       "num-of-cylinders     0\n",
       "engine-size          0\n",
       "fuel-system          0\n",
       "bore                 0\n",
       "stroke               0\n",
       "compression-ratio    0\n",
       "horsepower           0\n",
       "peak-rpm             0\n",
       "city-mpg             0\n",
       "highway-mpg          0\n",
       "price                0\n",
       "dtype: int64"
      ]
     },
     "execution_count": 29,
     "metadata": {},
     "output_type": "execute_result"
    }
   ],
   "source": [
    "# calculate missing values\n",
    "auto_data = auto_data.replace('?',np.NAN) \n",
    "auto_data.isnull().sum()"
   ]
  },
  {
   "cell_type": "markdown",
   "id": "southeast-february",
   "metadata": {},
   "source": [
    "No more missing values!"
   ]
  },
  {
   "cell_type": "code",
   "execution_count": 30,
   "id": "christian-drive",
   "metadata": {
    "scrolled": false
   },
   "outputs": [
    {
     "data": {
      "image/png": "[encoded data removed]",
      "text/plain": [
       "<Figure size 432x216 with 1 Axes>"
      ]
     },
     "metadata": {
      "needs_background": "light"
     },
     "output_type": "display_data"
    },
    {
     "data": {
      "image/png": "[encoded data removed]",
      "text/plain": [
       "<Figure size 432x216 with 1 Axes>"
      ]
     },
     "metadata": {
      "needs_background": "light"
     },
     "output_type": "display_data"
    },
    {
     "data": {
      "image/png": "[encoded data removed]",
      "text/plain": [
       "<Figure size 432x216 with 1 Axes>"
      ]
     },
     "metadata": {
      "needs_background": "light"
     },
     "output_type": "display_data"
    },
    {
     "data": {
      "image/png": "[encoded data removed]",
      "text/plain": [
       "<Figure size 432x216 with 1 Axes>"
      ]
     },
     "metadata": {
      "needs_background": "light"
     },
     "output_type": "display_data"
    },
    {
     "data": {
      "image/png": "[encoded data removed]",
      "text/plain": [
       "<Figure size 432x216 with 1 Axes>"
      ]
     },
     "metadata": {
      "needs_background": "light"
     },
     "output_type": "display_data"
    },
    {
     "data": {
      "image/png": "[encoded data removed]",
      "text/plain": [
       "<Figure size 432x216 with 1 Axes>"
      ]
     },
     "metadata": {
      "needs_background": "light"
     },
     "output_type": "display_data"
    },
    {
     "data": {
      "image/png": "[encoded data removed]",
      "text/plain": [
       "<Figure size 432x216 with 1 Axes>"
      ]
     },
     "metadata": {
      "needs_background": "light"
     },
     "output_type": "display_data"
    },
    {
     "data": {
      "image/png": "[encoded data removed]",
      "text/plain": [
       "<Figure size 432x216 with 1 Axes>"
      ]
     },
     "metadata": {
      "needs_background": "light"
     },
     "output_type": "display_data"
    },
    {
     "data": {
      "image/png": "[encoded data removed]",
      "text/plain": [
       "<Figure size 432x216 with 1 Axes>"
      ]
     },
     "metadata": {
      "needs_background": "light"
     },
     "output_type": "display_data"
    },
    {
     "data": {
      "image/png": "[encoded data removed]",
      "text/plain": [
       "<Figure size 432x216 with 1 Axes>"
      ]
     },
     "metadata": {
      "needs_background": "light"
     },
     "output_type": "display_data"
    },
    {
     "data": {
      "image/png": "[encoded data removed]",
      "text/plain": [
       "<Figure size 432x216 with 1 Axes>"
      ]
     },
     "metadata": {
      "needs_background": "light"
     },
     "output_type": "display_data"
    }
   ],
   "source": [
    "my_figsize = (6,3)\n",
    "\n",
    "nominals = [2, 3, 4, 5, 6, 7, 8, 14, 15, 17]\n",
    "counter =0\n",
    "for x in nominals:\n",
    "    counter+=1\n",
    "    name = headers[x]\n",
    "    fig = plt.figure(figsize=my_figsize)\n",
    "    my_counts = auto_data[name].value_counts()\n",
    "    plt.bar(x=my_counts.index, height=my_counts.values, color='blue', edgecolor='k', alpha=0.65)\n",
    "    plt.title(name,fontsize=11)\n",
    "    plt.ylabel(\"Number of instances\",fontsize=11)\n",
    "    plt.xticks(rotation=40,fontsize=11, ha=\"right\")\n",
    "    plt.grid()\n",
    "    fig.subplots_adjust(bottom=0.4) \n",
    "    plt.savefig(\"car_nom{0}.pdf\".format(counter))\n",
    "    \n",
    "\n",
    "\n",
    "\n",
    "plt.figure(figsize=my_figsize)\n",
    "plt.hist(auto_data['price']/1e3,bins=15, color='blue', edgecolor='k', alpha=0.65)\n",
    "plt.title(\"price in thousand dollars\",fontsize=11)\n",
    "plt.ylabel(\"Number of instances\",fontsize=11)\n",
    "plt.xticks(rotation=0,fontsize=11)\n",
    "plt.grid()\n",
    "plt.savefig(\"car_price.pdf\")"
   ]
  },
  {
   "cell_type": "code",
   "execution_count": 34,
   "id": "fabulous-crest",
   "metadata": {
    "scrolled": false
   },
   "outputs": [
    {
     "name": "stdout",
     "output_type": "stream",
     "text": [
      "\\begin{tabular}{lrrrlrrl}\n",
      "\\toprule\n",
      "{} &  count &     min &      max & continuous &     mean &     std & attr\\_type \\\\\n",
      "\\midrule\n",
      "symboling         &    205 &   -2.00 &     3.00 &      False &     0.83 &    1.25 &   ordinal \\\\\n",
      "normalized\\_losses &    164 &   65.00 &   256.00 &       True &   122.00 &   35.44 &     ratio \\\\\n",
      "wheel-base        &    205 &   86.60 &   120.90 &       True &    98.76 &    6.02 &     ratio \\\\\n",
      "length            &    205 &  141.10 &   208.10 &       True &   174.05 &   12.34 &     ratio \\\\\n",
      "width             &    205 &   60.30 &    72.30 &       True &    65.91 &    2.15 &     ratio \\\\\n",
      "height            &    205 &   47.80 &    59.80 &       True &    53.72 &    2.44 &     ratio \\\\\n",
      "curb-weight       &    205 & 1488.00 &  4066.00 &       True &  2555.57 &  520.68 &     ratio \\\\\n",
      "engine-size       &    205 &   61.00 &   326.00 &       True &   126.91 &   41.64 &     ratio \\\\\n",
      "bore              &    201 &    2.54 &     3.94 &       True &     3.33 &    0.27 &     ratio \\\\\n",
      "stroke            &    201 &    2.07 &     4.17 &       True &     3.26 &    0.32 &     ratio \\\\\n",
      "compression-ratio &    205 &    7.00 &    23.00 &       True &    10.14 &    3.97 &     ratio \\\\\n",
      "horsepower        &    203 &   48.00 &   288.00 &       True &   104.26 &   39.71 &     ratio \\\\\n",
      "peak-rpm          &    203 & 4150.00 &  6600.00 &       True &  5125.37 &  479.33 &     ratio \\\\\n",
      "city-mpg          &    205 &   13.00 &    49.00 &       True &    25.22 &    6.54 &     ratio \\\\\n",
      "highway-mpg       &    205 &   16.00 &    54.00 &       True &    30.75 &    6.89 &     ratio \\\\\n",
      "price             &    201 & 5118.00 & 45400.00 &       True & 13207.13 & 7947.07 &     ratio \\\\\n",
      "\\bottomrule\n",
      "\\end{tabular}\n",
      "\n"
     ]
    }
   ],
   "source": [
    "auto_data_orig = pd.read_csv(csv_path,  header=None, names=headers,delimiter=\",\")\n",
    "\n",
    "\n",
    "# numeric attributes\n",
    "auto_data_orig = auto_data_orig.replace('?',np.NAN) \n",
    "numeric_types_dict ={}\n",
    "[numeric_types_dict.update({headers[x]: \"float\"})for x in [1,18,19,20,21,22,25]]\n",
    "auto_data_orig = auto_data_orig.astype(numeric_types_dict)\n",
    "pd.options.display.float_format = \"{:.2f}\".format\n",
    "descr_data = auto_data_orig.describe().T\n",
    "descr_data = descr_data.astype({\"count\":\"int\"})\n",
    "attr_type = [\"ordinal\",\"ratio\",\"ratio\",\"ratio\",\"ratio\",\"ratio\",\"ratio\",\"ratio\",\n",
    "             \"ratio\",\"ratio\",\"ratio\",\"ratio\",\"ratio\",\"ratio\",\"ratio\",\"ratio\"]\n",
    "descr_data[\"attr_type\"] = attr_type\n",
    "continuous = [\"False\",\"True\",\"True\",\"True\",\"True\",\"True\",\"True\",\"True\",\n",
    "             \"True\",\"True\",\"True\",\"True\",\"True\",\"True\",\"True\",\"True\"]\n",
    "descr_data[\"continuous\"] = continuous\n",
    "descr_data = descr_data[[\"count\", \"min\", \"max\", \"continuous\",\"mean\",\"std\", \"attr_type\"]]\n",
    "descr_data\n",
    "print(descr_data.to_latex())\n"
   ]
  },
  {
   "cell_type": "code",
   "execution_count": 35,
   "id": "fifteen-leadership",
   "metadata": {},
   "outputs": [
    {
     "name": "stdout",
     "output_type": "stream",
     "text": [
      "<class 'pandas.core.frame.DataFrame'>\n",
      "RangeIndex: 205 entries, 0 to 204\n",
      "Data columns (total 26 columns):\n",
      " #   Column             Non-Null Count  Dtype  \n",
      "---  ------             --------------  -----  \n",
      " 0   symboling          205 non-null    int64  \n",
      " 1   normalized_losses  205 non-null    int64  \n",
      " 2   make               205 non-null    object \n",
      " 3   fuel-type          205 non-null    object \n",
      " 4   aspirations        205 non-null    object \n",
      " 5   Nr_of_doors        205 non-null    object \n",
      " 6   body-styles        205 non-null    object \n",
      " 7   drive-wheels       205 non-null    object \n",
      " 8   engine-location    205 non-null    object \n",
      " 9   wheel-base         205 non-null    float64\n",
      " 10  length             205 non-null    float64\n",
      " 11  width              205 non-null    float64\n",
      " 12  height             205 non-null    float64\n",
      " 13  curb-weight        205 non-null    int64  \n",
      " 14  engine-type        205 non-null    object \n",
      " 15  num-of-cylinders   205 non-null    object \n",
      " 16  engine-size        205 non-null    int64  \n",
      " 17  fuel-system        205 non-null    object \n",
      " 18  bore               205 non-null    float64\n",
      " 19  stroke             205 non-null    float64\n",
      " 20  compression-ratio  205 non-null    float64\n",
      " 21  horsepower         205 non-null    int64  \n",
      " 22  peak-rpm           205 non-null    int64  \n",
      " 23  city-mpg           205 non-null    int64  \n",
      " 24  highway-mpg        205 non-null    int64  \n",
      " 25  price              205 non-null    int64  \n",
      "dtypes: float64(7), int64(9), object(10)\n",
      "memory usage: 41.8+ KB\n"
     ]
    }
   ],
   "source": [
    "auto_data.info()"
   ]
  },
  {
   "cell_type": "code",
   "execution_count": 36,
   "id": "mobile-cornell",
   "metadata": {},
   "outputs": [
    {
     "name": "stdout",
     "output_type": "stream",
     "text": [
      "\\begin{tabular}{lrrrrrrrrrrrrrrrr}\n",
      "\\toprule\n",
      "{} &  symboling &  normalized\\_losses &  wheel-base &  length &  width &  height &  curb-weight &  engine-size &   bore &  stroke &  compression-ratio &  horsepower &  peak-rpm &  city-mpg &  highway-mpg &    price \\\\\n",
      "\\midrule\n",
      "count &     205.00 &             205.00 &      205.00 &  205.00 & 205.00 &  205.00 &       205.00 &       205.00 & 205.00 &  205.00 &             205.00 &      205.00 &    205.00 &    205.00 &       205.00 &   205.00 \\\\\n",
      "mean  &       0.83 &             122.00 &       98.76 &  174.05 &  65.91 &   53.72 &      2555.57 &       126.91 &   3.33 &    3.26 &              10.14 &      104.25 &   5125.37 &     25.22 &        30.75 & 13207.13 \\\\\n",
      "std   &       1.25 &              31.68 &        6.02 &   12.34 &   2.15 &    2.44 &       520.68 &        41.64 &   0.27 &    0.31 &               3.97 &       39.52 &    476.98 &      6.54 &         6.89 &  7868.77 \\\\\n",
      "min   &      -2.00 &              65.00 &       86.60 &  141.10 &  60.30 &   47.80 &      1488.00 &        61.00 &   2.54 &    2.07 &               7.00 &       48.00 &   4150.00 &     13.00 &        16.00 &  5118.00 \\\\\n",
      "25\\%   &       0.00 &             101.00 &       94.50 &  166.30 &  64.10 &   52.00 &      2145.00 &        97.00 &   3.15 &    3.11 &               8.60 &       70.00 &   4800.00 &     19.00 &        25.00 &  7788.00 \\\\\n",
      "50\\%   &       1.00 &             122.00 &       97.00 &  173.20 &  65.50 &   54.10 &      2414.00 &       120.00 &   3.31 &    3.29 &               9.00 &       95.00 &   5200.00 &     24.00 &        30.00 & 10595.00 \\\\\n",
      "75\\%   &       2.00 &             137.00 &      102.40 &  183.10 &  66.90 &   55.50 &      2935.00 &       141.00 &   3.58 &    3.41 &               9.40 &      116.00 &   5500.00 &     30.00 &        34.00 & 16500.00 \\\\\n",
      "max   &       3.00 &             256.00 &      120.90 &  208.10 &  72.30 &   59.80 &      4066.00 &       326.00 &   3.94 &    4.17 &              23.00 &      288.00 &   6600.00 &     49.00 &        54.00 & 45400.00 \\\\\n",
      "\\bottomrule\n",
      "\\end{tabular}\n",
      "\n"
     ]
    }
   ],
   "source": [
    "pd.options.display.float_format = \"{:.2f}\".format\n",
    "print(auto_data.describe().to_latex())"
   ]
  },
  {
   "cell_type": "code",
   "execution_count": 42,
   "id": "inside-interest",
   "metadata": {},
   "outputs": [
    {
     "data": {
      "text/plain": [
       "0.8780487804878049"
      ]
     },
     "execution_count": 42,
     "metadata": {},
     "output_type": "execute_result"
    }
   ],
   "source": [
    "np.sum(np.array(auto_data['price'])<20000)/205"
   ]
  },
  {
   "cell_type": "code",
   "execution_count": null,
   "id": "united-closing",
   "metadata": {},
   "outputs": [],
   "source": []
  }
 ],
 "metadata": {
  "kernelspec": {
   "display_name": "Python 3",
   "language": "python",
   "name": "python3"
  },
  "language_info": {
   "codemirror_mode": {
    "name": "ipython",
    "version": 3
   },
   "file_extension": ".py",
   "mimetype": "text/x-python",
   "name": "python",
   "nbconvert_exporter": "python",
   "pygments_lexer": "ipython3",
   "version": "3.8.8"
  }
 },
 "nbformat": 4,
 "nbformat_minor": 5
}
