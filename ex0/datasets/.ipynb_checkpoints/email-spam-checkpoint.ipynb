{
 "cells": [
  {
   "cell_type": "code",
   "execution_count": 2,
   "id": "enhanced-principal",
   "metadata": {},
   "outputs": [],
   "source": [
    "import pandas as pd\n",
    "%matplotlib inline\n",
    "import matplotlib.pyplot as plt\n",
    "import seaborn as sns\n",
    "import numpy as np"
   ]
  },
  {
   "cell_type": "code",
   "execution_count": 3,
   "id": "controlled-works",
   "metadata": {},
   "outputs": [
    {
     "ename": "FileNotFoundError",
     "evalue": "[Errno 2] No such file or directory: './enronSpamSubset.csv'",
     "output_type": "error",
     "traceback": [
      "\u001b[0;31m---------------------------------------------------------------------------\u001b[0m",
      "\u001b[0;31mFileNotFoundError\u001b[0m                         Traceback (most recent call last)",
      "\u001b[0;32m<ipython-input-3-d9591f91dd5a>\u001b[0m in \u001b[0;36m<module>\u001b[0;34m\u001b[0m\n\u001b[0;32m----> 1\u001b[0;31m \u001b[0msp_data\u001b[0m \u001b[0;34m=\u001b[0m \u001b[0mpd\u001b[0m\u001b[0;34m.\u001b[0m\u001b[0mread_csv\u001b[0m\u001b[0;34m(\u001b[0m\u001b[0;34m\"./enronSpamSubset.csv\"\u001b[0m\u001b[0;34m)\u001b[0m\u001b[0;34m.\u001b[0m\u001b[0mdrop\u001b[0m\u001b[0;34m(\u001b[0m\u001b[0;34m[\u001b[0m\u001b[0;34m'Unnamed: 0'\u001b[0m\u001b[0;34m,\u001b[0m \u001b[0;34m'Unnamed: 0.1'\u001b[0m\u001b[0;34m]\u001b[0m\u001b[0;34m,\u001b[0m \u001b[0maxis\u001b[0m\u001b[0;34m=\u001b[0m\u001b[0;36m1\u001b[0m\u001b[0;34m)\u001b[0m\u001b[0;34m\u001b[0m\u001b[0;34m\u001b[0m\u001b[0m\n\u001b[0m\u001b[1;32m      2\u001b[0m \u001b[0;31m#sp_data1 = pd.read_csv(\"./completeSpamAssassin.csv\").drop(['Unnamed: 0'], axis=1)\u001b[0m\u001b[0;34m\u001b[0m\u001b[0;34m\u001b[0m\u001b[0;34m\u001b[0m\u001b[0m\n\u001b[1;32m      3\u001b[0m \u001b[0;31m#sp_data2 = pd.read_csv(\"./lingSpam.csv\").drop(['Unnamed: 0'], axis=1)\u001b[0m\u001b[0;34m\u001b[0m\u001b[0;34m\u001b[0m\u001b[0;34m\u001b[0m\u001b[0m\n\u001b[1;32m      4\u001b[0m \u001b[0;31m#sp_data = pd.concat([sp_data0, sp_data1, sp_data2])\u001b[0m\u001b[0;34m\u001b[0m\u001b[0;34m\u001b[0m\u001b[0;34m\u001b[0m\u001b[0m\n\u001b[1;32m      5\u001b[0m \u001b[0msp_data\u001b[0m\u001b[0;34m.\u001b[0m\u001b[0mhead\u001b[0m\u001b[0;34m(\u001b[0m\u001b[0;34m)\u001b[0m\u001b[0;34m\u001b[0m\u001b[0;34m\u001b[0m\u001b[0m\n",
      "\u001b[0;32m~/.conda/envs/ML/lib/python3.8/site-packages/pandas/io/parsers.py\u001b[0m in \u001b[0;36mread_csv\u001b[0;34m(filepath_or_buffer, sep, delimiter, header, names, index_col, usecols, squeeze, prefix, mangle_dupe_cols, dtype, engine, converters, true_values, false_values, skipinitialspace, skiprows, skipfooter, nrows, na_values, keep_default_na, na_filter, verbose, skip_blank_lines, parse_dates, infer_datetime_format, keep_date_col, date_parser, dayfirst, cache_dates, iterator, chunksize, compression, thousands, decimal, lineterminator, quotechar, quoting, doublequote, escapechar, comment, encoding, dialect, error_bad_lines, warn_bad_lines, delim_whitespace, low_memory, memory_map, float_precision, storage_options)\u001b[0m\n\u001b[1;32m    608\u001b[0m     \u001b[0mkwds\u001b[0m\u001b[0;34m.\u001b[0m\u001b[0mupdate\u001b[0m\u001b[0;34m(\u001b[0m\u001b[0mkwds_defaults\u001b[0m\u001b[0;34m)\u001b[0m\u001b[0;34m\u001b[0m\u001b[0;34m\u001b[0m\u001b[0m\n\u001b[1;32m    609\u001b[0m \u001b[0;34m\u001b[0m\u001b[0m\n\u001b[0;32m--> 610\u001b[0;31m     \u001b[0;32mreturn\u001b[0m \u001b[0m_read\u001b[0m\u001b[0;34m(\u001b[0m\u001b[0mfilepath_or_buffer\u001b[0m\u001b[0;34m,\u001b[0m \u001b[0mkwds\u001b[0m\u001b[0;34m)\u001b[0m\u001b[0;34m\u001b[0m\u001b[0;34m\u001b[0m\u001b[0m\n\u001b[0m\u001b[1;32m    611\u001b[0m \u001b[0;34m\u001b[0m\u001b[0m\n\u001b[1;32m    612\u001b[0m \u001b[0;34m\u001b[0m\u001b[0m\n",
      "\u001b[0;32m~/.conda/envs/ML/lib/python3.8/site-packages/pandas/io/parsers.py\u001b[0m in \u001b[0;36m_read\u001b[0;34m(filepath_or_buffer, kwds)\u001b[0m\n\u001b[1;32m    460\u001b[0m \u001b[0;34m\u001b[0m\u001b[0m\n\u001b[1;32m    461\u001b[0m     \u001b[0;31m# Create the parser.\u001b[0m\u001b[0;34m\u001b[0m\u001b[0;34m\u001b[0m\u001b[0;34m\u001b[0m\u001b[0m\n\u001b[0;32m--> 462\u001b[0;31m     \u001b[0mparser\u001b[0m \u001b[0;34m=\u001b[0m \u001b[0mTextFileReader\u001b[0m\u001b[0;34m(\u001b[0m\u001b[0mfilepath_or_buffer\u001b[0m\u001b[0;34m,\u001b[0m \u001b[0;34m**\u001b[0m\u001b[0mkwds\u001b[0m\u001b[0;34m)\u001b[0m\u001b[0;34m\u001b[0m\u001b[0;34m\u001b[0m\u001b[0m\n\u001b[0m\u001b[1;32m    463\u001b[0m \u001b[0;34m\u001b[0m\u001b[0m\n\u001b[1;32m    464\u001b[0m     \u001b[0;32mif\u001b[0m \u001b[0mchunksize\u001b[0m \u001b[0;32mor\u001b[0m \u001b[0miterator\u001b[0m\u001b[0;34m:\u001b[0m\u001b[0;34m\u001b[0m\u001b[0;34m\u001b[0m\u001b[0m\n",
      "\u001b[0;32m~/.conda/envs/ML/lib/python3.8/site-packages/pandas/io/parsers.py\u001b[0m in \u001b[0;36m__init__\u001b[0;34m(self, f, engine, **kwds)\u001b[0m\n\u001b[1;32m    817\u001b[0m             \u001b[0mself\u001b[0m\u001b[0;34m.\u001b[0m\u001b[0moptions\u001b[0m\u001b[0;34m[\u001b[0m\u001b[0;34m\"has_index_names\"\u001b[0m\u001b[0;34m]\u001b[0m \u001b[0;34m=\u001b[0m \u001b[0mkwds\u001b[0m\u001b[0;34m[\u001b[0m\u001b[0;34m\"has_index_names\"\u001b[0m\u001b[0;34m]\u001b[0m\u001b[0;34m\u001b[0m\u001b[0;34m\u001b[0m\u001b[0m\n\u001b[1;32m    818\u001b[0m \u001b[0;34m\u001b[0m\u001b[0m\n\u001b[0;32m--> 819\u001b[0;31m         \u001b[0mself\u001b[0m\u001b[0;34m.\u001b[0m\u001b[0m_engine\u001b[0m \u001b[0;34m=\u001b[0m \u001b[0mself\u001b[0m\u001b[0;34m.\u001b[0m\u001b[0m_make_engine\u001b[0m\u001b[0;34m(\u001b[0m\u001b[0mself\u001b[0m\u001b[0;34m.\u001b[0m\u001b[0mengine\u001b[0m\u001b[0;34m)\u001b[0m\u001b[0;34m\u001b[0m\u001b[0;34m\u001b[0m\u001b[0m\n\u001b[0m\u001b[1;32m    820\u001b[0m \u001b[0;34m\u001b[0m\u001b[0m\n\u001b[1;32m    821\u001b[0m     \u001b[0;32mdef\u001b[0m \u001b[0mclose\u001b[0m\u001b[0;34m(\u001b[0m\u001b[0mself\u001b[0m\u001b[0;34m)\u001b[0m\u001b[0;34m:\u001b[0m\u001b[0;34m\u001b[0m\u001b[0;34m\u001b[0m\u001b[0m\n",
      "\u001b[0;32m~/.conda/envs/ML/lib/python3.8/site-packages/pandas/io/parsers.py\u001b[0m in \u001b[0;36m_make_engine\u001b[0;34m(self, engine)\u001b[0m\n\u001b[1;32m   1048\u001b[0m             )\n\u001b[1;32m   1049\u001b[0m         \u001b[0;31m# error: Too many arguments for \"ParserBase\"\u001b[0m\u001b[0;34m\u001b[0m\u001b[0;34m\u001b[0m\u001b[0;34m\u001b[0m\u001b[0m\n\u001b[0;32m-> 1050\u001b[0;31m         \u001b[0;32mreturn\u001b[0m \u001b[0mmapping\u001b[0m\u001b[0;34m[\u001b[0m\u001b[0mengine\u001b[0m\u001b[0;34m]\u001b[0m\u001b[0;34m(\u001b[0m\u001b[0mself\u001b[0m\u001b[0;34m.\u001b[0m\u001b[0mf\u001b[0m\u001b[0;34m,\u001b[0m \u001b[0;34m**\u001b[0m\u001b[0mself\u001b[0m\u001b[0;34m.\u001b[0m\u001b[0moptions\u001b[0m\u001b[0;34m)\u001b[0m  \u001b[0;31m# type: ignore[call-arg]\u001b[0m\u001b[0;34m\u001b[0m\u001b[0;34m\u001b[0m\u001b[0m\n\u001b[0m\u001b[1;32m   1051\u001b[0m \u001b[0;34m\u001b[0m\u001b[0m\n\u001b[1;32m   1052\u001b[0m     \u001b[0;32mdef\u001b[0m \u001b[0m_failover_to_python\u001b[0m\u001b[0;34m(\u001b[0m\u001b[0mself\u001b[0m\u001b[0;34m)\u001b[0m\u001b[0;34m:\u001b[0m\u001b[0;34m\u001b[0m\u001b[0;34m\u001b[0m\u001b[0m\n",
      "\u001b[0;32m~/.conda/envs/ML/lib/python3.8/site-packages/pandas/io/parsers.py\u001b[0m in \u001b[0;36m__init__\u001b[0;34m(self, src, **kwds)\u001b[0m\n\u001b[1;32m   1865\u001b[0m \u001b[0;34m\u001b[0m\u001b[0m\n\u001b[1;32m   1866\u001b[0m         \u001b[0;31m# open handles\u001b[0m\u001b[0;34m\u001b[0m\u001b[0;34m\u001b[0m\u001b[0;34m\u001b[0m\u001b[0m\n\u001b[0;32m-> 1867\u001b[0;31m         \u001b[0mself\u001b[0m\u001b[0;34m.\u001b[0m\u001b[0m_open_handles\u001b[0m\u001b[0;34m(\u001b[0m\u001b[0msrc\u001b[0m\u001b[0;34m,\u001b[0m \u001b[0mkwds\u001b[0m\u001b[0;34m)\u001b[0m\u001b[0;34m\u001b[0m\u001b[0;34m\u001b[0m\u001b[0m\n\u001b[0m\u001b[1;32m   1868\u001b[0m         \u001b[0;32massert\u001b[0m \u001b[0mself\u001b[0m\u001b[0;34m.\u001b[0m\u001b[0mhandles\u001b[0m \u001b[0;32mis\u001b[0m \u001b[0;32mnot\u001b[0m \u001b[0;32mNone\u001b[0m\u001b[0;34m\u001b[0m\u001b[0;34m\u001b[0m\u001b[0m\n\u001b[1;32m   1869\u001b[0m         \u001b[0;32mfor\u001b[0m \u001b[0mkey\u001b[0m \u001b[0;32min\u001b[0m \u001b[0;34m(\u001b[0m\u001b[0;34m\"storage_options\"\u001b[0m\u001b[0;34m,\u001b[0m \u001b[0;34m\"encoding\"\u001b[0m\u001b[0;34m,\u001b[0m \u001b[0;34m\"memory_map\"\u001b[0m\u001b[0;34m,\u001b[0m \u001b[0;34m\"compression\"\u001b[0m\u001b[0;34m)\u001b[0m\u001b[0;34m:\u001b[0m\u001b[0;34m\u001b[0m\u001b[0;34m\u001b[0m\u001b[0m\n",
      "\u001b[0;32m~/.conda/envs/ML/lib/python3.8/site-packages/pandas/io/parsers.py\u001b[0m in \u001b[0;36m_open_handles\u001b[0;34m(self, src, kwds)\u001b[0m\n\u001b[1;32m   1360\u001b[0m         \u001b[0mLet\u001b[0m \u001b[0mthe\u001b[0m \u001b[0mreaders\u001b[0m \u001b[0mopen\u001b[0m \u001b[0mIOHanldes\u001b[0m \u001b[0mafter\u001b[0m \u001b[0mthey\u001b[0m \u001b[0mare\u001b[0m \u001b[0mdone\u001b[0m \u001b[0;32mwith\u001b[0m \u001b[0mtheir\u001b[0m \u001b[0mpotential\u001b[0m \u001b[0mraises\u001b[0m\u001b[0;34m.\u001b[0m\u001b[0;34m\u001b[0m\u001b[0;34m\u001b[0m\u001b[0m\n\u001b[1;32m   1361\u001b[0m         \"\"\"\n\u001b[0;32m-> 1362\u001b[0;31m         self.handles = get_handle(\n\u001b[0m\u001b[1;32m   1363\u001b[0m             \u001b[0msrc\u001b[0m\u001b[0;34m,\u001b[0m\u001b[0;34m\u001b[0m\u001b[0;34m\u001b[0m\u001b[0m\n\u001b[1;32m   1364\u001b[0m             \u001b[0;34m\"r\"\u001b[0m\u001b[0;34m,\u001b[0m\u001b[0;34m\u001b[0m\u001b[0;34m\u001b[0m\u001b[0m\n",
      "\u001b[0;32m~/.conda/envs/ML/lib/python3.8/site-packages/pandas/io/common.py\u001b[0m in \u001b[0;36mget_handle\u001b[0;34m(path_or_buf, mode, encoding, compression, memory_map, is_text, errors, storage_options)\u001b[0m\n\u001b[1;32m    640\u001b[0m                 \u001b[0merrors\u001b[0m \u001b[0;34m=\u001b[0m \u001b[0;34m\"replace\"\u001b[0m\u001b[0;34m\u001b[0m\u001b[0;34m\u001b[0m\u001b[0m\n\u001b[1;32m    641\u001b[0m             \u001b[0;31m# Encoding\u001b[0m\u001b[0;34m\u001b[0m\u001b[0;34m\u001b[0m\u001b[0;34m\u001b[0m\u001b[0m\n\u001b[0;32m--> 642\u001b[0;31m             handle = open(\n\u001b[0m\u001b[1;32m    643\u001b[0m                 \u001b[0mhandle\u001b[0m\u001b[0;34m,\u001b[0m\u001b[0;34m\u001b[0m\u001b[0;34m\u001b[0m\u001b[0m\n\u001b[1;32m    644\u001b[0m                 \u001b[0mioargs\u001b[0m\u001b[0;34m.\u001b[0m\u001b[0mmode\u001b[0m\u001b[0;34m,\u001b[0m\u001b[0;34m\u001b[0m\u001b[0;34m\u001b[0m\u001b[0m\n",
      "\u001b[0;31mFileNotFoundError\u001b[0m: [Errno 2] No such file or directory: './enronSpamSubset.csv'"
     ]
    }
   ],
   "source": [
    "sp_data = pd.read_csv(\"./enronSpamSubset.csv\").drop(['Unnamed: 0', 'Unnamed: 0.1'], axis=1)\n",
    "#sp_data1 = pd.read_csv(\"./completeSpamAssassin.csv\").drop(['Unnamed: 0'], axis=1)\n",
    "#sp_data2 = pd.read_csv(\"./lingSpam.csv\").drop(['Unnamed: 0'], axis=1)\n",
    "#sp_data = pd.concat([sp_data0, sp_data1, sp_data2])\n",
    "sp_data.head()"
   ]
  },
  {
   "cell_type": "code",
   "execution_count": null,
   "id": "adult-musician",
   "metadata": {},
   "outputs": [],
   "source": []
  },
  {
   "cell_type": "code",
   "execution_count": 4,
   "id": "robust-affair",
   "metadata": {},
   "outputs": [
    {
     "name": "stdout",
     "output_type": "stream",
     "text": [
      "<class 'pandas.core.frame.DataFrame'>\n",
      "RangeIndex: 10000 entries, 0 to 9999\n",
      "Data columns (total 2 columns):\n",
      " #   Column  Non-Null Count  Dtype \n",
      "---  ------  --------------  ----- \n",
      " 0   Body    10000 non-null  object\n",
      " 1   Label   10000 non-null  int64 \n",
      "dtypes: int64(1), object(1)\n",
      "memory usage: 156.4+ KB\n"
     ]
    }
   ],
   "source": [
    "sp_data.info() # check if we have missing values"
   ]
  },
  {
   "cell_type": "code",
   "execution_count": 5,
   "id": "shaped-interview",
   "metadata": {},
   "outputs": [
    {
     "name": "stdout",
     "output_type": "stream",
     "text": [
      "<class 'pandas.core.frame.DataFrame'>\n",
      "Int64Index: 10000 entries, 0 to 9999\n",
      "Data columns (total 2 columns):\n",
      " #   Column  Non-Null Count  Dtype \n",
      "---  ------  --------------  ----- \n",
      " 0   Body    10000 non-null  object\n",
      " 1   Label   10000 non-null  int64 \n",
      "dtypes: int64(1), object(1)\n",
      "memory usage: 234.4+ KB\n"
     ]
    }
   ],
   "source": [
    "# delete missing values\n",
    "sp_data.dropna(inplace=True)\n",
    "sp_data.info()"
   ]
  },
  {
   "cell_type": "markdown",
   "id": "closing-shuttle",
   "metadata": {},
   "source": [
    "No missing values!"
   ]
  },
  {
   "cell_type": "markdown",
   "id": "complex-polish",
   "metadata": {},
   "source": [
    "Here you can check specifc mails by selecting an index."
   ]
  },
  {
   "cell_type": "code",
   "execution_count": 6,
   "id": "choice-vietnamese",
   "metadata": {},
   "outputs": [
    {
     "name": "stderr",
     "output_type": "stream",
     "text": [
      "[nltk_data] Downloading package wordnet to /home/fabian/nltk_data...\n",
      "[nltk_data]   Package wordnet is already up-to-date!\n",
      "[nltk_data] Downloading package punkt to /home/fabian/nltk_data...\n",
      "[nltk_data]   Package punkt is already up-to-date!\n",
      "[nltk_data] Downloading package stopwords to /home/fabian/nltk_data...\n",
      "[nltk_data]   Package stopwords is already up-to-date!\n"
     ]
    }
   ],
   "source": [
    "import re\n",
    "import nltk\n",
    "from nltk.stem import WordNetLemmatizer\n",
    "nltk.download('wordnet')\n",
    "nltk.download('punkt')\n",
    "nltk.download('stopwords')\n",
    "\n",
    "\n",
    "def prep_mails(text_col, features=[1,1,1,1,1]):\n",
    "    \n",
    "    text_col = [text[7:] for text in text_col]\n",
    "    \n",
    "    if features[0]:\n",
    "        # remove links since they end up in tokens with no meaning\n",
    "        text_col = [re.sub(r'http\\S+', '', text) for text in text_col]\n",
    "    \n",
    "    if features[1]:\n",
    "        # remove everything exept alphabetical characters and numbers\n",
    "        pattern = [\"[^a-zA-Z0-9]\", \"[^a-zA-Z]\"]\n",
    "        text_col = [re.sub(pattern[1],\" \",text) for text in text_col]\n",
    "    \n",
    "    if features[2]:\n",
    "        # convert uppercase chars in lowercase chars\n",
    "        text_col = [text.lower() for text in text_col]\n",
    "    \n",
    "    # turn sentences into seperate worlds\n",
    "    data_tokenized = [nltk.word_tokenize(text) for text in text_col]\n",
    "    \n",
    "    if features[3]:\n",
    "        # lemmatize all world, that is convert them into most basic form\n",
    "        lemma = WordNetLemmatizer()\n",
    "        data_tokenized = [[lemma.lemmatize(word) for word in text] for text in data_tokenized]\n",
    "    \n",
    "    if features[4]:\n",
    "        stopwords = nltk.corpus.stopwords.words(\"english\")\n",
    "        data_tokenized = [[word for word in text if word not in stopwords] for text in data_tokenized]\n",
    "    \n",
    "    return data_tokenized\n"
   ]
  },
  {
   "cell_type": "code",
   "execution_count": 7,
   "id": "mechanical-indonesia",
   "metadata": {},
   "outputs": [
    {
     "name": "stdout",
     "output_type": "stream",
     "text": [
      "[['hello', 'test', 'show', 'prep', 'mail', 'function', 'affect', 'email'], ['ial', 'found']]\n"
     ]
    }
   ],
   "source": [
    "testtext = [\"Subject: Hello, this is test 1.0. Here we show how the prep_mails function affects Emails!!!!\",\n",
    "            \"A tutorial can be found at https://www.youtube.com/watch?v=cNLPt02RwF0\"]\n",
    "outtext = prep_mails(testtext)\n",
    "print(outtext)"
   ]
  },
  {
   "cell_type": "code",
   "execution_count": 8,
   "id": "contained-granny",
   "metadata": {},
   "outputs": [
    {
     "name": "stdout",
     "output_type": "stream",
     "text": [
      "1\n",
      "Subject: dont pay more than $ 100 for ur softwares miseries\n",
      " chheap softtwares for you , all are original oemmajor titles from micros 0 ft and adobe for rock bottom prriicegreat bargaain sale ! variety discoount softtwares at wholesale chaeap pricing !\n",
      " microsoft windows xp professional - my priice : $ 50 normal priice : $ 270 . 99 ; you savve $ 220\n",
      " microsoft office xp professional - my priice : $ 100 normal priice : $ 579 . 99 ; you savve $ 480\n",
      " adobe photoshop 7 - my priice : $ 80 normal priice : $ 609 . 99 ; you savve $ 550\n",
      " 28 more popular titles > > cliickk here for more titles\n",
      " wonder why our priices are unbelievably low ?\n",
      " we are currently clearing our goods at incredibily cheeap sale - priice in connection with the shutdown of our shop and the closure of the stockhouse . don ' t missss your lucky chance to get the best priicce on discoouunt software !\n",
      " we are the authorized agent and an established reseller offering oem licensing software .\n",
      " we possesses all the necessary certificates issued to verify the authenticity of genuine oem products and granting the right for us to resell oem software products .\n",
      " super cheaep micros 0 ft , adobe & all kind soft herecliickk here to enjoy our superb discouunnt !\n",
      "\n",
      "[['dont', 'pay', 'ur', 'software', 'misery', 'chheap', 'softtwares', 'original', 'oemmajor', 'title', 'micros', 'ft', 'adobe', 'rock', 'bottom', 'prriicegreat', 'bargaain', 'sale', 'variety', 'discoount', 'softtwares', 'wholesale', 'chaeap', 'pricing', 'microsoft', 'window', 'xp', 'professional', 'priice', 'normal', 'priice', 'savve', 'microsoft', 'office', 'xp', 'professional', 'priice', 'normal', 'priice', 'savve', 'adobe', 'photoshop', 'priice', 'normal', 'priice', 'savve', 'popular', 'title', 'cliickk', 'title', 'wonder', 'priices', 'unbelievably', 'low', 'currently', 'clearing', 'good', 'incredibily', 'cheeap', 'sale', 'priice', 'connection', 'shutdown', 'shop', 'closure', 'stockhouse', 'miss', 'lucky', 'chance', 'get', 'best', 'priicce', 'discoouunt', 'software', 'authorized', 'agent', 'established', 'reseller', 'offering', 'oem', 'licensing', 'software', 'posse', 'necessary', 'certificate', 'issued', 'verify', 'authenticity', 'genuine', 'oem', 'product', 'granting', 'right', 'u', 'resell', 'oem', 'software', 'product', 'super', 'cheaep', 'micros', 'ft', 'adobe', 'kind', 'soft', 'herecliickk', 'enjoy', 'superb', 'discouunnt']]\n"
     ]
    }
   ],
   "source": [
    "mail_index = 5\n",
    "print(sp_data.iloc[mail_index,1]) # 1 for spam 0 for ham\n",
    "print(sp_data.iloc[mail_index,0])\n",
    "print(prep_mails( [sp_data.iloc[mail_index,0]]))"
   ]
  },
  {
   "cell_type": "code",
   "execution_count": 9,
   "id": "revolutionary-hostel",
   "metadata": {},
   "outputs": [],
   "source": [
    "sp_data_prepped = prep_mails(sp_data[\"Body\"])"
   ]
  },
  {
   "cell_type": "code",
   "execution_count": 10,
   "id": "artificial-commission",
   "metadata": {},
   "outputs": [
    {
     "data": {
      "text/plain": [
       "74618"
      ]
     },
     "execution_count": 10,
     "metadata": {},
     "output_type": "execute_result"
    }
   ],
   "source": [
    "len(np.unique([word for text in sp_data_prepped for word in text]))"
   ]
  },
  {
   "cell_type": "code",
   "execution_count": null,
   "id": "cooked-stephen",
   "metadata": {},
   "outputs": [],
   "source": [
    "sp_data_unprepped = prep_mails(sp_data[\"Body\"],[0,0,0,0,0])\n",
    "len(np.unique([word for text in sp_data_unprepped for word in text]))"
   ]
  },
  {
   "cell_type": "code",
   "execution_count": 10,
   "id": "creative-circumstances",
   "metadata": {
    "scrolled": true
   },
   "outputs": [
    {
     "data": {
      "text/plain": [
       "['com', 'company', 'ect', 'enron', 'ha', 'hou', 'new', 'please', 'wa', 'would']"
      ]
     },
     "execution_count": 10,
     "metadata": {},
     "output_type": "execute_result"
    }
   ],
   "source": [
    "# count occurences of attibutes in mails\n",
    "# reduced number of attributes to the N-attributes with most occureces\n",
    "from sklearn.feature_extraction.text import CountVectorizer\n",
    "vectorizer = CountVectorizer(max_features=10)\n",
    "x = vectorizer.fit_transform([\" \".join(text) for text in sp_data_prepped]).toarray()\n",
    "vectorizer.get_feature_names()"
   ]
  },
  {
   "cell_type": "code",
   "execution_count": 11,
   "id": "narrative-guatemala",
   "metadata": {},
   "outputs": [
    {
     "data": {
      "text/plain": [
       "array([[ 0,  7,  0, ...,  0,  1,  1],\n",
       "       [ 0,  0,  0, ...,  0,  0,  0],\n",
       "       [ 2,  0,  0, ...,  0,  0,  0],\n",
       "       ...,\n",
       "       [ 0,  0, 31, ...,  1,  0,  0],\n",
       "       [ 0,  0,  0, ...,  0,  0,  0],\n",
       "       [ 1,  1,  0, ...,  4,  1,  1]])"
      ]
     },
     "execution_count": 11,
     "metadata": {},
     "output_type": "execute_result"
    }
   ],
   "source": [
    "x"
   ]
  },
  {
   "cell_type": "code",
   "execution_count": 12,
   "id": "chinese-reducing",
   "metadata": {},
   "outputs": [
    {
     "name": "stderr",
     "output_type": "stream",
     "text": [
      "<ipython-input-12-85bc1d2f8193>:2: VisibleDeprecationWarning: Creating an ndarray from ragged nested sequences (which is a list-or-tuple of lists-or-tuples-or ndarrays with different lengths or shapes) is deprecated. If you meant to do this, you must specify 'dtype=object' when creating the ndarray\n",
      "  spam_only = np.array(sp_data_prepped)[sp_data[\"Label\"]]\n",
      "<ipython-input-12-85bc1d2f8193>:3: VisibleDeprecationWarning: Creating an ndarray from ragged nested sequences (which is a list-or-tuple of lists-or-tuples-or ndarrays with different lengths or shapes) is deprecated. If you meant to do this, you must specify 'dtype=object' when creating the ndarray\n",
      "  ham_only = np.array(sp_data_prepped)[np.logical_not(sp_data[\"Label\"])]\n"
     ]
    }
   ],
   "source": [
    "# seperate spam and ham mails\n",
    "spam_only = np.array(sp_data_prepped)[sp_data[\"Label\"]]\n",
    "ham_only = np.array(sp_data_prepped)[np.logical_not(sp_data[\"Label\"])]"
   ]
  },
  {
   "cell_type": "code",
   "execution_count": 13,
   "id": "scheduled-tennis",
   "metadata": {},
   "outputs": [],
   "source": [
    "from sklearn.feature_extraction.text import CountVectorizer\n",
    "vec_size = 15\n",
    "vectorizer0 = CountVectorizer(max_features=vec_size)\n",
    "vectorizer1 = CountVectorizer(max_features=vec_size)\n",
    "spam_attr_count = vectorizer0.fit_transform([\" \".join(text) for text in spam_only]).toarray()\n",
    "ham_attr_count = vectorizer1.fit_transform([\" \".join(text) for text in ham_only]).toarray()"
   ]
  },
  {
   "cell_type": "code",
   "execution_count": 14,
   "id": "hourly-citation",
   "metadata": {},
   "outputs": [
    {
     "name": "stdout",
     "output_type": "stream",
     "text": [
      "['business' 'center' 'website' 'company' 'investment' 'stock' 'ceo' 'club'\n",
      " 'ha' 'cwtd' 'statement' 'corp' 'world' 'trade' 'china']\n",
      "[ 30000  30000  30000  35000  35000  35000  40000  40000  40000  45000\n",
      "  45000  50000  95000 105000 110000]\n",
      "['gas' 'deal' 'new' 'energy' 'said' 'wa' 'subject' 'would' 'please' 'ha'\n",
      " 'com' 'company' 'hou' 'ect' 'enron']\n",
      "[ 2834  2839  3051  3090  3561  3640  3653  3833  3958  3993  4369  4862\n",
      "  5275 11001 19255]\n"
     ]
    }
   ],
   "source": [
    "s0 = np.sum(spam_attr_count,axis=0)\n",
    "mask0 = np.argsort(s0)\n",
    "spam_names = np.array(vectorizer0.get_feature_names())[mask0]\n",
    "print(spam_names)\n",
    "print(s0[mask0])\n",
    "\n",
    "s1 = np.sum(ham_attr_count,axis=0)\n",
    "mask1 = np.argsort(s1)\n",
    "ham_names = np.array(vectorizer1.get_feature_names())[mask1]\n",
    "print(ham_names)\n",
    "print(s1[mask1])"
   ]
  },
  {
   "cell_type": "code",
   "execution_count": 27,
   "id": "tender-updating",
   "metadata": {},
   "outputs": [
    {
     "data": {
      "image/png": "[encoded data removed]",
      "text/plain": [
       "<Figure size 576x360 with 1 Axes>"
      ]
     },
     "metadata": {
      "needs_background": "light"
     },
     "output_type": "display_data"
    }
   ],
   "source": [
    "plt.figure(figsize=(8,5))\n",
    "plt.bar(x=ham_names, height=s1, color='blue', edgecolor='k', alpha=0.65)\n",
    "plt.xticks(rotation=30,fontsize=11, ha=\"right\")\n",
    "plt.title(\"b) Most common words in non-spam e-mails\",fontsize=11)\n",
    "plt.ylabel(\"Word count\",fontsize=11)\n",
    "plt.ylim(0,1.2e5)\n",
    "plt.grid()\n",
    "plt.savefig(\"./ham_count.pdf\")"
   ]
  },
  {
   "cell_type": "code",
   "execution_count": 26,
   "id": "horizontal-spencer",
   "metadata": {},
   "outputs": [
    {
     "data": {
      "image/png": "[encoded data removed]",
      "text/plain": [
       "<Figure size 576x360 with 1 Axes>"
      ]
     },
     "metadata": {
      "needs_background": "light"
     },
     "output_type": "display_data"
    }
   ],
   "source": [
    "plt.figure(figsize=(8,5))\n",
    "plt.bar(x=spam_names, height=s0, color='blue', edgecolor='k', alpha=0.65)\n",
    "plt.xticks(rotation=30,fontsize=11, ha=\"right\")\n",
    "plt.title(\"a) Most common words in spam e-mails\",fontsize=11)\n",
    "plt.ylabel(\"Word count\",fontsize=11)\n",
    "plt.ylim(0,1.2e5)\n",
    "plt.grid()\n",
    "plt.savefig(\"./spam_count.pdf\")"
   ]
  },
  {
   "cell_type": "markdown",
   "id": "viral-pound",
   "metadata": {},
   "source": [
    "# Plots for report"
   ]
  },
  {
   "cell_type": "code",
   "execution_count": 74,
   "id": "authorized-emphasis",
   "metadata": {},
   "outputs": [
    {
     "name": "stdout",
     "output_type": "stream",
     "text": [
      "1\n",
      "Subject: inexpensive online medication here\n",
      " pummel wah springtail cutler bodyguard\n",
      " we ship quality medications overnight to your door !\n",
      " simple , quick and affordable !\n",
      " we deliver quality medications to your door !\n",
      " stop getting brochures here\n",
      " systematic defector alum arachnid inure cross he pickering\n",
      "\n",
      "0\n",
      "Subject: organizational changes\n",
      " we are pleased to announce the following organizational changes :\n",
      " enron global assets and services\n",
      " in order to increase senior management focus on our international businesses , we are creating a new business unit , enron global assets and services ( egas ) . egas will be led by kevin hannon , chief executive officer , and jim hughes , chief operating officer . kevin will report to the enron corp . office of the chairman . with the exception of the wessex water company ( which will remain in the enron transportation services organization ) and enron india ( discussed below ) , egas will include all of the assets and activities of the former enron global assets group and the azurix organization . egas will include enron ' s assets and merchant activities in south america . in order to ensure continuity in the management of our south american merchant business , john lavorato will remain responsible for those merchant activities . john will report to kevin hannon with respect to the south american merchant business , and will continue to report to the enron wholesale services office of the chairman for all other activities in his role as chief executive officer of enron americas .\n",
      " enron india\n",
      " enron ' s significant interests in india are commanding increased attention from enron ' s senior management . we are pleased to announce that rebecca mcdonald will focus exclusively on enron ' s business in india , as chief executive officer of enron india , reporting to the enron corp . office of the chairman .\n",
      " enron broadband services\n",
      " with kevin ' s departure from enron broadband services ( ebs ) , we are also making a number of changes in the ebs organization . jim fallon will now be president and chief operating officer of ebs . paul racicot , marcello romano and fred cohagan will maintain their ebs risk management activities within their respective regions . dave cox will continue as chief commercial officer of ebs and will also join ken rice and jim fallon in the ebs office of the chairman . finally , rick fehl will continue as vice president of network engineering and chief network officer but will now report to the ebs office of the chairman .\n",
      " enron principal investments\n",
      " in order to better develop and manage equity investment opportunities related to enron ' s core businesses , we are combining the existing investment groups in ena , ebs , enron investment partners and the enron special asset group into a single unit , enron principal investments . enron principal investments will work with all enron business units to identify , execute , and manage equity investments that leverage enron ' s unique and proprietary knowledge . these investments may be in the form of venture capital , leveraged buy - outs , traditional private equity and distressed debt positions . this new business unit will be headed by kevin garland , managing director , and will report to an investment committee consisting of dave delainey , ken rice , and greg whalley .\n",
      " enron corporate development\n",
      " in order to improve coordination of enron ' s corporate development activities , we are consolidating these activities under andy fastow , executive vice president and chief financial officer . jeff donahue , managing director of corporate development for ebs will now head corporate development across enron . corporate development leaders in the business units will have a dual reporting relationship to their business units and to jeff .\n",
      " one of enron ' s most compelling challenges is the sale of certain assets or businesses that are no longer core operations . mark metts , executive vice president of enron corp . , will head up a new special projects group to specifically focus on the completion of some of these more challenging transactions .\n",
      " please join us in congratulating all of these individuals on their new responsibilities .\n"
     ]
    }
   ],
   "source": [
    "mail_index = 100\n",
    "print(sp_data.iloc[mail_index,1]) # 1 for spam 0 for ham\n",
    "print(sp_data.iloc[mail_index,0])\n",
    "\n",
    "mail_index = 6006\n",
    "print(sp_data.iloc[mail_index,1]) # 1 for spam 0 for ham\n",
    "print(sp_data.iloc[mail_index,0])"
   ]
  },
  {
   "cell_type": "code",
   "execution_count": 40,
   "id": "fallen-window",
   "metadata": {},
   "outputs": [
    {
     "data": {
      "text/plain": [
       "Text(0.5, 1.0, 'Distribution of Spam and Nonspam')"
      ]
     },
     "execution_count": 40,
     "metadata": {},
     "output_type": "execute_result"
    },
    {
     "data": {
      "image/png": "[encoded data removed]",
      "text/plain": [
       "<Figure size 432x288 with 1 Axes>"
      ]
     },
     "metadata": {
      "needs_background": "light"
     },
     "output_type": "display_data"
    }
   ],
   "source": [
    "ax = sns.countplot(data=sp_data, x='Label')\n",
    "ax.set_title(\"Distribution of Spam and Nonspam\")"
   ]
  },
  {
   "cell_type": "code",
   "execution_count": null,
   "id": "powerful-great",
   "metadata": {},
   "outputs": [],
   "source": []
  }
 ],
 "metadata": {
  "kernelspec": {
   "display_name": "Python 3",
   "language": "python",
   "name": "python3"
  },
  "language_info": {
   "codemirror_mode": {
    "name": "ipython",
    "version": 3
   },
   "file_extension": ".py",
   "mimetype": "text/x-python",
   "name": "python",
   "nbconvert_exporter": "python",
   "pygments_lexer": "ipython3",
   "version": "3.8.8"
  }
 },
 "nbformat": 4,
 "nbformat_minor": 5
}
