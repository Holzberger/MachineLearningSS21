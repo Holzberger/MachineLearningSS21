{
 "cells": [
  {
   "cell_type": "code",
   "execution_count": 1,
   "metadata": {
    "id": "CAxwCPaVSMz0"
   },
   "outputs": [],
   "source": [
    "import numpy as np\n",
    "import pandas as pd \n",
    "import tensorflow as tf\n",
    "import os\n",
    "from IPython.display import IFrame\n",
    "from tensorflow.keras.models import load_model, Model\n",
    "\n",
    "from sklearn.metrics import confusion_matrix\n",
    "import itertools\n",
    "import matplotlib.pyplot as plt"
   ]
  },
  {
   "cell_type": "markdown",
   "metadata": {},
   "source": [
    "# routines for Cifar10 dataset"
   ]
  },
  {
   "cell_type": "code",
   "execution_count": 2,
   "metadata": {},
   "outputs": [],
   "source": [
    "# Plot confusion matrix\n",
    "plt.rcParams['figure.figsize'] = [10,7]\n",
    "\n",
    "def plot_confusion_matrix_cifar10(cm, classes,\n",
    "                          normalize=False,\n",
    "                          title='Confusion matrix',\n",
    "                          saveas='confmat',\n",
    "                          cmap=plt.cm.Blues):\n",
    "\n",
    "    if normalize:\n",
    "        cm = cm.astype('float') / cm.sum(axis=1)[:, np.newaxis]\n",
    "        print(\"Normalized confusion matrix\")\n",
    "    else:\n",
    "        print('Confusion matrix, without normalization')\n",
    "\n",
    "    print(cm)\n",
    "    figure = plt.figure(1, figsize= (8, 8))\n",
    "    plt.imshow(cm, interpolation='nearest', cmap=cmap)\n",
    "    plt.title(title)\n",
    "    plt.clim(0, 800)\n",
    "    plt.colorbar()\n",
    "    tick_marks = np.arange(len(classes))\n",
    "    plt.xticks(tick_marks, classes, rotation=45)\n",
    "    plt.yticks(tick_marks, classes)\n",
    "\n",
    "    fmt = '.2f' if normalize else 'd'\n",
    "    thresh = cm.max() / 2.\n",
    "    for i, j in itertools.product(range(cm.shape[0]), range(cm.shape[1])):\n",
    "        plt.text(j, i, format(cm[i, j], fmt),\n",
    "               horizontalalignment=\"center\",\n",
    "               color=\"white\" if cm[i, j] > thresh else \"black\")\n",
    "\n",
    "    labels = ['plane', 'car', 'bird','cat','deer','dog','frog','horse','ship','truck']\n",
    "    plt.yticks(np.arange(len(labels)), labels)\n",
    "    plt.xticks(np.arange(len(labels)), labels)\n",
    "    plt.tight_layout()\n",
    "    plt.ylabel('True label')\n",
    "    plt.xlabel('Predicted label')\n",
    "    figure.savefig(saveas+\".pdf\", bbox_inches='tight')\n",
    "    plt.show()"
   ]
  },
  {
   "cell_type": "code",
   "execution_count": 3,
   "metadata": {},
   "outputs": [],
   "source": [
    "def load_cifar10(scaled=False):\n",
    "    N_CLASSES=10\n",
    "    # get the data\n",
    "    (x_train,y_train), (x_test, y_test) = tf.keras.datasets.cifar10.load_data()\n",
    "    if scaled:\n",
    "        x_train, x_test = x_train/255.0, x_test/255.0\n",
    "    # do a 1hot encoding on labels\n",
    "    y_test1H = tf.keras.utils.to_categorical(y_test, N_CLASSES)\n",
    "    return x_test, y_test, y_test1H"
   ]
  },
  {
   "cell_type": "code",
   "execution_count": 4,
   "metadata": {},
   "outputs": [],
   "source": [
    "import pandas as pd\n",
    "# this routine is extracting relevant information from the confusion matrix\n",
    "def analyze_predictions_Cifar10(cm):\n",
    "    TP_order = np.argsort(cm.diagonal())\n",
    "    labels = np.array(['plane', 'car', 'bird','cat','deer','dog','frog','horse','ship','truck'])\n",
    "\n",
    "    print(\"\\n least correct predictions\")\n",
    "    df_wrong = pd.DataFrame(zip(labels[TP_order[:10]], cm.diagonal()[TP_order[:10]]),\n",
    "                   columns =['label', 'times correct predicted'])\n",
    "    display(df_wrong)\n",
    "\n",
    "    print(\"\\n most correct predictions, labels, times correct predicted:\")\n",
    "    df_correct = pd.DataFrame(zip(labels[TP_order[-10:]], cm.diagonal()[TP_order[-10:]]),\n",
    "                   columns =['label', 'times correct predicted'])\n",
    "    display(df_correct)\n",
    "\n",
    "    print(\"\\n most confused labels:\")\n",
    "    cm_nodiag = cm-np.diag(cm.diagonal())\n",
    "    ind = np.unravel_index(np.argsort(cm_nodiag, axis=None), cm_nodiag.shape)\n",
    "    conf_labels = []\n",
    "    for n in range(1,11):\n",
    "        conf_labels.append([cm_nodiag[ind[0][-n],ind[1][-n]], labels[ind[0][-n]], labels[ind[1][-n]] ])\n",
    "    df_conf = pd.DataFrame(conf_labels,\n",
    "                   columns =['times confused', 'actual label', 'predicted label'])\n",
    "    display(df_conf)\n",
    "\n",
    "    print(\"\\n most true negatives\")\n",
    "    FN = cm_nodiag.sum(axis=0)\n",
    "    FN_order = np.argsort( FN )\n",
    "    df_fn = pd.DataFrame(zip(labels[FN_order[:10]], FN[FN_order[:10]]),\n",
    "                   columns =['label', 'times wrong predicted'])\n",
    "    display(df_fn)\n",
    "    \n",
    "    print(\"\\n biggest std for column (for which classes the cnn was not very percice):\")\n",
    "    ind_std = np.argsort(  (cm_nodiag + np.diag(cm_nodiag.mean(axis=0))).std(axis=0) )\n",
    "    df_unsure = pd.DataFrame(labels[ind_std[-10:]],\n",
    "                   columns =['times label']).T\n",
    "    \n",
    "    \n",
    "    display(df_unsure)"
   ]
  },
  {
   "cell_type": "markdown",
   "metadata": {},
   "source": [
    "# Cifar10"
   ]
  },
  {
   "cell_type": "markdown",
   "metadata": {},
   "source": [
    "## squeeze net not augmented "
   ]
  },
  {
   "cell_type": "code",
   "execution_count": 5,
   "metadata": {
    "id": "2gJHdAhHGRr7"
   },
   "outputs": [],
   "source": [
    "# Cifar10 has 10 classes\n",
    "N_CLASSES = 10\n",
    "# our input dimensions\n",
    "INSHAPE = 32, 32, 3"
   ]
  },
  {
   "cell_type": "code",
   "execution_count": 6,
   "metadata": {
    "colab": {
     "base_uri": "https://localhost:8080/"
    },
    "id": "AQ8NTgeySjaX",
    "outputId": "1c5f5fa8-4764-4015-c685-fa509c91a20c"
   },
   "outputs": [],
   "source": [
    "x_test, y_test, y_test1H = load_cifar10(scaled=False)"
   ]
  },
  {
   "cell_type": "code",
   "execution_count": 7,
   "metadata": {
    "colab": {
     "base_uri": "https://localhost:8080/"
    },
    "id": "Beo8QICKSA5G",
    "outputId": "371a13f6-9845-46d0-c8a1-de546764fbef"
   },
   "outputs": [
    {
     "name": "stdout",
     "output_type": "stream",
     "text": [
      "313/313 [==============================] - 8s 24ms/step - loss: 1.2048 - accuracy: 0.6521\n",
      "{'loss': 1.2047618627548218, 'accuracy': 0.6521000266075134}\n"
     ]
    }
   ],
   "source": [
    "tf.keras.backend.clear_session()\n",
    "# Load the model from disk\n",
    "model = load_model(os.path.join('models','squeezeNet_cifar10_noaug.h5'))\n",
    "\n",
    "# Evaluate the model\n",
    "test_res = model.evaluate(x_test , y_test1H)\n",
    "\n",
    "# Print the results as a dictionary {<metric name>: <value>}\n",
    "test_res_dict = dict(zip(model.metrics_names, test_res))\n",
    "print(test_res_dict)"
   ]
  },
  {
   "cell_type": "code",
   "execution_count": 8,
   "metadata": {
    "colab": {
     "base_uri": "https://localhost:8080/",
     "height": 770
    },
    "id": "YGNSuKJed0ad",
    "outputId": "9f2e24c9-e653-4e75-9ec2-79ff1d74d3dd"
   },
   "outputs": [],
   "source": [
    "# plot confusion matrix\n",
    "p_test = model.predict(x_test).argmax(axis=1)\n",
    "cm = confusion_matrix(y_test, p_test)"
   ]
  },
  {
   "cell_type": "code",
   "execution_count": 9,
   "metadata": {},
   "outputs": [
    {
     "name": "stdout",
     "output_type": "stream",
     "text": [
      "Confusion matrix, without normalization\n",
      "[[703  21  65  21  18  12  16  19  78  47]\n",
      " [ 28 760   5  14   6   7   9   4  32 135]\n",
      " [ 78   8 529  91  89  65  76  32  19  13]\n",
      " [ 19   8  78 465  70 174  88  43  19  36]\n",
      " [ 28   4 110  64 580  35  75  86  13   5]\n",
      " [ 24   7  53 220  52 538  30  58   8  10]\n",
      " [ 13   3  54  79  72  29 715   9  11  15]\n",
      " [ 19   1  48  51  87  60   1 714   3  16]\n",
      " [ 72  33  18  21  11   9  10   6 800  20]\n",
      " [ 29 120  12  27   7  10  20  20  38 717]]\n"
     ]
    },
    {
     "data": {
      "image/png": "[encoded data removed]",
      "text/plain": [
       "<Figure size 576x576 with 2 Axes>"
      ]
     },
     "metadata": {
      "needs_background": "light"
     },
     "output_type": "display_data"
    }
   ],
   "source": [
    "plot_confusion_matrix_cifar10(cm, list(range(10)),\n",
    "                          title='Confusion matrix SqueezeNet not augmented',\n",
    "                          saveas='squeezeNet_cifar10_noaug_confmat',\n",
    "                          cmap=plt.cm.Blues)"
   ]
  },
  {
   "cell_type": "code",
   "execution_count": 10,
   "metadata": {},
   "outputs": [
    {
     "name": "stdout",
     "output_type": "stream",
     "text": [
      "\n",
      " least correct predictions\n"
     ]
    },
    {
     "data": {
      "text/html": [
       "<div>\n",
       "<style scoped>\n",
       "    .dataframe tbody tr th:only-of-type {\n",
       "        vertical-align: middle;\n",
       "    }\n",
       "\n",
       "    .dataframe tbody tr th {\n",
       "        vertical-align: top;\n",
       "    }\n",
       "\n",
       "    .dataframe thead th {\n",
       "        text-align: right;\n",
       "    }\n",
       "</style>\n",
       "<table border=\"1\" class=\"dataframe\">\n",
       "  <thead>\n",
       "    <tr style=\"text-align: right;\">\n",
       "      <th></th>\n",
       "      <th>label</th>\n",
       "      <th>times correct predicted</th>\n",
       "    </tr>\n",
       "  </thead>\n",
       "  <tbody>\n",
       "    <tr>\n",
       "      <th>0</th>\n",
       "      <td>cat</td>\n",
       "      <td>465</td>\n",
       "    </tr>\n",
       "    <tr>\n",
       "      <th>1</th>\n",
       "      <td>bird</td>\n",
       "      <td>529</td>\n",
       "    </tr>\n",
       "    <tr>\n",
       "      <th>2</th>\n",
       "      <td>dog</td>\n",
       "      <td>538</td>\n",
       "    </tr>\n",
       "    <tr>\n",
       "      <th>3</th>\n",
       "      <td>deer</td>\n",
       "      <td>580</td>\n",
       "    </tr>\n",
       "    <tr>\n",
       "      <th>4</th>\n",
       "      <td>plane</td>\n",
       "      <td>703</td>\n",
       "    </tr>\n",
       "    <tr>\n",
       "      <th>5</th>\n",
       "      <td>horse</td>\n",
       "      <td>714</td>\n",
       "    </tr>\n",
       "    <tr>\n",
       "      <th>6</th>\n",
       "      <td>frog</td>\n",
       "      <td>715</td>\n",
       "    </tr>\n",
       "    <tr>\n",
       "      <th>7</th>\n",
       "      <td>truck</td>\n",
       "      <td>717</td>\n",
       "    </tr>\n",
       "    <tr>\n",
       "      <th>8</th>\n",
       "      <td>car</td>\n",
       "      <td>760</td>\n",
       "    </tr>\n",
       "    <tr>\n",
       "      <th>9</th>\n",
       "      <td>ship</td>\n",
       "      <td>800</td>\n",
       "    </tr>\n",
       "  </tbody>\n",
       "</table>\n",
       "</div>"
      ],
      "text/plain": [
       "   label  times correct predicted\n",
       "0    cat                      465\n",
       "1   bird                      529\n",
       "2    dog                      538\n",
       "3   deer                      580\n",
       "4  plane                      703\n",
       "5  horse                      714\n",
       "6   frog                      715\n",
       "7  truck                      717\n",
       "8    car                      760\n",
       "9   ship                      800"
      ]
     },
     "metadata": {},
     "output_type": "display_data"
    },
    {
     "name": "stdout",
     "output_type": "stream",
     "text": [
      "\n",
      " most correct predictions, labels, times correct predicted:\n"
     ]
    },
    {
     "data": {
      "text/html": [
       "<div>\n",
       "<style scoped>\n",
       "    .dataframe tbody tr th:only-of-type {\n",
       "        vertical-align: middle;\n",
       "    }\n",
       "\n",
       "    .dataframe tbody tr th {\n",
       "        vertical-align: top;\n",
       "    }\n",
       "\n",
       "    .dataframe thead th {\n",
       "        text-align: right;\n",
       "    }\n",
       "</style>\n",
       "<table border=\"1\" class=\"dataframe\">\n",
       "  <thead>\n",
       "    <tr style=\"text-align: right;\">\n",
       "      <th></th>\n",
       "      <th>label</th>\n",
       "      <th>times correct predicted</th>\n",
       "    </tr>\n",
       "  </thead>\n",
       "  <tbody>\n",
       "    <tr>\n",
       "      <th>0</th>\n",
       "      <td>cat</td>\n",
       "      <td>465</td>\n",
       "    </tr>\n",
       "    <tr>\n",
       "      <th>1</th>\n",
       "      <td>bird</td>\n",
       "      <td>529</td>\n",
       "    </tr>\n",
       "    <tr>\n",
       "      <th>2</th>\n",
       "      <td>dog</td>\n",
       "      <td>538</td>\n",
       "    </tr>\n",
       "    <tr>\n",
       "      <th>3</th>\n",
       "      <td>deer</td>\n",
       "      <td>580</td>\n",
       "    </tr>\n",
       "    <tr>\n",
       "      <th>4</th>\n",
       "      <td>plane</td>\n",
       "      <td>703</td>\n",
       "    </tr>\n",
       "    <tr>\n",
       "      <th>5</th>\n",
       "      <td>horse</td>\n",
       "      <td>714</td>\n",
       "    </tr>\n",
       "    <tr>\n",
       "      <th>6</th>\n",
       "      <td>frog</td>\n",
       "      <td>715</td>\n",
       "    </tr>\n",
       "    <tr>\n",
       "      <th>7</th>\n",
       "      <td>truck</td>\n",
       "      <td>717</td>\n",
       "    </tr>\n",
       "    <tr>\n",
       "      <th>8</th>\n",
       "      <td>car</td>\n",
       "      <td>760</td>\n",
       "    </tr>\n",
       "    <tr>\n",
       "      <th>9</th>\n",
       "      <td>ship</td>\n",
       "      <td>800</td>\n",
       "    </tr>\n",
       "  </tbody>\n",
       "</table>\n",
       "</div>"
      ],
      "text/plain": [
       "   label  times correct predicted\n",
       "0    cat                      465\n",
       "1   bird                      529\n",
       "2    dog                      538\n",
       "3   deer                      580\n",
       "4  plane                      703\n",
       "5  horse                      714\n",
       "6   frog                      715\n",
       "7  truck                      717\n",
       "8    car                      760\n",
       "9   ship                      800"
      ]
     },
     "metadata": {},
     "output_type": "display_data"
    },
    {
     "name": "stdout",
     "output_type": "stream",
     "text": [
      "\n",
      " most confused labels:\n"
     ]
    },
    {
     "data": {
      "text/html": [
       "<div>\n",
       "<style scoped>\n",
       "    .dataframe tbody tr th:only-of-type {\n",
       "        vertical-align: middle;\n",
       "    }\n",
       "\n",
       "    .dataframe tbody tr th {\n",
       "        vertical-align: top;\n",
       "    }\n",
       "\n",
       "    .dataframe thead th {\n",
       "        text-align: right;\n",
       "    }\n",
       "</style>\n",
       "<table border=\"1\" class=\"dataframe\">\n",
       "  <thead>\n",
       "    <tr style=\"text-align: right;\">\n",
       "      <th></th>\n",
       "      <th>times confused</th>\n",
       "      <th>actual label</th>\n",
       "      <th>predicted label</th>\n",
       "    </tr>\n",
       "  </thead>\n",
       "  <tbody>\n",
       "    <tr>\n",
       "      <th>0</th>\n",
       "      <td>220</td>\n",
       "      <td>dog</td>\n",
       "      <td>cat</td>\n",
       "    </tr>\n",
       "    <tr>\n",
       "      <th>1</th>\n",
       "      <td>174</td>\n",
       "      <td>cat</td>\n",
       "      <td>dog</td>\n",
       "    </tr>\n",
       "    <tr>\n",
       "      <th>2</th>\n",
       "      <td>135</td>\n",
       "      <td>car</td>\n",
       "      <td>truck</td>\n",
       "    </tr>\n",
       "    <tr>\n",
       "      <th>3</th>\n",
       "      <td>120</td>\n",
       "      <td>truck</td>\n",
       "      <td>car</td>\n",
       "    </tr>\n",
       "    <tr>\n",
       "      <th>4</th>\n",
       "      <td>110</td>\n",
       "      <td>deer</td>\n",
       "      <td>bird</td>\n",
       "    </tr>\n",
       "    <tr>\n",
       "      <th>5</th>\n",
       "      <td>91</td>\n",
       "      <td>bird</td>\n",
       "      <td>cat</td>\n",
       "    </tr>\n",
       "    <tr>\n",
       "      <th>6</th>\n",
       "      <td>89</td>\n",
       "      <td>bird</td>\n",
       "      <td>deer</td>\n",
       "    </tr>\n",
       "    <tr>\n",
       "      <th>7</th>\n",
       "      <td>88</td>\n",
       "      <td>cat</td>\n",
       "      <td>frog</td>\n",
       "    </tr>\n",
       "    <tr>\n",
       "      <th>8</th>\n",
       "      <td>87</td>\n",
       "      <td>horse</td>\n",
       "      <td>deer</td>\n",
       "    </tr>\n",
       "    <tr>\n",
       "      <th>9</th>\n",
       "      <td>86</td>\n",
       "      <td>deer</td>\n",
       "      <td>horse</td>\n",
       "    </tr>\n",
       "  </tbody>\n",
       "</table>\n",
       "</div>"
      ],
      "text/plain": [
       "   times confused actual label predicted label\n",
       "0             220          dog             cat\n",
       "1             174          cat             dog\n",
       "2             135          car           truck\n",
       "3             120        truck             car\n",
       "4             110         deer            bird\n",
       "5              91         bird             cat\n",
       "6              89         bird            deer\n",
       "7              88          cat            frog\n",
       "8              87        horse            deer\n",
       "9              86         deer           horse"
      ]
     },
     "metadata": {},
     "output_type": "display_data"
    },
    {
     "name": "stdout",
     "output_type": "stream",
     "text": [
      "\n",
      " most true negatives\n"
     ]
    },
    {
     "data": {
      "text/html": [
       "<div>\n",
       "<style scoped>\n",
       "    .dataframe tbody tr th:only-of-type {\n",
       "        vertical-align: middle;\n",
       "    }\n",
       "\n",
       "    .dataframe tbody tr th {\n",
       "        vertical-align: top;\n",
       "    }\n",
       "\n",
       "    .dataframe thead th {\n",
       "        text-align: right;\n",
       "    }\n",
       "</style>\n",
       "<table border=\"1\" class=\"dataframe\">\n",
       "  <thead>\n",
       "    <tr style=\"text-align: right;\">\n",
       "      <th></th>\n",
       "      <th>label</th>\n",
       "      <th>times wrong predicted</th>\n",
       "    </tr>\n",
       "  </thead>\n",
       "  <tbody>\n",
       "    <tr>\n",
       "      <th>0</th>\n",
       "      <td>car</td>\n",
       "      <td>205</td>\n",
       "    </tr>\n",
       "    <tr>\n",
       "      <th>1</th>\n",
       "      <td>ship</td>\n",
       "      <td>221</td>\n",
       "    </tr>\n",
       "    <tr>\n",
       "      <th>2</th>\n",
       "      <td>horse</td>\n",
       "      <td>277</td>\n",
       "    </tr>\n",
       "    <tr>\n",
       "      <th>3</th>\n",
       "      <td>truck</td>\n",
       "      <td>297</td>\n",
       "    </tr>\n",
       "    <tr>\n",
       "      <th>4</th>\n",
       "      <td>plane</td>\n",
       "      <td>310</td>\n",
       "    </tr>\n",
       "    <tr>\n",
       "      <th>5</th>\n",
       "      <td>frog</td>\n",
       "      <td>325</td>\n",
       "    </tr>\n",
       "    <tr>\n",
       "      <th>6</th>\n",
       "      <td>dog</td>\n",
       "      <td>401</td>\n",
       "    </tr>\n",
       "    <tr>\n",
       "      <th>7</th>\n",
       "      <td>deer</td>\n",
       "      <td>412</td>\n",
       "    </tr>\n",
       "    <tr>\n",
       "      <th>8</th>\n",
       "      <td>bird</td>\n",
       "      <td>443</td>\n",
       "    </tr>\n",
       "    <tr>\n",
       "      <th>9</th>\n",
       "      <td>cat</td>\n",
       "      <td>588</td>\n",
       "    </tr>\n",
       "  </tbody>\n",
       "</table>\n",
       "</div>"
      ],
      "text/plain": [
       "   label  times wrong predicted\n",
       "0    car                    205\n",
       "1   ship                    221\n",
       "2  horse                    277\n",
       "3  truck                    297\n",
       "4  plane                    310\n",
       "5   frog                    325\n",
       "6    dog                    401\n",
       "7   deer                    412\n",
       "8   bird                    443\n",
       "9    cat                    588"
      ]
     },
     "metadata": {},
     "output_type": "display_data"
    },
    {
     "name": "stdout",
     "output_type": "stream",
     "text": [
      "\n",
      " biggest std for column (for which classes the cnn was not very percice):\n"
     ]
    },
    {
     "data": {
      "text/html": [
       "<div>\n",
       "<style scoped>\n",
       "    .dataframe tbody tr th:only-of-type {\n",
       "        vertical-align: middle;\n",
       "    }\n",
       "\n",
       "    .dataframe tbody tr th {\n",
       "        vertical-align: top;\n",
       "    }\n",
       "\n",
       "    .dataframe thead th {\n",
       "        text-align: right;\n",
       "    }\n",
       "</style>\n",
       "<table border=\"1\" class=\"dataframe\">\n",
       "  <thead>\n",
       "    <tr style=\"text-align: right;\">\n",
       "      <th></th>\n",
       "      <th>0</th>\n",
       "      <th>1</th>\n",
       "      <th>2</th>\n",
       "      <th>3</th>\n",
       "      <th>4</th>\n",
       "      <th>5</th>\n",
       "      <th>6</th>\n",
       "      <th>7</th>\n",
       "      <th>8</th>\n",
       "      <th>9</th>\n",
       "    </tr>\n",
       "  </thead>\n",
       "  <tbody>\n",
       "    <tr>\n",
       "      <th>times label</th>\n",
       "      <td>ship</td>\n",
       "      <td>plane</td>\n",
       "      <td>horse</td>\n",
       "      <td>bird</td>\n",
       "      <td>frog</td>\n",
       "      <td>deer</td>\n",
       "      <td>car</td>\n",
       "      <td>truck</td>\n",
       "      <td>dog</td>\n",
       "      <td>cat</td>\n",
       "    </tr>\n",
       "  </tbody>\n",
       "</table>\n",
       "</div>"
      ],
      "text/plain": [
       "                0      1      2     3     4     5    6      7    8    9\n",
       "times label  ship  plane  horse  bird  frog  deer  car  truck  dog  cat"
      ]
     },
     "metadata": {},
     "output_type": "display_data"
    }
   ],
   "source": [
    "analyze_predictions_Cifar10(cm)"
   ]
  },
  {
   "cell_type": "code",
   "execution_count": 11,
   "metadata": {},
   "outputs": [
    {
     "data": {
      "text/html": [
       "\n",
       "        <iframe\n",
       "            width=\"900\"\n",
       "            height=\"400\"\n",
       "            src=\"./models/squeezeNet_cifar10_noaug.pdf\"\n",
       "            frameborder=\"0\"\n",
       "            allowfullscreen\n",
       "        ></iframe>\n",
       "        "
      ],
      "text/plain": [
       "<IPython.lib.display.IFrame at 0x7f04e8447310>"
      ]
     },
     "execution_count": 11,
     "metadata": {},
     "output_type": "execute_result"
    }
   ],
   "source": [
    "IFrame(\"./models/squeezeNet_cifar10_noaug.pdf\", width=900, height=400)"
   ]
  },
  {
   "cell_type": "markdown",
   "metadata": {},
   "source": [
    "## squeeze net augmented "
   ]
  },
  {
   "cell_type": "code",
   "execution_count": 12,
   "metadata": {},
   "outputs": [],
   "source": [
    "# Cifar10 has 10 classes\n",
    "N_CLASSES = 10\n",
    "# our input dimensions\n",
    "INSHAPE = 32, 32, 3"
   ]
  },
  {
   "cell_type": "code",
   "execution_count": 13,
   "metadata": {},
   "outputs": [],
   "source": [
    "x_test, y_test, y_test1H = load_cifar10(scaled=True)"
   ]
  },
  {
   "cell_type": "code",
   "execution_count": 14,
   "metadata": {},
   "outputs": [
    {
     "name": "stdout",
     "output_type": "stream",
     "text": [
      "313/313 [==============================] - 9s 28ms/step - loss: 0.9249 - accuracy: 0.6733\n",
      "{'loss': 0.924884557723999, 'accuracy': 0.67330002784729}\n"
     ]
    }
   ],
   "source": [
    "tf.keras.backend.clear_session()\n",
    "# Load the model from disk\n",
    "model = load_model(os.path.join('models','squeezeNet_cifar10_aug.h5'))\n",
    "\n",
    "# Evaluate the model\n",
    "test_res = model.evaluate(x_test , y_test1H)\n",
    "\n",
    "# Print the results as a dictionary {<metric name>: <value>}\n",
    "test_res_dict = dict(zip(model.metrics_names, test_res))\n",
    "print(test_res_dict)"
   ]
  },
  {
   "cell_type": "code",
   "execution_count": 15,
   "metadata": {},
   "outputs": [],
   "source": [
    "# plot confusion matrix\n",
    "p_test = model.predict(x_test).argmax(axis=1)\n",
    "cm = confusion_matrix(y_test, p_test)"
   ]
  },
  {
   "cell_type": "code",
   "execution_count": 16,
   "metadata": {},
   "outputs": [
    {
     "name": "stdout",
     "output_type": "stream",
     "text": [
      "Confusion matrix, without normalization\n",
      "[[732  42  32  11  16   6  11  26  57  67]\n",
      " [ 13 847   1   2   0   3   6   3   9 116]\n",
      " [ 83  10 496  68 107  52  87  57  14  26]\n",
      " [ 21  25  52 383  56 220 114  57  22  50]\n",
      " [ 30   7  46  38 566  30 115 148   9  11]\n",
      " [  8  12  27 168  47 561  47  91   7  32]\n",
      " [ 10   9  16  50  37  19 803  18   9  29]\n",
      " [ 23   4   7  30  41  55  14 783   2  41]\n",
      " [ 84  49  11  10   4   4   9   4 774  51]\n",
      " [ 30 127   4   6   0   4  10  17  14 788]]\n"
     ]
    },
    {
     "data": {
      "image/png": "[encoded data removed]",
      "text/plain": [
       "<Figure size 576x576 with 2 Axes>"
      ]
     },
     "metadata": {
      "needs_background": "light"
     },
     "output_type": "display_data"
    }
   ],
   "source": [
    "plot_confusion_matrix_cifar10(cm, list(range(10)),\n",
    "                          title='Confusion matrix SqueezeNet augmented',\n",
    "                          saveas='squeezeNet_cifar10_aug_confmat',\n",
    "                          cmap=plt.cm.Blues)"
   ]
  },
  {
   "cell_type": "code",
   "execution_count": 17,
   "metadata": {},
   "outputs": [
    {
     "name": "stdout",
     "output_type": "stream",
     "text": [
      "\n",
      " least correct predictions\n"
     ]
    },
    {
     "data": {
      "text/html": [
       "<div>\n",
       "<style scoped>\n",
       "    .dataframe tbody tr th:only-of-type {\n",
       "        vertical-align: middle;\n",
       "    }\n",
       "\n",
       "    .dataframe tbody tr th {\n",
       "        vertical-align: top;\n",
       "    }\n",
       "\n",
       "    .dataframe thead th {\n",
       "        text-align: right;\n",
       "    }\n",
       "</style>\n",
       "<table border=\"1\" class=\"dataframe\">\n",
       "  <thead>\n",
       "    <tr style=\"text-align: right;\">\n",
       "      <th></th>\n",
       "      <th>label</th>\n",
       "      <th>times correct predicted</th>\n",
       "    </tr>\n",
       "  </thead>\n",
       "  <tbody>\n",
       "    <tr>\n",
       "      <th>0</th>\n",
       "      <td>cat</td>\n",
       "      <td>383</td>\n",
       "    </tr>\n",
       "    <tr>\n",
       "      <th>1</th>\n",
       "      <td>bird</td>\n",
       "      <td>496</td>\n",
       "    </tr>\n",
       "    <tr>\n",
       "      <th>2</th>\n",
       "      <td>dog</td>\n",
       "      <td>561</td>\n",
       "    </tr>\n",
       "    <tr>\n",
       "      <th>3</th>\n",
       "      <td>deer</td>\n",
       "      <td>566</td>\n",
       "    </tr>\n",
       "    <tr>\n",
       "      <th>4</th>\n",
       "      <td>plane</td>\n",
       "      <td>732</td>\n",
       "    </tr>\n",
       "    <tr>\n",
       "      <th>5</th>\n",
       "      <td>ship</td>\n",
       "      <td>774</td>\n",
       "    </tr>\n",
       "    <tr>\n",
       "      <th>6</th>\n",
       "      <td>horse</td>\n",
       "      <td>783</td>\n",
       "    </tr>\n",
       "    <tr>\n",
       "      <th>7</th>\n",
       "      <td>truck</td>\n",
       "      <td>788</td>\n",
       "    </tr>\n",
       "    <tr>\n",
       "      <th>8</th>\n",
       "      <td>frog</td>\n",
       "      <td>803</td>\n",
       "    </tr>\n",
       "    <tr>\n",
       "      <th>9</th>\n",
       "      <td>car</td>\n",
       "      <td>847</td>\n",
       "    </tr>\n",
       "  </tbody>\n",
       "</table>\n",
       "</div>"
      ],
      "text/plain": [
       "   label  times correct predicted\n",
       "0    cat                      383\n",
       "1   bird                      496\n",
       "2    dog                      561\n",
       "3   deer                      566\n",
       "4  plane                      732\n",
       "5   ship                      774\n",
       "6  horse                      783\n",
       "7  truck                      788\n",
       "8   frog                      803\n",
       "9    car                      847"
      ]
     },
     "metadata": {},
     "output_type": "display_data"
    },
    {
     "name": "stdout",
     "output_type": "stream",
     "text": [
      "\n",
      " most correct predictions, labels, times correct predicted:\n"
     ]
    },
    {
     "data": {
      "text/html": [
       "<div>\n",
       "<style scoped>\n",
       "    .dataframe tbody tr th:only-of-type {\n",
       "        vertical-align: middle;\n",
       "    }\n",
       "\n",
       "    .dataframe tbody tr th {\n",
       "        vertical-align: top;\n",
       "    }\n",
       "\n",
       "    .dataframe thead th {\n",
       "        text-align: right;\n",
       "    }\n",
       "</style>\n",
       "<table border=\"1\" class=\"dataframe\">\n",
       "  <thead>\n",
       "    <tr style=\"text-align: right;\">\n",
       "      <th></th>\n",
       "      <th>label</th>\n",
       "      <th>times correct predicted</th>\n",
       "    </tr>\n",
       "  </thead>\n",
       "  <tbody>\n",
       "    <tr>\n",
       "      <th>0</th>\n",
       "      <td>cat</td>\n",
       "      <td>383</td>\n",
       "    </tr>\n",
       "    <tr>\n",
       "      <th>1</th>\n",
       "      <td>bird</td>\n",
       "      <td>496</td>\n",
       "    </tr>\n",
       "    <tr>\n",
       "      <th>2</th>\n",
       "      <td>dog</td>\n",
       "      <td>561</td>\n",
       "    </tr>\n",
       "    <tr>\n",
       "      <th>3</th>\n",
       "      <td>deer</td>\n",
       "      <td>566</td>\n",
       "    </tr>\n",
       "    <tr>\n",
       "      <th>4</th>\n",
       "      <td>plane</td>\n",
       "      <td>732</td>\n",
       "    </tr>\n",
       "    <tr>\n",
       "      <th>5</th>\n",
       "      <td>ship</td>\n",
       "      <td>774</td>\n",
       "    </tr>\n",
       "    <tr>\n",
       "      <th>6</th>\n",
       "      <td>horse</td>\n",
       "      <td>783</td>\n",
       "    </tr>\n",
       "    <tr>\n",
       "      <th>7</th>\n",
       "      <td>truck</td>\n",
       "      <td>788</td>\n",
       "    </tr>\n",
       "    <tr>\n",
       "      <th>8</th>\n",
       "      <td>frog</td>\n",
       "      <td>803</td>\n",
       "    </tr>\n",
       "    <tr>\n",
       "      <th>9</th>\n",
       "      <td>car</td>\n",
       "      <td>847</td>\n",
       "    </tr>\n",
       "  </tbody>\n",
       "</table>\n",
       "</div>"
      ],
      "text/plain": [
       "   label  times correct predicted\n",
       "0    cat                      383\n",
       "1   bird                      496\n",
       "2    dog                      561\n",
       "3   deer                      566\n",
       "4  plane                      732\n",
       "5   ship                      774\n",
       "6  horse                      783\n",
       "7  truck                      788\n",
       "8   frog                      803\n",
       "9    car                      847"
      ]
     },
     "metadata": {},
     "output_type": "display_data"
    },
    {
     "name": "stdout",
     "output_type": "stream",
     "text": [
      "\n",
      " most confused labels:\n"
     ]
    },
    {
     "data": {
      "text/html": [
       "<div>\n",
       "<style scoped>\n",
       "    .dataframe tbody tr th:only-of-type {\n",
       "        vertical-align: middle;\n",
       "    }\n",
       "\n",
       "    .dataframe tbody tr th {\n",
       "        vertical-align: top;\n",
       "    }\n",
       "\n",
       "    .dataframe thead th {\n",
       "        text-align: right;\n",
       "    }\n",
       "</style>\n",
       "<table border=\"1\" class=\"dataframe\">\n",
       "  <thead>\n",
       "    <tr style=\"text-align: right;\">\n",
       "      <th></th>\n",
       "      <th>times confused</th>\n",
       "      <th>actual label</th>\n",
       "      <th>predicted label</th>\n",
       "    </tr>\n",
       "  </thead>\n",
       "  <tbody>\n",
       "    <tr>\n",
       "      <th>0</th>\n",
       "      <td>220</td>\n",
       "      <td>cat</td>\n",
       "      <td>dog</td>\n",
       "    </tr>\n",
       "    <tr>\n",
       "      <th>1</th>\n",
       "      <td>168</td>\n",
       "      <td>dog</td>\n",
       "      <td>cat</td>\n",
       "    </tr>\n",
       "    <tr>\n",
       "      <th>2</th>\n",
       "      <td>148</td>\n",
       "      <td>deer</td>\n",
       "      <td>horse</td>\n",
       "    </tr>\n",
       "    <tr>\n",
       "      <th>3</th>\n",
       "      <td>127</td>\n",
       "      <td>truck</td>\n",
       "      <td>car</td>\n",
       "    </tr>\n",
       "    <tr>\n",
       "      <th>4</th>\n",
       "      <td>116</td>\n",
       "      <td>car</td>\n",
       "      <td>truck</td>\n",
       "    </tr>\n",
       "    <tr>\n",
       "      <th>5</th>\n",
       "      <td>115</td>\n",
       "      <td>deer</td>\n",
       "      <td>frog</td>\n",
       "    </tr>\n",
       "    <tr>\n",
       "      <th>6</th>\n",
       "      <td>114</td>\n",
       "      <td>cat</td>\n",
       "      <td>frog</td>\n",
       "    </tr>\n",
       "    <tr>\n",
       "      <th>7</th>\n",
       "      <td>107</td>\n",
       "      <td>bird</td>\n",
       "      <td>deer</td>\n",
       "    </tr>\n",
       "    <tr>\n",
       "      <th>8</th>\n",
       "      <td>91</td>\n",
       "      <td>dog</td>\n",
       "      <td>horse</td>\n",
       "    </tr>\n",
       "    <tr>\n",
       "      <th>9</th>\n",
       "      <td>87</td>\n",
       "      <td>bird</td>\n",
       "      <td>frog</td>\n",
       "    </tr>\n",
       "  </tbody>\n",
       "</table>\n",
       "</div>"
      ],
      "text/plain": [
       "   times confused actual label predicted label\n",
       "0             220          cat             dog\n",
       "1             168          dog             cat\n",
       "2             148         deer           horse\n",
       "3             127        truck             car\n",
       "4             116          car           truck\n",
       "5             115         deer            frog\n",
       "6             114          cat            frog\n",
       "7             107         bird            deer\n",
       "8              91          dog           horse\n",
       "9              87         bird            frog"
      ]
     },
     "metadata": {},
     "output_type": "display_data"
    },
    {
     "name": "stdout",
     "output_type": "stream",
     "text": [
      "\n",
      " most true negatives\n"
     ]
    },
    {
     "data": {
      "text/html": [
       "<div>\n",
       "<style scoped>\n",
       "    .dataframe tbody tr th:only-of-type {\n",
       "        vertical-align: middle;\n",
       "    }\n",
       "\n",
       "    .dataframe tbody tr th {\n",
       "        vertical-align: top;\n",
       "    }\n",
       "\n",
       "    .dataframe thead th {\n",
       "        text-align: right;\n",
       "    }\n",
       "</style>\n",
       "<table border=\"1\" class=\"dataframe\">\n",
       "  <thead>\n",
       "    <tr style=\"text-align: right;\">\n",
       "      <th></th>\n",
       "      <th>label</th>\n",
       "      <th>times wrong predicted</th>\n",
       "    </tr>\n",
       "  </thead>\n",
       "  <tbody>\n",
       "    <tr>\n",
       "      <th>0</th>\n",
       "      <td>ship</td>\n",
       "      <td>143</td>\n",
       "    </tr>\n",
       "    <tr>\n",
       "      <th>1</th>\n",
       "      <td>bird</td>\n",
       "      <td>196</td>\n",
       "    </tr>\n",
       "    <tr>\n",
       "      <th>2</th>\n",
       "      <td>car</td>\n",
       "      <td>285</td>\n",
       "    </tr>\n",
       "    <tr>\n",
       "      <th>3</th>\n",
       "      <td>plane</td>\n",
       "      <td>302</td>\n",
       "    </tr>\n",
       "    <tr>\n",
       "      <th>4</th>\n",
       "      <td>deer</td>\n",
       "      <td>308</td>\n",
       "    </tr>\n",
       "    <tr>\n",
       "      <th>5</th>\n",
       "      <td>cat</td>\n",
       "      <td>383</td>\n",
       "    </tr>\n",
       "    <tr>\n",
       "      <th>6</th>\n",
       "      <td>dog</td>\n",
       "      <td>393</td>\n",
       "    </tr>\n",
       "    <tr>\n",
       "      <th>7</th>\n",
       "      <td>frog</td>\n",
       "      <td>413</td>\n",
       "    </tr>\n",
       "    <tr>\n",
       "      <th>8</th>\n",
       "      <td>horse</td>\n",
       "      <td>421</td>\n",
       "    </tr>\n",
       "    <tr>\n",
       "      <th>9</th>\n",
       "      <td>truck</td>\n",
       "      <td>423</td>\n",
       "    </tr>\n",
       "  </tbody>\n",
       "</table>\n",
       "</div>"
      ],
      "text/plain": [
       "   label  times wrong predicted\n",
       "0   ship                    143\n",
       "1   bird                    196\n",
       "2    car                    285\n",
       "3  plane                    302\n",
       "4   deer                    308\n",
       "5    cat                    383\n",
       "6    dog                    393\n",
       "7   frog                    413\n",
       "8  horse                    421\n",
       "9  truck                    423"
      ]
     },
     "metadata": {},
     "output_type": "display_data"
    },
    {
     "name": "stdout",
     "output_type": "stream",
     "text": [
      "\n",
      " biggest std for column (for which classes the cnn was not very percice):\n"
     ]
    },
    {
     "data": {
      "text/html": [
       "<div>\n",
       "<style scoped>\n",
       "    .dataframe tbody tr th:only-of-type {\n",
       "        vertical-align: middle;\n",
       "    }\n",
       "\n",
       "    .dataframe tbody tr th {\n",
       "        vertical-align: top;\n",
       "    }\n",
       "\n",
       "    .dataframe thead th {\n",
       "        text-align: right;\n",
       "    }\n",
       "</style>\n",
       "<table border=\"1\" class=\"dataframe\">\n",
       "  <thead>\n",
       "    <tr style=\"text-align: right;\">\n",
       "      <th></th>\n",
       "      <th>0</th>\n",
       "      <th>1</th>\n",
       "      <th>2</th>\n",
       "      <th>3</th>\n",
       "      <th>4</th>\n",
       "      <th>5</th>\n",
       "      <th>6</th>\n",
       "      <th>7</th>\n",
       "      <th>8</th>\n",
       "      <th>9</th>\n",
       "    </tr>\n",
       "  </thead>\n",
       "  <tbody>\n",
       "    <tr>\n",
       "      <th>times label</th>\n",
       "      <td>ship</td>\n",
       "      <td>bird</td>\n",
       "      <td>plane</td>\n",
       "      <td>truck</td>\n",
       "      <td>deer</td>\n",
       "      <td>car</td>\n",
       "      <td>frog</td>\n",
       "      <td>horse</td>\n",
       "      <td>cat</td>\n",
       "      <td>dog</td>\n",
       "    </tr>\n",
       "  </tbody>\n",
       "</table>\n",
       "</div>"
      ],
      "text/plain": [
       "                0     1      2      3     4    5     6      7    8    9\n",
       "times label  ship  bird  plane  truck  deer  car  frog  horse  cat  dog"
      ]
     },
     "metadata": {},
     "output_type": "display_data"
    }
   ],
   "source": [
    "analyze_predictions_Cifar10(cm)"
   ]
  },
  {
   "cell_type": "code",
   "execution_count": 18,
   "metadata": {},
   "outputs": [
    {
     "data": {
      "text/html": [
       "\n",
       "        <iframe\n",
       "            width=\"900\"\n",
       "            height=\"400\"\n",
       "            src=\"./models/squeezeNet_cifar10_aug.pdf\"\n",
       "            frameborder=\"0\"\n",
       "            allowfullscreen\n",
       "        ></iframe>\n",
       "        "
      ],
      "text/plain": [
       "<IPython.lib.display.IFrame at 0x7f04e820a670>"
      ]
     },
     "execution_count": 18,
     "metadata": {},
     "output_type": "execute_result"
    }
   ],
   "source": [
    "IFrame(\"./models/squeezeNet_cifar10_aug.pdf\", width=900, height=400)"
   ]
  },
  {
   "cell_type": "markdown",
   "metadata": {},
   "source": [
    "# Res50Net not augmented"
   ]
  },
  {
   "cell_type": "code",
   "execution_count": 19,
   "metadata": {},
   "outputs": [],
   "source": [
    "# to load the wrapped Res50Net architecture we need to recreate it here\n",
    "def res50Net_transfer(input_shape, n_classes, frozen_layers=168, final_layers=[]):\n",
    "    # load resnet with given input shape\n",
    "    input_t = tf.keras.Input(shape=input_shape)\n",
    "    res_model = tf.keras.applications.ResNet50(include_top=False,\n",
    "                                              weights=\"imagenet\",\n",
    "                                              input_tensor=input_t)\n",
    "    # freeze top layers of resnet\n",
    "    for layer in res_model.layers[:frozen_layers]:\n",
    "        layer.trainable =False\n",
    "\n",
    "    # wrap resnet by sequencial network\n",
    "    model = tf.keras.models.Sequential()\n",
    "    model.add(tf.keras.layers.Lambda(lambda image: tf.image.resize(image, input_shape[:2])))\n",
    "    model.add(res_model)\n",
    "    model.add(tf.keras.layers.Flatten())\n",
    "\n",
    "    for n_layer in final_layers: # add dense layers if we need more accuracy\n",
    "        model.add(tf.keras.layers.BatchNormalization())\n",
    "        model.add(tf.keras.layers.Dense(n_layer, activation='relu'))\n",
    "        model.add(tf.keras.layers.Dropout(0.5))\n",
    "\n",
    "    model.add(tf.keras.layers.Dense(n_classes, activation='softmax'))\n",
    "\n",
    "    loss = tf.keras.losses.CategoricalCrossentropy()\n",
    "    adam = tf.keras.optimizers.Adam(learning_rate=0.0001)\n",
    "    model.compile(loss=loss, optimizer=adam, metrics=['accuracy'])\n",
    "    return model"
   ]
  },
  {
   "cell_type": "code",
   "execution_count": 20,
   "metadata": {},
   "outputs": [],
   "source": [
    "# Cifar10 has 10 classes\n",
    "N_CLASSES = 10\n",
    "# our input dimensions\n",
    "INSHAPE = 32, 32, 3"
   ]
  },
  {
   "cell_type": "code",
   "execution_count": 21,
   "metadata": {},
   "outputs": [],
   "source": [
    "x_test, y_test, y_test1H = load_cifar10(scaled=False)"
   ]
  },
  {
   "cell_type": "code",
   "execution_count": 22,
   "metadata": {},
   "outputs": [
    {
     "name": "stdout",
     "output_type": "stream",
     "text": [
      "313/313 [==============================] - 37s 110ms/step - loss: 1.2159 - accuracy: 0.6216\n",
      "{'loss': 1.2159069776535034, 'accuracy': 0.6215999722480774}\n"
     ]
    }
   ],
   "source": [
    "tf.keras.backend.clear_session()\n",
    "model = res50Net_transfer(INSHAPE, N_CLASSES, frozen_layers=168, \n",
    "                          final_layers=[256, 128, 64])\n",
    "model.build(x_test.shape)\n",
    "model.load_weights(os.path.join('models','res50Net_cifar10_noaug.h5'))\n",
    "\n",
    "# Evaluate the model\n",
    "test_res = model.evaluate(x_test , y_test1H)\n",
    "\n",
    "# Print the results as a dictionary {<metric name>: <value>}\n",
    "test_res_dict = dict(zip(model.metrics_names, test_res))\n",
    "print(test_res_dict)"
   ]
  },
  {
   "cell_type": "code",
   "execution_count": 23,
   "metadata": {},
   "outputs": [],
   "source": [
    "# plot confusion matrix\n",
    "p_test = model.predict(x_test).argmax(axis=1)\n",
    "cm = confusion_matrix(y_test, p_test)"
   ]
  },
  {
   "cell_type": "code",
   "execution_count": 24,
   "metadata": {},
   "outputs": [
    {
     "name": "stdout",
     "output_type": "stream",
     "text": [
      "Confusion matrix, without normalization\n",
      "[[667  20  59  17  32  13   7  19 119  47]\n",
      " [ 41 655   8  40  14   7  19  18  59 139]\n",
      " [ 77   5 522  80 107  56  94  41  11   7]\n",
      " [ 11  30  73 504  63 123  93  54  17  32]\n",
      " [ 15  11  80  69 602  22  86  87  17  11]\n",
      " [  5  17  58 229  55 500  46  70   7  13]\n",
      " [  3  14  70  73  85  29 709  10   4   3]\n",
      " [ 19   9  41  65  89  52  11 662  11  41]\n",
      " [104  50  11  17  25   4   4  11 704  70]\n",
      " [ 35 123   4  26  19   9   8  36  49 691]]\n"
     ]
    },
    {
     "data": {
      "image/png": "[encoded data removed]",
      "text/plain": [
       "<Figure size 576x576 with 2 Axes>"
      ]
     },
     "metadata": {
      "needs_background": "light"
     },
     "output_type": "display_data"
    }
   ],
   "source": [
    "plot_confusion_matrix_cifar10(cm, list(range(10)),\n",
    "                          title='Confusion matrix Res50Net augmented',\n",
    "                          saveas='res50Net_cifar10_noaug_confmat',\n",
    "                          cmap=plt.cm.Blues)"
   ]
  },
  {
   "cell_type": "code",
   "execution_count": 25,
   "metadata": {},
   "outputs": [
    {
     "data": {
      "text/html": [
       "\n",
       "        <iframe\n",
       "            width=\"900\"\n",
       "            height=\"400\"\n",
       "            src=\"./models/res50Net_cifar10_noaug.pdf\"\n",
       "            frameborder=\"0\"\n",
       "            allowfullscreen\n",
       "        ></iframe>\n",
       "        "
      ],
      "text/plain": [
       "<IPython.lib.display.IFrame at 0x7f04e82d8220>"
      ]
     },
     "execution_count": 25,
     "metadata": {},
     "output_type": "execute_result"
    }
   ],
   "source": [
    "IFrame(\"./models/res50Net_cifar10_noaug.pdf\", width=900, height=400)"
   ]
  },
  {
   "cell_type": "markdown",
   "metadata": {},
   "source": [
    "## Res50Net augmented"
   ]
  },
  {
   "cell_type": "code",
   "execution_count": 26,
   "metadata": {},
   "outputs": [],
   "source": [
    "# Cifar10 has 10 classes\n",
    "N_CLASSES = 10\n",
    "# our input dimensions\n",
    "INSHAPE = 32, 32, 3"
   ]
  },
  {
   "cell_type": "code",
   "execution_count": 27,
   "metadata": {},
   "outputs": [],
   "source": [
    "x_test, y_test, y_test1H = load_cifar10(scaled=False)"
   ]
  },
  {
   "cell_type": "code",
   "execution_count": 28,
   "metadata": {},
   "outputs": [
    {
     "name": "stdout",
     "output_type": "stream",
     "text": [
      "313/313 [==============================] - 37s 109ms/step - loss: 1.0383 - accuracy: 0.6469\n",
      "{'loss': 1.038275122642517, 'accuracy': 0.6468999981880188}\n"
     ]
    }
   ],
   "source": [
    "tf.keras.backend.clear_session()\n",
    "model = res50Net_transfer(INSHAPE, N_CLASSES, frozen_layers=168, \n",
    "                          final_layers=[256, 128, 64])\n",
    "model.build(x_test.shape)\n",
    "model.load_weights(os.path.join('models','res50Net_cifar10_aug.h5'))\n",
    "\n",
    "# Evaluate the model\n",
    "test_res = model.evaluate(x_test , y_test1H)\n",
    "\n",
    "# Print the results as a dictionary {<metric name>: <value>}\n",
    "test_res_dict = dict(zip(model.metrics_names, test_res))\n",
    "print(test_res_dict)"
   ]
  },
  {
   "cell_type": "code",
   "execution_count": 29,
   "metadata": {},
   "outputs": [],
   "source": [
    "# plot confusion matrix\n",
    "p_test = model.predict(x_test).argmax(axis=1)\n",
    "cm = confusion_matrix(y_test, p_test)"
   ]
  },
  {
   "cell_type": "code",
   "execution_count": 30,
   "metadata": {},
   "outputs": [
    {
     "name": "stdout",
     "output_type": "stream",
     "text": [
      "Confusion matrix, without normalization\n",
      "[[709  26  30  18  19   8   9  24 111  46]\n",
      " [ 26 733   2  17   2  11  19  12  47 131]\n",
      " [ 74  19 499  57  84  47 144  53  18   5]\n",
      " [ 14  51  59 460  36 114 166  62  12  26]\n",
      " [ 25  10  48  42 542  14 176 105  19  19]\n",
      " [ 12  24  35 178  39 522  87  73   6  24]\n",
      " [  6  18  36  32  37  26 827   7   4   7]\n",
      " [ 29  19  11  46  69  35  27 715   7  42]\n",
      " [ 83  62   4   6  10   1   4   9 763  58]\n",
      " [ 32 143   2  19   8  10  10  30  47 699]]\n"
     ]
    },
    {
     "data": {
      "image/png": "[encoded data removed]",
      "text/plain": [
       "<Figure size 576x576 with 2 Axes>"
      ]
     },
     "metadata": {
      "needs_background": "light"
     },
     "output_type": "display_data"
    }
   ],
   "source": [
    "plot_confusion_matrix_cifar10(cm, list(range(10)),\n",
    "                          title='Confusion matrix Res50Net augmented',\n",
    "                          saveas='res50Net_cifar10_aug_confmat',\n",
    "                          cmap=plt.cm.Blues)"
   ]
  },
  {
   "cell_type": "code",
   "execution_count": 31,
   "metadata": {},
   "outputs": [
    {
     "name": "stdout",
     "output_type": "stream",
     "text": [
      "\n",
      " least correct predictions\n"
     ]
    },
    {
     "data": {
      "text/html": [
       "<div>\n",
       "<style scoped>\n",
       "    .dataframe tbody tr th:only-of-type {\n",
       "        vertical-align: middle;\n",
       "    }\n",
       "\n",
       "    .dataframe tbody tr th {\n",
       "        vertical-align: top;\n",
       "    }\n",
       "\n",
       "    .dataframe thead th {\n",
       "        text-align: right;\n",
       "    }\n",
       "</style>\n",
       "<table border=\"1\" class=\"dataframe\">\n",
       "  <thead>\n",
       "    <tr style=\"text-align: right;\">\n",
       "      <th></th>\n",
       "      <th>label</th>\n",
       "      <th>times correct predicted</th>\n",
       "    </tr>\n",
       "  </thead>\n",
       "  <tbody>\n",
       "    <tr>\n",
       "      <th>0</th>\n",
       "      <td>cat</td>\n",
       "      <td>460</td>\n",
       "    </tr>\n",
       "    <tr>\n",
       "      <th>1</th>\n",
       "      <td>bird</td>\n",
       "      <td>499</td>\n",
       "    </tr>\n",
       "    <tr>\n",
       "      <th>2</th>\n",
       "      <td>dog</td>\n",
       "      <td>522</td>\n",
       "    </tr>\n",
       "    <tr>\n",
       "      <th>3</th>\n",
       "      <td>deer</td>\n",
       "      <td>542</td>\n",
       "    </tr>\n",
       "    <tr>\n",
       "      <th>4</th>\n",
       "      <td>truck</td>\n",
       "      <td>699</td>\n",
       "    </tr>\n",
       "    <tr>\n",
       "      <th>5</th>\n",
       "      <td>plane</td>\n",
       "      <td>709</td>\n",
       "    </tr>\n",
       "    <tr>\n",
       "      <th>6</th>\n",
       "      <td>horse</td>\n",
       "      <td>715</td>\n",
       "    </tr>\n",
       "    <tr>\n",
       "      <th>7</th>\n",
       "      <td>car</td>\n",
       "      <td>733</td>\n",
       "    </tr>\n",
       "    <tr>\n",
       "      <th>8</th>\n",
       "      <td>ship</td>\n",
       "      <td>763</td>\n",
       "    </tr>\n",
       "    <tr>\n",
       "      <th>9</th>\n",
       "      <td>frog</td>\n",
       "      <td>827</td>\n",
       "    </tr>\n",
       "  </tbody>\n",
       "</table>\n",
       "</div>"
      ],
      "text/plain": [
       "   label  times correct predicted\n",
       "0    cat                      460\n",
       "1   bird                      499\n",
       "2    dog                      522\n",
       "3   deer                      542\n",
       "4  truck                      699\n",
       "5  plane                      709\n",
       "6  horse                      715\n",
       "7    car                      733\n",
       "8   ship                      763\n",
       "9   frog                      827"
      ]
     },
     "metadata": {},
     "output_type": "display_data"
    },
    {
     "name": "stdout",
     "output_type": "stream",
     "text": [
      "\n",
      " most correct predictions, labels, times correct predicted:\n"
     ]
    },
    {
     "data": {
      "text/html": [
       "<div>\n",
       "<style scoped>\n",
       "    .dataframe tbody tr th:only-of-type {\n",
       "        vertical-align: middle;\n",
       "    }\n",
       "\n",
       "    .dataframe tbody tr th {\n",
       "        vertical-align: top;\n",
       "    }\n",
       "\n",
       "    .dataframe thead th {\n",
       "        text-align: right;\n",
       "    }\n",
       "</style>\n",
       "<table border=\"1\" class=\"dataframe\">\n",
       "  <thead>\n",
       "    <tr style=\"text-align: right;\">\n",
       "      <th></th>\n",
       "      <th>label</th>\n",
       "      <th>times correct predicted</th>\n",
       "    </tr>\n",
       "  </thead>\n",
       "  <tbody>\n",
       "    <tr>\n",
       "      <th>0</th>\n",
       "      <td>cat</td>\n",
       "      <td>460</td>\n",
       "    </tr>\n",
       "    <tr>\n",
       "      <th>1</th>\n",
       "      <td>bird</td>\n",
       "      <td>499</td>\n",
       "    </tr>\n",
       "    <tr>\n",
       "      <th>2</th>\n",
       "      <td>dog</td>\n",
       "      <td>522</td>\n",
       "    </tr>\n",
       "    <tr>\n",
       "      <th>3</th>\n",
       "      <td>deer</td>\n",
       "      <td>542</td>\n",
       "    </tr>\n",
       "    <tr>\n",
       "      <th>4</th>\n",
       "      <td>truck</td>\n",
       "      <td>699</td>\n",
       "    </tr>\n",
       "    <tr>\n",
       "      <th>5</th>\n",
       "      <td>plane</td>\n",
       "      <td>709</td>\n",
       "    </tr>\n",
       "    <tr>\n",
       "      <th>6</th>\n",
       "      <td>horse</td>\n",
       "      <td>715</td>\n",
       "    </tr>\n",
       "    <tr>\n",
       "      <th>7</th>\n",
       "      <td>car</td>\n",
       "      <td>733</td>\n",
       "    </tr>\n",
       "    <tr>\n",
       "      <th>8</th>\n",
       "      <td>ship</td>\n",
       "      <td>763</td>\n",
       "    </tr>\n",
       "    <tr>\n",
       "      <th>9</th>\n",
       "      <td>frog</td>\n",
       "      <td>827</td>\n",
       "    </tr>\n",
       "  </tbody>\n",
       "</table>\n",
       "</div>"
      ],
      "text/plain": [
       "   label  times correct predicted\n",
       "0    cat                      460\n",
       "1   bird                      499\n",
       "2    dog                      522\n",
       "3   deer                      542\n",
       "4  truck                      699\n",
       "5  plane                      709\n",
       "6  horse                      715\n",
       "7    car                      733\n",
       "8   ship                      763\n",
       "9   frog                      827"
      ]
     },
     "metadata": {},
     "output_type": "display_data"
    },
    {
     "name": "stdout",
     "output_type": "stream",
     "text": [
      "\n",
      " most confused labels:\n"
     ]
    },
    {
     "data": {
      "text/html": [
       "<div>\n",
       "<style scoped>\n",
       "    .dataframe tbody tr th:only-of-type {\n",
       "        vertical-align: middle;\n",
       "    }\n",
       "\n",
       "    .dataframe tbody tr th {\n",
       "        vertical-align: top;\n",
       "    }\n",
       "\n",
       "    .dataframe thead th {\n",
       "        text-align: right;\n",
       "    }\n",
       "</style>\n",
       "<table border=\"1\" class=\"dataframe\">\n",
       "  <thead>\n",
       "    <tr style=\"text-align: right;\">\n",
       "      <th></th>\n",
       "      <th>times confused</th>\n",
       "      <th>actual label</th>\n",
       "      <th>predicted label</th>\n",
       "    </tr>\n",
       "  </thead>\n",
       "  <tbody>\n",
       "    <tr>\n",
       "      <th>0</th>\n",
       "      <td>178</td>\n",
       "      <td>dog</td>\n",
       "      <td>cat</td>\n",
       "    </tr>\n",
       "    <tr>\n",
       "      <th>1</th>\n",
       "      <td>176</td>\n",
       "      <td>deer</td>\n",
       "      <td>frog</td>\n",
       "    </tr>\n",
       "    <tr>\n",
       "      <th>2</th>\n",
       "      <td>166</td>\n",
       "      <td>cat</td>\n",
       "      <td>frog</td>\n",
       "    </tr>\n",
       "    <tr>\n",
       "      <th>3</th>\n",
       "      <td>144</td>\n",
       "      <td>bird</td>\n",
       "      <td>frog</td>\n",
       "    </tr>\n",
       "    <tr>\n",
       "      <th>4</th>\n",
       "      <td>143</td>\n",
       "      <td>truck</td>\n",
       "      <td>car</td>\n",
       "    </tr>\n",
       "    <tr>\n",
       "      <th>5</th>\n",
       "      <td>131</td>\n",
       "      <td>car</td>\n",
       "      <td>truck</td>\n",
       "    </tr>\n",
       "    <tr>\n",
       "      <th>6</th>\n",
       "      <td>114</td>\n",
       "      <td>cat</td>\n",
       "      <td>dog</td>\n",
       "    </tr>\n",
       "    <tr>\n",
       "      <th>7</th>\n",
       "      <td>111</td>\n",
       "      <td>plane</td>\n",
       "      <td>ship</td>\n",
       "    </tr>\n",
       "    <tr>\n",
       "      <th>8</th>\n",
       "      <td>105</td>\n",
       "      <td>deer</td>\n",
       "      <td>horse</td>\n",
       "    </tr>\n",
       "    <tr>\n",
       "      <th>9</th>\n",
       "      <td>87</td>\n",
       "      <td>dog</td>\n",
       "      <td>frog</td>\n",
       "    </tr>\n",
       "  </tbody>\n",
       "</table>\n",
       "</div>"
      ],
      "text/plain": [
       "   times confused actual label predicted label\n",
       "0             178          dog             cat\n",
       "1             176         deer            frog\n",
       "2             166          cat            frog\n",
       "3             144         bird            frog\n",
       "4             143        truck             car\n",
       "5             131          car           truck\n",
       "6             114          cat             dog\n",
       "7             111        plane            ship\n",
       "8             105         deer           horse\n",
       "9              87          dog            frog"
      ]
     },
     "metadata": {},
     "output_type": "display_data"
    },
    {
     "name": "stdout",
     "output_type": "stream",
     "text": [
      "\n",
      " most true negatives\n"
     ]
    },
    {
     "data": {
      "text/html": [
       "<div>\n",
       "<style scoped>\n",
       "    .dataframe tbody tr th:only-of-type {\n",
       "        vertical-align: middle;\n",
       "    }\n",
       "\n",
       "    .dataframe tbody tr th {\n",
       "        vertical-align: top;\n",
       "    }\n",
       "\n",
       "    .dataframe thead th {\n",
       "        text-align: right;\n",
       "    }\n",
       "</style>\n",
       "<table border=\"1\" class=\"dataframe\">\n",
       "  <thead>\n",
       "    <tr style=\"text-align: right;\">\n",
       "      <th></th>\n",
       "      <th>label</th>\n",
       "      <th>times wrong predicted</th>\n",
       "    </tr>\n",
       "  </thead>\n",
       "  <tbody>\n",
       "    <tr>\n",
       "      <th>0</th>\n",
       "      <td>bird</td>\n",
       "      <td>227</td>\n",
       "    </tr>\n",
       "    <tr>\n",
       "      <th>1</th>\n",
       "      <td>dog</td>\n",
       "      <td>266</td>\n",
       "    </tr>\n",
       "    <tr>\n",
       "      <th>2</th>\n",
       "      <td>ship</td>\n",
       "      <td>271</td>\n",
       "    </tr>\n",
       "    <tr>\n",
       "      <th>3</th>\n",
       "      <td>plane</td>\n",
       "      <td>301</td>\n",
       "    </tr>\n",
       "    <tr>\n",
       "      <th>4</th>\n",
       "      <td>deer</td>\n",
       "      <td>304</td>\n",
       "    </tr>\n",
       "    <tr>\n",
       "      <th>5</th>\n",
       "      <td>truck</td>\n",
       "      <td>358</td>\n",
       "    </tr>\n",
       "    <tr>\n",
       "      <th>6</th>\n",
       "      <td>car</td>\n",
       "      <td>372</td>\n",
       "    </tr>\n",
       "    <tr>\n",
       "      <th>7</th>\n",
       "      <td>horse</td>\n",
       "      <td>375</td>\n",
       "    </tr>\n",
       "    <tr>\n",
       "      <th>8</th>\n",
       "      <td>cat</td>\n",
       "      <td>415</td>\n",
       "    </tr>\n",
       "    <tr>\n",
       "      <th>9</th>\n",
       "      <td>frog</td>\n",
       "      <td>642</td>\n",
       "    </tr>\n",
       "  </tbody>\n",
       "</table>\n",
       "</div>"
      ],
      "text/plain": [
       "   label  times wrong predicted\n",
       "0   bird                    227\n",
       "1    dog                    266\n",
       "2   ship                    271\n",
       "3  plane                    301\n",
       "4   deer                    304\n",
       "5  truck                    358\n",
       "6    car                    372\n",
       "7  horse                    375\n",
       "8    cat                    415\n",
       "9   frog                    642"
      ]
     },
     "metadata": {},
     "output_type": "display_data"
    },
    {
     "name": "stdout",
     "output_type": "stream",
     "text": [
      "\n",
      " biggest std for column (for which classes the cnn was not very percice):\n"
     ]
    },
    {
     "data": {
      "text/html": [
       "<div>\n",
       "<style scoped>\n",
       "    .dataframe tbody tr th:only-of-type {\n",
       "        vertical-align: middle;\n",
       "    }\n",
       "\n",
       "    .dataframe tbody tr th {\n",
       "        vertical-align: top;\n",
       "    }\n",
       "\n",
       "    .dataframe thead th {\n",
       "        text-align: right;\n",
       "    }\n",
       "</style>\n",
       "<table border=\"1\" class=\"dataframe\">\n",
       "  <thead>\n",
       "    <tr style=\"text-align: right;\">\n",
       "      <th></th>\n",
       "      <th>0</th>\n",
       "      <th>1</th>\n",
       "      <th>2</th>\n",
       "      <th>3</th>\n",
       "      <th>4</th>\n",
       "      <th>5</th>\n",
       "      <th>6</th>\n",
       "      <th>7</th>\n",
       "      <th>8</th>\n",
       "      <th>9</th>\n",
       "    </tr>\n",
       "  </thead>\n",
       "  <tbody>\n",
       "    <tr>\n",
       "      <th>times label</th>\n",
       "      <td>bird</td>\n",
       "      <td>plane</td>\n",
       "      <td>deer</td>\n",
       "      <td>horse</td>\n",
       "      <td>ship</td>\n",
       "      <td>dog</td>\n",
       "      <td>truck</td>\n",
       "      <td>car</td>\n",
       "      <td>cat</td>\n",
       "      <td>frog</td>\n",
       "    </tr>\n",
       "  </tbody>\n",
       "</table>\n",
       "</div>"
      ],
      "text/plain": [
       "                0      1     2      3     4    5      6    7    8     9\n",
       "times label  bird  plane  deer  horse  ship  dog  truck  car  cat  frog"
      ]
     },
     "metadata": {},
     "output_type": "display_data"
    }
   ],
   "source": [
    "analyze_predictions_Cifar10(cm)"
   ]
  },
  {
   "cell_type": "code",
   "execution_count": 32,
   "metadata": {},
   "outputs": [
    {
     "data": {
      "text/html": [
       "\n",
       "        <iframe\n",
       "            width=\"900\"\n",
       "            height=\"400\"\n",
       "            src=\"./models/res50Net_cifar10_aug.pdf\"\n",
       "            frameborder=\"0\"\n",
       "            allowfullscreen\n",
       "        ></iframe>\n",
       "        "
      ],
      "text/plain": [
       "<IPython.lib.display.IFrame at 0x7f04e81a4cd0>"
      ]
     },
     "execution_count": 32,
     "metadata": {},
     "output_type": "execute_result"
    }
   ],
   "source": [
    "IFrame(\"./models/res50Net_cifar10_aug.pdf\", width=900, height=400)"
   ]
  },
  {
   "cell_type": "markdown",
   "metadata": {},
   "source": [
    "# Tiny-ImageNet"
   ]
  },
  {
   "cell_type": "code",
   "execution_count": 33,
   "metadata": {},
   "outputs": [],
   "source": [
    "from functools import partial\n",
    "from keras.preprocessing.image import ImageDataGenerator\n",
    "import os\n",
    "import requests\n",
    "import zipfile\n",
    "def load_TIN(batchsize=10000):\n",
    "    \n",
    "    # Retrieve the data\n",
    "    if not os.path.exists(os.path.join('data','tiny-imagenet-200.zip')):\n",
    "        url = \"http://cs231n.stanford.edu/tiny-imagenet-200.zip\"\n",
    "        # Get the file from web\n",
    "        r = requests.get(url)\n",
    "\n",
    "        if not os.path.exists('data'):\n",
    "            os.mkdir('data')\n",
    "\n",
    "      # Write to a file\n",
    "        with open(os.path.join('data','tiny-imagenet-200.zip'), 'wb') as f:\n",
    "            f.write(r.content)\n",
    "    else:\n",
    "          print(\"The zip file already exists.\")\n",
    "\n",
    "    if not os.path.exists(os.path.join('data', 'tiny-imagenet-200')):\n",
    "        with zipfile.ZipFile(os.path.join('data','tiny-imagenet-200.zip'), 'r') as zip_ref:\n",
    "            zip_ref.extractall('data')\n",
    "    else:\n",
    "        print(\"The extracted data already exists\")\n",
    "    \n",
    "    def get_test_labels_df(test_labels_path):\n",
    "        \"\"\" Reading the test data labels for all files in the test set as a data frame \"\"\"\n",
    "        test_df = pd.read_csv(test_labels_path, sep='\\t', index_col=None, header=None)\n",
    "        test_df = test_df.iloc[:,[0,1]].rename({0:\"filename\", 1:\"class\"}, axis=1)\n",
    "        return test_df\n",
    "\n",
    "    image_gen = ImageDataGenerator(samplewise_center=False)\n",
    "    test_df = get_test_labels_df('./data/tiny-imagenet-200/val/val_annotations.txt')\n",
    "    test_gen = image_gen.flow_from_dataframe(\n",
    "        test_df, directory=os.path.join('./data/tiny-imagenet-200/val/images'), \n",
    "        target_size=PICTURE_SHAPE, classes=None,\n",
    "        class_mode='categorical', shuffle=False,batch_size=batchsize\n",
    "    )\n",
    "    return test_gen"
   ]
  },
  {
   "cell_type": "code",
   "execution_count": 34,
   "metadata": {},
   "outputs": [],
   "source": [
    "def plot_confusion_matrix_TIN(cm,\n",
    "                          title='Confusion matrix',\n",
    "                          cmap=plt.cm.jet,\n",
    "                          saveas=\"confmat\"):\n",
    "    figure = plt.figure(1, figsize= (8, 8))\n",
    "    ticks=[0, 50, 100, 150, 199]\n",
    "    plt.imshow(cm, interpolation='none',cmap=cmap)\n",
    "    plt.clim(0, 50)\n",
    "    plt.colorbar()\n",
    "    plt.xticks(ticks,fontsize=16)\n",
    "    plt.yticks(ticks,fontsize=16)\n",
    "    plt.tight_layout()\n",
    "    plt.title(title,fontsize=16)\n",
    "    plt.ylabel('True label',fontsize=16)\n",
    "    plt.xlabel('Predicted label',fontsize=16)\n",
    "    figure.savefig(saveas+\".pdf\", bbox_inches='tight')\n",
    "    plt.show()"
   ]
  },
  {
   "cell_type": "code",
   "execution_count": 35,
   "metadata": {},
   "outputs": [],
   "source": [
    "import pandas as pd\n",
    "def analyze_predictions_TIN(cm):\n",
    "    TP_order = np.argsort(cm.diagonal())\n",
    "    dt = pd.read_csv('./data/tiny-imagenet-200/words.txt', index_col=0, skiprows=1, sep='\\t',).T\n",
    "    labels = []\n",
    "    for key in test_gen.class_indices.keys():\n",
    "        labels.append(dt[key][0].split(\",\")[0])\n",
    "    labels = np.array(labels)\n",
    "\n",
    "    print(\"\\n least correct predictions\")\n",
    "    df_wrong = pd.DataFrame(zip(labels[TP_order[:10]], cm.diagonal()[TP_order[:10]]),\n",
    "                   columns =['label', 'correct amount'])\n",
    "    display(df_wrong)\n",
    "\n",
    "    print(\"\\n most correct predictions, labels, times correct predicted:\")\n",
    "    df_correct = pd.DataFrame(zip(labels[TP_order[-10:]][::-1], cm.diagonal()[TP_order[-10:]][::-1]),\n",
    "                   columns =['label', 'correct amount'])\n",
    "    display(df_correct)\n",
    "\n",
    "    print(\"\\n most confused labels:\")\n",
    "    cm_nodiag = cm-np.diag(cm.diagonal())\n",
    "    ind = np.unravel_index(np.argsort(cm_nodiag, axis=None), cm_nodiag.shape)\n",
    "    conf_labels = []\n",
    "    for n in range(1,11):\n",
    "        conf_labels.append([ labels[ind[0][-n]], labels[ind[1][-n]], cm_nodiag[ind[0][-n],ind[1][-n]]])\n",
    "    df_conf = pd.DataFrame(conf_labels,\n",
    "                   columns =['actual label', 'predicted label','times confused'])\n",
    "    display(df_conf)\n",
    "\n",
    "    print(\"\\n biggest std for column (for which classes the cnn was not very percice):\")\n",
    "    ind_std = np.argsort(  (cm_nodiag + np.diag(cm_nodiag.mean(axis=0))).std(axis=0) )\n",
    "    df_unsure = pd.DataFrame(labels[ind_std[-10:]],\n",
    "                   columns =['times label']).T\n",
    "    display(df_unsure)\n",
    "    \n",
    "    print(pd.concat([df_wrong, df_correct, df_conf], axis=1).to_latex(index=False))"
   ]
  },
  {
   "cell_type": "markdown",
   "metadata": {},
   "source": [
    "## squeeze net not augmented "
   ]
  },
  {
   "cell_type": "code",
   "execution_count": 36,
   "metadata": {
    "id": "QpsSA-6-AyE8"
   },
   "outputs": [],
   "source": [
    "# TinyIageNet has 200 classes\n",
    "N_CLASSES = 200\n",
    "# our input dimensions\n",
    "INSHAPE = 64, 64, 3\n",
    "PICTURE_SHAPE = INSHAPE[0], INSHAPE[1]"
   ]
  },
  {
   "cell_type": "code",
   "execution_count": 37,
   "metadata": {
    "id": "jDwNse4MAcCT"
   },
   "outputs": [
    {
     "name": "stdout",
     "output_type": "stream",
     "text": [
      "Found 10000 validated image filenames belonging to 200 classes.\n"
     ]
    }
   ],
   "source": [
    "test_gen = load_TIN()"
   ]
  },
  {
   "cell_type": "code",
   "execution_count": 38,
   "metadata": {
    "id": "ymM1R5KEATLt"
   },
   "outputs": [],
   "source": [
    "tf.keras.backend.clear_session()\n",
    "# Load the model from disk\n",
    "model = load_model(os.path.join('models','squeezeNetTIN_noaug.h5'))"
   ]
  },
  {
   "cell_type": "code",
   "execution_count": 39,
   "metadata": {
    "colab": {
     "base_uri": "https://localhost:8080/"
    },
    "id": "Y5hwFk-pCBZC",
    "outputId": "e89c63bd-b899-401a-fc2a-04cdb3a46791"
   },
   "outputs": [
    {
     "name": "stdout",
     "output_type": "stream",
     "text": [
      "1/1 [==============================] - 31s 31s/step - loss: 3.2492 - accuracy: 0.3126\n",
      "{'loss': 3.249164342880249, 'accuracy': 0.3125999867916107}\n"
     ]
    }
   ],
   "source": [
    "# Evaluate the model\n",
    "test_res = model.evaluate(test_gen)\n",
    "# Print the results as a dictionary {<metric name>: <value>}\n",
    "test_res_dict = dict(zip(model.metrics_names, test_res))\n",
    "print(test_res_dict)"
   ]
  },
  {
   "cell_type": "code",
   "execution_count": 40,
   "metadata": {},
   "outputs": [],
   "source": [
    "p_test = model.predict(test_gen[0][0]).argmax(axis=1)\n",
    "cm = confusion_matrix(np.argmax(test_gen[0][1],axis=1), p_test)"
   ]
  },
  {
   "cell_type": "code",
   "execution_count": 41,
   "metadata": {},
   "outputs": [
    {
     "data": {
      "image/png": "[encoded data removed]",
      "text/plain": [
       "<Figure size 576x576 with 2 Axes>"
      ]
     },
     "metadata": {
      "needs_background": "light"
     },
     "output_type": "display_data"
    }
   ],
   "source": [
    "plot_confusion_matrix_TIN(cm,title='Confusion matrix SqueezeNet not augmented',\n",
    "                          saveas='squeezeNet_TIN_noaug_confmat',)"
   ]
  },
  {
   "cell_type": "code",
   "execution_count": 42,
   "metadata": {},
   "outputs": [
    {
     "data": {
      "text/html": [
       "\n",
       "        <iframe\n",
       "            width=\"900\"\n",
       "            height=\"400\"\n",
       "            src=\"./models/squeezeNetTIN_noaug.pdf\"\n",
       "            frameborder=\"0\"\n",
       "            allowfullscreen\n",
       "        ></iframe>\n",
       "        "
      ],
      "text/plain": [
       "<IPython.lib.display.IFrame at 0x7f04c9baa970>"
      ]
     },
     "execution_count": 42,
     "metadata": {},
     "output_type": "execute_result"
    }
   ],
   "source": [
    "IFrame(\"./models/squeezeNetTIN_noaug.pdf\", width=900, height=400)"
   ]
  },
  {
   "cell_type": "code",
   "execution_count": 43,
   "metadata": {},
   "outputs": [
    {
     "name": "stdout",
     "output_type": "stream",
     "text": [
      "\n",
      " least correct predictions\n"
     ]
    },
    {
     "data": {
      "text/html": [
       "<div>\n",
       "<style scoped>\n",
       "    .dataframe tbody tr th:only-of-type {\n",
       "        vertical-align: middle;\n",
       "    }\n",
       "\n",
       "    .dataframe tbody tr th {\n",
       "        vertical-align: top;\n",
       "    }\n",
       "\n",
       "    .dataframe thead th {\n",
       "        text-align: right;\n",
       "    }\n",
       "</style>\n",
       "<table border=\"1\" class=\"dataframe\">\n",
       "  <thead>\n",
       "    <tr style=\"text-align: right;\">\n",
       "      <th></th>\n",
       "      <th>label</th>\n",
       "      <th>correct amount</th>\n",
       "    </tr>\n",
       "  </thead>\n",
       "  <tbody>\n",
       "    <tr>\n",
       "      <th>0</th>\n",
       "      <td>wooden spoon</td>\n",
       "      <td>0</td>\n",
       "    </tr>\n",
       "    <tr>\n",
       "      <th>1</th>\n",
       "      <td>teddy</td>\n",
       "      <td>1</td>\n",
       "    </tr>\n",
       "    <tr>\n",
       "      <th>2</th>\n",
       "      <td>Labrador retriever</td>\n",
       "      <td>1</td>\n",
       "    </tr>\n",
       "    <tr>\n",
       "      <th>3</th>\n",
       "      <td>plunger</td>\n",
       "      <td>1</td>\n",
       "    </tr>\n",
       "    <tr>\n",
       "      <th>4</th>\n",
       "      <td>umbrella</td>\n",
       "      <td>1</td>\n",
       "    </tr>\n",
       "    <tr>\n",
       "      <th>5</th>\n",
       "      <td>broom</td>\n",
       "      <td>2</td>\n",
       "    </tr>\n",
       "    <tr>\n",
       "      <th>6</th>\n",
       "      <td>bucket</td>\n",
       "      <td>3</td>\n",
       "    </tr>\n",
       "    <tr>\n",
       "      <th>7</th>\n",
       "      <td>fountain</td>\n",
       "      <td>3</td>\n",
       "    </tr>\n",
       "    <tr>\n",
       "      <th>8</th>\n",
       "      <td>potter's wheel</td>\n",
       "      <td>3</td>\n",
       "    </tr>\n",
       "    <tr>\n",
       "      <th>9</th>\n",
       "      <td>chain</td>\n",
       "      <td>3</td>\n",
       "    </tr>\n",
       "  </tbody>\n",
       "</table>\n",
       "</div>"
      ],
      "text/plain": [
       "                label  correct amount\n",
       "0        wooden spoon               0\n",
       "1               teddy               1\n",
       "2  Labrador retriever               1\n",
       "3             plunger               1\n",
       "4            umbrella               1\n",
       "5               broom               2\n",
       "6              bucket               3\n",
       "7            fountain               3\n",
       "8      potter's wheel               3\n",
       "9               chain               3"
      ]
     },
     "metadata": {},
     "output_type": "display_data"
    },
    {
     "name": "stdout",
     "output_type": "stream",
     "text": [
      "\n",
      " most correct predictions, labels, times correct predicted:\n"
     ]
    },
    {
     "data": {
      "text/html": [
       "<div>\n",
       "<style scoped>\n",
       "    .dataframe tbody tr th:only-of-type {\n",
       "        vertical-align: middle;\n",
       "    }\n",
       "\n",
       "    .dataframe tbody tr th {\n",
       "        vertical-align: top;\n",
       "    }\n",
       "\n",
       "    .dataframe thead th {\n",
       "        text-align: right;\n",
       "    }\n",
       "</style>\n",
       "<table border=\"1\" class=\"dataframe\">\n",
       "  <thead>\n",
       "    <tr style=\"text-align: right;\">\n",
       "      <th></th>\n",
       "      <th>label</th>\n",
       "      <th>correct amount</th>\n",
       "    </tr>\n",
       "  </thead>\n",
       "  <tbody>\n",
       "    <tr>\n",
       "      <th>0</th>\n",
       "      <td>dugong</td>\n",
       "      <td>36</td>\n",
       "    </tr>\n",
       "    <tr>\n",
       "      <th>1</th>\n",
       "      <td>rugby ball</td>\n",
       "      <td>36</td>\n",
       "    </tr>\n",
       "    <tr>\n",
       "      <th>2</th>\n",
       "      <td>school bus</td>\n",
       "      <td>35</td>\n",
       "    </tr>\n",
       "    <tr>\n",
       "      <th>3</th>\n",
       "      <td>monarch</td>\n",
       "      <td>35</td>\n",
       "    </tr>\n",
       "    <tr>\n",
       "      <th>4</th>\n",
       "      <td>goldfish</td>\n",
       "      <td>34</td>\n",
       "    </tr>\n",
       "    <tr>\n",
       "      <th>5</th>\n",
       "      <td>brass</td>\n",
       "      <td>34</td>\n",
       "    </tr>\n",
       "    <tr>\n",
       "      <th>6</th>\n",
       "      <td>lifeboat</td>\n",
       "      <td>34</td>\n",
       "    </tr>\n",
       "    <tr>\n",
       "      <th>7</th>\n",
       "      <td>sulphur butterfly</td>\n",
       "      <td>34</td>\n",
       "    </tr>\n",
       "    <tr>\n",
       "      <th>8</th>\n",
       "      <td>obelisk</td>\n",
       "      <td>32</td>\n",
       "    </tr>\n",
       "    <tr>\n",
       "      <th>9</th>\n",
       "      <td>espresso</td>\n",
       "      <td>31</td>\n",
       "    </tr>\n",
       "  </tbody>\n",
       "</table>\n",
       "</div>"
      ],
      "text/plain": [
       "               label  correct amount\n",
       "0             dugong              36\n",
       "1         rugby ball              36\n",
       "2         school bus              35\n",
       "3            monarch              35\n",
       "4           goldfish              34\n",
       "5              brass              34\n",
       "6           lifeboat              34\n",
       "7  sulphur butterfly              34\n",
       "8            obelisk              32\n",
       "9           espresso              31"
      ]
     },
     "metadata": {},
     "output_type": "display_data"
    },
    {
     "name": "stdout",
     "output_type": "stream",
     "text": [
      "\n",
      " most confused labels:\n"
     ]
    },
    {
     "data": {
      "text/html": [
       "<div>\n",
       "<style scoped>\n",
       "    .dataframe tbody tr th:only-of-type {\n",
       "        vertical-align: middle;\n",
       "    }\n",
       "\n",
       "    .dataframe tbody tr th {\n",
       "        vertical-align: top;\n",
       "    }\n",
       "\n",
       "    .dataframe thead th {\n",
       "        text-align: right;\n",
       "    }\n",
       "</style>\n",
       "<table border=\"1\" class=\"dataframe\">\n",
       "  <thead>\n",
       "    <tr style=\"text-align: right;\">\n",
       "      <th></th>\n",
       "      <th>actual label</th>\n",
       "      <th>predicted label</th>\n",
       "      <th>times confused</th>\n",
       "    </tr>\n",
       "  </thead>\n",
       "  <tbody>\n",
       "    <tr>\n",
       "      <th>0</th>\n",
       "      <td>sports car</td>\n",
       "      <td>convertible</td>\n",
       "      <td>10</td>\n",
       "    </tr>\n",
       "    <tr>\n",
       "      <th>1</th>\n",
       "      <td>convertible</td>\n",
       "      <td>beach wagon</td>\n",
       "      <td>9</td>\n",
       "    </tr>\n",
       "    <tr>\n",
       "      <th>2</th>\n",
       "      <td>altar</td>\n",
       "      <td>organ</td>\n",
       "      <td>8</td>\n",
       "    </tr>\n",
       "    <tr>\n",
       "      <th>3</th>\n",
       "      <td>mashed potato</td>\n",
       "      <td>potpie</td>\n",
       "      <td>7</td>\n",
       "    </tr>\n",
       "    <tr>\n",
       "      <th>4</th>\n",
       "      <td>goose</td>\n",
       "      <td>black stork</td>\n",
       "      <td>7</td>\n",
       "    </tr>\n",
       "    <tr>\n",
       "      <th>5</th>\n",
       "      <td>fly</td>\n",
       "      <td>bee</td>\n",
       "      <td>7</td>\n",
       "    </tr>\n",
       "    <tr>\n",
       "      <th>6</th>\n",
       "      <td>police van</td>\n",
       "      <td>limousine</td>\n",
       "      <td>7</td>\n",
       "    </tr>\n",
       "    <tr>\n",
       "      <th>7</th>\n",
       "      <td>lemon</td>\n",
       "      <td>banana</td>\n",
       "      <td>7</td>\n",
       "    </tr>\n",
       "    <tr>\n",
       "      <th>8</th>\n",
       "      <td>coral reef</td>\n",
       "      <td>brain coral</td>\n",
       "      <td>7</td>\n",
       "    </tr>\n",
       "    <tr>\n",
       "      <th>9</th>\n",
       "      <td>beach wagon</td>\n",
       "      <td>convertible</td>\n",
       "      <td>7</td>\n",
       "    </tr>\n",
       "  </tbody>\n",
       "</table>\n",
       "</div>"
      ],
      "text/plain": [
       "    actual label predicted label  times confused\n",
       "0     sports car     convertible              10\n",
       "1    convertible     beach wagon               9\n",
       "2          altar           organ               8\n",
       "3  mashed potato          potpie               7\n",
       "4          goose     black stork               7\n",
       "5            fly             bee               7\n",
       "6     police van       limousine               7\n",
       "7          lemon          banana               7\n",
       "8     coral reef     brain coral               7\n",
       "9    beach wagon     convertible               7"
      ]
     },
     "metadata": {},
     "output_type": "display_data"
    },
    {
     "name": "stdout",
     "output_type": "stream",
     "text": [
      "\n",
      " biggest std for column (for which classes the cnn was not very percice):\n"
     ]
    },
    {
     "data": {
      "text/html": [
       "<div>\n",
       "<style scoped>\n",
       "    .dataframe tbody tr th:only-of-type {\n",
       "        vertical-align: middle;\n",
       "    }\n",
       "\n",
       "    .dataframe tbody tr th {\n",
       "        vertical-align: top;\n",
       "    }\n",
       "\n",
       "    .dataframe thead th {\n",
       "        text-align: right;\n",
       "    }\n",
       "</style>\n",
       "<table border=\"1\" class=\"dataframe\">\n",
       "  <thead>\n",
       "    <tr style=\"text-align: right;\">\n",
       "      <th></th>\n",
       "      <th>0</th>\n",
       "      <th>1</th>\n",
       "      <th>2</th>\n",
       "      <th>3</th>\n",
       "      <th>4</th>\n",
       "      <th>5</th>\n",
       "      <th>6</th>\n",
       "      <th>7</th>\n",
       "      <th>8</th>\n",
       "      <th>9</th>\n",
       "    </tr>\n",
       "  </thead>\n",
       "  <tbody>\n",
       "    <tr>\n",
       "      <th>times label</th>\n",
       "      <td>black stork</td>\n",
       "      <td>limousine</td>\n",
       "      <td>tarantula</td>\n",
       "      <td>kimono</td>\n",
       "      <td>seashore</td>\n",
       "      <td>organ</td>\n",
       "      <td>beach wagon</td>\n",
       "      <td>potpie</td>\n",
       "      <td>brown bear</td>\n",
       "      <td>convertible</td>\n",
       "    </tr>\n",
       "  </tbody>\n",
       "</table>\n",
       "</div>"
      ],
      "text/plain": [
       "                       0          1          2       3         4      5  \\\n",
       "times label  black stork  limousine  tarantula  kimono  seashore  organ   \n",
       "\n",
       "                       6       7           8            9  \n",
       "times label  beach wagon  potpie  brown bear  convertible  "
      ]
     },
     "metadata": {},
     "output_type": "display_data"
    },
    {
     "name": "stdout",
     "output_type": "stream",
     "text": [
      "\\begin{tabular}{lrlrllr}\n",
      "\\toprule\n",
      "             label &  correct amount &             label &  correct amount &  actual label & predicted label &  times confused \\\\\n",
      "\\midrule\n",
      "      wooden spoon &               0 &            dugong &              36 &    sports car &     convertible &              10 \\\\\n",
      "             teddy &               1 &        rugby ball &              36 &   convertible &     beach wagon &               9 \\\\\n",
      "Labrador retriever &               1 &        school bus &              35 &         altar &           organ &               8 \\\\\n",
      "           plunger &               1 &           monarch &              35 & mashed potato &          potpie &               7 \\\\\n",
      "          umbrella &               1 &          goldfish &              34 &         goose &     black stork &               7 \\\\\n",
      "             broom &               2 &             brass &              34 &           fly &             bee &               7 \\\\\n",
      "            bucket &               3 &          lifeboat &              34 &    police van &       limousine &               7 \\\\\n",
      "          fountain &               3 & sulphur butterfly &              34 &         lemon &          banana &               7 \\\\\n",
      "    potter's wheel &               3 &           obelisk &              32 &    coral reef &     brain coral &               7 \\\\\n",
      "             chain &               3 &          espresso &              31 &   beach wagon &     convertible &               7 \\\\\n",
      "\\bottomrule\n",
      "\\end{tabular}\n",
      "\n"
     ]
    }
   ],
   "source": [
    "analyze_predictions_TIN(cm)"
   ]
  },
  {
   "cell_type": "markdown",
   "metadata": {},
   "source": [
    "## squeeze net augmented "
   ]
  },
  {
   "cell_type": "code",
   "execution_count": 44,
   "metadata": {},
   "outputs": [],
   "source": [
    "# TinyIageNet has 200 classes\n",
    "N_CLASSES = 200\n",
    "# our input dimensions\n",
    "INSHAPE = 64, 64, 3\n",
    "PICTURE_SHAPE = INSHAPE[0], INSHAPE[1]"
   ]
  },
  {
   "cell_type": "code",
   "execution_count": 45,
   "metadata": {},
   "outputs": [
    {
     "name": "stdout",
     "output_type": "stream",
     "text": [
      "The zip file already exists.\n",
      "The extracted data already exists\n",
      "Found 10000 validated image filenames belonging to 200 classes.\n"
     ]
    }
   ],
   "source": [
    "test_gen = load_TIN()"
   ]
  },
  {
   "cell_type": "code",
   "execution_count": 46,
   "metadata": {},
   "outputs": [],
   "source": [
    "tf.keras.backend.clear_session()\n",
    "# Load the model from disk\n",
    "model = load_model(os.path.join('models','squeezeNetTIN_aug.h5'))"
   ]
  },
  {
   "cell_type": "code",
   "execution_count": 47,
   "metadata": {},
   "outputs": [
    {
     "name": "stdout",
     "output_type": "stream",
     "text": [
      "1/1 [==============================] - 28s 28s/step - loss: 3.0521 - accuracy: 0.3400\n",
      "{'loss': 3.05206298828125, 'accuracy': 0.3400000035762787}\n"
     ]
    }
   ],
   "source": [
    "# Evaluate the model\n",
    "test_res = model.evaluate(test_gen)\n",
    "# Print the results as a dictionary {<metric name>: <value>}\n",
    "test_res_dict = dict(zip(model.metrics_names, test_res))\n",
    "print(test_res_dict)"
   ]
  },
  {
   "cell_type": "code",
   "execution_count": 48,
   "metadata": {},
   "outputs": [],
   "source": [
    "p_test = model.predict(test_gen[0][0]).argmax(axis=1)\n",
    "cm = confusion_matrix(np.argmax(test_gen[0][1],axis=1), p_test)"
   ]
  },
  {
   "cell_type": "code",
   "execution_count": 49,
   "metadata": {},
   "outputs": [
    {
     "data": {
      "image/png": "[encoded data removed]",
      "text/plain": [
       "<Figure size 576x576 with 2 Axes>"
      ]
     },
     "metadata": {
      "needs_background": "light"
     },
     "output_type": "display_data"
    }
   ],
   "source": [
    "plot_confusion_matrix_TIN(cm,title='Confusion matrix SqueezeNet augmented',\n",
    "                          saveas='squeezeNet_TIN_aug_confmat',)"
   ]
  },
  {
   "cell_type": "code",
   "execution_count": 50,
   "metadata": {},
   "outputs": [
    {
     "data": {
      "text/html": [
       "\n",
       "        <iframe\n",
       "            width=\"900\"\n",
       "            height=\"400\"\n",
       "            src=\"./models/squeezeNetTIN_aug.pdf\"\n",
       "            frameborder=\"0\"\n",
       "            allowfullscreen\n",
       "        ></iframe>\n",
       "        "
      ],
      "text/plain": [
       "<IPython.lib.display.IFrame at 0x7f04e8195c70>"
      ]
     },
     "execution_count": 50,
     "metadata": {},
     "output_type": "execute_result"
    }
   ],
   "source": [
    "IFrame(\"./models/squeezeNetTIN_aug.pdf\", width=900, height=400)"
   ]
  },
  {
   "cell_type": "code",
   "execution_count": 51,
   "metadata": {},
   "outputs": [
    {
     "name": "stdout",
     "output_type": "stream",
     "text": [
      "\n",
      " least correct predictions\n"
     ]
    },
    {
     "data": {
      "text/html": [
       "<div>\n",
       "<style scoped>\n",
       "    .dataframe tbody tr th:only-of-type {\n",
       "        vertical-align: middle;\n",
       "    }\n",
       "\n",
       "    .dataframe tbody tr th {\n",
       "        vertical-align: top;\n",
       "    }\n",
       "\n",
       "    .dataframe thead th {\n",
       "        text-align: right;\n",
       "    }\n",
       "</style>\n",
       "<table border=\"1\" class=\"dataframe\">\n",
       "  <thead>\n",
       "    <tr style=\"text-align: right;\">\n",
       "      <th></th>\n",
       "      <th>label</th>\n",
       "      <th>correct amount</th>\n",
       "    </tr>\n",
       "  </thead>\n",
       "  <tbody>\n",
       "    <tr>\n",
       "      <th>0</th>\n",
       "      <td>water jug</td>\n",
       "      <td>0</td>\n",
       "    </tr>\n",
       "    <tr>\n",
       "      <th>1</th>\n",
       "      <td>plunger</td>\n",
       "      <td>1</td>\n",
       "    </tr>\n",
       "    <tr>\n",
       "      <th>2</th>\n",
       "      <td>pop bottle</td>\n",
       "      <td>2</td>\n",
       "    </tr>\n",
       "    <tr>\n",
       "      <th>3</th>\n",
       "      <td>barrel</td>\n",
       "      <td>3</td>\n",
       "    </tr>\n",
       "    <tr>\n",
       "      <th>4</th>\n",
       "      <td>umbrella</td>\n",
       "      <td>3</td>\n",
       "    </tr>\n",
       "    <tr>\n",
       "      <th>5</th>\n",
       "      <td>Labrador retriever</td>\n",
       "      <td>3</td>\n",
       "    </tr>\n",
       "    <tr>\n",
       "      <th>6</th>\n",
       "      <td>Chihuahua</td>\n",
       "      <td>3</td>\n",
       "    </tr>\n",
       "    <tr>\n",
       "      <th>7</th>\n",
       "      <td>bucket</td>\n",
       "      <td>3</td>\n",
       "    </tr>\n",
       "    <tr>\n",
       "      <th>8</th>\n",
       "      <td>chain</td>\n",
       "      <td>3</td>\n",
       "    </tr>\n",
       "    <tr>\n",
       "      <th>9</th>\n",
       "      <td>dumbbell</td>\n",
       "      <td>4</td>\n",
       "    </tr>\n",
       "  </tbody>\n",
       "</table>\n",
       "</div>"
      ],
      "text/plain": [
       "                label  correct amount\n",
       "0           water jug               0\n",
       "1             plunger               1\n",
       "2          pop bottle               2\n",
       "3              barrel               3\n",
       "4            umbrella               3\n",
       "5  Labrador retriever               3\n",
       "6           Chihuahua               3\n",
       "7              bucket               3\n",
       "8               chain               3\n",
       "9            dumbbell               4"
      ]
     },
     "metadata": {},
     "output_type": "display_data"
    },
    {
     "name": "stdout",
     "output_type": "stream",
     "text": [
      "\n",
      " most correct predictions, labels, times correct predicted:\n"
     ]
    },
    {
     "data": {
      "text/html": [
       "<div>\n",
       "<style scoped>\n",
       "    .dataframe tbody tr th:only-of-type {\n",
       "        vertical-align: middle;\n",
       "    }\n",
       "\n",
       "    .dataframe tbody tr th {\n",
       "        vertical-align: top;\n",
       "    }\n",
       "\n",
       "    .dataframe thead th {\n",
       "        text-align: right;\n",
       "    }\n",
       "</style>\n",
       "<table border=\"1\" class=\"dataframe\">\n",
       "  <thead>\n",
       "    <tr style=\"text-align: right;\">\n",
       "      <th></th>\n",
       "      <th>label</th>\n",
       "      <th>correct amount</th>\n",
       "    </tr>\n",
       "  </thead>\n",
       "  <tbody>\n",
       "    <tr>\n",
       "      <th>0</th>\n",
       "      <td>monarch</td>\n",
       "      <td>43</td>\n",
       "    </tr>\n",
       "    <tr>\n",
       "      <th>1</th>\n",
       "      <td>school bus</td>\n",
       "      <td>40</td>\n",
       "    </tr>\n",
       "    <tr>\n",
       "      <th>2</th>\n",
       "      <td>European fire salamander</td>\n",
       "      <td>37</td>\n",
       "    </tr>\n",
       "    <tr>\n",
       "      <th>3</th>\n",
       "      <td>black widow</td>\n",
       "      <td>36</td>\n",
       "    </tr>\n",
       "    <tr>\n",
       "      <th>4</th>\n",
       "      <td>lifeboat</td>\n",
       "      <td>36</td>\n",
       "    </tr>\n",
       "    <tr>\n",
       "      <th>5</th>\n",
       "      <td>brass</td>\n",
       "      <td>34</td>\n",
       "    </tr>\n",
       "    <tr>\n",
       "      <th>6</th>\n",
       "      <td>espresso</td>\n",
       "      <td>34</td>\n",
       "    </tr>\n",
       "    <tr>\n",
       "      <th>7</th>\n",
       "      <td>rugby ball</td>\n",
       "      <td>34</td>\n",
       "    </tr>\n",
       "    <tr>\n",
       "      <th>8</th>\n",
       "      <td>maypole</td>\n",
       "      <td>34</td>\n",
       "    </tr>\n",
       "    <tr>\n",
       "      <th>9</th>\n",
       "      <td>triumphal arch</td>\n",
       "      <td>33</td>\n",
       "    </tr>\n",
       "  </tbody>\n",
       "</table>\n",
       "</div>"
      ],
      "text/plain": [
       "                      label  correct amount\n",
       "0                   monarch              43\n",
       "1                school bus              40\n",
       "2  European fire salamander              37\n",
       "3               black widow              36\n",
       "4                  lifeboat              36\n",
       "5                     brass              34\n",
       "6                  espresso              34\n",
       "7                rugby ball              34\n",
       "8                   maypole              34\n",
       "9            triumphal arch              33"
      ]
     },
     "metadata": {},
     "output_type": "display_data"
    },
    {
     "name": "stdout",
     "output_type": "stream",
     "text": [
      "\n",
      " most confused labels:\n"
     ]
    },
    {
     "data": {
      "text/html": [
       "<div>\n",
       "<style scoped>\n",
       "    .dataframe tbody tr th:only-of-type {\n",
       "        vertical-align: middle;\n",
       "    }\n",
       "\n",
       "    .dataframe tbody tr th {\n",
       "        vertical-align: top;\n",
       "    }\n",
       "\n",
       "    .dataframe thead th {\n",
       "        text-align: right;\n",
       "    }\n",
       "</style>\n",
       "<table border=\"1\" class=\"dataframe\">\n",
       "  <thead>\n",
       "    <tr style=\"text-align: right;\">\n",
       "      <th></th>\n",
       "      <th>actual label</th>\n",
       "      <th>predicted label</th>\n",
       "      <th>times confused</th>\n",
       "    </tr>\n",
       "  </thead>\n",
       "  <tbody>\n",
       "    <tr>\n",
       "      <th>0</th>\n",
       "      <td>bee</td>\n",
       "      <td>monarch</td>\n",
       "      <td>13</td>\n",
       "    </tr>\n",
       "    <tr>\n",
       "      <th>1</th>\n",
       "      <td>sports car</td>\n",
       "      <td>convertible</td>\n",
       "      <td>12</td>\n",
       "    </tr>\n",
       "    <tr>\n",
       "      <th>2</th>\n",
       "      <td>CD player</td>\n",
       "      <td>scoreboard</td>\n",
       "      <td>11</td>\n",
       "    </tr>\n",
       "    <tr>\n",
       "      <th>3</th>\n",
       "      <td>altar</td>\n",
       "      <td>organ</td>\n",
       "      <td>11</td>\n",
       "    </tr>\n",
       "    <tr>\n",
       "      <th>4</th>\n",
       "      <td>convertible</td>\n",
       "      <td>beach wagon</td>\n",
       "      <td>11</td>\n",
       "    </tr>\n",
       "    <tr>\n",
       "      <th>5</th>\n",
       "      <td>coral reef</td>\n",
       "      <td>brain coral</td>\n",
       "      <td>10</td>\n",
       "    </tr>\n",
       "    <tr>\n",
       "      <th>6</th>\n",
       "      <td>dam</td>\n",
       "      <td>steel arch bridge</td>\n",
       "      <td>10</td>\n",
       "    </tr>\n",
       "    <tr>\n",
       "      <th>7</th>\n",
       "      <td>beach wagon</td>\n",
       "      <td>convertible</td>\n",
       "      <td>10</td>\n",
       "    </tr>\n",
       "    <tr>\n",
       "      <th>8</th>\n",
       "      <td>scorpion</td>\n",
       "      <td>centipede</td>\n",
       "      <td>9</td>\n",
       "    </tr>\n",
       "    <tr>\n",
       "      <th>9</th>\n",
       "      <td>slug</td>\n",
       "      <td>centipede</td>\n",
       "      <td>9</td>\n",
       "    </tr>\n",
       "  </tbody>\n",
       "</table>\n",
       "</div>"
      ],
      "text/plain": [
       "  actual label    predicted label  times confused\n",
       "0          bee            monarch              13\n",
       "1   sports car        convertible              12\n",
       "2    CD player         scoreboard              11\n",
       "3        altar              organ              11\n",
       "4  convertible        beach wagon              11\n",
       "5   coral reef        brain coral              10\n",
       "6          dam  steel arch bridge              10\n",
       "7  beach wagon        convertible              10\n",
       "8     scorpion          centipede               9\n",
       "9         slug          centipede               9"
      ]
     },
     "metadata": {},
     "output_type": "display_data"
    },
    {
     "name": "stdout",
     "output_type": "stream",
     "text": [
      "\n",
      " biggest std for column (for which classes the cnn was not very percice):\n"
     ]
    },
    {
     "data": {
      "text/html": [
       "<div>\n",
       "<style scoped>\n",
       "    .dataframe tbody tr th:only-of-type {\n",
       "        vertical-align: middle;\n",
       "    }\n",
       "\n",
       "    .dataframe tbody tr th {\n",
       "        vertical-align: top;\n",
       "    }\n",
       "\n",
       "    .dataframe thead th {\n",
       "        text-align: right;\n",
       "    }\n",
       "</style>\n",
       "<table border=\"1\" class=\"dataframe\">\n",
       "  <thead>\n",
       "    <tr style=\"text-align: right;\">\n",
       "      <th></th>\n",
       "      <th>0</th>\n",
       "      <th>1</th>\n",
       "      <th>2</th>\n",
       "      <th>3</th>\n",
       "      <th>4</th>\n",
       "      <th>5</th>\n",
       "      <th>6</th>\n",
       "      <th>7</th>\n",
       "      <th>8</th>\n",
       "      <th>9</th>\n",
       "    </tr>\n",
       "  </thead>\n",
       "  <tbody>\n",
       "    <tr>\n",
       "      <th>times label</th>\n",
       "      <td>jinrikisha</td>\n",
       "      <td>beach wagon</td>\n",
       "      <td>pay-phone</td>\n",
       "      <td>organ</td>\n",
       "      <td>comic book</td>\n",
       "      <td>centipede</td>\n",
       "      <td>monarch</td>\n",
       "      <td>steel arch bridge</td>\n",
       "      <td>convertible</td>\n",
       "      <td>scoreboard</td>\n",
       "    </tr>\n",
       "  </tbody>\n",
       "</table>\n",
       "</div>"
      ],
      "text/plain": [
       "                      0            1          2      3           4          5  \\\n",
       "times label  jinrikisha  beach wagon  pay-phone  organ  comic book  centipede   \n",
       "\n",
       "                   6                  7            8           9  \n",
       "times label  monarch  steel arch bridge  convertible  scoreboard  "
      ]
     },
     "metadata": {},
     "output_type": "display_data"
    },
    {
     "name": "stdout",
     "output_type": "stream",
     "text": [
      "\\begin{tabular}{lrlrllr}\n",
      "\\toprule\n",
      "             label &  correct amount &                    label &  correct amount & actual label &   predicted label &  times confused \\\\\n",
      "\\midrule\n",
      "         water jug &               0 &                  monarch &              43 &          bee &           monarch &              13 \\\\\n",
      "           plunger &               1 &               school bus &              40 &   sports car &       convertible &              12 \\\\\n",
      "        pop bottle &               2 & European fire salamander &              37 &    CD player &        scoreboard &              11 \\\\\n",
      "            barrel &               3 &              black widow &              36 &        altar &             organ &              11 \\\\\n",
      "          umbrella &               3 &                 lifeboat &              36 &  convertible &       beach wagon &              11 \\\\\n",
      "Labrador retriever &               3 &                    brass &              34 &   coral reef &       brain coral &              10 \\\\\n",
      "         Chihuahua &               3 &                 espresso &              34 &          dam & steel arch bridge &              10 \\\\\n",
      "            bucket &               3 &               rugby ball &              34 &  beach wagon &       convertible &              10 \\\\\n",
      "             chain &               3 &                  maypole &              34 &     scorpion &         centipede &               9 \\\\\n",
      "          dumbbell &               4 &           triumphal arch &              33 &         slug &         centipede &               9 \\\\\n",
      "\\bottomrule\n",
      "\\end{tabular}\n",
      "\n"
     ]
    }
   ],
   "source": [
    "analyze_predictions_TIN(cm)"
   ]
  },
  {
   "cell_type": "markdown",
   "metadata": {},
   "source": [
    "## Res50Net augmented "
   ]
  },
  {
   "cell_type": "code",
   "execution_count": 53,
   "metadata": {},
   "outputs": [],
   "source": [
    "# to load the wrapped Res50Net architecture we need to recreate it here\n",
    "def res50Net_transfer(input_shape, n_classes, frozen_layers=168, final_layers=[]):\n",
    "    # load resnet with given input shape\n",
    "    input_t = tf.keras.Input(shape=input_shape)\n",
    "    res_model = tf.keras.applications.ResNet50(include_top=False,\n",
    "                                              weights=\"imagenet\",\n",
    "                                              input_tensor=input_t)\n",
    "    # freeze top layers of resnet\n",
    "    for layer in res_model.layers[:frozen_layers]:\n",
    "        layer.trainable =False\n",
    "\n",
    "    # wrap resnet by sequencial network\n",
    "    model = tf.keras.models.Sequential()\n",
    "    model.add(tf.keras.layers.Lambda(lambda image: tf.image.resize(image, input_shape[:2])))\n",
    "    model.add(res_model)\n",
    "    model.add(tf.keras.layers.Flatten())\n",
    "\n",
    "    for n_layer in final_layers: # add dense layers if we need more accuracy\n",
    "        model.add(tf.keras.layers.BatchNormalization())\n",
    "        model.add(tf.keras.layers.Dense(n_layer, activation='relu'))\n",
    "        model.add(tf.keras.layers.Dropout(0.5))\n",
    "\n",
    "    model.add(tf.keras.layers.Dense(n_classes, activation='softmax'))\n",
    "\n",
    "    loss = tf.keras.losses.CategoricalCrossentropy()\n",
    "    adam = tf.keras.optimizers.Adam(learning_rate=0.0001)\n",
    "    model.compile(loss=loss, optimizer=adam, metrics=['accuracy'])\n",
    "    return model"
   ]
  },
  {
   "cell_type": "code",
   "execution_count": 54,
   "metadata": {},
   "outputs": [],
   "source": [
    "# TinyIageNet has 200 classes\n",
    "N_CLASSES = 200\n",
    "# our input dimensions\n",
    "INSHAPE = 64, 64, 3\n",
    "PICTURE_SHAPE = INSHAPE[0], INSHAPE[1]"
   ]
  },
  {
   "cell_type": "code",
   "execution_count": 55,
   "metadata": {},
   "outputs": [
    {
     "name": "stdout",
     "output_type": "stream",
     "text": [
      "The zip file already exists.\n",
      "The extracted data already exists\n",
      "Found 10000 validated image filenames belonging to 200 classes.\n"
     ]
    }
   ],
   "source": [
    "test_gen = load_TIN(1000)"
   ]
  },
  {
   "cell_type": "code",
   "execution_count": 56,
   "metadata": {},
   "outputs": [],
   "source": [
    "tf.keras.backend.clear_session()\n",
    "model = res50Net_transfer(INSHAPE, N_CLASSES, frozen_layers=168, \n",
    "                          final_layers=[256, 256, 256])\n",
    "model.build((1000,64,64,3))\n",
    "model.load_weights(os.path.join('models','res50Net_TIN_aug.h5'))"
   ]
  },
  {
   "cell_type": "code",
   "execution_count": 57,
   "metadata": {},
   "outputs": [
    {
     "name": "stdout",
     "output_type": "stream",
     "text": [
      "10/10 [==============================] - 120s 12s/step - loss: 2.6715 - accuracy: 0.3770\n",
      "{'loss': 2.6715474128723145, 'accuracy': 0.37700000405311584}\n"
     ]
    }
   ],
   "source": [
    "# Evaluate the model\n",
    "test_res = model.evaluate(test_gen)\n",
    "# Print the results as a dictionary {<metric name>: <value>}\n",
    "test_res_dict = dict(zip(model.metrics_names, test_res))\n",
    "print(test_res_dict)"
   ]
  },
  {
   "cell_type": "code",
   "execution_count": 58,
   "metadata": {},
   "outputs": [
    {
     "name": "stdout",
     "output_type": "stream",
     "text": [
      "The zip file already exists.\n",
      "The extracted data already exists\n",
      "Found 10000 validated image filenames belonging to 200 classes.\n"
     ]
    }
   ],
   "source": [
    "p_test = model.predict(test_gen).argmax(axis=1)\n",
    "test_gen = load_TIN()\n",
    "cm = confusion_matrix(np.argmax(test_gen[0][1],axis=1), p_test)"
   ]
  },
  {
   "cell_type": "code",
   "execution_count": 59,
   "metadata": {},
   "outputs": [
    {
     "data": {
      "image/png": "[encoded data removed]",
      "text/plain": [
       "<Figure size 576x576 with 2 Axes>"
      ]
     },
     "metadata": {
      "needs_background": "light"
     },
     "output_type": "display_data"
    }
   ],
   "source": [
    "plot_confusion_matrix_TIN(cm,title='Confusion matrix Res50Net augmented',\n",
    "                          saveas='res50Net_TIN_aug_confmat',)"
   ]
  },
  {
   "cell_type": "code",
   "execution_count": 60,
   "metadata": {},
   "outputs": [
    {
     "data": {
      "text/html": [
       "\n",
       "        <iframe\n",
       "            width=\"900\"\n",
       "            height=\"400\"\n",
       "            src=\"./models/res50Net_TIN_aug.pdf\"\n",
       "            frameborder=\"0\"\n",
       "            allowfullscreen\n",
       "        ></iframe>\n",
       "        "
      ],
      "text/plain": [
       "<IPython.lib.display.IFrame at 0x7f04e81a4550>"
      ]
     },
     "execution_count": 60,
     "metadata": {},
     "output_type": "execute_result"
    }
   ],
   "source": [
    "IFrame(\"./models/res50Net_TIN_aug.pdf\", width=900, height=400)"
   ]
  },
  {
   "cell_type": "code",
   "execution_count": 61,
   "metadata": {},
   "outputs": [
    {
     "name": "stdout",
     "output_type": "stream",
     "text": [
      "\n",
      " least correct predictions\n"
     ]
    },
    {
     "data": {
      "text/html": [
       "<div>\n",
       "<style scoped>\n",
       "    .dataframe tbody tr th:only-of-type {\n",
       "        vertical-align: middle;\n",
       "    }\n",
       "\n",
       "    .dataframe tbody tr th {\n",
       "        vertical-align: top;\n",
       "    }\n",
       "\n",
       "    .dataframe thead th {\n",
       "        text-align: right;\n",
       "    }\n",
       "</style>\n",
       "<table border=\"1\" class=\"dataframe\">\n",
       "  <thead>\n",
       "    <tr style=\"text-align: right;\">\n",
       "      <th></th>\n",
       "      <th>label</th>\n",
       "      <th>correct amount</th>\n",
       "    </tr>\n",
       "  </thead>\n",
       "  <tbody>\n",
       "    <tr>\n",
       "      <th>0</th>\n",
       "      <td>plunger</td>\n",
       "      <td>0</td>\n",
       "    </tr>\n",
       "    <tr>\n",
       "      <th>1</th>\n",
       "      <td>hog</td>\n",
       "      <td>0</td>\n",
       "    </tr>\n",
       "    <tr>\n",
       "      <th>2</th>\n",
       "      <td>syringe</td>\n",
       "      <td>1</td>\n",
       "    </tr>\n",
       "    <tr>\n",
       "      <th>3</th>\n",
       "      <td>wooden spoon</td>\n",
       "      <td>1</td>\n",
       "    </tr>\n",
       "    <tr>\n",
       "      <th>4</th>\n",
       "      <td>ox</td>\n",
       "      <td>2</td>\n",
       "    </tr>\n",
       "    <tr>\n",
       "      <th>5</th>\n",
       "      <td>bucket</td>\n",
       "      <td>2</td>\n",
       "    </tr>\n",
       "    <tr>\n",
       "      <th>6</th>\n",
       "      <td>projectile</td>\n",
       "      <td>2</td>\n",
       "    </tr>\n",
       "    <tr>\n",
       "      <th>7</th>\n",
       "      <td>ice cream</td>\n",
       "      <td>2</td>\n",
       "    </tr>\n",
       "    <tr>\n",
       "      <th>8</th>\n",
       "      <td>tabby</td>\n",
       "      <td>3</td>\n",
       "    </tr>\n",
       "    <tr>\n",
       "      <th>9</th>\n",
       "      <td>beach wagon</td>\n",
       "      <td>3</td>\n",
       "    </tr>\n",
       "  </tbody>\n",
       "</table>\n",
       "</div>"
      ],
      "text/plain": [
       "          label  correct amount\n",
       "0       plunger               0\n",
       "1           hog               0\n",
       "2       syringe               1\n",
       "3  wooden spoon               1\n",
       "4            ox               2\n",
       "5        bucket               2\n",
       "6    projectile               2\n",
       "7     ice cream               2\n",
       "8         tabby               3\n",
       "9   beach wagon               3"
      ]
     },
     "metadata": {},
     "output_type": "display_data"
    },
    {
     "name": "stdout",
     "output_type": "stream",
     "text": [
      "\n",
      " most correct predictions, labels, times correct predicted:\n"
     ]
    },
    {
     "data": {
      "text/html": [
       "<div>\n",
       "<style scoped>\n",
       "    .dataframe tbody tr th:only-of-type {\n",
       "        vertical-align: middle;\n",
       "    }\n",
       "\n",
       "    .dataframe tbody tr th {\n",
       "        vertical-align: top;\n",
       "    }\n",
       "\n",
       "    .dataframe thead th {\n",
       "        text-align: right;\n",
       "    }\n",
       "</style>\n",
       "<table border=\"1\" class=\"dataframe\">\n",
       "  <thead>\n",
       "    <tr style=\"text-align: right;\">\n",
       "      <th></th>\n",
       "      <th>label</th>\n",
       "      <th>correct amount</th>\n",
       "    </tr>\n",
       "  </thead>\n",
       "  <tbody>\n",
       "    <tr>\n",
       "      <th>0</th>\n",
       "      <td>monarch</td>\n",
       "      <td>42</td>\n",
       "    </tr>\n",
       "    <tr>\n",
       "      <th>1</th>\n",
       "      <td>obelisk</td>\n",
       "      <td>40</td>\n",
       "    </tr>\n",
       "    <tr>\n",
       "      <th>2</th>\n",
       "      <td>bullet train</td>\n",
       "      <td>38</td>\n",
       "    </tr>\n",
       "    <tr>\n",
       "      <th>3</th>\n",
       "      <td>dugong</td>\n",
       "      <td>38</td>\n",
       "    </tr>\n",
       "    <tr>\n",
       "      <th>4</th>\n",
       "      <td>school bus</td>\n",
       "      <td>37</td>\n",
       "    </tr>\n",
       "    <tr>\n",
       "      <th>5</th>\n",
       "      <td>brain coral</td>\n",
       "      <td>37</td>\n",
       "    </tr>\n",
       "    <tr>\n",
       "      <th>6</th>\n",
       "      <td>espresso</td>\n",
       "      <td>36</td>\n",
       "    </tr>\n",
       "    <tr>\n",
       "      <th>7</th>\n",
       "      <td>triumphal arch</td>\n",
       "      <td>36</td>\n",
       "    </tr>\n",
       "    <tr>\n",
       "      <th>8</th>\n",
       "      <td>maypole</td>\n",
       "      <td>36</td>\n",
       "    </tr>\n",
       "    <tr>\n",
       "      <th>9</th>\n",
       "      <td>Christmas stocking</td>\n",
       "      <td>36</td>\n",
       "    </tr>\n",
       "  </tbody>\n",
       "</table>\n",
       "</div>"
      ],
      "text/plain": [
       "                label  correct amount\n",
       "0             monarch              42\n",
       "1             obelisk              40\n",
       "2        bullet train              38\n",
       "3              dugong              38\n",
       "4          school bus              37\n",
       "5         brain coral              37\n",
       "6            espresso              36\n",
       "7      triumphal arch              36\n",
       "8             maypole              36\n",
       "9  Christmas stocking              36"
      ]
     },
     "metadata": {},
     "output_type": "display_data"
    },
    {
     "name": "stdout",
     "output_type": "stream",
     "text": [
      "\n",
      " most confused labels:\n"
     ]
    },
    {
     "data": {
      "text/html": [
       "<div>\n",
       "<style scoped>\n",
       "    .dataframe tbody tr th:only-of-type {\n",
       "        vertical-align: middle;\n",
       "    }\n",
       "\n",
       "    .dataframe tbody tr th {\n",
       "        vertical-align: top;\n",
       "    }\n",
       "\n",
       "    .dataframe thead th {\n",
       "        text-align: right;\n",
       "    }\n",
       "</style>\n",
       "<table border=\"1\" class=\"dataframe\">\n",
       "  <thead>\n",
       "    <tr style=\"text-align: right;\">\n",
       "      <th></th>\n",
       "      <th>actual label</th>\n",
       "      <th>predicted label</th>\n",
       "      <th>times confused</th>\n",
       "    </tr>\n",
       "  </thead>\n",
       "  <tbody>\n",
       "    <tr>\n",
       "      <th>0</th>\n",
       "      <td>pop bottle</td>\n",
       "      <td>beer bottle</td>\n",
       "      <td>15</td>\n",
       "    </tr>\n",
       "    <tr>\n",
       "      <th>1</th>\n",
       "      <td>ice cream</td>\n",
       "      <td>plate</td>\n",
       "      <td>15</td>\n",
       "    </tr>\n",
       "    <tr>\n",
       "      <th>2</th>\n",
       "      <td>moving van</td>\n",
       "      <td>trolleybus</td>\n",
       "      <td>15</td>\n",
       "    </tr>\n",
       "    <tr>\n",
       "      <th>3</th>\n",
       "      <td>tabby</td>\n",
       "      <td>Egyptian cat</td>\n",
       "      <td>14</td>\n",
       "    </tr>\n",
       "    <tr>\n",
       "      <th>4</th>\n",
       "      <td>sewing machine</td>\n",
       "      <td>desk</td>\n",
       "      <td>13</td>\n",
       "    </tr>\n",
       "    <tr>\n",
       "      <th>5</th>\n",
       "      <td>meat loaf</td>\n",
       "      <td>plate</td>\n",
       "      <td>11</td>\n",
       "    </tr>\n",
       "    <tr>\n",
       "      <th>6</th>\n",
       "      <td>beach wagon</td>\n",
       "      <td>convertible</td>\n",
       "      <td>11</td>\n",
       "    </tr>\n",
       "    <tr>\n",
       "      <th>7</th>\n",
       "      <td>hog</td>\n",
       "      <td>bison</td>\n",
       "      <td>11</td>\n",
       "    </tr>\n",
       "    <tr>\n",
       "      <th>8</th>\n",
       "      <td>orange</td>\n",
       "      <td>lemon</td>\n",
       "      <td>10</td>\n",
       "    </tr>\n",
       "    <tr>\n",
       "      <th>9</th>\n",
       "      <td>turnstile</td>\n",
       "      <td>pay-phone</td>\n",
       "      <td>10</td>\n",
       "    </tr>\n",
       "  </tbody>\n",
       "</table>\n",
       "</div>"
      ],
      "text/plain": [
       "     actual label predicted label  times confused\n",
       "0      pop bottle     beer bottle              15\n",
       "1       ice cream           plate              15\n",
       "2      moving van      trolleybus              15\n",
       "3           tabby    Egyptian cat              14\n",
       "4  sewing machine            desk              13\n",
       "5       meat loaf           plate              11\n",
       "6     beach wagon     convertible              11\n",
       "7             hog           bison              11\n",
       "8          orange           lemon              10\n",
       "9       turnstile       pay-phone              10"
      ]
     },
     "metadata": {},
     "output_type": "display_data"
    },
    {
     "name": "stdout",
     "output_type": "stream",
     "text": [
      "\n",
      " biggest std for column (for which classes the cnn was not very percice):\n"
     ]
    },
    {
     "data": {
      "text/html": [
       "<div>\n",
       "<style scoped>\n",
       "    .dataframe tbody tr th:only-of-type {\n",
       "        vertical-align: middle;\n",
       "    }\n",
       "\n",
       "    .dataframe tbody tr th {\n",
       "        vertical-align: top;\n",
       "    }\n",
       "\n",
       "    .dataframe thead th {\n",
       "        text-align: right;\n",
       "    }\n",
       "</style>\n",
       "<table border=\"1\" class=\"dataframe\">\n",
       "  <thead>\n",
       "    <tr style=\"text-align: right;\">\n",
       "      <th></th>\n",
       "      <th>0</th>\n",
       "      <th>1</th>\n",
       "      <th>2</th>\n",
       "      <th>3</th>\n",
       "      <th>4</th>\n",
       "      <th>5</th>\n",
       "      <th>6</th>\n",
       "      <th>7</th>\n",
       "      <th>8</th>\n",
       "      <th>9</th>\n",
       "    </tr>\n",
       "  </thead>\n",
       "  <tbody>\n",
       "    <tr>\n",
       "      <th>times label</th>\n",
       "      <td>Christmas stocking</td>\n",
       "      <td>maypole</td>\n",
       "      <td>academic gown</td>\n",
       "      <td>beer bottle</td>\n",
       "      <td>jinrikisha</td>\n",
       "      <td>European fire salamander</td>\n",
       "      <td>desk</td>\n",
       "      <td>trolleybus</td>\n",
       "      <td>bison</td>\n",
       "      <td>plate</td>\n",
       "    </tr>\n",
       "  </tbody>\n",
       "</table>\n",
       "</div>"
      ],
      "text/plain": [
       "                              0        1              2            3  \\\n",
       "times label  Christmas stocking  maypole  academic gown  beer bottle   \n",
       "\n",
       "                      4                         5     6           7      8  \\\n",
       "times label  jinrikisha  European fire salamander  desk  trolleybus  bison   \n",
       "\n",
       "                 9  \n",
       "times label  plate  "
      ]
     },
     "metadata": {},
     "output_type": "display_data"
    },
    {
     "name": "stdout",
     "output_type": "stream",
     "text": [
      "\\begin{tabular}{lrlrllr}\n",
      "\\toprule\n",
      "       label &  correct amount &              label &  correct amount &   actual label & predicted label &  times confused \\\\\n",
      "\\midrule\n",
      "     plunger &               0 &            monarch &              42 &     pop bottle &     beer bottle &              15 \\\\\n",
      "         hog &               0 &            obelisk &              40 &      ice cream &           plate &              15 \\\\\n",
      "     syringe &               1 &       bullet train &              38 &     moving van &      trolleybus &              15 \\\\\n",
      "wooden spoon &               1 &             dugong &              38 &          tabby &    Egyptian cat &              14 \\\\\n",
      "          ox &               2 &         school bus &              37 & sewing machine &            desk &              13 \\\\\n",
      "      bucket &               2 &        brain coral &              37 &      meat loaf &           plate &              11 \\\\\n",
      "  projectile &               2 &           espresso &              36 &    beach wagon &     convertible &              11 \\\\\n",
      "   ice cream &               2 &     triumphal arch &              36 &            hog &           bison &              11 \\\\\n",
      "       tabby &               3 &            maypole &              36 &         orange &           lemon &              10 \\\\\n",
      " beach wagon &               3 & Christmas stocking &              36 &      turnstile &       pay-phone &              10 \\\\\n",
      "\\bottomrule\n",
      "\\end{tabular}\n",
      "\n"
     ]
    }
   ],
   "source": [
    "analyze_predictions_TIN(cm)"
   ]
  },
  {
   "cell_type": "markdown",
   "metadata": {},
   "source": [
    "## Res50Net not augmented "
   ]
  },
  {
   "cell_type": "code",
   "execution_count": 62,
   "metadata": {},
   "outputs": [],
   "source": [
    "# TinyIageNet has 200 classes\n",
    "N_CLASSES = 200\n",
    "# our input dimensions\n",
    "INSHAPE = 64, 64, 3\n",
    "PICTURE_SHAPE = INSHAPE[0], INSHAPE[1]"
   ]
  },
  {
   "cell_type": "code",
   "execution_count": 63,
   "metadata": {},
   "outputs": [
    {
     "name": "stdout",
     "output_type": "stream",
     "text": [
      "The zip file already exists.\n",
      "The extracted data already exists\n",
      "Found 10000 validated image filenames belonging to 200 classes.\n"
     ]
    }
   ],
   "source": [
    "test_gen = load_TIN(1000)"
   ]
  },
  {
   "cell_type": "code",
   "execution_count": 64,
   "metadata": {},
   "outputs": [],
   "source": [
    "tf.keras.backend.clear_session()\n",
    "model = res50Net_transfer(INSHAPE, N_CLASSES, frozen_layers=168, \n",
    "                          final_layers=[256, 256, 256])\n",
    "model.build((1000,64,64,3))\n",
    "model.load_weights(os.path.join('models','res50NetTIN_noaug.h5'))"
   ]
  },
  {
   "cell_type": "code",
   "execution_count": 65,
   "metadata": {},
   "outputs": [
    {
     "name": "stdout",
     "output_type": "stream",
     "text": [
      "10/10 [==============================] - 120s 12s/step - loss: 2.9810 - accuracy: 0.3457\n",
      "{'loss': 2.981005907058716, 'accuracy': 0.3456999957561493}\n"
     ]
    }
   ],
   "source": [
    "# Evaluate the model\n",
    "test_res = model.evaluate(test_gen)\n",
    "# Print the results as a dictionary {<metric name>: <value>}\n",
    "test_res_dict = dict(zip(model.metrics_names, test_res))\n",
    "print(test_res_dict)"
   ]
  },
  {
   "cell_type": "code",
   "execution_count": 66,
   "metadata": {},
   "outputs": [
    {
     "name": "stdout",
     "output_type": "stream",
     "text": [
      "The zip file already exists.\n",
      "The extracted data already exists\n",
      "Found 10000 validated image filenames belonging to 200 classes.\n"
     ]
    }
   ],
   "source": [
    "p_test = model.predict(test_gen).argmax(axis=1)\n",
    "test_gen = load_TIN()\n",
    "cm = confusion_matrix(np.argmax(test_gen[0][1],axis=1), p_test)"
   ]
  },
  {
   "cell_type": "code",
   "execution_count": 67,
   "metadata": {},
   "outputs": [
    {
     "data": {
      "image/png": "[encoded data removed]",
      "text/plain": [
       "<Figure size 576x576 with 2 Axes>"
      ]
     },
     "metadata": {
      "needs_background": "light"
     },
     "output_type": "display_data"
    }
   ],
   "source": [
    "plot_confusion_matrix_TIN(cm,title='Confusion matrix Res50Net not augmented',\n",
    "                          saveas='res50NetTIN_noaug_confmat',)"
   ]
  },
  {
   "cell_type": "code",
   "execution_count": 68,
   "metadata": {},
   "outputs": [
    {
     "data": {
      "text/html": [
       "\n",
       "        <iframe\n",
       "            width=\"900\"\n",
       "            height=\"400\"\n",
       "            src=\"./models/res50NetTIN_noaug.pdf\"\n",
       "            frameborder=\"0\"\n",
       "            allowfullscreen\n",
       "        ></iframe>\n",
       "        "
      ],
      "text/plain": [
       "<IPython.lib.display.IFrame at 0x7f04e9801040>"
      ]
     },
     "execution_count": 68,
     "metadata": {},
     "output_type": "execute_result"
    }
   ],
   "source": [
    "IFrame(\"./models/res50NetTIN_noaug.pdf\", width=900, height=400)"
   ]
  },
  {
   "cell_type": "code",
   "execution_count": null,
   "metadata": {},
   "outputs": [],
   "source": []
  }
 ],
 "metadata": {
  "colab": {
   "collapsed_sections": [],
   "name": "plotter.ipynb",
   "provenance": []
  },
  "kernelspec": {
   "display_name": "Python 3",
   "language": "python",
   "name": "python3"
  },
  "language_info": {
   "codemirror_mode": {
    "name": "ipython",
    "version": 3
   },
   "file_extension": ".py",
   "mimetype": "text/x-python",
   "name": "python",
   "nbconvert_exporter": "python",
   "pygments_lexer": "ipython3",
   "version": "3.8.5"
  }
 },
 "nbformat": 4,
 "nbformat_minor": 1
}
