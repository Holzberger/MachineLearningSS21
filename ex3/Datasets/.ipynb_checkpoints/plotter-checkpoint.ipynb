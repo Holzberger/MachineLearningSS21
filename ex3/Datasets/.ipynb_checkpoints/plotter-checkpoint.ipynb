{
 "cells": [
  {
   "cell_type": "code",
   "execution_count": 16,
   "metadata": {
    "id": "CAxwCPaVSMz0"
   },
   "outputs": [],
   "source": [
    "import numpy as np\n",
    "import pandas as pd \n",
    "import tensorflow as tf\n",
    "import os\n",
    "from IPython.display import IFrame\n",
    "from tensorflow.keras.models import load_model, Model\n",
    "\n",
    "from sklearn.metrics import confusion_matrix\n",
    "import itertools\n",
    "import matplotlib.pyplot as plt"
   ]
  },
  {
   "cell_type": "code",
   "execution_count": 18,
   "metadata": {},
   "outputs": [],
   "source": [
    "# Plot confusion matrix\n",
    "plt.rcParams['figure.figsize'] = [10,7]\n",
    "\n",
    "def plot_confusion_matrix_cifar10(cm, classes,\n",
    "                          normalize=False,\n",
    "                          title='Confusion matrix',\n",
    "                          saveas='confmat',\n",
    "                          cmap=plt.cm.Blues):\n",
    "\n",
    "    if normalize:\n",
    "        cm = cm.astype('float') / cm.sum(axis=1)[:, np.newaxis]\n",
    "        print(\"Normalized confusion matrix\")\n",
    "    else:\n",
    "        print('Confusion matrix, without normalization')\n",
    "\n",
    "    print(cm)\n",
    "    figure = plt.figure(1, figsize= (8, 8))\n",
    "    plt.imshow(cm, interpolation='nearest', cmap=cmap)\n",
    "    plt.title(title)\n",
    "    plt.colorbar()\n",
    "    tick_marks = np.arange(len(classes))\n",
    "    plt.xticks(tick_marks, classes, rotation=45)\n",
    "    plt.yticks(tick_marks, classes)\n",
    "\n",
    "    fmt = '.2f' if normalize else 'd'\n",
    "    thresh = cm.max() / 2.\n",
    "    for i, j in itertools.product(range(cm.shape[0]), range(cm.shape[1])):\n",
    "        plt.text(j, i, format(cm[i, j], fmt),\n",
    "               horizontalalignment=\"center\",\n",
    "               color=\"white\" if cm[i, j] > thresh else \"black\")\n",
    "\n",
    "    labels = ['plane', 'car', 'bird','cat','deer','dog','frog','horse','ship','truck']\n",
    "    plt.yticks(np.arange(len(labels)), labels)\n",
    "    plt.xticks(np.arange(len(labels)), labels)\n",
    "    plt.tight_layout()\n",
    "    plt.ylabel('True label')\n",
    "    plt.xlabel('Predicted label')\n",
    "    figure.savefig(saveas+\".pdf\", bbox_inches='tight')\n",
    "    plt.show()"
   ]
  },
  {
   "cell_type": "code",
   "execution_count": 5,
   "metadata": {},
   "outputs": [],
   "source": [
    "def load_cifar10(scaled=False):\n",
    "    N_CLASSES=10\n",
    "    # get the data\n",
    "    (x_train,y_train), (x_test, y_test) = tf.keras.datasets.cifar10.load_data()\n",
    "    if scaled:\n",
    "        x_train, x_test = x_train/255.0, x_test/255.0\n",
    "    # do a 1hot encoding on labels\n",
    "    y_test1H = tf.keras.utils.to_categorical(y_test, N_CLASSES)\n",
    "    return x_test, y_test, y_test1H"
   ]
  },
  {
   "cell_type": "markdown",
   "metadata": {},
   "source": [
    "# Cifar10"
   ]
  },
  {
   "cell_type": "markdown",
   "metadata": {},
   "source": [
    "## squeeze net not augmented "
   ]
  },
  {
   "cell_type": "code",
   "execution_count": 6,
   "metadata": {
    "id": "2gJHdAhHGRr7"
   },
   "outputs": [],
   "source": [
    "# Cifar10 has 10 classes\n",
    "N_CLASSES = 10\n",
    "# our input dimensions\n",
    "INSHAPE = 32, 32, 3"
   ]
  },
  {
   "cell_type": "code",
   "execution_count": 9,
   "metadata": {
    "colab": {
     "base_uri": "https://localhost:8080/"
    },
    "id": "AQ8NTgeySjaX",
    "outputId": "1c5f5fa8-4764-4015-c685-fa509c91a20c"
   },
   "outputs": [],
   "source": [
    "x_test, y_test, y_test1H = load_cifar10(scaled=False)"
   ]
  },
  {
   "cell_type": "code",
   "execution_count": 10,
   "metadata": {
    "colab": {
     "base_uri": "https://localhost:8080/"
    },
    "id": "Beo8QICKSA5G",
    "outputId": "371a13f6-9845-46d0-c8a1-de546764fbef"
   },
   "outputs": [
    {
     "name": "stdout",
     "output_type": "stream",
     "text": [
      "313/313 [==============================] - 15s 47ms/step - loss: 1.2048 - accuracy: 0.6521\n",
      "{'loss': 1.2047618627548218, 'accuracy': 0.6521000266075134}\n"
     ]
    }
   ],
   "source": [
    "tf.keras.backend.clear_session()\n",
    "# Load the model from disk\n",
    "model = load_model(os.path.join('models','squeezeNet_cifar10_noaug.h5'))\n",
    "\n",
    "# Evaluate the model\n",
    "test_res = model.evaluate(x_test , y_test1H)\n",
    "\n",
    "# Print the results as a dictionary {<metric name>: <value>}\n",
    "test_res_dict = dict(zip(model.metrics_names, test_res))\n",
    "print(test_res_dict)"
   ]
  },
  {
   "cell_type": "code",
   "execution_count": 15,
   "metadata": {
    "colab": {
     "base_uri": "https://localhost:8080/",
     "height": 770
    },
    "id": "YGNSuKJed0ad",
    "outputId": "9f2e24c9-e653-4e75-9ec2-79ff1d74d3dd"
   },
   "outputs": [],
   "source": [
    "# plot confusion matrix\n",
    "p_test = model.predict(x_test).argmax(axis=1)\n",
    "cm = confusion_matrix(y_test, p_test)"
   ]
  },
  {
   "cell_type": "code",
   "execution_count": 19,
   "metadata": {},
   "outputs": [
    {
     "name": "stdout",
     "output_type": "stream",
     "text": [
      "Confusion matrix, without normalization\n",
      "[[703  21  65  21  18  12  16  19  78  47]\n",
      " [ 28 760   5  14   6   7   9   4  32 135]\n",
      " [ 78   8 529  91  89  65  76  32  19  13]\n",
      " [ 19   8  78 465  70 174  88  43  19  36]\n",
      " [ 28   4 110  64 580  35  75  86  13   5]\n",
      " [ 24   7  53 220  52 538  30  58   8  10]\n",
      " [ 13   3  54  79  72  29 715   9  11  15]\n",
      " [ 19   1  48  51  87  60   1 714   3  16]\n",
      " [ 72  33  18  21  11   9  10   6 800  20]\n",
      " [ 29 120  12  27   7  10  20  20  38 717]]\n"
     ]
    },
    {
     "data": {
      "image/png": "[encoded data removed]",
      "text/plain": [
       "<Figure size 576x576 with 2 Axes>"
      ]
     },
     "metadata": {
      "needs_background": "light"
     },
     "output_type": "display_data"
    }
   ],
   "source": [
    "plot_confusion_matrix_cifar10(cm, list(range(10)),\n",
    "                          title='Confusion matrix SqueezeNet not augmented',\n",
    "                          saveas='squeezeNet_cifar10_noaug_confmat',\n",
    "                          cmap=plt.cm.Blues)"
   ]
  },
  {
   "cell_type": "code",
   "execution_count": 26,
   "metadata": {},
   "outputs": [
    {
     "data": {
      "text/html": [
       "\n",
       "        <iframe\n",
       "            width=\"900\"\n",
       "            height=\"400\"\n",
       "            src=\"./models/squeezeNet_cifar10_noaug.pdf\"\n",
       "            frameborder=\"0\"\n",
       "            allowfullscreen\n",
       "        ></iframe>\n",
       "        "
      ],
      "text/plain": [
       "<IPython.lib.display.IFrame at 0x7fed325d0820>"
      ]
     },
     "execution_count": 26,
     "metadata": {},
     "output_type": "execute_result"
    }
   ],
   "source": [
    "IFrame(\"./models/squeezeNet_cifar10_noaug.pdf\", width=900, height=400)"
   ]
  },
  {
   "cell_type": "markdown",
   "metadata": {},
   "source": [
    "## squeeze net augmented "
   ]
  },
  {
   "cell_type": "code",
   "execution_count": 30,
   "metadata": {},
   "outputs": [],
   "source": [
    "# Cifar10 has 10 classes\n",
    "N_CLASSES = 10\n",
    "# our input dimensions\n",
    "INSHAPE = 32, 32, 3"
   ]
  },
  {
   "cell_type": "code",
   "execution_count": 31,
   "metadata": {},
   "outputs": [],
   "source": [
    "x_test, y_test, y_test1H = load_cifar10(scaled=True)"
   ]
  },
  {
   "cell_type": "code",
   "execution_count": 32,
   "metadata": {},
   "outputs": [
    {
     "name": "stdout",
     "output_type": "stream",
     "text": [
      "313/313 [==============================] - 9s 29ms/step - loss: 0.9249 - accuracy: 0.6733\n",
      "{'loss': 0.924884557723999, 'accuracy': 0.67330002784729}\n"
     ]
    }
   ],
   "source": [
    "tf.keras.backend.clear_session()\n",
    "# Load the model from disk\n",
    "model = load_model(os.path.join('models','squeezeNet_cifar10_aug.h5'))\n",
    "\n",
    "# Evaluate the model\n",
    "test_res = model.evaluate(x_test , y_test1H)\n",
    "\n",
    "# Print the results as a dictionary {<metric name>: <value>}\n",
    "test_res_dict = dict(zip(model.metrics_names, test_res))\n",
    "print(test_res_dict)"
   ]
  },
  {
   "cell_type": "code",
   "execution_count": 33,
   "metadata": {},
   "outputs": [],
   "source": [
    "# plot confusion matrix\n",
    "p_test = model.predict(x_test).argmax(axis=1)\n",
    "cm = confusion_matrix(y_test, p_test)"
   ]
  },
  {
   "cell_type": "code",
   "execution_count": 34,
   "metadata": {},
   "outputs": [
    {
     "name": "stdout",
     "output_type": "stream",
     "text": [
      "Confusion matrix, without normalization\n",
      "[[732  42  32  11  16   6  11  26  57  67]\n",
      " [ 13 847   1   2   0   3   6   3   9 116]\n",
      " [ 83  10 496  68 107  52  87  57  14  26]\n",
      " [ 21  25  52 383  56 220 114  57  22  50]\n",
      " [ 30   7  46  38 566  30 115 148   9  11]\n",
      " [  8  12  27 168  47 561  47  91   7  32]\n",
      " [ 10   9  16  50  37  19 803  18   9  29]\n",
      " [ 23   4   7  30  41  55  14 783   2  41]\n",
      " [ 84  49  11  10   4   4   9   4 774  51]\n",
      " [ 30 127   4   6   0   4  10  17  14 788]]\n"
     ]
    },
    {
     "data": {
      "image/png": "[encoded data removed]",
      "text/plain": [
       "<Figure size 576x576 with 2 Axes>"
      ]
     },
     "metadata": {
      "needs_background": "light"
     },
     "output_type": "display_data"
    }
   ],
   "source": [
    "plot_confusion_matrix_cifar10(cm, list(range(10)),\n",
    "                          title='Confusion matrix SqueezeNet augmented',\n",
    "                          saveas='squeezeNet_cifar10_aug_confmat',\n",
    "                          cmap=plt.cm.Blues)"
   ]
  },
  {
   "cell_type": "code",
   "execution_count": 35,
   "metadata": {},
   "outputs": [
    {
     "data": {
      "text/html": [
       "\n",
       "        <iframe\n",
       "            width=\"900\"\n",
       "            height=\"400\"\n",
       "            src=\"./models/squeezeNet_cifar10_aug.pdf\"\n",
       "            frameborder=\"0\"\n",
       "            allowfullscreen\n",
       "        ></iframe>\n",
       "        "
      ],
      "text/plain": [
       "<IPython.lib.display.IFrame at 0x7fed30ec2df0>"
      ]
     },
     "execution_count": 35,
     "metadata": {},
     "output_type": "execute_result"
    }
   ],
   "source": [
    "IFrame(\"./models/squeezeNet_cifar10_aug.pdf\", width=900, height=400)"
   ]
  },
  {
   "cell_type": "markdown",
   "metadata": {},
   "source": [
    "# Tiny-ImageNet"
   ]
  },
  {
   "cell_type": "code",
   "execution_count": 3,
   "metadata": {},
   "outputs": [],
   "source": [
    "from functools import partial\n",
    "from keras.preprocessing.image import ImageDataGenerator\n",
    "import os\n",
    "import requests\n",
    "import zipfile\n",
    "def load_TIN():\n",
    "    \n",
    "    # Retrieve the data\n",
    "    if not os.path.exists(os.path.join('data','tiny-imagenet-200.zip')):\n",
    "        url = \"http://cs231n.stanford.edu/tiny-imagenet-200.zip\"\n",
    "        # Get the file from web\n",
    "        r = requests.get(url)\n",
    "\n",
    "        if not os.path.exists('data'):\n",
    "            os.mkdir('data')\n",
    "\n",
    "      # Write to a file\n",
    "        with open(os.path.join('data','tiny-imagenet-200.zip'), 'wb') as f:\n",
    "            f.write(r.content)\n",
    "    else:\n",
    "          print(\"The zip file already exists.\")\n",
    "\n",
    "    if not os.path.exists(os.path.join('data', 'tiny-imagenet-200')):\n",
    "        with zipfile.ZipFile(os.path.join('data','tiny-imagenet-200.zip'), 'r') as zip_ref:\n",
    "            zip_ref.extractall('data')\n",
    "    else:\n",
    "        print(\"The extracted data already exists\")\n",
    "    \n",
    "    def get_test_labels_df(test_labels_path):\n",
    "        \"\"\" Reading the test data labels for all files in the test set as a data frame \"\"\"\n",
    "        test_df = pd.read_csv(test_labels_path, sep='\\t', index_col=None, header=None)\n",
    "        test_df = test_df.iloc[:,[0,1]].rename({0:\"filename\", 1:\"class\"}, axis=1)\n",
    "        return test_df\n",
    "\n",
    "    image_gen = ImageDataGenerator(samplewise_center=False)\n",
    "    test_df = get_test_labels_df('./data/tiny-imagenet-200/val/val_annotations.txt')\n",
    "    test_gen = image_gen.flow_from_dataframe(\n",
    "        test_df, directory=os.path.join('./data/tiny-imagenet-200/val/images'), \n",
    "        target_size=PICTURE_SHAPE, classes=None,\n",
    "        class_mode='categorical', shuffle=False,batch_size=10000\n",
    "    )\n",
    "    return test_gen"
   ]
  },
  {
   "cell_type": "code",
   "execution_count": 17,
   "metadata": {},
   "outputs": [],
   "source": [
    "def plot_confusion_matrix_TIN(cm,\n",
    "                          title='Confusion matrix',\n",
    "                          cmap=plt.cm.jet,\n",
    "                          saveas=\"confmat\"):\n",
    "    figure = plt.figure(1, figsize= (8, 8))\n",
    "    ticks=[0, 50, 100, 150, 199]\n",
    "    plt.imshow(cm, interpolation='none',cmap=cmap)\n",
    "    plt.clim(0, 50)\n",
    "    plt.colorbar()\n",
    "    plt.xticks(ticks,fontsize=16)\n",
    "    plt.yticks(ticks,fontsize=16)\n",
    "    plt.tight_layout()\n",
    "    plt.title(title,fontsize=16)\n",
    "    plt.ylabel('True label',fontsize=16)\n",
    "    plt.xlabel('Predicted label',fontsize=16)\n",
    "    figure.savefig(saveas+\".pdf\", bbox_inches='tight')\n",
    "    plt.show()"
   ]
  },
  {
   "cell_type": "code",
   "execution_count": 5,
   "metadata": {},
   "outputs": [],
   "source": [
    "import pandas as pd\n",
    "def analyze_predictions_TIN(cm):\n",
    "    TP_order = np.argsort(cm.diagonal())\n",
    "    dt = pd.read_csv('./data/tiny-imagenet-200/words.txt', index_col=0, skiprows=1, sep='\\t',).T\n",
    "    labels = []\n",
    "    for key in test_gen.class_indices.keys():\n",
    "        labels.append(dt[key][0].split(\",\")[0])\n",
    "    labels = np.array(labels)\n",
    "\n",
    "    print(\"\\n least correct predictions\")\n",
    "    df_wrong = pd.DataFrame(zip(labels[TP_order[:10]], cm.diagonal()[TP_order[:10]]),\n",
    "                   columns =['label', 'times correct predicted'])\n",
    "    display(df_wrong)\n",
    "\n",
    "    print(\"\\n most correct predictions, labels, times correct predicted:\")\n",
    "    df_correct = pd.DataFrame(zip(labels[TP_order[-10:]], cm.diagonal()[TP_order[-10:]]),\n",
    "                   columns =['label', 'times correct predicted'])\n",
    "    display(df_correct)\n",
    "\n",
    "    print(\"\\n most confused labels:\")\n",
    "    cm_nodiag = cm-np.diag(cm.diagonal())\n",
    "    ind = np.unravel_index(np.argsort(cm_nodiag, axis=None), cm_nodiag.shape)\n",
    "    conf_labels = []\n",
    "    for n in range(1,11):\n",
    "        conf_labels.append([cm_nodiag[ind[0][-n],ind[1][-n]], labels[ind[0][-n]], labels[ind[1][-n]] ])\n",
    "    df_conf = pd.DataFrame(conf_labels,\n",
    "                   columns =['times confused', 'actual label', 'predicted label'])\n",
    "    display(df_conf)\n",
    "\n",
    "    print(\"\\n biggest std for column (for which classes the cnn was not very percice):\")\n",
    "    ind_std = np.argsort(  (cm_nodiag + np.diag(cm_nodiag.mean(axis=0))).std(axis=0) )\n",
    "    df_unsure = pd.DataFrame(labels[ind_std[-10:]],\n",
    "                   columns =['times label']).T\n",
    "    display(df_unsure)"
   ]
  },
  {
   "cell_type": "markdown",
   "metadata": {},
   "source": [
    "## squeeze net not augmented "
   ]
  },
  {
   "cell_type": "code",
   "execution_count": 7,
   "metadata": {
    "id": "QpsSA-6-AyE8"
   },
   "outputs": [],
   "source": [
    "# TinyIageNet has 200 classes\n",
    "N_CLASSES = 200\n",
    "# our input dimensions\n",
    "INSHAPE = 64, 64, 3\n",
    "PICTURE_SHAPE = INSHAPE[0], INSHAPE[1]"
   ]
  },
  {
   "cell_type": "code",
   "execution_count": 8,
   "metadata": {
    "id": "jDwNse4MAcCT"
   },
   "outputs": [
    {
     "name": "stdout",
     "output_type": "stream",
     "text": [
      "The zip file already exists.\n",
      "The extracted data already exists\n",
      "Found 10000 validated image filenames belonging to 200 classes.\n"
     ]
    }
   ],
   "source": [
    "test_gen = load_TIN()"
   ]
  },
  {
   "cell_type": "code",
   "execution_count": 9,
   "metadata": {
    "id": "ymM1R5KEATLt"
   },
   "outputs": [],
   "source": [
    "tf.keras.backend.clear_session()\n",
    "# Load the model from disk\n",
    "model = load_model(os.path.join('models','squeezeNetTIN_noaug.h5'))"
   ]
  },
  {
   "cell_type": "code",
   "execution_count": 40,
   "metadata": {
    "colab": {
     "base_uri": "https://localhost:8080/"
    },
    "id": "Y5hwFk-pCBZC",
    "outputId": "e89c63bd-b899-401a-fc2a-04cdb3a46791"
   },
   "outputs": [
    {
     "name": "stdout",
     "output_type": "stream",
     "text": [
      "1/1 [==============================] - 52s 52s/step - loss: 3.2492 - accuracy: 0.3126\n",
      "{'loss': 3.249164342880249, 'accuracy': 0.3125999867916107}\n"
     ]
    }
   ],
   "source": [
    "# Evaluate the model\n",
    "test_res = model.evaluate(test_gen)\n",
    "# Print the results as a dictionary {<metric name>: <value>}\n",
    "test_res_dict = dict(zip(model.metrics_names, test_res))\n",
    "print(test_res_dict)"
   ]
  },
  {
   "cell_type": "code",
   "execution_count": 79,
   "metadata": {},
   "outputs": [],
   "source": [
    "p_test = model.predict(test_gen[0][0]).argmax(axis=1)\n",
    "cm = confusion_matrix(np.argmax(test_gen[0][1],axis=1), p_test)"
   ]
  },
  {
   "cell_type": "code",
   "execution_count": 80,
   "metadata": {},
   "outputs": [
    {
     "data": {
      "image/png": "[encoded data removed]",
      "text/plain": [
       "<Figure size 576x576 with 2 Axes>"
      ]
     },
     "metadata": {
      "needs_background": "light"
     },
     "output_type": "display_data"
    }
   ],
   "source": [
    "plot_confusion_matrix_TIN(cm,title='Confusion matrix SqueezeNet not augmented',\n",
    "                          saveas='squeezeNet_TIN_noaug_confmat',)"
   ]
  },
  {
   "cell_type": "code",
   "execution_count": 2,
   "metadata": {},
   "outputs": [
    {
     "data": {
      "text/html": [
       "\n",
       "        <iframe\n",
       "            width=\"900\"\n",
       "            height=\"400\"\n",
       "            src=\"./models/squeezeNetTIN_noaug.pdf\"\n",
       "            frameborder=\"0\"\n",
       "            allowfullscreen\n",
       "        ></iframe>\n",
       "        "
      ],
      "text/plain": [
       "<IPython.lib.display.IFrame at 0x7f0614087340>"
      ]
     },
     "execution_count": 2,
     "metadata": {},
     "output_type": "execute_result"
    }
   ],
   "source": [
    "IFrame(\"./models/squeezeNetTIN_noaug.pdf\", width=900, height=400)"
   ]
  },
  {
   "cell_type": "code",
   "execution_count": 105,
   "metadata": {},
   "outputs": [
    {
     "name": "stdout",
     "output_type": "stream",
     "text": [
      "\n",
      " least correct predictions\n"
     ]
    },
    {
     "data": {
      "text/html": [
       "<div>\n",
       "<style scoped>\n",
       "    .dataframe tbody tr th:only-of-type {\n",
       "        vertical-align: middle;\n",
       "    }\n",
       "\n",
       "    .dataframe tbody tr th {\n",
       "        vertical-align: top;\n",
       "    }\n",
       "\n",
       "    .dataframe thead th {\n",
       "        text-align: right;\n",
       "    }\n",
       "</style>\n",
       "<table border=\"1\" class=\"dataframe\">\n",
       "  <thead>\n",
       "    <tr style=\"text-align: right;\">\n",
       "      <th></th>\n",
       "      <th>label</th>\n",
       "      <th>times correct predicted</th>\n",
       "    </tr>\n",
       "  </thead>\n",
       "  <tbody>\n",
       "    <tr>\n",
       "      <th>0</th>\n",
       "      <td>wooden spoon</td>\n",
       "      <td>0</td>\n",
       "    </tr>\n",
       "    <tr>\n",
       "      <th>1</th>\n",
       "      <td>teddy</td>\n",
       "      <td>1</td>\n",
       "    </tr>\n",
       "    <tr>\n",
       "      <th>2</th>\n",
       "      <td>Labrador retriever</td>\n",
       "      <td>1</td>\n",
       "    </tr>\n",
       "    <tr>\n",
       "      <th>3</th>\n",
       "      <td>plunger</td>\n",
       "      <td>1</td>\n",
       "    </tr>\n",
       "    <tr>\n",
       "      <th>4</th>\n",
       "      <td>umbrella</td>\n",
       "      <td>1</td>\n",
       "    </tr>\n",
       "    <tr>\n",
       "      <th>5</th>\n",
       "      <td>broom</td>\n",
       "      <td>2</td>\n",
       "    </tr>\n",
       "    <tr>\n",
       "      <th>6</th>\n",
       "      <td>bucket</td>\n",
       "      <td>3</td>\n",
       "    </tr>\n",
       "    <tr>\n",
       "      <th>7</th>\n",
       "      <td>fountain</td>\n",
       "      <td>3</td>\n",
       "    </tr>\n",
       "    <tr>\n",
       "      <th>8</th>\n",
       "      <td>potter's wheel</td>\n",
       "      <td>3</td>\n",
       "    </tr>\n",
       "    <tr>\n",
       "      <th>9</th>\n",
       "      <td>chain</td>\n",
       "      <td>3</td>\n",
       "    </tr>\n",
       "  </tbody>\n",
       "</table>\n",
       "</div>"
      ],
      "text/plain": [
       "                label  times correct predicted\n",
       "0        wooden spoon                        0\n",
       "1               teddy                        1\n",
       "2  Labrador retriever                        1\n",
       "3             plunger                        1\n",
       "4            umbrella                        1\n",
       "5               broom                        2\n",
       "6              bucket                        3\n",
       "7            fountain                        3\n",
       "8      potter's wheel                        3\n",
       "9               chain                        3"
      ]
     },
     "metadata": {},
     "output_type": "display_data"
    },
    {
     "name": "stdout",
     "output_type": "stream",
     "text": [
      "\n",
      " most correct predictions, labels, times correct predicted:\n"
     ]
    },
    {
     "data": {
      "text/html": [
       "<div>\n",
       "<style scoped>\n",
       "    .dataframe tbody tr th:only-of-type {\n",
       "        vertical-align: middle;\n",
       "    }\n",
       "\n",
       "    .dataframe tbody tr th {\n",
       "        vertical-align: top;\n",
       "    }\n",
       "\n",
       "    .dataframe thead th {\n",
       "        text-align: right;\n",
       "    }\n",
       "</style>\n",
       "<table border=\"1\" class=\"dataframe\">\n",
       "  <thead>\n",
       "    <tr style=\"text-align: right;\">\n",
       "      <th></th>\n",
       "      <th>label</th>\n",
       "      <th>times correct predicted</th>\n",
       "    </tr>\n",
       "  </thead>\n",
       "  <tbody>\n",
       "    <tr>\n",
       "      <th>0</th>\n",
       "      <td>espresso</td>\n",
       "      <td>31</td>\n",
       "    </tr>\n",
       "    <tr>\n",
       "      <th>1</th>\n",
       "      <td>obelisk</td>\n",
       "      <td>32</td>\n",
       "    </tr>\n",
       "    <tr>\n",
       "      <th>2</th>\n",
       "      <td>sulphur butterfly</td>\n",
       "      <td>34</td>\n",
       "    </tr>\n",
       "    <tr>\n",
       "      <th>3</th>\n",
       "      <td>lifeboat</td>\n",
       "      <td>34</td>\n",
       "    </tr>\n",
       "    <tr>\n",
       "      <th>4</th>\n",
       "      <td>brass</td>\n",
       "      <td>34</td>\n",
       "    </tr>\n",
       "    <tr>\n",
       "      <th>5</th>\n",
       "      <td>goldfish</td>\n",
       "      <td>34</td>\n",
       "    </tr>\n",
       "    <tr>\n",
       "      <th>6</th>\n",
       "      <td>monarch</td>\n",
       "      <td>35</td>\n",
       "    </tr>\n",
       "    <tr>\n",
       "      <th>7</th>\n",
       "      <td>school bus</td>\n",
       "      <td>35</td>\n",
       "    </tr>\n",
       "    <tr>\n",
       "      <th>8</th>\n",
       "      <td>rugby ball</td>\n",
       "      <td>36</td>\n",
       "    </tr>\n",
       "    <tr>\n",
       "      <th>9</th>\n",
       "      <td>dugong</td>\n",
       "      <td>36</td>\n",
       "    </tr>\n",
       "  </tbody>\n",
       "</table>\n",
       "</div>"
      ],
      "text/plain": [
       "               label  times correct predicted\n",
       "0           espresso                       31\n",
       "1            obelisk                       32\n",
       "2  sulphur butterfly                       34\n",
       "3           lifeboat                       34\n",
       "4              brass                       34\n",
       "5           goldfish                       34\n",
       "6            monarch                       35\n",
       "7         school bus                       35\n",
       "8         rugby ball                       36\n",
       "9             dugong                       36"
      ]
     },
     "metadata": {},
     "output_type": "display_data"
    },
    {
     "name": "stdout",
     "output_type": "stream",
     "text": [
      "\n",
      " most confused labels:\n"
     ]
    },
    {
     "data": {
      "text/html": [
       "<div>\n",
       "<style scoped>\n",
       "    .dataframe tbody tr th:only-of-type {\n",
       "        vertical-align: middle;\n",
       "    }\n",
       "\n",
       "    .dataframe tbody tr th {\n",
       "        vertical-align: top;\n",
       "    }\n",
       "\n",
       "    .dataframe thead th {\n",
       "        text-align: right;\n",
       "    }\n",
       "</style>\n",
       "<table border=\"1\" class=\"dataframe\">\n",
       "  <thead>\n",
       "    <tr style=\"text-align: right;\">\n",
       "      <th></th>\n",
       "      <th>times confused</th>\n",
       "      <th>actual label</th>\n",
       "      <th>predicted label</th>\n",
       "    </tr>\n",
       "  </thead>\n",
       "  <tbody>\n",
       "    <tr>\n",
       "      <th>0</th>\n",
       "      <td>10</td>\n",
       "      <td>sports car</td>\n",
       "      <td>convertible</td>\n",
       "    </tr>\n",
       "    <tr>\n",
       "      <th>1</th>\n",
       "      <td>9</td>\n",
       "      <td>convertible</td>\n",
       "      <td>beach wagon</td>\n",
       "    </tr>\n",
       "    <tr>\n",
       "      <th>2</th>\n",
       "      <td>8</td>\n",
       "      <td>altar</td>\n",
       "      <td>organ</td>\n",
       "    </tr>\n",
       "    <tr>\n",
       "      <th>3</th>\n",
       "      <td>7</td>\n",
       "      <td>mashed potato</td>\n",
       "      <td>potpie</td>\n",
       "    </tr>\n",
       "    <tr>\n",
       "      <th>4</th>\n",
       "      <td>7</td>\n",
       "      <td>goose</td>\n",
       "      <td>black stork</td>\n",
       "    </tr>\n",
       "    <tr>\n",
       "      <th>5</th>\n",
       "      <td>7</td>\n",
       "      <td>fly</td>\n",
       "      <td>bee</td>\n",
       "    </tr>\n",
       "    <tr>\n",
       "      <th>6</th>\n",
       "      <td>7</td>\n",
       "      <td>police van</td>\n",
       "      <td>limousine</td>\n",
       "    </tr>\n",
       "    <tr>\n",
       "      <th>7</th>\n",
       "      <td>7</td>\n",
       "      <td>lemon</td>\n",
       "      <td>banana</td>\n",
       "    </tr>\n",
       "    <tr>\n",
       "      <th>8</th>\n",
       "      <td>7</td>\n",
       "      <td>coral reef</td>\n",
       "      <td>brain coral</td>\n",
       "    </tr>\n",
       "    <tr>\n",
       "      <th>9</th>\n",
       "      <td>7</td>\n",
       "      <td>beach wagon</td>\n",
       "      <td>convertible</td>\n",
       "    </tr>\n",
       "  </tbody>\n",
       "</table>\n",
       "</div>"
      ],
      "text/plain": [
       "   times confused   actual label predicted label\n",
       "0              10     sports car     convertible\n",
       "1               9    convertible     beach wagon\n",
       "2               8          altar           organ\n",
       "3               7  mashed potato          potpie\n",
       "4               7          goose     black stork\n",
       "5               7            fly             bee\n",
       "6               7     police van       limousine\n",
       "7               7          lemon          banana\n",
       "8               7     coral reef     brain coral\n",
       "9               7    beach wagon     convertible"
      ]
     },
     "metadata": {},
     "output_type": "display_data"
    },
    {
     "name": "stdout",
     "output_type": "stream",
     "text": [
      "\n",
      " biggest std for column (for which classes the cnn was not very percice):\n"
     ]
    },
    {
     "data": {
      "text/html": [
       "<div>\n",
       "<style scoped>\n",
       "    .dataframe tbody tr th:only-of-type {\n",
       "        vertical-align: middle;\n",
       "    }\n",
       "\n",
       "    .dataframe tbody tr th {\n",
       "        vertical-align: top;\n",
       "    }\n",
       "\n",
       "    .dataframe thead th {\n",
       "        text-align: right;\n",
       "    }\n",
       "</style>\n",
       "<table border=\"1\" class=\"dataframe\">\n",
       "  <thead>\n",
       "    <tr style=\"text-align: right;\">\n",
       "      <th></th>\n",
       "      <th>0</th>\n",
       "      <th>1</th>\n",
       "      <th>2</th>\n",
       "      <th>3</th>\n",
       "      <th>4</th>\n",
       "      <th>5</th>\n",
       "      <th>6</th>\n",
       "      <th>7</th>\n",
       "      <th>8</th>\n",
       "      <th>9</th>\n",
       "    </tr>\n",
       "  </thead>\n",
       "  <tbody>\n",
       "    <tr>\n",
       "      <th>times label</th>\n",
       "      <td>black stork</td>\n",
       "      <td>limousine</td>\n",
       "      <td>tarantula</td>\n",
       "      <td>kimono</td>\n",
       "      <td>seashore</td>\n",
       "      <td>organ</td>\n",
       "      <td>beach wagon</td>\n",
       "      <td>potpie</td>\n",
       "      <td>brown bear</td>\n",
       "      <td>convertible</td>\n",
       "    </tr>\n",
       "  </tbody>\n",
       "</table>\n",
       "</div>"
      ],
      "text/plain": [
       "                       0          1          2       3         4      5  \\\n",
       "times label  black stork  limousine  tarantula  kimono  seashore  organ   \n",
       "\n",
       "                       6       7           8            9  \n",
       "times label  beach wagon  potpie  brown bear  convertible  "
      ]
     },
     "metadata": {},
     "output_type": "display_data"
    }
   ],
   "source": [
    "analyze_predictions_TIN(cm)"
   ]
  },
  {
   "cell_type": "markdown",
   "metadata": {},
   "source": [
    "## squeeze net augmented "
   ]
  },
  {
   "cell_type": "code",
   "execution_count": 10,
   "metadata": {},
   "outputs": [],
   "source": [
    "# TinyIageNet has 200 classes\n",
    "N_CLASSES = 200\n",
    "# our input dimensions\n",
    "INSHAPE = 64, 64, 3\n",
    "PICTURE_SHAPE = INSHAPE[0], INSHAPE[1]"
   ]
  },
  {
   "cell_type": "code",
   "execution_count": 11,
   "metadata": {},
   "outputs": [
    {
     "name": "stdout",
     "output_type": "stream",
     "text": [
      "The zip file already exists.\n",
      "The extracted data already exists\n",
      "Found 10000 validated image filenames belonging to 200 classes.\n"
     ]
    }
   ],
   "source": [
    "test_gen = load_TIN()"
   ]
  },
  {
   "cell_type": "code",
   "execution_count": 12,
   "metadata": {},
   "outputs": [],
   "source": [
    "tf.keras.backend.clear_session()\n",
    "# Load the model from disk\n",
    "model = load_model(os.path.join('models','squeezeNetTIN_aug.h5'))"
   ]
  },
  {
   "cell_type": "code",
   "execution_count": 13,
   "metadata": {},
   "outputs": [
    {
     "name": "stdout",
     "output_type": "stream",
     "text": [
      "1/1 [==============================] - 60s 60s/step - loss: 3.0521 - accuracy: 0.3400\n",
      "{'loss': 3.05206298828125, 'accuracy': 0.3400000035762787}\n"
     ]
    }
   ],
   "source": [
    "# Evaluate the model\n",
    "test_res = model.evaluate(test_gen)\n",
    "# Print the results as a dictionary {<metric name>: <value>}\n",
    "test_res_dict = dict(zip(model.metrics_names, test_res))\n",
    "print(test_res_dict)"
   ]
  },
  {
   "cell_type": "code",
   "execution_count": 14,
   "metadata": {},
   "outputs": [],
   "source": [
    "p_test = model.predict(test_gen[0][0]).argmax(axis=1)\n",
    "cm = confusion_matrix(np.argmax(test_gen[0][1],axis=1), p_test)"
   ]
  },
  {
   "cell_type": "code",
   "execution_count": 18,
   "metadata": {},
   "outputs": [
    {
     "data": {
      "image/png": "[encoded data removed]",
      "text/plain": [
       "<Figure size 576x576 with 2 Axes>"
      ]
     },
     "metadata": {
      "needs_background": "light"
     },
     "output_type": "display_data"
    }
   ],
   "source": [
    "plot_confusion_matrix_TIN(cm,title='Confusion matrix SqueezeNet not augmented',\n",
    "                          saveas='squeezeNet_TIN_aug_confmat',)"
   ]
  },
  {
   "cell_type": "code",
   "execution_count": 19,
   "metadata": {},
   "outputs": [
    {
     "data": {
      "text/html": [
       "\n",
       "        <iframe\n",
       "            width=\"900\"\n",
       "            height=\"400\"\n",
       "            src=\"./models/squeezeNetTIN_aug.pdf\"\n",
       "            frameborder=\"0\"\n",
       "            allowfullscreen\n",
       "        ></iframe>\n",
       "        "
      ],
      "text/plain": [
       "<IPython.lib.display.IFrame at 0x7f0588176a90>"
      ]
     },
     "execution_count": 19,
     "metadata": {},
     "output_type": "execute_result"
    }
   ],
   "source": [
    "IFrame(\"./models/squeezeNetTIN_aug.pdf\", width=900, height=400)"
   ]
  },
  {
   "cell_type": "code",
   "execution_count": 20,
   "metadata": {},
   "outputs": [
    {
     "name": "stdout",
     "output_type": "stream",
     "text": [
      "\n",
      " least correct predictions\n"
     ]
    },
    {
     "data": {
      "text/html": [
       "<div>\n",
       "<style scoped>\n",
       "    .dataframe tbody tr th:only-of-type {\n",
       "        vertical-align: middle;\n",
       "    }\n",
       "\n",
       "    .dataframe tbody tr th {\n",
       "        vertical-align: top;\n",
       "    }\n",
       "\n",
       "    .dataframe thead th {\n",
       "        text-align: right;\n",
       "    }\n",
       "</style>\n",
       "<table border=\"1\" class=\"dataframe\">\n",
       "  <thead>\n",
       "    <tr style=\"text-align: right;\">\n",
       "      <th></th>\n",
       "      <th>label</th>\n",
       "      <th>times correct predicted</th>\n",
       "    </tr>\n",
       "  </thead>\n",
       "  <tbody>\n",
       "    <tr>\n",
       "      <th>0</th>\n",
       "      <td>water jug</td>\n",
       "      <td>0</td>\n",
       "    </tr>\n",
       "    <tr>\n",
       "      <th>1</th>\n",
       "      <td>plunger</td>\n",
       "      <td>1</td>\n",
       "    </tr>\n",
       "    <tr>\n",
       "      <th>2</th>\n",
       "      <td>pop bottle</td>\n",
       "      <td>2</td>\n",
       "    </tr>\n",
       "    <tr>\n",
       "      <th>3</th>\n",
       "      <td>barrel</td>\n",
       "      <td>3</td>\n",
       "    </tr>\n",
       "    <tr>\n",
       "      <th>4</th>\n",
       "      <td>umbrella</td>\n",
       "      <td>3</td>\n",
       "    </tr>\n",
       "    <tr>\n",
       "      <th>5</th>\n",
       "      <td>Labrador retriever</td>\n",
       "      <td>3</td>\n",
       "    </tr>\n",
       "    <tr>\n",
       "      <th>6</th>\n",
       "      <td>Chihuahua</td>\n",
       "      <td>3</td>\n",
       "    </tr>\n",
       "    <tr>\n",
       "      <th>7</th>\n",
       "      <td>bucket</td>\n",
       "      <td>3</td>\n",
       "    </tr>\n",
       "    <tr>\n",
       "      <th>8</th>\n",
       "      <td>chain</td>\n",
       "      <td>3</td>\n",
       "    </tr>\n",
       "    <tr>\n",
       "      <th>9</th>\n",
       "      <td>dumbbell</td>\n",
       "      <td>4</td>\n",
       "    </tr>\n",
       "  </tbody>\n",
       "</table>\n",
       "</div>"
      ],
      "text/plain": [
       "                label  times correct predicted\n",
       "0           water jug                        0\n",
       "1             plunger                        1\n",
       "2          pop bottle                        2\n",
       "3              barrel                        3\n",
       "4            umbrella                        3\n",
       "5  Labrador retriever                        3\n",
       "6           Chihuahua                        3\n",
       "7              bucket                        3\n",
       "8               chain                        3\n",
       "9            dumbbell                        4"
      ]
     },
     "metadata": {},
     "output_type": "display_data"
    },
    {
     "name": "stdout",
     "output_type": "stream",
     "text": [
      "\n",
      " most correct predictions, labels, times correct predicted:\n"
     ]
    },
    {
     "data": {
      "text/html": [
       "<div>\n",
       "<style scoped>\n",
       "    .dataframe tbody tr th:only-of-type {\n",
       "        vertical-align: middle;\n",
       "    }\n",
       "\n",
       "    .dataframe tbody tr th {\n",
       "        vertical-align: top;\n",
       "    }\n",
       "\n",
       "    .dataframe thead th {\n",
       "        text-align: right;\n",
       "    }\n",
       "</style>\n",
       "<table border=\"1\" class=\"dataframe\">\n",
       "  <thead>\n",
       "    <tr style=\"text-align: right;\">\n",
       "      <th></th>\n",
       "      <th>label</th>\n",
       "      <th>times correct predicted</th>\n",
       "    </tr>\n",
       "  </thead>\n",
       "  <tbody>\n",
       "    <tr>\n",
       "      <th>0</th>\n",
       "      <td>triumphal arch</td>\n",
       "      <td>33</td>\n",
       "    </tr>\n",
       "    <tr>\n",
       "      <th>1</th>\n",
       "      <td>maypole</td>\n",
       "      <td>34</td>\n",
       "    </tr>\n",
       "    <tr>\n",
       "      <th>2</th>\n",
       "      <td>rugby ball</td>\n",
       "      <td>34</td>\n",
       "    </tr>\n",
       "    <tr>\n",
       "      <th>3</th>\n",
       "      <td>espresso</td>\n",
       "      <td>34</td>\n",
       "    </tr>\n",
       "    <tr>\n",
       "      <th>4</th>\n",
       "      <td>brass</td>\n",
       "      <td>34</td>\n",
       "    </tr>\n",
       "    <tr>\n",
       "      <th>5</th>\n",
       "      <td>lifeboat</td>\n",
       "      <td>36</td>\n",
       "    </tr>\n",
       "    <tr>\n",
       "      <th>6</th>\n",
       "      <td>black widow</td>\n",
       "      <td>36</td>\n",
       "    </tr>\n",
       "    <tr>\n",
       "      <th>7</th>\n",
       "      <td>European fire salamander</td>\n",
       "      <td>37</td>\n",
       "    </tr>\n",
       "    <tr>\n",
       "      <th>8</th>\n",
       "      <td>school bus</td>\n",
       "      <td>40</td>\n",
       "    </tr>\n",
       "    <tr>\n",
       "      <th>9</th>\n",
       "      <td>monarch</td>\n",
       "      <td>43</td>\n",
       "    </tr>\n",
       "  </tbody>\n",
       "</table>\n",
       "</div>"
      ],
      "text/plain": [
       "                      label  times correct predicted\n",
       "0            triumphal arch                       33\n",
       "1                   maypole                       34\n",
       "2                rugby ball                       34\n",
       "3                  espresso                       34\n",
       "4                     brass                       34\n",
       "5                  lifeboat                       36\n",
       "6               black widow                       36\n",
       "7  European fire salamander                       37\n",
       "8                school bus                       40\n",
       "9                   monarch                       43"
      ]
     },
     "metadata": {},
     "output_type": "display_data"
    },
    {
     "name": "stdout",
     "output_type": "stream",
     "text": [
      "\n",
      " most confused labels:\n"
     ]
    },
    {
     "data": {
      "text/html": [
       "<div>\n",
       "<style scoped>\n",
       "    .dataframe tbody tr th:only-of-type {\n",
       "        vertical-align: middle;\n",
       "    }\n",
       "\n",
       "    .dataframe tbody tr th {\n",
       "        vertical-align: top;\n",
       "    }\n",
       "\n",
       "    .dataframe thead th {\n",
       "        text-align: right;\n",
       "    }\n",
       "</style>\n",
       "<table border=\"1\" class=\"dataframe\">\n",
       "  <thead>\n",
       "    <tr style=\"text-align: right;\">\n",
       "      <th></th>\n",
       "      <th>times confused</th>\n",
       "      <th>actual label</th>\n",
       "      <th>predicted label</th>\n",
       "    </tr>\n",
       "  </thead>\n",
       "  <tbody>\n",
       "    <tr>\n",
       "      <th>0</th>\n",
       "      <td>13</td>\n",
       "      <td>bee</td>\n",
       "      <td>monarch</td>\n",
       "    </tr>\n",
       "    <tr>\n",
       "      <th>1</th>\n",
       "      <td>12</td>\n",
       "      <td>sports car</td>\n",
       "      <td>convertible</td>\n",
       "    </tr>\n",
       "    <tr>\n",
       "      <th>2</th>\n",
       "      <td>11</td>\n",
       "      <td>CD player</td>\n",
       "      <td>scoreboard</td>\n",
       "    </tr>\n",
       "    <tr>\n",
       "      <th>3</th>\n",
       "      <td>11</td>\n",
       "      <td>altar</td>\n",
       "      <td>organ</td>\n",
       "    </tr>\n",
       "    <tr>\n",
       "      <th>4</th>\n",
       "      <td>11</td>\n",
       "      <td>convertible</td>\n",
       "      <td>beach wagon</td>\n",
       "    </tr>\n",
       "    <tr>\n",
       "      <th>5</th>\n",
       "      <td>10</td>\n",
       "      <td>coral reef</td>\n",
       "      <td>brain coral</td>\n",
       "    </tr>\n",
       "    <tr>\n",
       "      <th>6</th>\n",
       "      <td>10</td>\n",
       "      <td>dam</td>\n",
       "      <td>steel arch bridge</td>\n",
       "    </tr>\n",
       "    <tr>\n",
       "      <th>7</th>\n",
       "      <td>10</td>\n",
       "      <td>beach wagon</td>\n",
       "      <td>convertible</td>\n",
       "    </tr>\n",
       "    <tr>\n",
       "      <th>8</th>\n",
       "      <td>9</td>\n",
       "      <td>scorpion</td>\n",
       "      <td>centipede</td>\n",
       "    </tr>\n",
       "    <tr>\n",
       "      <th>9</th>\n",
       "      <td>9</td>\n",
       "      <td>slug</td>\n",
       "      <td>centipede</td>\n",
       "    </tr>\n",
       "  </tbody>\n",
       "</table>\n",
       "</div>"
      ],
      "text/plain": [
       "   times confused actual label    predicted label\n",
       "0              13          bee            monarch\n",
       "1              12   sports car        convertible\n",
       "2              11    CD player         scoreboard\n",
       "3              11        altar              organ\n",
       "4              11  convertible        beach wagon\n",
       "5              10   coral reef        brain coral\n",
       "6              10          dam  steel arch bridge\n",
       "7              10  beach wagon        convertible\n",
       "8               9     scorpion          centipede\n",
       "9               9         slug          centipede"
      ]
     },
     "metadata": {},
     "output_type": "display_data"
    },
    {
     "name": "stdout",
     "output_type": "stream",
     "text": [
      "\n",
      " biggest std for column (for which classes the cnn was not very percice):\n"
     ]
    },
    {
     "data": {
      "text/html": [
       "<div>\n",
       "<style scoped>\n",
       "    .dataframe tbody tr th:only-of-type {\n",
       "        vertical-align: middle;\n",
       "    }\n",
       "\n",
       "    .dataframe tbody tr th {\n",
       "        vertical-align: top;\n",
       "    }\n",
       "\n",
       "    .dataframe thead th {\n",
       "        text-align: right;\n",
       "    }\n",
       "</style>\n",
       "<table border=\"1\" class=\"dataframe\">\n",
       "  <thead>\n",
       "    <tr style=\"text-align: right;\">\n",
       "      <th></th>\n",
       "      <th>0</th>\n",
       "      <th>1</th>\n",
       "      <th>2</th>\n",
       "      <th>3</th>\n",
       "      <th>4</th>\n",
       "      <th>5</th>\n",
       "      <th>6</th>\n",
       "      <th>7</th>\n",
       "      <th>8</th>\n",
       "      <th>9</th>\n",
       "    </tr>\n",
       "  </thead>\n",
       "  <tbody>\n",
       "    <tr>\n",
       "      <th>times label</th>\n",
       "      <td>jinrikisha</td>\n",
       "      <td>beach wagon</td>\n",
       "      <td>pay-phone</td>\n",
       "      <td>organ</td>\n",
       "      <td>comic book</td>\n",
       "      <td>centipede</td>\n",
       "      <td>monarch</td>\n",
       "      <td>steel arch bridge</td>\n",
       "      <td>convertible</td>\n",
       "      <td>scoreboard</td>\n",
       "    </tr>\n",
       "  </tbody>\n",
       "</table>\n",
       "</div>"
      ],
      "text/plain": [
       "                      0            1          2      3           4          5  \\\n",
       "times label  jinrikisha  beach wagon  pay-phone  organ  comic book  centipede   \n",
       "\n",
       "                   6                  7            8           9  \n",
       "times label  monarch  steel arch bridge  convertible  scoreboard  "
      ]
     },
     "metadata": {},
     "output_type": "display_data"
    }
   ],
   "source": [
    "analyze_predictions_TIN(cm)"
   ]
  },
  {
   "cell_type": "code",
   "execution_count": null,
   "metadata": {},
   "outputs": [],
   "source": []
  }
 ],
 "metadata": {
  "colab": {
   "collapsed_sections": [],
   "name": "plotter.ipynb",
   "provenance": []
  },
  "kernelspec": {
   "display_name": "Python 3",
   "language": "python",
   "name": "python3"
  },
  "language_info": {
   "codemirror_mode": {
    "name": "ipython",
    "version": 3
   },
   "file_extension": ".py",
   "mimetype": "text/x-python",
   "name": "python",
   "nbconvert_exporter": "python",
   "pygments_lexer": "ipython3",
   "version": "3.7.4"
  }
 },
 "nbformat": 4,
 "nbformat_minor": 1
}
