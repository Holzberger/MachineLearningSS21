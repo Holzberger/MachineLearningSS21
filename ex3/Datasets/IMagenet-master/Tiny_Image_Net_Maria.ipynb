{
 "cells": [
  {
   "cell_type": "code",
   "execution_count": 1,
   "metadata": {},
   "outputs": [],
   "source": [
    "import numpy as np\n",
    "import pandas as pd\n",
    "import matplotlib.pyplot as plt\n",
    "import seaborn as sns\n",
    "import datetime\n",
    "from PIL import Image\n",
    "\n",
    "from sklearn import metrics\n",
    "from sklearn.model_selection import train_test_split\n",
    "from sklearn.model_selection import cross_val_score\n",
    "from sklearn.model_selection import KFold\n",
    "\n",
    "from sklearn import neighbors\n",
    "from sklearn import linear_model\n",
    "from sklearn import naive_bayes\n",
    "from sklearn import tree\n",
    "from sklearn import ensemble\n",
    "from sklearn import svm\n",
    "\n",
    "from sklearn.cluster import KMeans\n",
    "from sklearn.neural_network import MLPClassifier\n",
    "from sklearn.preprocessing import StandardScaler\n",
    "\n",
    "import cv2\n",
    "#from matplotlib import pyplot as plt\n",
    "import matplotlib.pyplot as plt\n",
    "%matplotlib inline\n",
    "\n",
    "from time import time"
   ]
  },
  {
   "cell_type": "markdown",
   "metadata": {},
   "source": [
    "# Algorithms"
   ]
  },
  {
   "cell_type": "code",
   "execution_count": 2,
   "metadata": {},
   "outputs": [
    {
     "name": "stderr",
     "output_type": "stream",
     "text": [
      "Using TensorFlow backend.\n",
      "C:\\Users\\saeny\\Anaconda3\\lib\\site-packages\\tensorflow\\python\\framework\\dtypes.py:516: FutureWarning: Passing (type, 1) or '1type' as a synonym of type is deprecated; in a future version of numpy, it will be understood as (type, (1,)) / '(1,)type'.\n",
      "  _np_qint8 = np.dtype([(\"qint8\", np.int8, 1)])\n",
      "C:\\Users\\saeny\\Anaconda3\\lib\\site-packages\\tensorflow\\python\\framework\\dtypes.py:517: FutureWarning: Passing (type, 1) or '1type' as a synonym of type is deprecated; in a future version of numpy, it will be understood as (type, (1,)) / '(1,)type'.\n",
      "  _np_quint8 = np.dtype([(\"quint8\", np.uint8, 1)])\n",
      "C:\\Users\\saeny\\Anaconda3\\lib\\site-packages\\tensorflow\\python\\framework\\dtypes.py:518: FutureWarning: Passing (type, 1) or '1type' as a synonym of type is deprecated; in a future version of numpy, it will be understood as (type, (1,)) / '(1,)type'.\n",
      "  _np_qint16 = np.dtype([(\"qint16\", np.int16, 1)])\n",
      "C:\\Users\\saeny\\Anaconda3\\lib\\site-packages\\tensorflow\\python\\framework\\dtypes.py:519: FutureWarning: Passing (type, 1) or '1type' as a synonym of type is deprecated; in a future version of numpy, it will be understood as (type, (1,)) / '(1,)type'.\n",
      "  _np_quint16 = np.dtype([(\"quint16\", np.uint16, 1)])\n",
      "C:\\Users\\saeny\\Anaconda3\\lib\\site-packages\\tensorflow\\python\\framework\\dtypes.py:520: FutureWarning: Passing (type, 1) or '1type' as a synonym of type is deprecated; in a future version of numpy, it will be understood as (type, (1,)) / '(1,)type'.\n",
      "  _np_qint32 = np.dtype([(\"qint32\", np.int32, 1)])\n",
      "C:\\Users\\saeny\\Anaconda3\\lib\\site-packages\\tensorflow\\python\\framework\\dtypes.py:525: FutureWarning: Passing (type, 1) or '1type' as a synonym of type is deprecated; in a future version of numpy, it will be understood as (type, (1,)) / '(1,)type'.\n",
      "  np_resource = np.dtype([(\"resource\", np.ubyte, 1)])\n",
      "C:\\Users\\saeny\\Anaconda3\\lib\\site-packages\\tensorboard\\compat\\tensorflow_stub\\dtypes.py:541: FutureWarning: Passing (type, 1) or '1type' as a synonym of type is deprecated; in a future version of numpy, it will be understood as (type, (1,)) / '(1,)type'.\n",
      "  _np_qint8 = np.dtype([(\"qint8\", np.int8, 1)])\n",
      "C:\\Users\\saeny\\Anaconda3\\lib\\site-packages\\tensorboard\\compat\\tensorflow_stub\\dtypes.py:542: FutureWarning: Passing (type, 1) or '1type' as a synonym of type is deprecated; in a future version of numpy, it will be understood as (type, (1,)) / '(1,)type'.\n",
      "  _np_quint8 = np.dtype([(\"quint8\", np.uint8, 1)])\n",
      "C:\\Users\\saeny\\Anaconda3\\lib\\site-packages\\tensorboard\\compat\\tensorflow_stub\\dtypes.py:543: FutureWarning: Passing (type, 1) or '1type' as a synonym of type is deprecated; in a future version of numpy, it will be understood as (type, (1,)) / '(1,)type'.\n",
      "  _np_qint16 = np.dtype([(\"qint16\", np.int16, 1)])\n",
      "C:\\Users\\saeny\\Anaconda3\\lib\\site-packages\\tensorboard\\compat\\tensorflow_stub\\dtypes.py:544: FutureWarning: Passing (type, 1) or '1type' as a synonym of type is deprecated; in a future version of numpy, it will be understood as (type, (1,)) / '(1,)type'.\n",
      "  _np_quint16 = np.dtype([(\"quint16\", np.uint16, 1)])\n",
      "C:\\Users\\saeny\\Anaconda3\\lib\\site-packages\\tensorboard\\compat\\tensorflow_stub\\dtypes.py:545: FutureWarning: Passing (type, 1) or '1type' as a synonym of type is deprecated; in a future version of numpy, it will be understood as (type, (1,)) / '(1,)type'.\n",
      "  _np_qint32 = np.dtype([(\"qint32\", np.int32, 1)])\n",
      "C:\\Users\\saeny\\Anaconda3\\lib\\site-packages\\tensorboard\\compat\\tensorflow_stub\\dtypes.py:550: FutureWarning: Passing (type, 1) or '1type' as a synonym of type is deprecated; in a future version of numpy, it will be understood as (type, (1,)) / '(1,)type'.\n",
      "  np_resource = np.dtype([(\"resource\", np.ubyte, 1)])\n"
     ]
    }
   ],
   "source": [
    "from sklearn.feature_extraction.text import CountVectorizer\n",
    "from sklearn.neighbors import KNeighborsClassifier\n",
    "from sklearn.metrics import classification_report , confusion_matrix , accuracy_score, f1_score, plot_confusion_matrix\n",
    "from sklearn.linear_model import Perceptron\n",
    "from sklearn.tree import DecisionTreeClassifier\n",
    "from sklearn.ensemble import RandomForestClassifier\n",
    "from sklearn.naive_bayes import MultinomialNB\n",
    "from sklearn.preprocessing import MinMaxScaler\n",
    "from sklearn.metrics import classification_report, ConfusionMatrixDisplay\n",
    "from sklearn.model_selection import GridSearchCV\n",
    "\n",
    "import keras\n",
    "from keras.models import Sequential\n",
    "from keras.layers import Convolution2D, MaxPooling2D, Dense, Dropout, Activation, Flatten\n",
    "from keras.layers.normalization import BatchNormalization\n",
    "from keras.utils import np_utils\n",
    "from keras.wrappers.scikit_learn import KerasClassifier\n",
    "from keras.preprocessing.image import ImageDataGenerator \n",
    "\n",
    "import numpy as np\n",
    "import matplotlib.pyplot as plt\n",
    "import seaborn as sns\n",
    "sns.set_style('whitegrid')\n",
    "\n",
    "def create_vectorizer(train_data, *kwargs, max_features=1):\n",
    "    vectorizer = CountVectorizer(max_features=max_features)\n",
    "    res        = [vectorizer]\n",
    "    res.append(vectorizer.fit_transform(train_data).toarray())\n",
    "    for arg in kwargs:\n",
    "        res.append(vectorizer.transform(arg).toarray())\n",
    "    return res\n",
    "\n",
    "scaler = None\n",
    "def create_scaling(X):\n",
    "    global scaler\n",
    "    scaler = StandardScaler().fit(X)\n",
    "\n",
    "def remove_outlyers(data, label, threshold=100):\n",
    "    mask = (data>threshold).sum(axis=1)==0\n",
    "    print(\"removing {} rows\\n\".format(np.sum(~mask)))\n",
    "    return [data[mask], label.drop(label.index[~mask])]\n",
    "\n",
    "def create_knn(train_data, target, **kwargs):\n",
    "    clf = KNeighborsClassifier(**kwargs)\n",
    "    clf.fit(train_data, target )\n",
    "    return clf\n",
    "\n",
    "def create_perceptron(train_data, target, grid=[], **kwargs):\n",
    "    if grid != []:\n",
    "        clf = GridSearchCV(Perceptron(), grid, refit = True, verbose = 3,n_jobs=2)\n",
    "    else:\n",
    "        clf = Perceptron(**kwargs)\n",
    "    clf.fit(train_data, target)\n",
    "    return clf\n",
    "\n",
    "def create_rnd_forrest(train_data, target, grid=[], **kwargs):\n",
    "    if grid != []:\n",
    "        clf = GridSearchCV(RandomForestClassifier(), grid, refit = True, verbose = 3,n_jobs=2)\n",
    "    else:\n",
    "        clf = RandomForestClassifier(**kwargs)\n",
    "    clf.fit(train_data, target)\n",
    "    return clf\n",
    "\n",
    "def create_nb(train_data, target, **kwargs):\n",
    "    clf =MultinomialNB( **kwargs)\n",
    "    clf.fit(train_data , target)\n",
    "    return clf\n",
    "    \n",
    "def _create_MLP(input_dim):\n",
    "    model = Sequential()\n",
    "    model.add(Dense(256, activation=\"relu\", input_shape=(input_dim,)))\n",
    "    model.add(Dense(256, activation=\"relu\"))\n",
    "    model.add(Dense(10, activation=\"softmax\"))\n",
    "    model.compile(loss = 'categorical_crossentropy', optimizer = 'adam', metrics=['accuracy'])\n",
    "    return model\n",
    "\n",
    "def create_MLP(X_train, y_train):\n",
    "    \n",
    "    mlp = KerasClassifier(build_fn=(lambda: _create_MLP(X_train.shape[1])), epochs=15, batch_size=32, verbose=0)\n",
    "    mlp.fit(X_train, np_utils.to_categorical(y_train))\n",
    "    return mlp\n",
    "\n",
    "def plot_confusion_matrix_MLP(mlp, X_test, y_test):\n",
    "    y_pred = mlp.predict(X_test)\n",
    "    disp = ConfusionMatrixDisplay(confusion_matrix=confusion_matrix(y_test, y_pred, normalize='pred'))\n",
    "    disp.plot()\n",
    "    plt.title('Multi-layer perceptron confusion matrix')\n",
    "    plt.show()\n",
    "    \n",
    "def get_metrics(algo, test_data, test_target, train_data, train_target):\n",
    "    pred_test  = algo.predict(test_data)\n",
    "    pred_train = algo.predict(train_data)\n",
    "\n",
    "    return classification_report(test_target, pred_test,output_dict=True),\\\n",
    "           classification_report(train_target, pred_train,output_dict=True)\n",
    "    "
   ]
  },
  {
   "cell_type": "markdown",
   "metadata": {},
   "source": [
    "# Code from Github (loading data)"
   ]
  },
  {
   "cell_type": "code",
   "execution_count": 5,
   "metadata": {},
   "outputs": [],
   "source": [
    "import os\n",
    "#import matplotlib\n",
    "import numpy as np\n",
    "import pandas as pd\n",
    "from scipy import ndimage\n",
    "#import matplotlib.pyplot as plt\n",
    "import matplotlib.image as mpimg\n",
    "import tensorflow as tf\n",
    "import zipfile\n",
    "#import requests, StringIO\n",
    "from sklearn import preprocessing\n",
    "\n",
    "\n",
    "BATCH_SIZE = 20\n",
    "NUM_CLASSES = 200\n",
    "NUM_IMAGES_PER_CLASS = 500\n",
    "NUM_IMAGES = NUM_CLASSES * NUM_IMAGES_PER_CLASS\n",
    "TRAINING_IMAGES_DIR = './tiny-imagenet-200/train/'\n",
    "TRAIN_SIZE = NUM_IMAGES\n",
    "\n",
    "NUM_VAL_IMAGES = 10000\n",
    "VAL_IMAGES_DIR = './tiny-imagenet-200/val/'\n",
    "\n",
    "IMAGE_SIZE = 64\n",
    "NUM_CHANNELS = 3\n",
    "IMAGE_ARR_SIZE = IMAGE_SIZE * IMAGE_SIZE * NUM_CHANNELS\n",
    "IMAGES_URL = 'http://cs231n.stanford.edu/tiny-imagenet-200.zip'\n",
    "\n",
    "def download_images(url):\n",
    "    if (os.path.isdir(TRAINING_IMAGES_DIR)):\n",
    "        print ('Images already downloaded...')\n",
    "        return\n",
    "    r = requests.get(url, stream=True)\n",
    "    print ('Downloading ' + url )\n",
    "    zip_ref = zipfile.ZipFile(StringIO.StringIO(r.content))\n",
    "    zip_ref.extractall('./')\n",
    "    zip_ref.close()\n",
    "\n",
    "def load_training_images(image_dir, batch_size=500):\n",
    "\n",
    "    image_index = 0\n",
    "    \n",
    "    images = np.ndarray(shape=(NUM_IMAGES, IMAGE_ARR_SIZE))\n",
    "    names = []\n",
    "    labels = []                       \n",
    "    image_data_list=[]\n",
    "    # Loop through all the types directories\n",
    "    for type in os.listdir(image_dir):\n",
    "        if os.path.isdir(image_dir + type + '/images/'):\n",
    "            type_images = os.listdir(image_dir + type + '/images/')\n",
    "            # Loop through all the images of a type directory\n",
    "            batch_index = 0;\n",
    "            #print (\"Loading Class \", type)\n",
    "            for image in type_images:\n",
    "                image_file = os.path.join(image_dir, type + '/images/', image)\n",
    "\n",
    "                # reading the images as they are; no normalization, no color editing\n",
    "                image_data = mpimg.imread(image_file) \n",
    "                image_data_list.append(image_data)\n",
    "                #print ('Loaded Image', image_file, image_data.shape)\n",
    "                if (image_data.shape == (IMAGE_SIZE, IMAGE_SIZE, NUM_CHANNELS)):\n",
    "                    images[image_index, :] = image_data.flatten()\n",
    "\n",
    "                    labels.append(type)\n",
    "                    names.append(image)\n",
    "                    \n",
    "                    image_index += 1\n",
    "                    batch_index += 1\n",
    "                if (batch_index >= batch_size):\n",
    "                    break;\n",
    "                    \n",
    "    return (image_data_list, images, np.asarray(labels), np.asarray(names))\n",
    "\n",
    "def get_label_from_name(data, name):\n",
    "    for idx, row in data.iterrows():       \n",
    "        if (row['File'] == name):\n",
    "            return row['Class']\n",
    "        \n",
    "    return None\n",
    "\n",
    "\n",
    "def load_validation_images(testdir, validation_data, batch_size=NUM_VAL_IMAGES):\n",
    "    labels = []\n",
    "    names = []\n",
    "    image_index = 0\n",
    "    \n",
    "    images = np.ndarray(shape=(batch_size, IMAGE_ARR_SIZE))\n",
    "    val_images = os.listdir(testdir + '/images/')\n",
    "           \n",
    "    # Loop through all the images of a val directory\n",
    "    batch_index = 0;\n",
    "    \n",
    "    image_data_list=[]\n",
    "    for image in val_images:\n",
    "        image_file = os.path.join(testdir, 'images/', image)\n",
    "        #print (testdir, image_file)\n",
    "\n",
    "        # reading the images as they are; no normalization, no color editing\n",
    "        image_data = mpimg.imread(image_file)\n",
    "        image_data_list.append(image_data)\n",
    "        if (image_data.shape == (IMAGE_SIZE, IMAGE_SIZE, NUM_CHANNELS)):\n",
    "            images[image_index, :] = image_data.flatten()\n",
    "            image_index += 1\n",
    "            labels.append(get_label_from_name(validation_data, image))\n",
    "            names.append(image)\n",
    "            batch_index += 1\n",
    "            \n",
    "        if (batch_index >= batch_size):\n",
    "            break;\n",
    "    \n",
    "    print (\"Loaded Validation images \", image_index)\n",
    "    return (image_data_list, images, np.asarray(labels), np.asarray(names))\n",
    "   \n",
    "    \n",
    "\n",
    "def plot_object(data):\n",
    "    plt.figure(figsize=(1,1))\n",
    "    image = data.reshape(IMAGE_SIZE, IMAGE_SIZE, NUM_CHANNELS)\n",
    "    plt.imshow(image, cmap = matplotlib.cm.binary,\n",
    "               interpolation=\"nearest\")\n",
    "    plt.axis(\"off\")\n",
    "    plt.show()\n",
    "\n",
    "def plot_objects(instances, images_per_row=10, **options):\n",
    "    size = IMAGE_SIZE\n",
    "    images_per_row = min(len(instances), images_per_row)\n",
    "    images = [instance.reshape(size,size,NUM_CHANNELS) for instance in instances]\n",
    "    n_rows = (len(instances) - 1) // images_per_row + 1\n",
    "    row_images = []\n",
    "    n_empty = n_rows * images_per_row - len(instances)\n",
    "    images.append(np.zeros((size, size * n_empty)))\n",
    "    for row in range(n_rows):\n",
    "        if (row == len(instances)/images_per_row):\n",
    "            break\n",
    "        rimages = images[row * images_per_row : (row + 1) * images_per_row]\n",
    "        row_images.append(np.concatenate(rimages, axis=1))\n",
    "    image = np.concatenate(row_images, axis=0)\n",
    "    plt.imshow(image, **options)\n",
    "    plt.axis(\"off\")\n",
    "    plt.show()\n",
    "    \n",
    "def get_next_batch(batchsize=50):\n",
    "    for cursor in range(0, len(training_images), batchsize):\n",
    "        batch = []\n",
    "        batch.append(training_images[cursor:cursor+batchsize])\n",
    "        batch.append(training_labels_encoded[cursor:cursor+batchsize])       \n",
    "        yield batch\n",
    "\n",
    "def get_next_labels(batchsize=50):\n",
    "    for cursor in range(0, len(training_images), batchsize):\n",
    "        yield training_labels_encoded[cursor:cursor+batchsize]  \n",
    "    \n",
    "def reset_graph(seed=42):\n",
    "    tf.reset_default_graph()\n",
    "    tf.set_random_seed(seed)\n",
    "    np.random.seed(seed)"
   ]
  },
  {
   "cell_type": "code",
   "execution_count": 6,
   "metadata": {},
   "outputs": [
    {
     "ename": "MemoryError",
     "evalue": "Unable to allocate 9.16 GiB for an array with shape (100000, 12288) and data type float64",
     "output_type": "error",
     "traceback": [
      "\u001b[1;31m---------------------------------------------------------------------------\u001b[0m",
      "\u001b[1;31mMemoryError\u001b[0m                               Traceback (most recent call last)",
      "\u001b[1;32m<ipython-input-6-76cf40f805fe>\u001b[0m in \u001b[0;36m<module>\u001b[1;34m\u001b[0m\n\u001b[1;32m----> 1\u001b[1;33m \u001b[0mX_data\u001b[0m\u001b[1;33m,\u001b[0m \u001b[0mX_train\u001b[0m\u001b[1;33m,\u001b[0m \u001b[0my_train\u001b[0m\u001b[1;33m,\u001b[0m \u001b[0mtraining_files\u001b[0m \u001b[1;33m=\u001b[0m \u001b[0mload_training_images\u001b[0m\u001b[1;33m(\u001b[0m\u001b[0mTRAINING_IMAGES_DIR\u001b[0m\u001b[1;33m,\u001b[0m \u001b[0mbatch_size\u001b[0m\u001b[1;33m=\u001b[0m\u001b[0mBATCH_SIZE\u001b[0m\u001b[1;33m)\u001b[0m\u001b[1;33m\u001b[0m\u001b[1;33m\u001b[0m\u001b[0m\n\u001b[0m",
      "\u001b[1;32m<ipython-input-5-7c02a0effffe>\u001b[0m in \u001b[0;36mload_training_images\u001b[1;34m(image_dir, batch_size)\u001b[0m\n\u001b[0;32m     41\u001b[0m     \u001b[0mimage_index\u001b[0m \u001b[1;33m=\u001b[0m \u001b[1;36m0\u001b[0m\u001b[1;33m\u001b[0m\u001b[1;33m\u001b[0m\u001b[0m\n\u001b[0;32m     42\u001b[0m \u001b[1;33m\u001b[0m\u001b[0m\n\u001b[1;32m---> 43\u001b[1;33m     \u001b[0mimages\u001b[0m \u001b[1;33m=\u001b[0m \u001b[0mnp\u001b[0m\u001b[1;33m.\u001b[0m\u001b[0mndarray\u001b[0m\u001b[1;33m(\u001b[0m\u001b[0mshape\u001b[0m\u001b[1;33m=\u001b[0m\u001b[1;33m(\u001b[0m\u001b[0mNUM_IMAGES\u001b[0m\u001b[1;33m,\u001b[0m \u001b[0mIMAGE_ARR_SIZE\u001b[0m\u001b[1;33m)\u001b[0m\u001b[1;33m)\u001b[0m\u001b[1;33m\u001b[0m\u001b[1;33m\u001b[0m\u001b[0m\n\u001b[0m\u001b[0;32m     44\u001b[0m     \u001b[0mnames\u001b[0m \u001b[1;33m=\u001b[0m \u001b[1;33m[\u001b[0m\u001b[1;33m]\u001b[0m\u001b[1;33m\u001b[0m\u001b[1;33m\u001b[0m\u001b[0m\n\u001b[0;32m     45\u001b[0m     \u001b[0mlabels\u001b[0m \u001b[1;33m=\u001b[0m \u001b[1;33m[\u001b[0m\u001b[1;33m]\u001b[0m\u001b[1;33m\u001b[0m\u001b[1;33m\u001b[0m\u001b[0m\n",
      "\u001b[1;31mMemoryError\u001b[0m: Unable to allocate 9.16 GiB for an array with shape (100000, 12288) and data type float64"
     ]
    }
   ],
   "source": [
    "X_data, X_train, y_train, training_files = load_training_images(TRAINING_IMAGES_DIR, batch_size=BATCH_SIZE)"
   ]
  },
  {
   "cell_type": "code",
   "execution_count": 20,
   "metadata": {},
   "outputs": [
    {
     "name": "stdout",
     "output_type": "stream",
     "text": [
      "Loaded Validation images  9832\n"
     ]
    }
   ],
   "source": [
    "val_data = pd.read_csv(VAL_IMAGES_DIR + 'val_annotations.txt', sep='\\t', header=None, names=['File', 'Class', 'X', 'Y', 'H', 'W'])\n",
    "X_val_data, X_val, y_val, validation_files = load_validation_images(VAL_IMAGES_DIR, val_data, batch_size=10000)"
   ]
  },
  {
   "cell_type": "code",
   "execution_count": 21,
   "metadata": {},
   "outputs": [],
   "source": [
    "y_test=y_val"
   ]
  },
  {
   "cell_type": "code",
   "execution_count": 10,
   "metadata": {},
   "outputs": [
    {
     "name": "stdout",
     "output_type": "stream",
     "text": [
      "[[[ 98 155 244]\n",
      "  [ 96 153 242]\n",
      "  [ 97 154 241]\n",
      "  ...\n",
      "  [107 147 217]\n",
      "  [108 148 218]\n",
      "  [107 147 217]]\n",
      "\n",
      " [[102 154 237]\n",
      "  [101 153 236]\n",
      "  [101 153 236]\n",
      "  ...\n",
      "  [111 149 212]\n",
      "  [112 150 213]\n",
      "  [110 148 211]]\n",
      "\n",
      " [[110 152 224]\n",
      "  [109 151 223]\n",
      "  [108 150 222]\n",
      "  ...\n",
      "  [117 147 197]\n",
      "  [117 148 195]\n",
      "  [115 146 193]]\n",
      "\n",
      " ...\n",
      "\n",
      " [[184 203 201]\n",
      "  [213 232 230]\n",
      "  [201 220 218]\n",
      "  ...\n",
      "  [172 182 171]\n",
      "  [146 154 143]\n",
      "  [164 170 160]]\n",
      "\n",
      " [[207 226 224]\n",
      "  [187 206 204]\n",
      "  [147 166 164]\n",
      "  ...\n",
      "  [159 167 154]\n",
      "  [147 153 141]\n",
      "  [182 188 176]]\n",
      "\n",
      " [[178 197 195]\n",
      "  [182 201 199]\n",
      "  [232 251 249]\n",
      "  ...\n",
      "  [139 147 134]\n",
      "  [162 168 156]\n",
      "  [181 187 173]]]\n",
      "n02410509\n"
     ]
    },
    {
     "data": {
      "text/plain": [
       "<matplotlib.image.AxesImage at 0x17625f9aee0>"
      ]
     },
     "execution_count": 10,
     "metadata": {},
     "output_type": "execute_result"
    },
    {
     "data": {
      "image/png": "[encoded data removed]",
      "text/plain": [
       "<Figure size 432x288 with 1 Axes>"
      ]
     },
     "metadata": {},
     "output_type": "display_data"
    }
   ],
   "source": [
    "image_nr=1000\n",
    "print(X_data[image_nr])\n",
    "print(y_train[image_nr])\n",
    "plt.imshow(X_data[image_nr])\n"
   ]
  },
  {
   "cell_type": "code",
   "execution_count": 22,
   "metadata": {},
   "outputs": [
    {
     "name": "stdout",
     "output_type": "stream",
     "text": [
      "[[[136 136  98]\n",
      "  [ 11   9   0]\n",
      "  [ 48  43   1]\n",
      "  ...\n",
      "  [206 127  35]\n",
      "  [112  30   0]\n",
      "  [112  30   0]]\n",
      "\n",
      " [[254 254 216]\n",
      "  [254 252 213]\n",
      "  [ 20  13   0]\n",
      "  ...\n",
      "  [152  72   0]\n",
      "  [233 152  71]\n",
      "  [127  46   0]]\n",
      "\n",
      " [[246 246 210]\n",
      "  [243 239 201]\n",
      "  [ 11   4   0]\n",
      "  ...\n",
      "  [159  77   3]\n",
      "  [192 109  39]\n",
      "  [173  90  22]]\n",
      "\n",
      " ...\n",
      "\n",
      " [[ 61  10   0]\n",
      "  [163 112  33]\n",
      "  [203 149  25]\n",
      "  ...\n",
      "  [  0   0  16]\n",
      "  [  8   0  15]\n",
      "  [ 31  13  25]]\n",
      "\n",
      " [[ 36   0   0]\n",
      "  [158 112  34]\n",
      "  [201 152  31]\n",
      "  ...\n",
      "  [  0   3  19]\n",
      "  [  5   0  13]\n",
      "  [ 31  15  26]]\n",
      "\n",
      " [[ 36   0   0]\n",
      "  [131  90  11]\n",
      "  [149 103   0]\n",
      "  ...\n",
      "  [  0   3  19]\n",
      "  [  3   0  11]\n",
      "  [ 24   8  19]]]\n",
      "n02099601\n"
     ]
    },
    {
     "data": {
      "text/plain": [
       "<matplotlib.image.AxesImage at 0x246c46bf850>"
      ]
     },
     "execution_count": 22,
     "metadata": {},
     "output_type": "execute_result"
    },
    {
     "data": {
      "image/png": "[encoded data removed]",
      "text/plain": [
       "<Figure size 432x288 with 1 Axes>"
      ]
     },
     "metadata": {},
     "output_type": "display_data"
    }
   ],
   "source": [
    "image_nr=1100\n",
    "print(X_val_data[image_nr])\n",
    "print(y_val[image_nr])\n",
    "plt.imshow(X_val_data[image_nr])"
   ]
  },
  {
   "cell_type": "code",
   "execution_count": 23,
   "metadata": {},
   "outputs": [
    {
     "name": "stdout",
     "output_type": "stream",
     "text": [
      "['n01443537' 'n01443537' 'n01443537' 'n01443537' 'n01443537' 'n01443537'\n",
      " 'n01443537' 'n01443537' 'n01443537' 'n01443537']\n"
     ]
    }
   ],
   "source": [
    "print(y_train[0:10])"
   ]
  },
  {
   "cell_type": "code",
   "execution_count": 24,
   "metadata": {},
   "outputs": [
    {
     "name": "stdout",
     "output_type": "stream",
     "text": [
      "(256, 1)\n"
     ]
    },
    {
     "data": {
      "image/png": "[encoded data removed]",
      "text/plain": [
       "<Figure size 432x288 with 1 Axes>"
      ]
     },
     "metadata": {},
     "output_type": "display_data"
    }
   ],
   "source": [
    "#Example of RGB histogram plot\n",
    "images=X_data[image_nr]\n",
    "channels = [0] # [1] or [2] for green or red 0 is blue\n",
    "mask= None\n",
    "histSize = [256] # Number of bins, forr full scale take 256\n",
    "ranges= [0,256] # this is our RANGE. Normally, it is [0,256].\n",
    "hist_blue=cv2.calcHist(images, channels, mask, histSize, ranges)\n",
    "hist_green=cv2.calcHist(images, [1], mask, histSize, ranges)\n",
    "hist_red=cv2.calcHist(images, [2], mask, histSize, ranges)\n",
    "#plt.plot(hist_blue, hist_green, hist_red)\n",
    "plt.plot(hist_blue, color= 'blue')\n",
    "plt.plot(hist_green, color= 'green')\n",
    "plt.plot(hist_red , color ='red')\n",
    "print(hist_green.shape)"
   ]
  },
  {
   "cell_type": "code",
   "execution_count": 25,
   "metadata": {},
   "outputs": [
    {
     "name": "stdout",
     "output_type": "stream",
     "text": [
      "(1000, 768)\n",
      "(1000, 768)\n"
     ]
    }
   ],
   "source": [
    "mask= None\n",
    "histSize = [256] # Number of bins, forr full scale take 256\n",
    "ranges= [0,256] # this is our RANGE. Normally, it is [0,256].\n",
    "\n",
    "data=[]\n",
    "for i in range(0,len(X_data[0:1000])):\n",
    "    hist=np.empty((0,0))\n",
    "    images = X_data[i]\n",
    "    #imagePIL = imagePIL.convert('RGB')   \n",
    "    #images = imagePIL.convert('RGB') \n",
    "    hist_blue=cv2.calcHist(images, [0], mask, histSize, ranges)\n",
    "    hist_green=cv2.calcHist(images, [1], mask, histSize, ranges)\n",
    "    hist_red=cv2.calcHist(images, [2], mask, histSize, ranges)\n",
    "    hist = np.append(hist, hist_blue)\n",
    "    hist = np.append(hist, hist_green)\n",
    "    hist = np.append(hist, hist_red)\n",
    "    featureVector=hist\n",
    "    #if (len(featureVector) != 768): # just a sanity check; with the transformation to RGB, this should never happen\n",
    "    #    print(\"Unexpected length of feature vector: \" + i)\n",
    "    data.append((featureVector))\n",
    "    np_data=np.array(data)\n",
    "#print(data)\n",
    "\n",
    "data=[]\n",
    "for i in range(0,len(X_val_data[0:1000])):\n",
    "    hist=np.empty((0,0))\n",
    "    images = X_val_data[i]\n",
    "    #imagePIL = imagePIL.convert('RGB')   \n",
    "    #images = imagePIL.convert('RGB') \n",
    "    hist_blue=cv2.calcHist(images, [0], mask, histSize, ranges)\n",
    "    hist_green=cv2.calcHist(images, [1], mask, histSize, ranges)\n",
    "    hist_red=cv2.calcHist(images, [2], mask, histSize, ranges)\n",
    "    hist = np.append(hist, hist_blue)\n",
    "    hist = np.append(hist, hist_green)\n",
    "    hist = np.append(hist, hist_red)\n",
    "    featureVector=hist\n",
    "    #if (len(featureVector) != 768): # just a sanity check; with the transformation to RGB, this should never happen\n",
    "    #    print(\"Unexpected length of feature vector: \" + i)\n",
    "    data.append((featureVector))\n",
    "np_data_test=np.array(data)\n",
    "\n",
    "print(np_data_test.shape)\n",
    "print(np_data.shape)\n"
   ]
  },
  {
   "cell_type": "code",
   "execution_count": 30,
   "metadata": {},
   "outputs": [
    {
     "name": "stdout",
     "output_type": "stream",
     "text": [
      "(1000, 192)\n",
      "[[  0.   0.   0. ...   6.   8.  17.]\n",
      " [  1.   9.  13. ...   0.   0.   0.]\n",
      " [  0.   0.   0. ...   0.   0.   3.]\n",
      " ...\n",
      " [  0.   0.   0. ...   3.   2.   1.]\n",
      " [ 57.  23.  18. ...   0.   0.   0.]\n",
      " [  0.   0.   0. ...   0.  20. 172.]]\n"
     ]
    }
   ],
   "source": [
    "dataOpenCV_1D=[]\n",
    "dataOpenCV_2D=[]\n",
    "dataOpenCV_3D=[]\n",
    "\n",
    "# use our own simple function to flatten the 2D arrays\n",
    "flatten = lambda l: [item for sublist in l for item in sublist]\n",
    "\n",
    "for i in range(0,len(X_data[0:1000])):\n",
    "    featuresOpenCV_1D = []\n",
    "    #hist=np.empty((0,0))\n",
    "    images = X_data[i]\n",
    "    \n",
    "    channels= ([0], [1], [2])\n",
    "    color = (\"b\", \"g\", \"r\")\n",
    "    \n",
    "    histSize_1d=[64] \n",
    "    featuresOpenCV_1D = []\n",
    "    for (channels, color) in zip(channels,color):\n",
    "        \n",
    "        # Not all images in our dataset are in RGB color scheme (e.g. indexed colours)\n",
    "        # We need to make sure that they are RGB , otherwise we can't expect to have exactly three RGB channels..\n",
    "        #imagePIL = imagePIL.convert('RGB')   \n",
    "        #images = imagePIL.convert('RGB') \n",
    "        hist_opencv=cv2.calcHist(images, channels, mask, histSize_1d, ranges)\n",
    "        featuresOpenCV_1D=np.append(featuresOpenCV_1D, hist_opencv)\n",
    "    featureVectorOpenCV_1D = featuresOpenCV_1D\n",
    "    dataOpenCV_1D.append(featureVectorOpenCV_1D) \n",
    "    \n",
    "    #if (len(featureVectorOpenCV_1D) != bins_1D*3): # sanity check, in case we had a wrong number of channels...\n",
    "    #    print \"Unexpected length of feature vector: \" + str(len(featureVectorOpenCV_1D)) + \" in file: \" + i\n",
    "    \n",
    "np_dataOpenCV_1D=np.array(dataOpenCV_1D)\n",
    "\n",
    "# And for teh test data\n",
    "dataOpenCV_1D_test=[]\n",
    "for i in range(0,len(X_val_data[0:1000])):\n",
    "\n",
    "    #hist=np.empty((0,0))\n",
    "    images = X_val_data[i]\n",
    "    \n",
    "    channels= ([0], [1], [2])\n",
    "    color = (\"b\", \"g\", \"r\")\n",
    "    \n",
    "    histSize_1d=[64] \n",
    "    featuresOpenCV_1D = []\n",
    "    for (channels, color) in zip(channels,color):\n",
    "        #imagePIL = imagePIL.convert('RGB')   \n",
    "        #images = imagePIL.convert('RGB') \n",
    "        hist_opencv=cv2.calcHist(images, channels, mask, histSize_1d, ranges)\n",
    "        featuresOpenCV_1D=np.append(featuresOpenCV_1D, hist_opencv)\n",
    "    featureVectorOpenCV_1D = featuresOpenCV_1D\n",
    "    dataOpenCV_1D_test.append(featureVectorOpenCV_1D) \n",
    "    \n",
    "    #if (len(featureVectorOpenCV_1D) != bins_1D*3): # sanity check, in case we had a wrong number of channels...\n",
    "    #    print \"Unexpected length of feature vector: \" + str(len(featureVectorOpenCV_1D)) + \" in file: \" + i\n",
    "    \n",
    "np_dataOpenCV_1D_test=np.array(dataOpenCV_1D_test)\n",
    "\n",
    "#print(data)\n",
    "print(np_dataOpenCV_1D.shape)\n",
    "print(np_dataOpenCV_1D)"
   ]
  },
  {
   "cell_type": "code",
   "execution_count": 38,
   "metadata": {},
   "outputs": [
    {
     "name": "stdout",
     "output_type": "stream",
     "text": [
      "(1000, 768)\n",
      "[[  0.   0.   0. ...   0.   1.  34.]\n",
      " [ 20.  16.   1. ...   0.   0.   0.]\n",
      " [  0.   0.   0. ...   0.   0.   3.]\n",
      " ...\n",
      " [  0.   0.   0. ...   0.   0.   0.]\n",
      " [ 71.  21.   6. ...   0.   0.   0.]\n",
      " [  0.   0.   0. ...   0.   0. 192.]]\n"
     ]
    }
   ],
   "source": [
    "dataOpenCV_2D=[]\n",
    "\n",
    "for i in range(0,len(X_data[0:1000])):\n",
    "    featuresOpenCV_2D = []\n",
    "    #hist=np.empty((0,0))\n",
    "    images = X_data[i]\n",
    "    \n",
    "    channels= [[0], [1], [2]]\n",
    "    color = (\"b\", \"g\", \"r\")\n",
    "    \n",
    "    histSize_2d= 16 \n",
    "    featuresOpenCV_2D = []\n",
    "        \n",
    "    #imagePIL = imagePIL.convert('RGB')   \n",
    "    #images = imagePIL.convert('RGB') \n",
    "    hist_opencv_2d_1 = cv2.calcHist(images,  [0,1], mask, [histSize_2d, histSize_2d], [0, 256, 0, 256])\n",
    "    hist_opencv_2d_2 = cv2.calcHist(images,  [0,2], mask, [histSize_2d, histSize_2d], [0, 256, 0, 256])\n",
    "    hist_opencv_2d_3 = cv2.calcHist(images,  [1,2], mask, [histSize_2d, histSize_2d], [0, 256, 0, 256])\n",
    "    featuresOpenCV_2D= np.append(featuresOpenCV_2D, hist_opencv_2d_1)\n",
    "    featuresOpenCV_2D= np.append(featuresOpenCV_2D, hist_opencv_2d_2)\n",
    "    featuresOpenCV_2D= np.append(featuresOpenCV_2D, hist_opencv_2d_3)\n",
    "    featureVectorOpenCV_2D = featuresOpenCV_2D # and append this to our feature vector\n",
    "    dataOpenCV_2D.append(featureVectorOpenCV_2D) # now we append the feature vector to the dataset so far\n",
    "np_dataOpenCV_2D= np.array(dataOpenCV_2D)\n",
    "\n",
    "\n",
    "# We have to extract features for the test set as well\n",
    "dataOpenCV_2D_test=[]\n",
    "\n",
    "for i in range(0,len(X_val_data[0:1000])):\n",
    "    featuresOpenCV_2D = []\n",
    "    #hist=np.empty((0,0))\n",
    "    images = X_val_data[i]\n",
    "    \n",
    "    channels= [[0], [1], [2]]\n",
    "    color = (\"b\", \"g\", \"r\")\n",
    "    \n",
    "    histSize_2d= 16 \n",
    "    featuresOpenCV_2D = []\n",
    "        \n",
    "    #imagePIL = imagePIL.convert('RGB')   \n",
    "    #images = imagePIL.convert('RGB') \n",
    "    hist_opencv_2d_1 = cv2.calcHist(images,  [0,1], mask, [histSize_2d, histSize_2d], [0, 256, 0, 256])\n",
    "    hist_opencv_2d_2 = cv2.calcHist(images,  [0,2], mask, [histSize_2d, histSize_2d], [0, 256, 0, 256])\n",
    "    hist_opencv_2d_3 = cv2.calcHist(images,  [1,2], mask, [histSize_2d, histSize_2d], [0, 256, 0, 256])\n",
    "    featuresOpenCV_2D= np.append(featuresOpenCV_2D, hist_opencv_2d_1)\n",
    "    featuresOpenCV_2D= np.append(featuresOpenCV_2D, hist_opencv_2d_2)\n",
    "    featuresOpenCV_2D= np.append(featuresOpenCV_2D, hist_opencv_2d_3)\n",
    "    featureVectorOpenCV_2D = featuresOpenCV_2D # and append this to our feature vector\n",
    "    dataOpenCV_2D_test.append(featureVectorOpenCV_2D) # now we append the feature vector to the dataset so far\n",
    "    \n",
    "    #if (len(featureVectorOpenCV_1D) != bins_1D*3): # sanity check, in case we had a wrong number of channels...\n",
    "    #    print \"Unexpected length of feature vector: \" + str(len(featureVectorOpenCV_1D)) + \" in file: \" + i\n",
    "    \n",
    "np_dataOpenCV_2D_test= np.array(dataOpenCV_2D_test)\n",
    "\n",
    "#print(data)\n",
    "print(np_dataOpenCV_2D.shape)\n",
    "print(np_dataOpenCV_2D)"
   ]
  },
  {
   "cell_type": "code",
   "execution_count": 28,
   "metadata": {},
   "outputs": [
    {
     "name": "stdout",
     "output_type": "stream",
     "text": [
      "(1000, 512)\n",
      "(1000, 512)\n",
      "[[  0.   0.   0. ...   0.   5.  82.]\n",
      " [ 91.   5.   3. ...   0.   0.   0.]\n",
      " [  0.   0.   0. ...   0.   0.   0.]\n",
      " ...\n",
      " [  0.   0.   0. ...   0.   0.   1.]\n",
      " [ 46.  13.  25. ...   0.   0.   0.]\n",
      " [  0.   0.   0. ...   0.   0. 192.]]\n"
     ]
    }
   ],
   "source": [
    "dataOpenCV_3D=[]\n",
    "\n",
    "for i in range(0,len(X_data[0:1000])):\n",
    "    featuresOpenCV_2D = []\n",
    "    #hist=np.empty((0,0))\n",
    "    images = X_data[i]\n",
    "    \n",
    "    channels= [[0], [1], [2]]\n",
    "    color = (\"b\", \"g\", \"r\")\n",
    "    \n",
    "    histSize_3d= 8 \n",
    "    featuresOpenCV_3D = []\n",
    "        \n",
    "        # Not all images in our dataset are in RGB color scheme (e.g. indexed colours)\n",
    "        # We need to make sure that they are RGB , otherwise we can't expect to have exactly three RGB channels..\n",
    "        #imagePIL = imagePIL.convert('RGB')   \n",
    "        #images = imagePIL.convert('RGB') \n",
    "    hist_opencv_3d = cv2.calcHist(images,  [0,1,2], mask, [histSize_3d, histSize_3d,histSize_3d ], [0, 256, 0, 256,  0, 256])\n",
    "    featuresOpenCV_3D= np.append(featuresOpenCV_2D, hist_opencv_3d)\n",
    "    featureVectorOpenCV_3D = featuresOpenCV_3D # and append this to our feature vector\n",
    "    dataOpenCV_3D.append(featureVectorOpenCV_3D) # now we append the feature vector to the dataset so far\n",
    "    #if (len(featureVectorOpenCV_1D) != bins_1D*3): # sanity check, in case we had a wrong number of channels...\n",
    "    #    print \"Unexpected length of feature vector: \" + str(len(featureVectorOpenCV_1D)) + \" in file: \" + i    \n",
    "np_dataOpenCV_3D= np.array(dataOpenCV_3D)\n",
    "\n",
    "# and for the test set\n",
    "dataOpenCV_3D_test=[]\n",
    "for i in range(0,len(X_val_data[0:1000])):\n",
    "    featuresOpenCV_2D = []\n",
    "    #hist=np.empty((0,0))\n",
    "    images = X_val_data[i]\n",
    "    \n",
    "    channels= [[0], [1], [2]]\n",
    "    color = (\"b\", \"g\", \"r\")\n",
    "    \n",
    "    histSize_3d= 8 \n",
    "    featuresOpenCV_3D = []\n",
    "\n",
    "    #imagePIL = imagePIL.convert('RGB')   \n",
    "    #images = imagePIL.convert('RGB') \n",
    "    hist_opencv_3d = cv2.calcHist(images,  [0,1,2], mask, [histSize_3d, histSize_3d,histSize_3d ], [0, 256, 0, 256,  0, 256])\n",
    "    featuresOpenCV_3D= np.append(featuresOpenCV_2D, hist_opencv_3d)\n",
    "    featureVectorOpenCV_3D = featuresOpenCV_3D # and append this to our feature vector\n",
    "    dataOpenCV_3D_test.append(featureVectorOpenCV_3D) # now we append the feature vector to the dataset so far\n",
    "\n",
    "np_dataOpenCV_3D_test= np.array(dataOpenCV_3D_test)\n",
    "print(np_dataOpenCV_3D.shape)\n",
    "print(np_dataOpenCV_3D.shape)\n",
    "print(np_dataOpenCV_3D)"
   ]
  },
  {
   "cell_type": "code",
   "execution_count": 33,
   "metadata": {},
   "outputs": [],
   "source": [
    "def calc_score_MLP(mlp, X, Y, cv, epochs, batch_size):\n",
    "    kfold = KFold(n_splits=cv, shuffle=True)\n",
    "    acc_per_fold = []\n",
    "    for train, test in kfold.split(X, Y):\n",
    "        train_data = np.take(X, train, 0)\n",
    "        train_target = np.take(Y, train, 0)\n",
    "        test_data = np.take(X, test, 0)\n",
    "        test_target = np.take(Y, test, 0)\n",
    "        history = mlp.fit(train_data, np_utils.to_categorical(train_target), batch_size=batch_size, epochs=epochs, verbose=0)\n",
    "        y_pred = mlp.predict(test_data)\n",
    "        print(y_pred)\n",
    "        score = accuracy_score(y_pred, test_target)\n",
    "        acc_per_fold.append(score)\n",
    "    return np.array(acc_per_fold)"
   ]
  },
  {
   "cell_type": "code",
   "execution_count": 41,
   "metadata": {},
   "outputs": [
    {
     "data": {
      "text/plain": [
       "([<matplotlib.axis.XTick at 0x246c489f130>,\n",
       "  <matplotlib.axis.XTick at 0x246c489fb20>,\n",
       "  <matplotlib.axis.XTick at 0x246c481f9d0>,\n",
       "  <matplotlib.axis.XTick at 0x246c48f43a0>],\n",
       " [Text(0, 0, '1D RBG 256'),\n",
       "  Text(1, 0, '1D RBG 64'),\n",
       "  Text(2, 0, '2D RBG'),\n",
       "  Text(3, 0, '3D RBG')])"
      ]
     },
     "execution_count": 41,
     "metadata": {},
     "output_type": "execute_result"
    },
    {
     "data": {
      "image/png": "[encoded data removed]",
      "text/plain": [
       "<Figure size 360x360 with 1 Axes>"
      ]
     },
     "metadata": {},
     "output_type": "display_data"
    }
   ],
   "source": [
    "# Classification\n",
    "import warnings\n",
    "warnings.filterwarnings('ignore')\n",
    "\n",
    "# these are our feature sets; we will use each of them individually to train classifiers\n",
    "trainingSets = [np_data, np_dataOpenCV_1D, np_dataOpenCV_2D, np_dataOpenCV_3D]\n",
    "TestSets = [np_data_test, np_dataOpenCV_1D_test, np_dataOpenCV_2D_test, np_dataOpenCV_3D_test]\n",
    "\n",
    "vals      = trainingSets\n",
    "vals_test      = TestSets\n",
    "trainingLabel=y_train[0:1000]\n",
    "scores    = []\n",
    "scores_ppn, scores_NB, scores_rndf, scores_mlp = [], [], [], []\n",
    "scores_ppn_test, scores_NB_test, scores_rndf_test, scores_mlp_test = [], [], [], []\n",
    "for X, X_t in zip(vals, vals_test):\n",
    "    ppn = create_perceptron(pd.DataFrame(X), pd.DataFrame(trainingLabel))\n",
    "    scores_ppn.append(cross_val_score(ppn, pd.DataFrame(X), pd.DataFrame(trainingLabel), scoring=\"accuracy\", cv=10).mean())\n",
    "    scores_ppn_test.append(accuracy_score(y_test[0:1000], ppn.predict(X_t),normalize=True))\n",
    "    \n",
    "    NB = create_nb(pd.DataFrame(X), pd.DataFrame(trainingLabel))\n",
    "    scores_NB.append(cross_val_score(NB, pd.DataFrame(X), pd.DataFrame(trainingLabel), scoring=\"accuracy\", cv=10).mean())\n",
    "    scores_NB_test.append(accuracy_score(y_test[0:1000], NB.predict(X_t),normalize=True))\n",
    "    \n",
    "    rndf = create_rnd_forrest(pd.DataFrame(X), pd.DataFrame(trainingLabel),random_state=42, n_estimators=50)\n",
    "    scores_rndf.append(cross_val_score(rndf, pd.DataFrame(X), pd.DataFrame(trainingLabel), scoring=\"accuracy\", cv=10).mean())\n",
    "    scores_rndf_test.append(accuracy_score(y_test[0:1000], rndf.predict(X_t),normalize=True))\n",
    "\n",
    "    \"\"\"\n",
    "    create_scaling(X)\n",
    "    X = scaler.transform(X)\n",
    "    \n",
    "    mlp = create_MLP(X, trainingLabel)\n",
    "    scores_mlp.append(calc_score_MLP(mlp, X, trainingLabel, cv=10, epochs=15, batch_size=64).mean())\n",
    "    scores_mlp_test.append(accuracy_score(y_test, mlp.predict(X_t),normalize=True))\n",
    "    \"\"\"\n",
    "\n",
    "Nr_data = np.arange(4)\n",
    "plt.figure(figsize=(5,5))\n",
    "\n",
    "plt.plot(Nr_data, scores_ppn,\"--\",color=\"orange\",marker=\"*\", linewidth=1,label=\"ppn\")\n",
    "plt.plot(Nr_data, scores_NB,\"--\",color=\"blue\",marker=\"*\", linewidth=1,label=\"NB\")\n",
    "plt.plot(Nr_data, scores_rndf,\"--\",color=\"black\",marker=\"*\", linewidth=1,label=\"rndf\")\n",
    "#plt.plot(Nr_data, scores_mlp,\"--\",color=\"green\",marker=\"*\", linewidth=1,label=\"mlp\")\n",
    "plt.plot(Nr_data, scores_ppn_test,\"-\",color=\"orange\",marker=\"*\", linewidth=1,label=\"ppn\")\n",
    "plt.plot(Nr_data, scores_NB_test,\"-\",color=\"blue\",marker=\"*\", linewidth=1,label=\"NB\")\n",
    "plt.plot(Nr_data, scores_rndf_test,\"-\",color=\"black\",marker=\"*\", linewidth=1,label=\"rndf\")\n",
    "#plt.plot(Nr_data, scores_mlp_test,\"-\",color=\"green\",marker=\"*\", linewidth=1,label=\"mlp\")\n",
    "\n",
    "plt.legend(loc=\"best\")\n",
    "plt.title(\"Color Histogram\",fontsize=12)\n",
    "plt.ylabel(\"Accuracy\",fontsize=12)\n",
    "plt.xlabel(\"Feature extractions\",fontsize=12)\n",
    "labels =[\"1D RBG 256\", \"1D RBG 64\", \"2D RBG\", \"3D RBG\"]\n",
    "plt.xticks(Nr_data, labels,rotation=30,fontsize=11, ha=\"right\")\n",
    "#plt.savefig(\"./Perceprton_Color_hist.pdf\")\n",
    "  \n",
    "        "
   ]
  },
  {
   "cell_type": "markdown",
   "metadata": {},
   "source": [
    "# SIFT"
   ]
  },
  {
   "cell_type": "code",
   "execution_count": 79,
   "metadata": {},
   "outputs": [
    {
     "name": "stdout",
     "output_type": "stream",
     "text": [
      "[[[255 137 192]\n",
      "  [255 139 192]\n",
      "  [246 148 197]\n",
      "  ...\n",
      "  [208 237 235]\n",
      "  [207 241 240]\n",
      "  [125 164 161]]\n",
      "\n",
      " [[255 124 189]\n",
      "  [255 128 189]\n",
      "  [246 137 194]\n",
      "  ...\n",
      "  [203 232 230]\n",
      "  [200 235 231]\n",
      "  [121 160 157]]\n",
      "\n",
      " [[255 124 201]\n",
      "  [255 127 201]\n",
      "  [255 134 203]\n",
      "  ...\n",
      "  [207 233 230]\n",
      "  [200 235 229]\n",
      "  [119 156 149]]\n",
      "\n",
      " ...\n",
      "\n",
      " [[ 94 122  71]\n",
      "  [ 93 119  71]\n",
      "  [ 93 116  70]\n",
      "  ...\n",
      "  [ 85  74  56]\n",
      "  [ 78  67  49]\n",
      "  [ 94  83  65]]\n",
      "\n",
      " [[ 89 118  64]\n",
      "  [ 88 116  65]\n",
      "  [ 87 113  66]\n",
      "  ...\n",
      "  [ 86  75  57]\n",
      "  [ 77  66  48]\n",
      "  [ 87  76  58]]\n",
      "\n",
      " [[ 91 120  66]\n",
      "  [ 91 119  68]\n",
      "  [ 91 117  70]\n",
      "  ...\n",
      "  [ 96  85  67]\n",
      "  [ 77  66  48]\n",
      "  [ 72  61  43]]]\n"
     ]
    }
   ],
   "source": [
    "Image_grey=cv2.cvtColor(X_data[0], cv2.COLOR_BGR2GRAY)\n",
    "print(X_data[0])\n"
   ]
  },
  {
   "cell_type": "code",
   "execution_count": 80,
   "metadata": {},
   "outputs": [
    {
     "data": {
      "text/plain": [
       "<matplotlib.image.AxesImage at 0x1ffc7c51e80>"
      ]
     },
     "execution_count": 80,
     "metadata": {},
     "output_type": "execute_result"
    },
    {
     "data": {
      "image/png": "[encoded data removed]",
      "text/plain": [
       "<Figure size 432x288 with 1 Axes>"
      ]
     },
     "metadata": {},
     "output_type": "display_data"
    }
   ],
   "source": [
    "plt.imshow(Image_grey)\n"
   ]
  },
  {
   "cell_type": "code",
   "execution_count": 81,
   "metadata": {},
   "outputs": [
    {
     "data": {
      "text/plain": [
       "<matplotlib.image.AxesImage at 0x1ffc0fbfd60>"
      ]
     },
     "execution_count": 81,
     "metadata": {},
     "output_type": "execute_result"
    },
    {
     "data": {
      "image/png": "[encoded data removed]",
      "text/plain": [
       "<Figure size 432x288 with 1 Axes>"
      ]
     },
     "metadata": {},
     "output_type": "display_data"
    }
   ],
   "source": [
    "plt.imshow(X_data[0])"
   ]
  },
  {
   "cell_type": "code",
   "execution_count": 83,
   "metadata": {},
   "outputs": [
    {
     "ename": "AttributeError",
     "evalue": "module 'cv2.cv2' has no attribute 'xfeatures2d'",
     "output_type": "error",
     "traceback": [
      "\u001b[1;31m---------------------------------------------------------------------------\u001b[0m",
      "\u001b[1;31mAttributeError\u001b[0m                            Traceback (most recent call last)",
      "\u001b[1;32m<ipython-input-83-0d4bf76391f2>\u001b[0m in \u001b[0;36m<module>\u001b[1;34m\u001b[0m\n\u001b[1;32m----> 1\u001b[1;33m \u001b[0msift\u001b[0m\u001b[1;33m=\u001b[0m\u001b[0mcv2\u001b[0m\u001b[1;33m.\u001b[0m\u001b[0mxfeatures2d\u001b[0m\u001b[1;33m.\u001b[0m\u001b[0mSIFT_create\u001b[0m\u001b[1;33m(\u001b[0m\u001b[1;33m)\u001b[0m\u001b[1;33m\u001b[0m\u001b[1;33m\u001b[0m\u001b[0m\n\u001b[0m",
      "\u001b[1;31mAttributeError\u001b[0m: module 'cv2.cv2' has no attribute 'xfeatures2d'"
     ]
    }
   ],
   "source": [
    "sift=cv2.xfeatures2d.SIFT_create()"
   ]
  },
  {
   "cell_type": "code",
   "execution_count": null,
   "metadata": {},
   "outputs": [],
   "source": []
  }
 ],
 "metadata": {
  "kernelspec": {
   "display_name": "Python 3",
   "language": "python",
   "name": "python3"
  },
  "language_info": {
   "codemirror_mode": {
    "name": "ipython",
    "version": 3
   },
   "file_extension": ".py",
   "mimetype": "text/x-python",
   "name": "python",
   "nbconvert_exporter": "python",
   "pygments_lexer": "ipython3",
   "version": "3.7.4"
  }
 },
 "nbformat": 4,
 "nbformat_minor": 5
}
