{
 "cells": [
  {
   "cell_type": "code",
   "execution_count": 3,
   "id": "b2d6da53",
   "metadata": {},
   "outputs": [],
   "source": [
    "import numpy as np\n",
    "import pandas as pd\n",
    "import matplotlib.pyplot as plt\n",
    "import seaborn as sns\n",
    "import datetime\n",
    "from PIL import Image\n",
    "\n",
    "from sklearn import metrics\n",
    "from sklearn.model_selection import train_test_split\n",
    "from sklearn.model_selection import cross_val_score\n",
    "from sklearn.model_selection import KFold\n",
    "\n",
    "from sklearn import neighbors\n",
    "from sklearn import linear_model\n",
    "from sklearn import naive_bayes\n",
    "from sklearn import tree\n",
    "from sklearn import ensemble\n",
    "from sklearn import svm\n",
    "\n",
    "import cv2\n",
    "#from matplotlib import pyplot as plt\n",
    "import matplotlib.pyplot as plt\n",
    "%matplotlib inline"
   ]
  },
  {
   "cell_type": "markdown",
   "id": "b255ab1d",
   "metadata": {},
   "source": [
    "# Algorithms"
   ]
  },
  {
   "cell_type": "code",
   "execution_count": 13,
   "id": "789d6c88",
   "metadata": {},
   "outputs": [],
   "source": [
    "\n",
    "from sklearn.feature_extraction.text import CountVectorizer\n",
    "from sklearn.neighbors import KNeighborsClassifier\n",
    "from sklearn.metrics import classification_report , confusion_matrix , accuracy_score, f1_score\n",
    "from sklearn.linear_model import Perceptron\n",
    "from sklearn.tree import DecisionTreeClassifier\n",
    "from sklearn.ensemble import RandomForestClassifier\n",
    "from sklearn.naive_bayes import MultinomialNB\n",
    "from sklearn.preprocessing import MinMaxScaler\n",
    "from sklearn.metrics import classification_report\n",
    "from sklearn.model_selection import GridSearchCV\n",
    "\n",
    "import numpy as np\n",
    "import matplotlib.pyplot as plt\n",
    "import seaborn as sns\n",
    "sns.set_style('whitegrid')\n",
    "\n",
    "def create_vectorizer(train_data, *kwargs, max_features=1):\n",
    "    vectorizer = CountVectorizer(max_features=max_features)\n",
    "    res        = [vectorizer]\n",
    "    res.append(vectorizer.fit_transform(train_data).toarray())\n",
    "    for arg in kwargs:\n",
    "        res.append(vectorizer.transform(arg).toarray())\n",
    "    return res\n",
    "\n",
    "def create_scaling(train_data, test_data):\n",
    "    scaler = MinMaxScaler().fit(train_data)\n",
    "    return scaler.transform(train_data), scaler.transform(test_data)\n",
    "\n",
    "def remove_outlyers(data, label, threshold=100):\n",
    "    mask = (data>threshold).sum(axis=1)==0\n",
    "    print(\"removing {} rows\\n\".format(np.sum(~mask)))\n",
    "    return [data[mask], label.drop(label.index[~mask])]\n",
    "\n",
    "def create_knn(train_data, target, **kwargs):\n",
    "    clf = KNeighborsClassifier(**kwargs)\n",
    "    clf.fit(train_data, target )\n",
    "    return clf\n",
    "\n",
    "def create_perceptron(train_data, target, grid=[], **kwargs):\n",
    "    if grid != []:\n",
    "        clf = GridSearchCV(Perceptron(), grid, refit = True, verbose = 3,n_jobs=2)\n",
    "    else:\n",
    "        clf = Perceptron(**kwargs)\n",
    "    clf.fit(train_data, target)\n",
    "    return clf\n",
    "\n",
    "def create_decisiontree(train_data, target, **kwargs):\n",
    "    clf = DecisionTreeClassifier(**kwargs)\n",
    "    clf.fit(train_data, target)\n",
    "    return clf\n",
    "\n",
    "def create_rnd_forrest(train_data, target, grid=[], **kwargs):\n",
    "    if grid != []:\n",
    "        clf = GridSearchCV(RandomForestClassifier(), grid, refit = True, verbose = 3,n_jobs=2)\n",
    "    else:\n",
    "        clf = RandomForestClassifier(**kwargs)\n",
    "    clf.fit(train_data, target)\n",
    "    return clf\n",
    "\n",
    "def create_nb(train_data, target, **kwargs):\n",
    "    clf =MultinomialNB( **kwargs)\n",
    "    clf.fit(train_data , target)\n",
    "    return clf\n",
    "    \n",
    "    \n",
    "def get_metrics(algo, test_data, test_target, train_data, train_target):\n",
    "    pred_test  = algo.predict(test_data)\n",
    "    pred_train = algo.predict(train_data)\n",
    "\n",
    "    return classification_report(test_target, pred_test,output_dict=True),\\\n",
    "           classification_report(train_target, pred_train,output_dict=True)\n",
    "    "
   ]
  },
  {
   "cell_type": "markdown",
   "id": "eb0d1dbb",
   "metadata": {},
   "source": [
    "# This is not needed anymore the one with tensorflow is better"
   ]
  },
  {
   "cell_type": "code",
   "execution_count": 3,
   "id": "c53ecebe",
   "metadata": {},
   "outputs": [],
   "source": [
    "# https://github.com/ndrplz/CIFAR-10\n",
    "from cifar import CIFAR10\n",
    "\n",
    "# Instantiate the dataset. If the dataset is not found in `dataset_root`,\n",
    "#  the first time it is automatically downloaded and extracted there.\n",
    "dataset = CIFAR10(dataset_root='./cifar10')"
   ]
  },
  {
   "cell_type": "code",
   "execution_count": 6,
   "id": "76d70664",
   "metadata": {},
   "outputs": [
    {
     "name": "stdout",
     "output_type": "stream",
     "text": [
      "deer\n"
     ]
    }
   ],
   "source": [
    "print(dataset.samples['train'][10].label_hr)\n",
    "print(type(dataset))\n",
    "print(dataset.samples['train'][0]) \n",
    "x_train, y_train = CIFAR10.to_ndarray(dataset.samples['train'], normalize=True, flatten=True)\n",
    "x_test, y_test = CIFAR10.to_ndarray(dataset.samples['test'], normalize=True, flatten=True)"
   ]
  },
  {
   "cell_type": "code",
   "execution_count": 9,
   "id": "d7b47073",
   "metadata": {},
   "outputs": [],
   "source": [
    "x_train, y_train = CIFAR10.to_ndarray(dataset.samples['train'], normalize=True, flatten=True)\n",
    "x_test, y_test = CIFAR10.to_ndarray(dataset.samples['test'], normalize=True, flatten=True)"
   ]
  },
  {
   "cell_type": "code",
   "execution_count": 18,
   "id": "be0a3a4a",
   "metadata": {},
   "outputs": [
    {
     "name": "stdout",
     "output_type": "stream",
     "text": [
      "[-0.26862746 -0.25686276 -0.2529412  ... -0.01764706 -0.13921568\n",
      " -0.21764705]\n"
     ]
    }
   ],
   "source": [
    "# This is not RGB\n",
    "print(x_train[0])\n"
   ]
  },
  {
   "cell_type": "markdown",
   "id": "d20de356",
   "metadata": {},
   "source": [
    "# Import Cifar using Tensor flow"
   ]
  },
  {
   "cell_type": "code",
   "execution_count": 2,
   "id": "6115d602",
   "metadata": {},
   "outputs": [],
   "source": [
    "from tensorflow.keras.datasets import cifar10\n",
    "(X_train,y_train) , (X_test,y_test) = cifar10.load_data()"
   ]
  },
  {
   "cell_type": "code",
   "execution_count": 6,
   "id": "48a00526",
   "metadata": {},
   "outputs": [
    {
     "name": "stdout",
     "output_type": "stream",
     "text": [
      "[[[ 59  62  63]\n",
      "  [ 43  46  45]\n",
      "  [ 50  48  43]\n",
      "  ...\n",
      "  [158 132 108]\n",
      "  [152 125 102]\n",
      "  [148 124 103]]\n",
      "\n",
      " [[ 16  20  20]\n",
      "  [  0   0   0]\n",
      "  [ 18   8   0]\n",
      "  ...\n",
      "  [123  88  55]\n",
      "  [119  83  50]\n",
      "  [122  87  57]]\n",
      "\n",
      " [[ 25  24  21]\n",
      "  [ 16   7   0]\n",
      "  [ 49  27   8]\n",
      "  ...\n",
      "  [118  84  50]\n",
      "  [120  84  50]\n",
      "  [109  73  42]]\n",
      "\n",
      " ...\n",
      "\n",
      " [[208 170  96]\n",
      "  [201 153  34]\n",
      "  [198 161  26]\n",
      "  ...\n",
      "  [160 133  70]\n",
      "  [ 56  31   7]\n",
      "  [ 53  34  20]]\n",
      "\n",
      " [[180 139  96]\n",
      "  [173 123  42]\n",
      "  [186 144  30]\n",
      "  ...\n",
      "  [184 148  94]\n",
      "  [ 97  62  34]\n",
      "  [ 83  53  34]]\n",
      "\n",
      " [[177 144 116]\n",
      "  [168 129  94]\n",
      "  [179 142  87]\n",
      "  ...\n",
      "  [216 184 140]\n",
      "  [151 118  84]\n",
      "  [123  92  72]]]\n"
     ]
    }
   ],
   "source": [
    "print(X_train[0])"
   ]
  },
  {
   "cell_type": "code",
   "execution_count": 30,
   "id": "ee4e2043",
   "metadata": {},
   "outputs": [
    {
     "data": {
      "text/plain": [
       "<matplotlib.image.AxesImage at 0x21cd4fb0160>"
      ]
     },
     "execution_count": 30,
     "metadata": {},
     "output_type": "execute_result"
    },
    {
     "data": {
      "image/png": "[encoded data removed]",
      "text/plain": [
       "<Figure size 432x288 with 1 Axes>"
      ]
     },
     "metadata": {
      "needs_background": "light"
     },
     "output_type": "display_data"
    }
   ],
   "source": [
    "#Example of image\n",
    "plt.imshow(X_train[10])"
   ]
  },
  {
   "cell_type": "code",
   "execution_count": 3,
   "id": "0e992991",
   "metadata": {},
   "outputs": [
    {
     "name": "stdout",
     "output_type": "stream",
     "text": [
      "(256, 1)\n"
     ]
    },
    {
     "data": {
      "image/png": "[encoded data removed]",
      "text/plain": [
       "<Figure size 432x288 with 1 Axes>"
      ]
     },
     "metadata": {
      "needs_background": "light"
     },
     "output_type": "display_data"
    }
   ],
   "source": [
    "#Example of RGB histogram plot\n",
    "images=X_train[10]\n",
    "channels = [0] # [1] or [2] for green or red 0 is blue\n",
    "mask= None\n",
    "histSize = [256] # Number of bins, forr full scale take 256\n",
    "ranges= [0,256] # this is our RANGE. Normally, it is [0,256].\n",
    "hist_blue=cv2.calcHist(images, channels, mask, histSize, ranges)\n",
    "hist_green=cv2.calcHist(images, [1], mask, histSize, ranges)\n",
    "hist_red=cv2.calcHist(images, [2], mask, histSize, ranges)\n",
    "#plt.plot(hist_blue, hist_green, hist_red)\n",
    "plt.plot(hist_blue, color= 'blue')\n",
    "plt.plot(hist_green, color= 'green')\n",
    "plt.plot(hist_red , color ='red')\n",
    "print(hist_green.shape)"
   ]
  },
  {
   "cell_type": "code",
   "execution_count": 31,
   "id": "40eda614",
   "metadata": {},
   "outputs": [
    {
     "name": "stdout",
     "output_type": "stream",
     "text": [
      "deer\n"
     ]
    }
   ],
   "source": [
    "print(dataset.samples['train'][10].label_hr)"
   ]
  },
  {
   "cell_type": "code",
   "execution_count": 4,
   "id": "be030aec",
   "metadata": {},
   "outputs": [
    {
     "name": "stdout",
     "output_type": "stream",
     "text": [
      "(1000, 768)\n"
     ]
    }
   ],
   "source": [
    "mask= None\n",
    "histSize = [256] # Number of bins, forr full scale take 256\n",
    "ranges= [0,256] # this is our RANGE. Normally, it is [0,256].\n",
    "\n",
    "data=[]\n",
    "for i in range(0,len(X_train[0:1000])):\n",
    "    hist=np.empty((0,0))\n",
    "    images = X_train[i]\n",
    "    # Not all images in our dataset are in RGB color scheme (e.g. indexed colours)\n",
    "    # We need to make sure that they are RGB , otherwise we can't expect to have exactly three RGB channels..\n",
    "    #imagePIL = imagePIL.convert('RGB')   \n",
    "    #images = imagePIL.convert('RGB') \n",
    "    hist_blue=cv2.calcHist(images, [0], mask, histSize, ranges)\n",
    "    hist_green=cv2.calcHist(images, [1], mask, histSize, ranges)\n",
    "    hist_red=cv2.calcHist(images, [2], mask, histSize, ranges)\n",
    "    hist = np.append(hist, hist_blue)\n",
    "    hist = np.append(hist, hist_green)\n",
    "    hist = np.append(hist, hist_red)\n",
    "    featureVector=hist\n",
    "    #if (len(featureVector) != 768): # just a sanity check; with the transformation to RGB, this should never happen\n",
    "    #    print(\"Unexpected length of feature vector: \" + i)\n",
    "    data.append((featureVector))\n",
    "    np_data=np.array(data)\n",
    "#print(data)\n",
    "print(np_data.shape)\n",
    "#print(np_data)"
   ]
  },
  {
   "cell_type": "code",
   "execution_count": 31,
   "id": "6d4b7846",
   "metadata": {},
   "outputs": [
    {
     "name": "stdout",
     "output_type": "stream",
     "text": [
      "50000\n"
     ]
    }
   ],
   "source": [
    "print(len(X_train))"
   ]
  },
  {
   "cell_type": "code",
   "execution_count": 6,
   "id": "7be82b73",
   "metadata": {},
   "outputs": [
    {
     "name": "stdout",
     "output_type": "stream",
     "text": [
      "(1000, 192)\n",
      "[[ 0.  0.  0. ...  0.  0.  0.]\n",
      " [ 0.  0.  0. ...  4.  0.  0.]\n",
      " [ 0.  0.  0. ...  0.  1. 80.]\n",
      " ...\n",
      " [ 0.  0.  0. ...  0.  0.  0.]\n",
      " [ 0.  0.  0. ...  2.  2. 61.]\n",
      " [ 0.  0.  0. ...  0.  0.  0.]]\n"
     ]
    }
   ],
   "source": [
    "dataOpenCV_1D=[]\n",
    "dataOpenCV_2D=[]\n",
    "dataOpenCV_3D=[]\n",
    "\n",
    "# use our own simple function to flatten the 2D arrays\n",
    "flatten = lambda l: [item for sublist in l for item in sublist]\n",
    "\n",
    "for i in range(0,len(X_train[0:1000])):\n",
    "    featuresOpenCV_1D = []\n",
    "    #hist=np.empty((0,0))\n",
    "    images = X_train[i]\n",
    "    \n",
    "    channels= ([0], [1], [2])\n",
    "    color = (\"b\", \"g\", \"r\")\n",
    "    \n",
    "    histSize_1d=[64] \n",
    "    featuresOpenCV_1D = []\n",
    "    for (channels, color) in zip(channels,color):\n",
    "        \n",
    "        # Not all images in our dataset are in RGB color scheme (e.g. indexed colours)\n",
    "        # We need to make sure that they are RGB , otherwise we can't expect to have exactly three RGB channels..\n",
    "        #imagePIL = imagePIL.convert('RGB')   \n",
    "        #images = imagePIL.convert('RGB') \n",
    "        hist_opencv=cv2.calcHist(images, channels, mask, histSize_1d, ranges)\n",
    "        featuresOpenCV_1D=np.append(featuresOpenCV_1D, hist_opencv)\n",
    "    featureVectorOpenCV_1D = featuresOpenCV_1D\n",
    "    dataOpenCV_1D.append(featureVectorOpenCV_1D) \n",
    "    \n",
    "    #if (len(featureVectorOpenCV_1D) != bins_1D*3): # sanity check, in case we had a wrong number of channels...\n",
    "    #    print \"Unexpected length of feature vector: \" + str(len(featureVectorOpenCV_1D)) + \" in file: \" + i\n",
    "    \n",
    "np_dataOpenCV_1D=np.array(dataOpenCV_1D)\n",
    "\n",
    "#print(data)\n",
    "print(np_dataOpenCV_1D.shape)\n",
    "print(np_dataOpenCV_1D)"
   ]
  },
  {
   "cell_type": "code",
   "execution_count": 7,
   "id": "d718b4c8",
   "metadata": {},
   "outputs": [
    {
     "name": "stdout",
     "output_type": "stream",
     "text": [
      "(1000, 768)\n",
      "[[ 0.  0.  0. ...  0.  0.  0.]\n",
      " [ 0.  0.  0. ...  0.  0.  0.]\n",
      " [ 0.  0.  0. ...  0.  5. 82.]\n",
      " ...\n",
      " [ 0.  0.  0. ...  0.  0.  0.]\n",
      " [ 0.  0.  0. ...  0.  3. 78.]\n",
      " [ 0.  0.  0. ...  0.  0.  0.]]\n"
     ]
    }
   ],
   "source": [
    "dataOpenCV_2D=[]\n",
    "\n",
    "for i in range(0,len(X_train[0:1000])):\n",
    "    featuresOpenCV_2D = []\n",
    "    #hist=np.empty((0,0))\n",
    "    images = X_train[i]\n",
    "    \n",
    "    channels= [[0], [1], [2]]\n",
    "    color = (\"b\", \"g\", \"r\")\n",
    "    \n",
    "    histSize_2d= 16 \n",
    "    featuresOpenCV_2D = []\n",
    "        \n",
    "        # Not all images in our dataset are in RGB color scheme (e.g. indexed colours)\n",
    "        # We need to make sure that they are RGB , otherwise we can't expect to have exactly three RGB channels..\n",
    "        #imagePIL = imagePIL.convert('RGB')   \n",
    "        #images = imagePIL.convert('RGB') \n",
    "    hist_opencv_2d_1 = cv2.calcHist(images,  [0,1], mask, [histSize_2d, histSize_2d], [0, 256, 0, 256])\n",
    "    hist_opencv_2d_2 = cv2.calcHist(images,  [0,1], mask, [histSize_2d, histSize_2d], [0, 256, 0, 256])\n",
    "    hist_opencv_2d_3 = cv2.calcHist(images,  [0,1], mask, [histSize_2d, histSize_2d], [0, 256, 0, 256])\n",
    "    featuresOpenCV_2D= np.append(featuresOpenCV_2D, hist_opencv_2d_1)\n",
    "    featuresOpenCV_2D= np.append(featuresOpenCV_2D, hist_opencv_2d_2)\n",
    "    featuresOpenCV_2D= np.append(featuresOpenCV_2D, hist_opencv_2d_3)\n",
    "    featureVectorOpenCV_2D = featuresOpenCV_2D # and append this to our feature vector\n",
    "    dataOpenCV_2D.append(featureVectorOpenCV_2D) # now we append the feature vector to the dataset so far\n",
    "    \n",
    "    #if (len(featureVectorOpenCV_1D) != bins_1D*3): # sanity check, in case we had a wrong number of channels...\n",
    "    #    print \"Unexpected length of feature vector: \" + str(len(featureVectorOpenCV_1D)) + \" in file: \" + i\n",
    "    \n",
    "np_dataOpenCV_2D= np.array(dataOpenCV_2D)\n",
    "\n",
    "#print(data)\n",
    "print(np_dataOpenCV_2D.shape)\n",
    "print(np_dataOpenCV_2D)"
   ]
  },
  {
   "cell_type": "code",
   "execution_count": 8,
   "id": "847a202a",
   "metadata": {},
   "outputs": [
    {
     "name": "stdout",
     "output_type": "stream",
     "text": [
      "(1000, 512)\n",
      "[[ 0.  0.  0. ...  0.  0.  0.]\n",
      " [ 0.  0.  0. ...  0.  0.  2.]\n",
      " [ 0.  0.  0. ...  0.  5. 82.]\n",
      " ...\n",
      " [ 0.  0.  0. ...  0.  0.  0.]\n",
      " [ 0.  0.  0. ...  6.  0. 72.]\n",
      " [ 0.  0.  0. ...  0.  0.  0.]]\n"
     ]
    }
   ],
   "source": [
    "dataOpenCV_3D=[]\n",
    "\n",
    "for i in range(0,len(X_train[0:1000])):\n",
    "    featuresOpenCV_2D = []\n",
    "    #hist=np.empty((0,0))\n",
    "    images = X_train[i]\n",
    "    \n",
    "    channels= [[0], [1], [2]]\n",
    "    color = (\"b\", \"g\", \"r\")\n",
    "    \n",
    "    histSize_3d= 8 \n",
    "    featuresOpenCV_3D = []\n",
    "        \n",
    "        # Not all images in our dataset are in RGB color scheme (e.g. indexed colours)\n",
    "        # We need to make sure that they are RGB , otherwise we can't expect to have exactly three RGB channels..\n",
    "        #imagePIL = imagePIL.convert('RGB')   \n",
    "        #images = imagePIL.convert('RGB') \n",
    "    hist_opencv_3d = cv2.calcHist(images,  [0,1,2], mask, [histSize_3d, histSize_3d,histSize_3d ], [0, 256, 0, 256,  0, 256])\n",
    "    featuresOpenCV_3D= np.append(featuresOpenCV_2D, hist_opencv_3d)\n",
    "    featureVectorOpenCV_3D = featuresOpenCV_3D # and append this to our feature vector\n",
    "    dataOpenCV_3D.append(featureVectorOpenCV_3D) # now we append the feature vector to the dataset so far\n",
    "    #if (len(featureVectorOpenCV_1D) != bins_1D*3): # sanity check, in case we had a wrong number of channels...\n",
    "    #    print \"Unexpected length of feature vector: \" + str(len(featureVectorOpenCV_1D)) + \" in file: \" + i    \n",
    "np_dataOpenCV_3D= np.array(dataOpenCV_3D)\n",
    "print(np_dataOpenCV_3D.shape)\n",
    "print(np_dataOpenCV_3D)"
   ]
  },
  {
   "cell_type": "code",
   "execution_count": 42,
   "id": "37dcb2dd",
   "metadata": {},
   "outputs": [
    {
     "name": "stdout",
     "output_type": "stream",
     "text": [
      "[0.15240996572837237, 0.15801127795241815, 0.17344158824499079, 0.16385226918784196]\n"
     ]
    },
    {
     "data": {
      "text/plain": [
       "([<matplotlib.axis.XTick at 0x235c1e82040>,\n",
       "  <matplotlib.axis.XTick at 0x235c1e677f0>,\n",
       "  <matplotlib.axis.XTick at 0x235c1e7d280>,\n",
       "  <matplotlib.axis.XTick at 0x235c1eb6f40>],\n",
       " [Text(0, 0, '1D RBG 256'),\n",
       "  Text(1, 0, '1D RBG 64'),\n",
       "  Text(2, 0, '2D RBG'),\n",
       "  Text(3, 0, '3D RBG')])"
      ]
     },
     "execution_count": 42,
     "metadata": {},
     "output_type": "execute_result"
    },
    {
     "data": {
      "image/png": "[encoded data removed]",
      "text/plain": [
       "<Figure size 360x360 with 1 Axes>"
      ]
     },
     "metadata": {
      "needs_background": "light"
     },
     "output_type": "display_data"
    }
   ],
   "source": [
    "# Classification\n",
    "import warnings\n",
    "warnings.filterwarnings('ignore')\n",
    "\n",
    "# these are our feature sets; we will use each of them individually to train classifiers\n",
    "trainingSets = [np_data, np_dataOpenCV_1D, np_dataOpenCV_2D, np_dataOpenCV_3D]\n",
    "\n",
    "vals      = trainingSets\n",
    "trainingLabel=y_train[0:1000]\n",
    "scores    = []\n",
    "scores_ppn, scores_NB, scores_rndf = [], [], []\n",
    "for X in vals:\n",
    "    ppn = create_perceptron(pd.DataFrame(X), pd.DataFrame(trainingLabel))\n",
    "    scores_ppn.append(cross_val_score(ppn, pd.DataFrame(X), pd.DataFrame(trainingLabel), scoring=\"f1_macro\", cv=10).mean())\n",
    "    \n",
    "    NB = create_nb(pd.DataFrame(X), pd.DataFrame(trainingLabel))\n",
    "    scores_NB.append(cross_val_score(NB, pd.DataFrame(X), pd.DataFrame(trainingLabel), scoring=\"f1_macro\", cv=10).mean())\n",
    "    \n",
    "    rndf = create_rnd_forrest(pd.DataFrame(X), pd.DataFrame(trainingLabel),random_state=42, n_estimators=50)\n",
    "    scores_rndf.append(cross_val_score(rndf, pd.DataFrame(X), pd.DataFrame(trainingLabel), scoring=\"f1_macro\", cv=10).mean())\n",
    "\n",
    "\n",
    "print(scores_cv)\n",
    "\n",
    "\n",
    "Nr_data = np.arange(4)\n",
    "plt.figure(figsize=(5,5))\n",
    "#plt.plot(vals, scores[0],color=\"orange\",marker=\"x\", linewidth=1,label=\"train hold\")\n",
    "plt.plot(Nr_data, scores_ppn,\"--\",color=\"orange\",marker=\"*\", linewidth=1,label=\"ppn\")\n",
    "plt.plot(Nr_data, scores_NB,\"--\",color=\"blue\",marker=\"*\", linewidth=1,label=\"NB\")\n",
    "plt.plot(Nr_data, scores_rndf,\"--\",color=\"black\",marker=\"*\", linewidth=1,label=\"rndf\")\n",
    "#plt.plot(vals, scores[1],color=\"blue\",marker=\"x\", linewidth=1,label=\"vali hold\")\n",
    "#plt.plot(vals, scores_cv[1],\"--\",color=\"blue\",marker=\"*\", linewidth=1,label=\"vali cv\")\n",
    "plt.legend(loc=\"best\")\n",
    "plt.title(\"Color Histogram\",fontsize=12)\n",
    "plt.ylabel(\"f1 score\",fontsize=12)\n",
    "plt.xlabel(\"Feature extractions\",fontsize=12)\n",
    "labels =[\"1D RBG 256\", \"1D RBG 64\", \"2D RBG\", \"3D RBG\"]\n",
    "plt.xticks(Nr_data, labels,rotation=30,fontsize=11, ha=\"right\")\n",
    "#plt.savefig(\"./Perceprton_Color_hist.pdf\")\n",
    "  \n",
    "        "
   ]
  },
  {
   "cell_type": "code",
   "execution_count": null,
   "id": "da8bcc45",
   "metadata": {},
   "outputs": [],
   "source": []
  }
 ],
 "metadata": {
  "kernelspec": {
   "display_name": "Python 3",
   "language": "python",
   "name": "python3"
  },
  "language_info": {
   "codemirror_mode": {
    "name": "ipython",
    "version": 3
   },
   "file_extension": ".py",
   "mimetype": "text/x-python",
   "name": "python",
   "nbconvert_exporter": "python",
   "pygments_lexer": "ipython3",
   "version": "3.8.8"
  }
 },
 "nbformat": 4,
 "nbformat_minor": 5
}
