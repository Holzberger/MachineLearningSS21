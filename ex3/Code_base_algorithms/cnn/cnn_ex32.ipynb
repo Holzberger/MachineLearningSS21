{
  "nbformat": 4,
  "nbformat_minor": 0,
  "metadata": {
    "colab": {
      "name": "squeezeNet.ipynb",
      "provenance": []
    },
    "kernelspec": {
      "name": "python3",
      "display_name": "Python 3"
    },
    "language_info": {
      "name": "python"
    },
    "accelerator": "GPU"
  },
  "cells": [
    {
      "cell_type": "markdown",
      "metadata": {
        "id": "KOCp0HTqD-Lm"
      },
      "source": [
        "# SqueezeNet "
      ]
    },
    {
      "cell_type": "code",
      "metadata": {
        "id": "OKQaQCjlEi1R"
      },
      "source": [
        "import numpy as np\n",
        "import pandas as pd \n",
        "from tensorflow import keras\n",
        "import tensorflow as tf"
      ],
      "execution_count": 2,
      "outputs": []
    },
    {
      "cell_type": "code",
      "metadata": {
        "id": "gGmBZlvlEqNI"
      },
      "source": [
        "def squeezeNet(input_shape, n_classes):\n",
        "    def fire(x_in, n_squeeze, n_expand):\n",
        "        x_sqeeze = tf.keras.layers.Conv2D(n_squeeze, 1, activation=\"relu\")(x_in)\n",
        "        x_expand1 = tf.keras.layers.Conv2D(n_expand, 1, activation=\"relu\")(x_sqeeze)\n",
        "        x_expand3 = tf.keras.layers.Conv2D(n_expand, 3, padding =\"same\", activation=\"relu\")(x_sqeeze)\n",
        "        output = tf.keras.layers.concatenate([x_expand1, x_expand3])\n",
        "        return output\n",
        "    inn = tf.keras.Input(input_shape) # size of your pictures\n",
        "    x = tf.keras.layers.Conv2D(96, 7, strides=2, padding =\"same\", activation=\"relu\")(inn)\n",
        "    x = tf.keras.layers.MaxPool2D(3, strides=2, padding =\"same\")(x)\n",
        "    x = fire(x, 16, 64)\n",
        "    x = fire(x, 16, 64)\n",
        "    x = fire(x, 32, 128)\n",
        "    x = tf.keras.layers.MaxPool2D(3, strides=2, padding =\"same\")(x)\n",
        "    x = fire(x, 32, 128)\n",
        "    x = fire(x, 48, 192)\n",
        "    x = fire(x, 48, 192)\n",
        "    x = fire(x, 64, 256)\n",
        "    x = tf.keras.layers.MaxPool2D(3, strides=2, padding =\"same\")(x)\n",
        "    x = fire(x, 64, 256)\n",
        "    x = tf.keras.layers.Conv2D(n_classes, 1)(x)\n",
        "    x = tf.keras.layers.GlobalAvgPool2D()(x)\n",
        "    output = tf.keras.layers.Activation(\"softmax\")(x)\n",
        "    model = tf.keras.models.Model(inn, output)\n",
        "    return model"
      ],
      "execution_count": 3,
      "outputs": []
    },
    {
      "cell_type": "markdown",
      "metadata": {
        "id": "M5271sHeESzz"
      },
      "source": [
        "# Cifar10"
      ]
    },
    {
      "cell_type": "code",
      "metadata": {
        "id": "2gJHdAhHGRr7"
      },
      "source": [
        "# Cifar10 has 10 classes\n",
        "N_CLASSES = 10\n",
        "# our input dimensions\n",
        "INSHAPE = 32, 32, 3"
      ],
      "execution_count": null,
      "outputs": []
    },
    {
      "cell_type": "code",
      "metadata": {
        "id": "iAeOlMZEFHNs"
      },
      "source": [
        "# get the data\n",
        "(x_train,y_train), (x_test, y_test) = tf.keras.datasets.cifar10.load_data()"
      ],
      "execution_count": null,
      "outputs": []
    },
    {
      "cell_type": "code",
      "metadata": {
        "id": "UBr3_APNFNy2"
      },
      "source": [
        "# do a 1hot encoding on labels\n",
        "y_train = tf.keras.utils.to_categorical(y_train, N_CLASSES)\n",
        "y_test = tf.keras.utils.to_categorical(y_test, N_CLASSES)"
      ],
      "execution_count": null,
      "outputs": []
    },
    {
      "cell_type": "code",
      "metadata": {
        "colab": {
          "base_uri": "https://localhost:8080/"
        },
        "id": "mabIk6kNFzPD",
        "outputId": "444e52aa-0370-461d-e7a2-f870993aa09a"
      },
      "source": [
        "# check if data shapes are correct\n",
        "print(x_train.shape, y_train.shape)\n",
        "print(x_test.shape, y_test.shape)"
      ],
      "execution_count": null,
      "outputs": [
        {
          "output_type": "stream",
          "text": [
            "(50000, 32, 32, 3) (50000, 10)\n",
            "(10000, 32, 32, 3) (10000, 10)\n"
          ],
          "name": "stdout"
        }
      ]
    },
    {
      "cell_type": "code",
      "metadata": {
        "id": "AaKGEmlgGADT"
      },
      "source": [
        "# augment pictures\n",
        "from keras.preprocessing.image import ImageDataGenerator\n",
        "\n",
        "datagen = ImageDataGenerator(\n",
        "    width_shift_range=0.1, \n",
        "    height_shift_range=0.1, \n",
        "    horizontal_flip=True)"
      ],
      "execution_count": null,
      "outputs": []
    },
    {
      "cell_type": "code",
      "metadata": {
        "id": "RbQwe_R6GNqM"
      },
      "source": [
        "# clear old models and create new squeezeNet\n",
        "tf.keras.backend.clear_session()\n",
        "model = squeezeNet(INSHAPE, N_CLASSES)\n",
        "# chekout squeezeNet architecture\n",
        "#model.summary()"
      ],
      "execution_count": null,
      "outputs": []
    },
    {
      "cell_type": "code",
      "metadata": {
        "id": "t4dso5jpE8JL"
      },
      "source": [
        "# training configuration\n",
        "model.compile(loss='categorical_crossentropy',\n",
        "                  optimizer=\"adam\",\n",
        "                  metrics=['accuracy'])\n",
        "# generator for data augmentation with 64 pictures per step generated\n",
        "it_train = datagen.flow(x_train, y_train, batch_size=64)\n",
        "steps = x_train.shape[0] // 64 # total steps needed to iterate all pictures"
      ],
      "execution_count": null,
      "outputs": []
    },
    {
      "cell_type": "code",
      "metadata": {
        "colab": {
          "base_uri": "https://localhost:8080/",
          "height": 237
        },
        "id": "gxFaOMxFE9K0",
        "outputId": "dc338f53-17b5-4eff-9472-9ba19e0254a7"
      },
      "source": [
        "# start training\n",
        "history = model.fit(it_train, \n",
        "                    epochs=100, steps_per_epoch = steps,\n",
        "                    validation_data=(x_test, y_test), validation_steps = 200 , \n",
        "                    verbose=1)"
      ],
      "execution_count": 1,
      "outputs": [
        {
          "output_type": "error",
          "ename": "NameError",
          "evalue": "ignored",
          "traceback": [
            "\u001b[0;31m---------------------------------------------------------------------------\u001b[0m",
            "\u001b[0;31mNameError\u001b[0m                                 Traceback (most recent call last)",
            "\u001b[0;32m<ipython-input-1-45d841adfb85>\u001b[0m in \u001b[0;36m<module>\u001b[0;34m()\u001b[0m\n\u001b[1;32m      1\u001b[0m \u001b[0;31m# start training\u001b[0m\u001b[0;34m\u001b[0m\u001b[0;34m\u001b[0m\u001b[0;34m\u001b[0m\u001b[0m\n\u001b[0;32m----> 2\u001b[0;31m history = model.fit(it_train, \n\u001b[0m\u001b[1;32m      3\u001b[0m                     \u001b[0mepochs\u001b[0m\u001b[0;34m=\u001b[0m\u001b[0;36m100\u001b[0m\u001b[0;34m,\u001b[0m \u001b[0msteps_per_epoch\u001b[0m \u001b[0;34m=\u001b[0m \u001b[0msteps\u001b[0m\u001b[0;34m,\u001b[0m\u001b[0;34m\u001b[0m\u001b[0;34m\u001b[0m\u001b[0m\n\u001b[1;32m      4\u001b[0m                     \u001b[0mvalidation_data\u001b[0m\u001b[0;34m=\u001b[0m\u001b[0;34m(\u001b[0m\u001b[0mx_test\u001b[0m\u001b[0;34m,\u001b[0m \u001b[0my_test\u001b[0m\u001b[0;34m)\u001b[0m\u001b[0;34m,\u001b[0m \u001b[0mvalidation_steps\u001b[0m \u001b[0;34m=\u001b[0m \u001b[0;36m200\u001b[0m \u001b[0;34m,\u001b[0m\u001b[0;34m\u001b[0m\u001b[0;34m\u001b[0m\u001b[0m\n\u001b[1;32m      5\u001b[0m                     verbose=1)\n",
            "\u001b[0;31mNameError\u001b[0m: name 'model' is not defined"
          ]
        }
      ]
    },
    {
      "cell_type": "code",
      "metadata": {
        "id": "VInV62Q2KoyN"
      },
      "source": [
        "import matplotlib.pyplot as plt\n",
        "def plot_accuracy_and_loss(history):\n",
        "    plt.figure(1, figsize= (15, 10))\n",
        "\n",
        "    # plot train and test accuracy\n",
        "    plt.subplot(221)\n",
        "    plt.plot(history.history['accuracy'])\n",
        "    plt.plot(history.history['val_accuracy'])\n",
        "    plt.title('SqueezeNet accuracy')\n",
        "    plt.ylabel('accuracy')\n",
        "    plt.xlabel('epoch')\n",
        "    plt.legend(['train', 'test'], loc='upper left')\n",
        "\n",
        "    # plot train and test loss\n",
        "    plt.subplot(222)\n",
        "    plt.plot(history.history['loss'])\n",
        "    plt.plot(history.history['val_loss'])\n",
        "    plt.title('SqueezeNet loss')\n",
        "    plt.ylabel('loss')\n",
        "    plt.xlabel('epoch')\n",
        "    plt.legend(['train', 'test'], loc='upper right')\n",
        "\n",
        "    plt.show()"
      ],
      "execution_count": null,
      "outputs": []
    },
    {
      "cell_type": "code",
      "metadata": {
        "colab": {
          "base_uri": "https://localhost:8080/",
          "height": 325
        },
        "id": "-qQwRkY-KsmJ",
        "outputId": "9d854dfc-0f9c-4a80-bd10-5bf3eaeeea6e"
      },
      "source": [
        "plot_accuracy_and_loss(history)"
      ],
      "execution_count": null,
      "outputs": [
        {
          "output_type": "display_data",
          "data": {
            "image/png": "[encoded data removed]",
            "text/plain": [
              "<Figure size 1080x720 with 2 Axes>"
            ]
          },
          "metadata": {
            "tags": [],
            "needs_background": "light"
          }
        }
      ]
    },
    {
      "cell_type": "markdown",
      "metadata": {
        "id": "sKUJyvK0JBHf"
      },
      "source": [
        "# Tiny ImageNet"
      ]
    },
    {
      "cell_type": "code",
      "metadata": {
        "id": "iK6q-aFaYjVn"
      },
      "source": [
        "# TinyIageNet has 200 classes\n",
        "N_CLASSES = 200\n",
        "# our input dimensions\n",
        "INSHAPE = 64, 64, 3\n",
        "PICTURE_SHAPE = INSHAPE[0], INSHAPE[1]"
      ],
      "execution_count": 28,
      "outputs": []
    },
    {
      "cell_type": "code",
      "metadata": {
        "id": "osho2AIgE31y"
      },
      "source": [
        "import numpy as np\n",
        "import tensorflow as tf\n",
        "import random"
      ],
      "execution_count": 24,
      "outputs": []
    },
    {
      "cell_type": "code",
      "metadata": {
        "id": "DLIh8umzJedO"
      },
      "source": [
        "# Fixing the random seed for involved libraries\n",
        "random_seed=4321\n",
        "\n",
        "np.random.seed(random_seed)\n",
        "tf.random.set_seed(random_seed)\n",
        "random.seed(random_seed)"
      ],
      "execution_count": 25,
      "outputs": []
    },
    {
      "cell_type": "code",
      "metadata": {
        "id": "pXOw61S5z22K",
        "colab": {
          "base_uri": "https://localhost:8080/"
        },
        "outputId": "976f67d9-a354-4ea4-cd1b-8e2b6dd9552d"
      },
      "source": [
        "# download tiny Imagenet and create folder\n",
        "import os\n",
        "import requests\n",
        "import zipfile\n",
        "\n",
        "# Retrieve the data\n",
        "if not os.path.exists(os.path.join('data','tiny-imagenet-200.zip')):\n",
        "    url = \"http://cs231n.stanford.edu/tiny-imagenet-200.zip\"\n",
        "    # Get the file from web\n",
        "    r = requests.get(url)\n",
        "\n",
        "    if not os.path.exists('data'):\n",
        "        os.mkdir('data')\n",
        "    \n",
        "    # Write to a file\n",
        "    with open(os.path.join('data','tiny-imagenet-200.zip'), 'wb') as f:\n",
        "        f.write(r.content)\n",
        "else:\n",
        "    print(\"The zip file already exists.\")\n",
        "    \n",
        "if not os.path.exists(os.path.join('data', 'tiny-imagenet-200')):\n",
        "    with zipfile.ZipFile(os.path.join('data','tiny-imagenet-200.zip'), 'r') as zip_ref:\n",
        "        zip_ref.extractall('data')\n",
        "else:\n",
        "    print(\"The extracted data already exists\")"
      ],
      "execution_count": 26,
      "outputs": [
        {
          "output_type": "stream",
          "text": [
            "The zip file already exists.\n",
            "The extracted data already exists\n"
          ],
          "name": "stdout"
        }
      ]
    },
    {
      "cell_type": "code",
      "metadata": {
        "id": "AwT29FYk0EHN"
      },
      "source": [
        "from functools import partial\n",
        "import pickle\n",
        "from keras.preprocessing.image import ImageDataGenerator\n",
        "\n",
        "def get_test_labels_df(test_labels_path):\n",
        "    \"\"\" Reading the test data labels for all files in the test set as a data frame \"\"\"\n",
        "    test_df = pd.read_csv(test_labels_path, sep='\\t', index_col=None, header=None)\n",
        "    test_df = test_df.iloc[:,[0,1]].rename({0:\"filename\", 1:\"class\"}, axis=1)\n",
        "    return test_df\n",
        "\n",
        "def get_train_valid_test_data_generators(batch_size, target_size):\n",
        "    \"\"\" Get the training/validation/testing data generators \"\"\"\n",
        "    \n",
        "    # Defining a data-augmenting image data generator and a standard image data generator\n",
        "    image_gen_aug = ImageDataGenerator(\n",
        "                    width_shift_range=0.1, \n",
        "                    height_shift_range=0.1, \n",
        "                    horizontal_flip=True,\n",
        "                    validation_split=0.1) #d o test train split here\n",
        "    \n",
        "    #image_gen = ImageDataGenerator(samplewise_center=False)\n",
        "    \n",
        "    # Define a training data generator\n",
        "    partial_flow_func = partial(\n",
        "        image_gen_aug.flow_from_directory, \n",
        "        directory=os.path.join('data','tiny-imagenet-200', 'train'), \n",
        "        target_size=target_size, classes=None,\n",
        "        class_mode='categorical', batch_size=batch_size, \n",
        "        shuffle=True, seed=random_seed)\n",
        "    \n",
        "    # Get the training data subset\n",
        "    train_gen = partial_flow_func(subset='training')\n",
        "    # Get the validation data subset\n",
        "    valid_gen = partial_flow_func(subset='validation') \n",
        "    \n",
        "    return train_gen, valid_gen"
      ],
      "execution_count": 29,
      "outputs": []
    },
    {
      "cell_type": "code",
      "metadata": {
        "id": "30eQa01DKSVb",
        "colab": {
          "base_uri": "https://localhost:8080/"
        },
        "outputId": "c872b023-6cca-45c3-9e98-b25a841c7598"
      },
      "source": [
        "BATCH_SIZE = 32\n",
        "# Getting the train,valid, test data generators\n",
        "train_gen, valid_gen = get_train_valid_test_data_generators(BATCH_SIZE, PICTURE_SHAPE)"
      ],
      "execution_count": 30,
      "outputs": [
        {
          "output_type": "stream",
          "text": [
            "Found 90000 images belonging to 200 classes.\n",
            "Found 10000 images belonging to 200 classes.\n"
          ],
          "name": "stdout"
        }
      ]
    },
    {
      "cell_type": "code",
      "metadata": {
        "id": "yOYwiYed0Lnq"
      },
      "source": [
        "def get_steps_per_epoch(n_data, batch_size):\n",
        "    \"\"\" Given the data size and batch size, gives the number of steps to travers the full dataset \"\"\"\n",
        "    if n_data%batch_size==0:\n",
        "        return int(n_data/batch_size)\n",
        "    else:\n",
        "        return int(n_data*1.0/batch_size)+1"
      ],
      "execution_count": 31,
      "outputs": []
    },
    {
      "cell_type": "code",
      "metadata": {
        "id": "-SMuYxAg0PV0"
      },
      "source": [
        "# clear old models and create new squeezeNet\n",
        "tf.keras.backend.clear_session()\n",
        "model = squeezeNet(INSHAPE, N_CLASSES)\n",
        "# chekout squeezeNet architecture\n",
        "#model.summary()"
      ],
      "execution_count": 32,
      "outputs": []
    },
    {
      "cell_type": "code",
      "metadata": {
        "id": "q64byl2A0RYT"
      },
      "source": [
        "# training configuration\n",
        "loss = tf.keras.losses.CategoricalCrossentropy()\n",
        "adam = tf.keras.optimizers.Adam(learning_rate=0.0001)\n",
        "model.compile(loss=loss, optimizer=adam, metrics=['accuracy'])"
      ],
      "execution_count": 33,
      "outputs": []
    },
    {
      "cell_type": "code",
      "metadata": {
        "colab": {
          "base_uri": "https://localhost:8080/",
          "height": 487
        },
        "id": "Uqt84oZm0Tes",
        "outputId": "07c3ec48-126f-4a3f-da75-b08f6b230752"
      },
      "source": [
        "history = model.fit(\n",
        "    train_gen, validation_data=valid_gen, \n",
        "    steps_per_epoch=get_steps_per_epoch(int(0.9*(500*200)), BATCH_SIZE), \n",
        "    validation_steps=get_steps_per_epoch(int(0.1*(500*200)), BATCH_SIZE),\n",
        "    epochs=10, verbose=1)\n"
      ],
      "execution_count": 34,
      "outputs": [
        {
          "output_type": "stream",
          "text": [
            "Epoch 1/10\n",
            "2813/2813 [==============================] - 191s 67ms/step - loss: 5.1015 - accuracy: 0.0153 - val_loss: 4.9141 - val_accuracy: 0.0255\n",
            "Epoch 2/10\n",
            "2813/2813 [==============================] - 190s 67ms/step - loss: 4.7432 - accuracy: 0.0427 - val_loss: 4.6439 - val_accuracy: 0.0587\n",
            "Epoch 3/10\n",
            "2813/2813 [==============================] - 189s 67ms/step - loss: 4.4919 - accuracy: 0.0726 - val_loss: 4.4085 - val_accuracy: 0.0806\n",
            "Epoch 4/10\n",
            " 381/2813 [===>..........................] - ETA: 2:31 - loss: 4.3859 - accuracy: 0.0866"
          ],
          "name": "stdout"
        },
        {
          "output_type": "error",
          "ename": "KeyboardInterrupt",
          "evalue": "ignored",
          "traceback": [
            "\u001b[0;31m---------------------------------------------------------------------------\u001b[0m",
            "\u001b[0;31mKeyboardInterrupt\u001b[0m                         Traceback (most recent call last)",
            "\u001b[0;32m<ipython-input-34-7eca03b6844e>\u001b[0m in \u001b[0;36m<module>\u001b[0;34m()\u001b[0m\n\u001b[1;32m      5\u001b[0m     \u001b[0msteps_per_epoch\u001b[0m\u001b[0;34m=\u001b[0m\u001b[0mget_steps_per_epoch\u001b[0m\u001b[0;34m(\u001b[0m\u001b[0mint\u001b[0m\u001b[0;34m(\u001b[0m\u001b[0;36m0.9\u001b[0m\u001b[0;34m*\u001b[0m\u001b[0;34m(\u001b[0m\u001b[0;36m500\u001b[0m\u001b[0;34m*\u001b[0m\u001b[0;36m200\u001b[0m\u001b[0;34m)\u001b[0m\u001b[0;34m)\u001b[0m\u001b[0;34m,\u001b[0m \u001b[0mBATCH_SIZE\u001b[0m\u001b[0;34m)\u001b[0m\u001b[0;34m,\u001b[0m\u001b[0;34m\u001b[0m\u001b[0;34m\u001b[0m\u001b[0m\n\u001b[1;32m      6\u001b[0m     \u001b[0mvalidation_steps\u001b[0m\u001b[0;34m=\u001b[0m\u001b[0mget_steps_per_epoch\u001b[0m\u001b[0;34m(\u001b[0m\u001b[0mint\u001b[0m\u001b[0;34m(\u001b[0m\u001b[0;36m0.1\u001b[0m\u001b[0;34m*\u001b[0m\u001b[0;34m(\u001b[0m\u001b[0;36m500\u001b[0m\u001b[0;34m*\u001b[0m\u001b[0;36m200\u001b[0m\u001b[0;34m)\u001b[0m\u001b[0;34m)\u001b[0m\u001b[0;34m,\u001b[0m \u001b[0mBATCH_SIZE\u001b[0m\u001b[0;34m)\u001b[0m\u001b[0;34m,\u001b[0m\u001b[0;34m\u001b[0m\u001b[0;34m\u001b[0m\u001b[0m\n\u001b[0;32m----> 7\u001b[0;31m     epochs=n_epochs, verbose=1)\n\u001b[0m",
            "\u001b[0;32m/usr/local/lib/python3.7/dist-packages/tensorflow/python/keras/engine/training.py\u001b[0m in \u001b[0;36mfit\u001b[0;34m(self, x, y, batch_size, epochs, verbose, callbacks, validation_split, validation_data, shuffle, class_weight, sample_weight, initial_epoch, steps_per_epoch, validation_steps, validation_batch_size, validation_freq, max_queue_size, workers, use_multiprocessing)\u001b[0m\n\u001b[1;32m   1181\u001b[0m                 _r=1):\n\u001b[1;32m   1182\u001b[0m               \u001b[0mcallbacks\u001b[0m\u001b[0;34m.\u001b[0m\u001b[0mon_train_batch_begin\u001b[0m\u001b[0;34m(\u001b[0m\u001b[0mstep\u001b[0m\u001b[0;34m)\u001b[0m\u001b[0;34m\u001b[0m\u001b[0;34m\u001b[0m\u001b[0m\n\u001b[0;32m-> 1183\u001b[0;31m               \u001b[0mtmp_logs\u001b[0m \u001b[0;34m=\u001b[0m \u001b[0mself\u001b[0m\u001b[0;34m.\u001b[0m\u001b[0mtrain_function\u001b[0m\u001b[0;34m(\u001b[0m\u001b[0miterator\u001b[0m\u001b[0;34m)\u001b[0m\u001b[0;34m\u001b[0m\u001b[0;34m\u001b[0m\u001b[0m\n\u001b[0m\u001b[1;32m   1184\u001b[0m               \u001b[0;32mif\u001b[0m \u001b[0mdata_handler\u001b[0m\u001b[0;34m.\u001b[0m\u001b[0mshould_sync\u001b[0m\u001b[0;34m:\u001b[0m\u001b[0;34m\u001b[0m\u001b[0;34m\u001b[0m\u001b[0m\n\u001b[1;32m   1185\u001b[0m                 \u001b[0mcontext\u001b[0m\u001b[0;34m.\u001b[0m\u001b[0masync_wait\u001b[0m\u001b[0;34m(\u001b[0m\u001b[0;34m)\u001b[0m\u001b[0;34m\u001b[0m\u001b[0;34m\u001b[0m\u001b[0m\n",
            "\u001b[0;32m/usr/local/lib/python3.7/dist-packages/tensorflow/python/eager/def_function.py\u001b[0m in \u001b[0;36m__call__\u001b[0;34m(self, *args, **kwds)\u001b[0m\n\u001b[1;32m    887\u001b[0m \u001b[0;34m\u001b[0m\u001b[0m\n\u001b[1;32m    888\u001b[0m       \u001b[0;32mwith\u001b[0m \u001b[0mOptionalXlaContext\u001b[0m\u001b[0;34m(\u001b[0m\u001b[0mself\u001b[0m\u001b[0;34m.\u001b[0m\u001b[0m_jit_compile\u001b[0m\u001b[0;34m)\u001b[0m\u001b[0;34m:\u001b[0m\u001b[0;34m\u001b[0m\u001b[0;34m\u001b[0m\u001b[0m\n\u001b[0;32m--> 889\u001b[0;31m         \u001b[0mresult\u001b[0m \u001b[0;34m=\u001b[0m \u001b[0mself\u001b[0m\u001b[0;34m.\u001b[0m\u001b[0m_call\u001b[0m\u001b[0;34m(\u001b[0m\u001b[0;34m*\u001b[0m\u001b[0margs\u001b[0m\u001b[0;34m,\u001b[0m \u001b[0;34m**\u001b[0m\u001b[0mkwds\u001b[0m\u001b[0;34m)\u001b[0m\u001b[0;34m\u001b[0m\u001b[0;34m\u001b[0m\u001b[0m\n\u001b[0m\u001b[1;32m    890\u001b[0m \u001b[0;34m\u001b[0m\u001b[0m\n\u001b[1;32m    891\u001b[0m       \u001b[0mnew_tracing_count\u001b[0m \u001b[0;34m=\u001b[0m \u001b[0mself\u001b[0m\u001b[0;34m.\u001b[0m\u001b[0mexperimental_get_tracing_count\u001b[0m\u001b[0;34m(\u001b[0m\u001b[0;34m)\u001b[0m\u001b[0;34m\u001b[0m\u001b[0;34m\u001b[0m\u001b[0m\n",
            "\u001b[0;32m/usr/local/lib/python3.7/dist-packages/tensorflow/python/eager/def_function.py\u001b[0m in \u001b[0;36m_call\u001b[0;34m(self, *args, **kwds)\u001b[0m\n\u001b[1;32m    915\u001b[0m       \u001b[0;31m# In this case we have created variables on the first call, so we run the\u001b[0m\u001b[0;34m\u001b[0m\u001b[0;34m\u001b[0m\u001b[0;34m\u001b[0m\u001b[0m\n\u001b[1;32m    916\u001b[0m       \u001b[0;31m# defunned version which is guaranteed to never create variables.\u001b[0m\u001b[0;34m\u001b[0m\u001b[0;34m\u001b[0m\u001b[0;34m\u001b[0m\u001b[0m\n\u001b[0;32m--> 917\u001b[0;31m       \u001b[0;32mreturn\u001b[0m \u001b[0mself\u001b[0m\u001b[0;34m.\u001b[0m\u001b[0m_stateless_fn\u001b[0m\u001b[0;34m(\u001b[0m\u001b[0;34m*\u001b[0m\u001b[0margs\u001b[0m\u001b[0;34m,\u001b[0m \u001b[0;34m**\u001b[0m\u001b[0mkwds\u001b[0m\u001b[0;34m)\u001b[0m  \u001b[0;31m# pylint: disable=not-callable\u001b[0m\u001b[0;34m\u001b[0m\u001b[0;34m\u001b[0m\u001b[0m\n\u001b[0m\u001b[1;32m    918\u001b[0m     \u001b[0;32melif\u001b[0m \u001b[0mself\u001b[0m\u001b[0;34m.\u001b[0m\u001b[0m_stateful_fn\u001b[0m \u001b[0;32mis\u001b[0m \u001b[0;32mnot\u001b[0m \u001b[0;32mNone\u001b[0m\u001b[0;34m:\u001b[0m\u001b[0;34m\u001b[0m\u001b[0;34m\u001b[0m\u001b[0m\n\u001b[1;32m    919\u001b[0m       \u001b[0;31m# Release the lock early so that multiple threads can perform the call\u001b[0m\u001b[0;34m\u001b[0m\u001b[0;34m\u001b[0m\u001b[0;34m\u001b[0m\u001b[0m\n",
            "\u001b[0;32m/usr/local/lib/python3.7/dist-packages/tensorflow/python/eager/function.py\u001b[0m in \u001b[0;36m__call__\u001b[0;34m(self, *args, **kwargs)\u001b[0m\n\u001b[1;32m   3022\u001b[0m        filtered_flat_args) = self._maybe_define_function(args, kwargs)\n\u001b[1;32m   3023\u001b[0m     return graph_function._call_flat(\n\u001b[0;32m-> 3024\u001b[0;31m         filtered_flat_args, captured_inputs=graph_function.captured_inputs)  # pylint: disable=protected-access\n\u001b[0m\u001b[1;32m   3025\u001b[0m \u001b[0;34m\u001b[0m\u001b[0m\n\u001b[1;32m   3026\u001b[0m   \u001b[0;34m@\u001b[0m\u001b[0mproperty\u001b[0m\u001b[0;34m\u001b[0m\u001b[0;34m\u001b[0m\u001b[0m\n",
            "\u001b[0;32m/usr/local/lib/python3.7/dist-packages/tensorflow/python/eager/function.py\u001b[0m in \u001b[0;36m_call_flat\u001b[0;34m(self, args, captured_inputs, cancellation_manager)\u001b[0m\n\u001b[1;32m   1959\u001b[0m       \u001b[0;31m# No tape is watching; skip to running the function.\u001b[0m\u001b[0;34m\u001b[0m\u001b[0;34m\u001b[0m\u001b[0;34m\u001b[0m\u001b[0m\n\u001b[1;32m   1960\u001b[0m       return self._build_call_outputs(self._inference_function.call(\n\u001b[0;32m-> 1961\u001b[0;31m           ctx, args, cancellation_manager=cancellation_manager))\n\u001b[0m\u001b[1;32m   1962\u001b[0m     forward_backward = self._select_forward_and_backward_functions(\n\u001b[1;32m   1963\u001b[0m         \u001b[0margs\u001b[0m\u001b[0;34m,\u001b[0m\u001b[0;34m\u001b[0m\u001b[0;34m\u001b[0m\u001b[0m\n",
            "\u001b[0;32m/usr/local/lib/python3.7/dist-packages/tensorflow/python/eager/function.py\u001b[0m in \u001b[0;36mcall\u001b[0;34m(self, ctx, args, cancellation_manager)\u001b[0m\n\u001b[1;32m    594\u001b[0m               \u001b[0minputs\u001b[0m\u001b[0;34m=\u001b[0m\u001b[0margs\u001b[0m\u001b[0;34m,\u001b[0m\u001b[0;34m\u001b[0m\u001b[0;34m\u001b[0m\u001b[0m\n\u001b[1;32m    595\u001b[0m               \u001b[0mattrs\u001b[0m\u001b[0;34m=\u001b[0m\u001b[0mattrs\u001b[0m\u001b[0;34m,\u001b[0m\u001b[0;34m\u001b[0m\u001b[0;34m\u001b[0m\u001b[0m\n\u001b[0;32m--> 596\u001b[0;31m               ctx=ctx)\n\u001b[0m\u001b[1;32m    597\u001b[0m         \u001b[0;32melse\u001b[0m\u001b[0;34m:\u001b[0m\u001b[0;34m\u001b[0m\u001b[0;34m\u001b[0m\u001b[0m\n\u001b[1;32m    598\u001b[0m           outputs = execute.execute_with_cancellation(\n",
            "\u001b[0;32m/usr/local/lib/python3.7/dist-packages/tensorflow/python/eager/execute.py\u001b[0m in \u001b[0;36mquick_execute\u001b[0;34m(op_name, num_outputs, inputs, attrs, ctx, name)\u001b[0m\n\u001b[1;32m     58\u001b[0m     \u001b[0mctx\u001b[0m\u001b[0;34m.\u001b[0m\u001b[0mensure_initialized\u001b[0m\u001b[0;34m(\u001b[0m\u001b[0;34m)\u001b[0m\u001b[0;34m\u001b[0m\u001b[0;34m\u001b[0m\u001b[0m\n\u001b[1;32m     59\u001b[0m     tensors = pywrap_tfe.TFE_Py_Execute(ctx._handle, device_name, op_name,\n\u001b[0;32m---> 60\u001b[0;31m                                         inputs, attrs, num_outputs)\n\u001b[0m\u001b[1;32m     61\u001b[0m   \u001b[0;32mexcept\u001b[0m \u001b[0mcore\u001b[0m\u001b[0;34m.\u001b[0m\u001b[0m_NotOkStatusException\u001b[0m \u001b[0;32mas\u001b[0m \u001b[0me\u001b[0m\u001b[0;34m:\u001b[0m\u001b[0;34m\u001b[0m\u001b[0;34m\u001b[0m\u001b[0m\n\u001b[1;32m     62\u001b[0m     \u001b[0;32mif\u001b[0m \u001b[0mname\u001b[0m \u001b[0;32mis\u001b[0m \u001b[0;32mnot\u001b[0m \u001b[0;32mNone\u001b[0m\u001b[0;34m:\u001b[0m\u001b[0;34m\u001b[0m\u001b[0;34m\u001b[0m\u001b[0m\n",
            "\u001b[0;31mKeyboardInterrupt\u001b[0m: "
          ]
        }
      ]
    },
    {
      "cell_type": "markdown",
      "metadata": {
        "id": "mTQ_z83JewGR"
      },
      "source": [
        "# ResNet50 transfer learning"
      ]
    },
    {
      "cell_type": "code",
      "metadata": {
        "id": "iPQBbdAaf1aY"
      },
      "source": [
        "import numpy as np\n",
        "import pandas as pd \n",
        "from tensorflow import keras\n",
        "import tensorflow as tf"
      ],
      "execution_count": 1,
      "outputs": []
    },
    {
      "cell_type": "code",
      "metadata": {
        "id": "AHb7gm72gWEO"
      },
      "source": [
        "def res50Net_transfer(input_shape, n_classes, frozen_layers=168, final_layers=False):\n",
        "    # load resnet with given input shape\n",
        "    input_t = tf.keras.Input(shape=input_shape)\n",
        "    res_model = tf.keras.applications.ResNet50(include_top=False,\n",
        "                                              weights=\"imagenet\",\n",
        "                                              input_tensor=input_t)\n",
        "    # freeze top layers of resnet\n",
        "    for layer in res_model.layers[:frozen_layers]:\n",
        "        layer.trainable =False\n",
        "\n",
        "    # wrap resnet by sequencial network\n",
        "    model = tf.keras.models.Sequential()\n",
        "    model.add(tf.keras.layers.Lambda(lambda image: tf.image.resize(image, input_shape[:2])))\n",
        "    model.add(res_model)\n",
        "    model.add(tf.keras.layers.Flatten())\n",
        "\n",
        "    if final_layers: # add dense layers if we need more accuracy\n",
        "        model.add(tf.keras.layers.BatchNormalization())\n",
        "        model.add(tf.keras.layers.Dense(256, activation='relu'))\n",
        "        model.add(tf.keras.layers.Dropout(0.5))\n",
        "        model.add(tf.keras.layers.BatchNormalization())\n",
        "        model.add(tf.keras.layers.Dense(128, activation='relu'))\n",
        "        model.add(tf.keras.layers.Dropout(0.5))\n",
        "        model.add(tf.keras.layers.BatchNormalization())\n",
        "        model.add(tf.keras.layers.Dense(64, activation='relu'))\n",
        "        model.add(tf.keras.layers.Dropout(0.5))\n",
        "        model.add(tf.keras.layers.BatchNormalization())\n",
        "\n",
        "    model.add(tf.keras.layers.Dense(n_classes, activation='softmax'))\n",
        "    return model"
      ],
      "execution_count": 2,
      "outputs": []
    },
    {
      "cell_type": "markdown",
      "metadata": {
        "id": "inWNtiIPk0ao"
      },
      "source": [
        "## Cifar10"
      ]
    },
    {
      "cell_type": "code",
      "metadata": {
        "id": "wlpDKuQtlE4c"
      },
      "source": [
        "# Cifar10 has 10 classes\n",
        "N_CLASSES = 10\n",
        "# our input dimensions\n",
        "INSHAPE = 32, 32, 3"
      ],
      "execution_count": 3,
      "outputs": []
    },
    {
      "cell_type": "code",
      "metadata": {
        "id": "4N1eT-GRlE4d"
      },
      "source": [
        "# get the data\n",
        "(x_train,y_train), (x_test, y_test) = tf.keras.datasets.cifar10.load_data()"
      ],
      "execution_count": 4,
      "outputs": []
    },
    {
      "cell_type": "code",
      "metadata": {
        "id": "VNwYnwzZlE4e"
      },
      "source": [
        "# do a 1hot encoding on labels\n",
        "y_train = tf.keras.utils.to_categorical(y_train, N_CLASSES)\n",
        "y_test = tf.keras.utils.to_categorical(y_test, N_CLASSES)"
      ],
      "execution_count": 5,
      "outputs": []
    },
    {
      "cell_type": "code",
      "metadata": {
        "colab": {
          "base_uri": "https://localhost:8080/"
        },
        "id": "spbbba4TlE4g",
        "outputId": "7caf70bb-4912-4388-e0ec-c1f89dc7aaf0"
      },
      "source": [
        "# check if data shapes are correct\n",
        "print(x_train.shape, y_train.shape)\n",
        "print(x_test.shape, y_test.shape)"
      ],
      "execution_count": 6,
      "outputs": [
        {
          "output_type": "stream",
          "text": [
            "(50000, 32, 32, 3) (50000, 10)\n",
            "(10000, 32, 32, 3) (10000, 10)\n"
          ],
          "name": "stdout"
        }
      ]
    },
    {
      "cell_type": "code",
      "metadata": {
        "id": "IjCGF1WBlE4i"
      },
      "source": [
        "# augment pictures\n",
        "from keras.preprocessing.image import ImageDataGenerator\n",
        "\n",
        "datagen = ImageDataGenerator(\n",
        "    width_shift_range=0.1, \n",
        "    height_shift_range=0.1, \n",
        "    horizontal_flip=True)"
      ],
      "execution_count": 7,
      "outputs": []
    },
    {
      "cell_type": "code",
      "metadata": {
        "id": "jGLp-xfXlE4k"
      },
      "source": [
        "# clear old models and create new squeezeNet\n",
        "tf.keras.backend.clear_session()\n",
        "model = res50Net_transfer(INSHAPE, N_CLASSES, frozen_layers=168, final_layers=False)\n"
      ],
      "execution_count": 8,
      "outputs": []
    },
    {
      "cell_type": "code",
      "metadata": {
        "colab": {
          "base_uri": "https://localhost:8080/"
        },
        "id": "y4Va1wYKmQCl",
        "outputId": "ae59596e-18a4-4f0c-e313-ef839c9f4e30"
      },
      "source": [
        "model.compile(loss='categorical_crossentropy',\n",
        "                  optimizer=tf.keras.optimizers.RMSprop(lr=2e-5),\n",
        "                  metrics=['accuracy'])\n",
        "# generator for data augmentation with 64 pictures per step generated\n",
        "it_train = datagen.flow(x_train, y_train, batch_size=64)\n",
        "steps = x_train.shape[0] // 64 # total steps needed to iterate all pictures"
      ],
      "execution_count": 9,
      "outputs": [
        {
          "output_type": "stream",
          "text": [
            "/usr/local/lib/python3.7/dist-packages/tensorflow/python/keras/optimizer_v2/optimizer_v2.py:375: UserWarning: The `lr` argument is deprecated, use `learning_rate` instead.\n",
            "  \"The `lr` argument is deprecated, use `learning_rate` instead.\")\n"
          ],
          "name": "stderr"
        }
      ]
    },
    {
      "cell_type": "code",
      "metadata": {
        "colab": {
          "base_uri": "https://localhost:8080/"
        },
        "id": "ENilVjEMm9Ek",
        "outputId": "84f80576-44ca-4540-e1d2-dbf015e21922"
      },
      "source": [
        "history = model.fit(it_train, epochs=20, verbose=1,steps_per_epoch=steps,\n",
        "                    validation_data=(x_test, y_test))"
      ],
      "execution_count": 10,
      "outputs": [
        {
          "output_type": "stream",
          "text": [
            "Epoch 1/20\n",
            "781/781 [==============================] - 45s 51ms/step - loss: 2.4085 - accuracy: 0.3211 - val_loss: 1.7925 - val_accuracy: 0.4424\n",
            "Epoch 2/20\n",
            "781/781 [==============================] - 38s 49ms/step - loss: 1.7012 - accuracy: 0.4576 - val_loss: 1.5464 - val_accuracy: 0.5009\n",
            "Epoch 3/20\n",
            "781/781 [==============================] - 39s 50ms/step - loss: 1.5151 - accuracy: 0.5010 - val_loss: 1.4396 - val_accuracy: 0.5265\n",
            "Epoch 4/20\n",
            "781/781 [==============================] - 38s 49ms/step - loss: 1.4147 - accuracy: 0.5290 - val_loss: 1.3767 - val_accuracy: 0.5423\n",
            "Epoch 5/20\n",
            "781/781 [==============================] - 38s 49ms/step - loss: 1.3494 - accuracy: 0.5464 - val_loss: 1.3320 - val_accuracy: 0.5558\n",
            "Epoch 6/20\n",
            "781/781 [==============================] - 38s 49ms/step - loss: 1.2886 - accuracy: 0.5627 - val_loss: 1.2948 - val_accuracy: 0.5685\n",
            "Epoch 7/20\n",
            "781/781 [==============================] - 39s 50ms/step - loss: 1.2519 - accuracy: 0.5734 - val_loss: 1.2722 - val_accuracy: 0.5767\n",
            "Epoch 8/20\n",
            "781/781 [==============================] - 38s 49ms/step - loss: 1.2093 - accuracy: 0.5835 - val_loss: 1.2578 - val_accuracy: 0.5825\n",
            "Epoch 9/20\n",
            "781/781 [==============================] - 39s 50ms/step - loss: 1.1880 - accuracy: 0.5924 - val_loss: 1.2427 - val_accuracy: 0.5820\n",
            "Epoch 10/20\n",
            "781/781 [==============================] - 39s 50ms/step - loss: 1.1599 - accuracy: 0.6007 - val_loss: 1.2180 - val_accuracy: 0.5911\n",
            "Epoch 11/20\n",
            "781/781 [==============================] - 38s 49ms/step - loss: 1.1317 - accuracy: 0.6102 - val_loss: 1.2017 - val_accuracy: 0.5983\n",
            "Epoch 12/20\n",
            "781/781 [==============================] - 38s 49ms/step - loss: 1.1105 - accuracy: 0.6166 - val_loss: 1.2044 - val_accuracy: 0.5982\n",
            "Epoch 13/20\n",
            "781/781 [==============================] - 39s 50ms/step - loss: 1.0928 - accuracy: 0.6236 - val_loss: 1.1929 - val_accuracy: 0.6053\n",
            "Epoch 14/20\n",
            "781/781 [==============================] - 39s 50ms/step - loss: 1.0789 - accuracy: 0.6254 - val_loss: 1.1811 - val_accuracy: 0.6047\n",
            "Epoch 15/20\n",
            "781/781 [==============================] - 38s 49ms/step - loss: 1.0580 - accuracy: 0.6313 - val_loss: 1.1732 - val_accuracy: 0.6114\n",
            "Epoch 16/20\n",
            "781/781 [==============================] - 39s 50ms/step - loss: 1.0455 - accuracy: 0.6363 - val_loss: 1.1649 - val_accuracy: 0.6120\n",
            "Epoch 17/20\n",
            "781/781 [==============================] - 38s 49ms/step - loss: 1.0268 - accuracy: 0.6408 - val_loss: 1.1629 - val_accuracy: 0.6128\n",
            "Epoch 18/20\n",
            "781/781 [==============================] - 39s 50ms/step - loss: 1.0132 - accuracy: 0.6470 - val_loss: 1.1558 - val_accuracy: 0.6154\n",
            "Epoch 19/20\n",
            "781/781 [==============================] - 39s 50ms/step - loss: 0.9956 - accuracy: 0.6533 - val_loss: 1.1539 - val_accuracy: 0.6181\n",
            "Epoch 20/20\n",
            "781/781 [==============================] - 38s 49ms/step - loss: 0.9902 - accuracy: 0.6550 - val_loss: 1.1521 - val_accuracy: 0.6186\n"
          ],
          "name": "stdout"
        }
      ]
    },
    {
      "cell_type": "code",
      "metadata": {
        "id": "avX5ZwQJ01Ka"
      },
      "source": [
        "import matplotlib.pyplot as plt\n",
        "def plot_accuracy_and_loss(history):\n",
        "    plt.figure(1, figsize= (15, 10))\n",
        "\n",
        "    # plot train and test accuracy\n",
        "    plt.subplot(221)\n",
        "    plt.plot(history.history['accuracy'])\n",
        "    plt.plot(history.history['val_accuracy'])\n",
        "    plt.title('ResNet50 accuracy')\n",
        "    plt.ylabel('accuracy')\n",
        "    plt.xlabel('epoch')\n",
        "    plt.legend(['train', 'test'], loc='upper left')\n",
        "\n",
        "    # plot train and test loss\n",
        "    plt.subplot(222)\n",
        "    plt.plot(history.history['loss'])\n",
        "    plt.plot(history.history['val_loss'])\n",
        "    plt.title('ResNet50 loss')\n",
        "    plt.ylabel('loss')\n",
        "    plt.xlabel('epoch')\n",
        "    plt.legend(['train', 'test'], loc='upper right')\n",
        "\n",
        "    plt.show()"
      ],
      "execution_count": 11,
      "outputs": []
    },
    {
      "cell_type": "code",
      "metadata": {
        "colab": {
          "base_uri": "https://localhost:8080/",
          "height": 325
        },
        "id": "MaJb61_t04Ab",
        "outputId": "fe01b5c4-ab0b-487b-f345-8a0cc8569f70"
      },
      "source": [
        "plot_accuracy_and_loss(history)"
      ],
      "execution_count": 12,
      "outputs": [
        {
          "output_type": "display_data",
          "data": {
            "image/png": "[encoded data removed]",
            "text/plain": [
              "<Figure size 1080x720 with 2 Axes>"
            ]
          },
          "metadata": {
            "tags": [],
            "needs_background": "light"
          }
        }
      ]
    }
  ]
}