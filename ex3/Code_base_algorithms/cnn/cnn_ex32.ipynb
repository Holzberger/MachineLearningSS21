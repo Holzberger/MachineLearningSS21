{
  "nbformat": 4,
  "nbformat_minor": 0,
  "metadata": {
    "kernelspec": {
      "language": "python",
      "display_name": "Python 3",
      "name": "python3"
    },
    "language_info": {
      "name": "python",
      "version": "3.7.10",
      "mimetype": "text/x-python",
      "codemirror_mode": {
        "name": "ipython",
        "version": 3
      },
      "pygments_lexer": "ipython3",
      "nbconvert_exporter": "python",
      "file_extension": ".py"
    },
    "colab": {
      "name": "ex32.ipynb",
      "provenance": []
    },
    "accelerator": "GPU"
  },
  "cells": [
    {
      "cell_type": "markdown",
      "metadata": {
        "id": "KOCp0HTqD-Lm"
      },
      "source": [
        "# SqueezeNet "
      ]
    },
    {
      "cell_type": "code",
      "metadata": {
        "id": "OKQaQCjlEi1R",
        "execution": {
          "iopub.status.busy": "2021-07-23T23:27:36.459207Z",
          "iopub.execute_input": "2021-07-23T23:27:36.459491Z",
          "iopub.status.idle": "2021-07-23T23:27:40.489895Z",
          "shell.execute_reply.started": "2021-07-23T23:27:36.459428Z",
          "shell.execute_reply": "2021-07-23T23:27:40.489076Z"
        },
        "trusted": true
      },
      "source": [
        "import numpy as np\n",
        "import pandas as pd \n",
        "import tensorflow as tf\n",
        "import os\n",
        "import random\n",
        "\n",
        "# fix random seed for involved libraries\n",
        "random_seed = 4321\n",
        "np.random.seed(random_seed)\n",
        "tf.random.set_seed(random_seed)\n",
        "random.seed(random_seed)"
      ],
      "execution_count": null,
      "outputs": []
    },
    {
      "cell_type": "code",
      "metadata": {
        "id": "gGmBZlvlEqNI",
        "execution": {
          "iopub.status.busy": "2021-07-23T23:27:43.270642Z",
          "iopub.execute_input": "2021-07-23T23:27:43.270985Z",
          "iopub.status.idle": "2021-07-23T23:27:43.283443Z",
          "shell.execute_reply.started": "2021-07-23T23:27:43.270952Z",
          "shell.execute_reply": "2021-07-23T23:27:43.282524Z"
        },
        "trusted": true
      },
      "source": [
        "def squeezeNet(input_shape, n_classes):\n",
        "    def fire(x_in, n_squeeze, n_expand):\n",
        "        x_sqeeze = tf.keras.layers.Conv2D(n_squeeze, 1, padding =\"valid\", activation=\"relu\")(x_in)\n",
        "        x_expand1 = tf.keras.layers.Conv2D(n_expand, 1, padding =\"valid\", activation=\"relu\")(x_sqeeze)\n",
        "        x_expand3 = tf.keras.layers.Conv2D(n_expand, 3, padding =\"same\", activation=\"relu\")(x_sqeeze)\n",
        "        output = tf.keras.layers.concatenate([x_expand1, x_expand3],axis=3)\n",
        "        return output\n",
        "    img_input = tf.keras.Input(input_shape) # size of your pictures\n",
        "    x = tf.keras.layers.Conv2D(96, 7, strides=2, padding =\"same\", activation=\"relu\")(img_input)\n",
        "    x = tf.keras.layers.MaxPool2D(3, strides=2, padding =\"same\")(x)\n",
        "    x = fire(x, 16, 64)\n",
        "    x = fire(x, 16, 64)\n",
        "    x = fire(x, 32, 128)\n",
        "    x = tf.keras.layers.MaxPool2D(3, strides=2, padding =\"same\")(x)\n",
        "    x = fire(x, 32, 128)\n",
        "    x = fire(x, 48, 192)\n",
        "    x = fire(x, 48, 192)\n",
        "    x = fire(x, 64, 256)\n",
        "    x = tf.keras.layers.MaxPool2D(3, strides=2, padding =\"same\")(x)\n",
        "    x = fire(x, 64, 256)\n",
        "    x = tf.keras.layers.Dropout(0.5)(x)\n",
        "    x = tf.keras.layers.Conv2D(n_classes, 1 , strides=1, padding=\"same\")(x)\n",
        "    x = tf.keras.layers.GlobalAvgPool2D()(x)\n",
        "    output = tf.keras.layers.Activation(\"softmax\")(x)\n",
        "    model = tf.keras.models.Model(img_input, output)\n",
        "    return model"
      ],
      "execution_count": null,
      "outputs": []
    },
    {
      "cell_type": "code",
      "metadata": {
        "id": "PhIncDrX6m76",
        "execution": {
          "iopub.status.busy": "2021-07-23T23:27:48.655526Z",
          "iopub.execute_input": "2021-07-23T23:27:48.655847Z",
          "iopub.status.idle": "2021-07-23T23:27:48.660988Z",
          "shell.execute_reply.started": "2021-07-23T23:27:48.655815Z",
          "shell.execute_reply": "2021-07-23T23:27:48.660066Z"
        },
        "trusted": true
      },
      "source": [
        "from tensorflow.keras.callbacks import EarlyStopping, CSVLogger, ReduceLROnPlateau\n",
        "\n",
        "# define squeeze net callbacks\n",
        "def get_squeezeNet_callbacks():\n",
        "    es_callback = EarlyStopping(monitor='val_loss', patience=25)\n",
        "    csv_logger = CSVLogger(os.path.join('squeezeNet.log'))\n",
        "    lr_callback = ReduceLROnPlateau(monitor='val_loss', factor=0.1, patience=5, verbose=1, mode='auto')\n",
        "    return [es_callback, csv_logger, lr_callback]"
      ],
      "execution_count": null,
      "outputs": []
    },
    {
      "cell_type": "code",
      "metadata": {
        "id": "p1MKKrHs6nTR",
        "execution": {
          "iopub.status.busy": "2021-07-23T23:27:51.793540Z",
          "iopub.execute_input": "2021-07-23T23:27:51.793935Z",
          "iopub.status.idle": "2021-07-23T23:27:51.799861Z",
          "shell.execute_reply.started": "2021-07-23T23:27:51.793885Z",
          "shell.execute_reply": "2021-07-23T23:27:51.798814Z"
        },
        "trusted": true
      },
      "source": [
        "# return steps needed for training and validation with a given batch size\n",
        "def get_steps_per_epoch(n_data, batch_size):\n",
        "    if n_data%batch_size==0:\n",
        "        return int(n_data/batch_size)\n",
        "    else:\n",
        "        return int(n_data*1.0/batch_size)+1"
      ],
      "execution_count": null,
      "outputs": []
    },
    {
      "cell_type": "markdown",
      "metadata": {
        "id": "M5271sHeESzz"
      },
      "source": [
        "# Cifar10"
      ]
    },
    {
      "cell_type": "code",
      "metadata": {
        "id": "2gJHdAhHGRr7",
        "trusted": true
      },
      "source": [
        "# Cifar10 has 10 classes\n",
        "N_CLASSES = 10\n",
        "# our input dimensions\n",
        "INSHAPE = 32, 32, 3\n",
        "BATCH_SIZE = 64"
      ],
      "execution_count": null,
      "outputs": []
    },
    {
      "cell_type": "code",
      "metadata": {
        "id": "iAeOlMZEFHNs",
        "trusted": true,
        "colab": {
          "base_uri": "https://localhost:8080/"
        },
        "outputId": "be229850-f16a-4eda-b5c3-e0f645db30ae"
      },
      "source": [
        "# get the data\n",
        "(x_train,y_train), (x_test, y_test) = tf.keras.datasets.cifar10.load_data()"
      ],
      "execution_count": null,
      "outputs": [
        {
          "output_type": "stream",
          "text": [
            "Downloading data from https://www.cs.toronto.edu/~kriz/cifar-10-python.tar.gz\n",
            "170500096/170498071 [==============================] - 2s 0us/step\n"
          ],
          "name": "stdout"
        }
      ]
    },
    {
      "cell_type": "code",
      "metadata": {
        "id": "UBr3_APNFNy2",
        "trusted": true
      },
      "source": [
        "# do a 1hot encoding on labels\n",
        "y_train = tf.keras.utils.to_categorical(y_train, N_CLASSES)\n",
        "y_test = tf.keras.utils.to_categorical(y_test, N_CLASSES)"
      ],
      "execution_count": null,
      "outputs": []
    },
    {
      "cell_type": "code",
      "metadata": {
        "id": "mabIk6kNFzPD",
        "trusted": true,
        "colab": {
          "base_uri": "https://localhost:8080/"
        },
        "outputId": "1d781f8b-ec51-4914-9446-643657ddff4e"
      },
      "source": [
        "# check if data shapes are correct\n",
        "print(x_train.shape, y_train.shape)\n",
        "print(x_test.shape, y_test.shape)"
      ],
      "execution_count": null,
      "outputs": [
        {
          "output_type": "stream",
          "text": [
            "(50000, 32, 32, 3) (50000, 10)\n",
            "(10000, 32, 32, 3) (10000, 10)\n"
          ],
          "name": "stdout"
        }
      ]
    },
    {
      "cell_type": "code",
      "metadata": {
        "id": "AaKGEmlgGADT",
        "trusted": true
      },
      "source": [
        "# augment pictures\n",
        "from keras.preprocessing.image import ImageDataGenerator\n",
        "\n",
        "datagen = ImageDataGenerator(\n",
        "    rescale=1./255, \n",
        "    width_shift_range=0.1, \n",
        "    height_shift_range=0.1, \n",
        "    shear_range = 0.1,\n",
        "    zoom_range = 0.1,\n",
        "    rotation_range=30,\n",
        "    horizontal_flip=True,\n",
        "    validation_split=0.1\n",
        "    )\n",
        "# get data generators for training and validation\n",
        "train_generator = datagen.flow( x_train, y_train, batch_size=BATCH_SIZE, subset='training')\n",
        "validation_generator = datagen.flow( x_train, y_train, batch_size=BATCH_SIZE, subset='validation')"
      ],
      "execution_count": null,
      "outputs": []
    },
    {
      "cell_type": "code",
      "metadata": {
        "id": "RbQwe_R6GNqM",
        "trusted": true
      },
      "source": [
        "# clear old models and create new squeezeNet\n",
        "tf.keras.backend.clear_session()\n",
        "model = squeezeNet(INSHAPE, N_CLASSES)\n",
        "# chekout squeezeNet architecture\n",
        "#model.summary()"
      ],
      "execution_count": null,
      "outputs": []
    },
    {
      "cell_type": "code",
      "metadata": {
        "id": "t4dso5jpE8JL",
        "trusted": true
      },
      "source": [
        "# training configuration\n",
        "loss = tf.keras.losses.CategoricalCrossentropy()\n",
        "adam = tf.keras.optimizers.Adam(learning_rate=0.0001)\n",
        "model.compile(loss=loss, optimizer=adam, metrics=['accuracy'])\n",
        "model_callbacks = get_squeezeNet_callbacks()"
      ],
      "execution_count": null,
      "outputs": []
    },
    {
      "cell_type": "code",
      "metadata": {
        "id": "gxFaOMxFE9K0",
        "trusted": true,
        "colab": {
          "base_uri": "https://localhost:8080/"
        },
        "outputId": "68ceca68-38f0-4f36-a4cf-47e0660fff7f"
      },
      "source": [
        "# start training\n",
        "history = model.fit(train_generator, \n",
        "                    epochs=6, \n",
        "                    steps_per_epoch = get_steps_per_epoch(int(x_train.shape[0]*0.9), BATCH_SIZE),\n",
        "                    validation_data=validation_generator , \n",
        "                    validation_steps = get_steps_per_epoch(int(x_train.shape[0]*0.1), BATCH_SIZE),\n",
        "                    verbose = 1,\n",
        "                    callbacks = model_callbacks)"
      ],
      "execution_count": null,
      "outputs": [
        {
          "output_type": "stream",
          "text": [
            "Epoch 1/6\n",
            "704/704 [==============================] - 32s 46ms/step - loss: 2.0526 - accuracy: 0.2159 - val_loss: 1.8860 - val_accuracy: 0.2782\n",
            "Epoch 2/6\n",
            "704/704 [==============================] - 30s 42ms/step - loss: 1.8301 - accuracy: 0.3085 - val_loss: 1.7499 - val_accuracy: 0.3310\n",
            "Epoch 3/6\n",
            "704/704 [==============================] - 32s 45ms/step - loss: 1.7325 - accuracy: 0.3486 - val_loss: 1.6646 - val_accuracy: 0.3718\n",
            "Epoch 4/6\n",
            "704/704 [==============================] - 31s 44ms/step - loss: 1.6657 - accuracy: 0.3799 - val_loss: 1.5830 - val_accuracy: 0.4086\n",
            "Epoch 5/6\n",
            "704/704 [==============================] - 30s 42ms/step - loss: 1.5991 - accuracy: 0.4083 - val_loss: 1.5628 - val_accuracy: 0.4242\n",
            "Epoch 6/6\n",
            "704/704 [==============================] - 31s 45ms/step - loss: 1.5504 - accuracy: 0.4273 - val_loss: 1.4805 - val_accuracy: 0.4532\n"
          ],
          "name": "stdout"
        }
      ]
    },
    {
      "cell_type": "code",
      "metadata": {
        "id": "VInV62Q2KoyN",
        "trusted": true
      },
      "source": [
        "import matplotlib.pyplot as plt\n",
        "def plot_accuracy_and_loss(history):\n",
        "    figure = plt.figure(1, figsize= (15, 10))\n",
        "\n",
        "    # plot train and test accuracy\n",
        "    plt.subplot(221)\n",
        "    plt.plot(history.history['accuracy'])\n",
        "    plt.plot(history.history['val_accuracy'])\n",
        "    plt.title('SqueezeNet accuracy')\n",
        "    plt.ylabel('accuracy')\n",
        "    plt.xlabel('epoch')\n",
        "    plt.legend(['train', 'validation'], loc='upper left')\n",
        "\n",
        "    # plot train and test loss\n",
        "    plt.subplot(222)\n",
        "    plt.plot(history.history['loss'])\n",
        "    plt.plot(history.history['val_loss'])\n",
        "    plt.title('SqueezeNet loss')\n",
        "    plt.ylabel('loss')\n",
        "    plt.xlabel('epoch')\n",
        "    plt.legend(['train', 'validation'], loc='upper right')\n",
        "    figure.savefig(\"squeezeNet.pdf\", bbox_inches='tight')\n",
        "    plt.show()"
      ],
      "execution_count": null,
      "outputs": []
    },
    {
      "cell_type": "code",
      "metadata": {
        "id": "-qQwRkY-KsmJ",
        "trusted": true,
        "colab": {
          "base_uri": "https://localhost:8080/",
          "height": 288
        },
        "outputId": "ade2da6e-4583-4a23-9593-b5cbf24ce600"
      },
      "source": [
        "plot_accuracy_and_loss(history)"
      ],
      "execution_count": null,
      "outputs": [
        {
          "output_type": "display_data",
          "data": {
            "image/png": "[encoded data removed]",
            "text/plain": [
              "<Figure size 1080x720 with 2 Axes>"
            ]
          },
          "metadata": {
            "tags": [],
            "needs_background": "light"
          }
        }
      ]
    },
    {
      "cell_type": "code",
      "metadata": {
        "id": "0UjSAWz-RxWg",
        "trusted": true
      },
      "source": [
        "if not os.path.exists('models'):\n",
        "    os.mkdir(\"models\")\n",
        "model.save(os.path.join('models', 'squeezeNet_cifar10.h5'))"
      ],
      "execution_count": null,
      "outputs": []
    },
    {
      "cell_type": "markdown",
      "metadata": {
        "id": "sKUJyvK0JBHf"
      },
      "source": [
        "# Tiny ImageNet"
      ]
    },
    {
      "cell_type": "code",
      "metadata": {
        "id": "iK6q-aFaYjVn",
        "execution": {
          "iopub.status.busy": "2021-07-23T23:30:26.649449Z",
          "iopub.execute_input": "2021-07-23T23:30:26.649775Z",
          "iopub.status.idle": "2021-07-23T23:30:26.653838Z",
          "shell.execute_reply.started": "2021-07-23T23:30:26.649745Z",
          "shell.execute_reply": "2021-07-23T23:30:26.653040Z"
        },
        "trusted": true
      },
      "source": [
        "# TinyIageNet has 200 classes\n",
        "N_CLASSES = 200\n",
        "# our input dimensions\n",
        "INSHAPE = 64, 64, 3\n",
        "PICTURE_SHAPE = INSHAPE[0], INSHAPE[1]\n",
        "BATCH_SIZE = 64"
      ],
      "execution_count": null,
      "outputs": []
    },
    {
      "cell_type": "code",
      "metadata": {
        "id": "pXOw61S5z22K",
        "execution": {
          "iopub.status.busy": "2021-07-23T23:30:31.846505Z",
          "iopub.execute_input": "2021-07-23T23:30:31.846824Z",
          "iopub.status.idle": "2021-07-23T23:30:31.854967Z",
          "shell.execute_reply.started": "2021-07-23T23:30:31.846792Z",
          "shell.execute_reply": "2021-07-23T23:30:31.853896Z"
        },
        "trusted": true
      },
      "source": [
        "# download tiny Imagenet and create folder\n",
        "import os\n",
        "import requests\n",
        "import zipfile\n",
        "\n",
        "# Retrieve the data\n",
        "if not os.path.exists(os.path.join('data','tiny-imagenet-200.zip')):\n",
        "    url = \"http://cs231n.stanford.edu/tiny-imagenet-200.zip\"\n",
        "    # Get the file from web\n",
        "    r = requests.get(url)\n",
        "\n",
        "    if not os.path.exists('data'):\n",
        "        os.mkdir('data')\n",
        "    \n",
        "  # Write to a file\n",
        "    with open(os.path.join('data','tiny-imagenet-200.zip'), 'wb') as f:\n",
        "        f.write(r.content)\n",
        "else:\n",
        "      print(\"The zip file already exists.\")\n",
        "    \n",
        "if not os.path.exists(os.path.join('data', 'tiny-imagenet-200')):\n",
        "    with zipfile.ZipFile(os.path.join('data','tiny-imagenet-200.zip'), 'r') as zip_ref:\n",
        "        zip_ref.extractall('data')\n",
        "else:\n",
        "    print(\"The extracted data already exists\")"
      ],
      "execution_count": null,
      "outputs": []
    },
    {
      "cell_type": "code",
      "metadata": {
        "execution": {
          "iopub.status.busy": "2021-07-23T23:30:34.394661Z",
          "iopub.execute_input": "2021-07-23T23:30:34.395041Z",
          "iopub.status.idle": "2021-07-23T23:30:40.778155Z",
          "shell.execute_reply.started": "2021-07-23T23:30:34.394994Z",
          "shell.execute_reply": "2021-07-23T23:30:40.776670Z"
        },
        "trusted": true,
        "colab": {
          "base_uri": "https://localhost:8080/"
        },
        "id": "GvGG89Ci36Gp",
        "outputId": "9e22c5ca-6285-485c-e757-fc1fbbfc8d49"
      },
      "source": [
        "from keras.preprocessing.image import ImageDataGenerator\n",
        "image_gen = ImageDataGenerator(\n",
        "                  #rescale=1./255,# this didnt work\n",
        "                  width_shift_range=0.1, \n",
        "                  height_shift_range=0.1, \n",
        "                  shear_range = 0.1,\n",
        "                  zoom_range = 0.1,\n",
        "                  rotation_range=30,\n",
        "                  horizontal_flip=True,\n",
        "                  validation_split=0.1)\n",
        "\n",
        "train_gen = image_gen.flow_from_directory(directory='./data/tiny-imagenet-200/train', \n",
        "    target_size=PICTURE_SHAPE, classes=None,\n",
        "    class_mode='categorical', batch_size=BATCH_SIZE, \n",
        "    shuffle=True, seed=random_seed,subset='training')\n",
        "\n",
        "valid_gen = image_gen.flow_from_directory(directory='./data/tiny-imagenet-200/train', \n",
        "    target_size=PICTURE_SHAPE, classes=None,\n",
        "    class_mode='categorical', batch_size=BATCH_SIZE, \n",
        "    shuffle=True, seed=random_seed,subset='validation')"
      ],
      "execution_count": null,
      "outputs": [
        {
          "output_type": "stream",
          "text": [
            "Found 90000 images belonging to 200 classes.\n",
            "Found 10000 images belonging to 200 classes.\n"
          ],
          "name": "stdout"
        }
      ]
    },
    {
      "cell_type": "code",
      "metadata": {
        "id": "-SMuYxAg0PV0",
        "execution": {
          "iopub.status.busy": "2021-07-23T23:30:40.779756Z",
          "iopub.execute_input": "2021-07-23T23:30:40.780130Z",
          "iopub.status.idle": "2021-07-23T23:30:41.026589Z",
          "shell.execute_reply.started": "2021-07-23T23:30:40.780092Z",
          "shell.execute_reply": "2021-07-23T23:30:41.025628Z"
        },
        "trusted": true
      },
      "source": [
        "# clear old models and create new squeezeNet\n",
        "tf.keras.backend.clear_session()\n",
        "model = squeezeNet(INSHAPE, N_CLASSES)\n",
        "# chekout squeezeNet architecture\n",
        "#model.summary()"
      ],
      "execution_count": null,
      "outputs": []
    },
    {
      "cell_type": "code",
      "metadata": {
        "id": "q64byl2A0RYT",
        "execution": {
          "iopub.status.busy": "2021-07-23T23:30:41.028472Z",
          "iopub.execute_input": "2021-07-23T23:30:41.028856Z",
          "iopub.status.idle": "2021-07-23T23:30:41.042641Z",
          "shell.execute_reply.started": "2021-07-23T23:30:41.028813Z",
          "shell.execute_reply": "2021-07-23T23:30:41.041576Z"
        },
        "trusted": true
      },
      "source": [
        "# training configuration\n",
        "loss = tf.keras.losses.CategoricalCrossentropy()\n",
        "adam = tf.keras.optimizers.Adam(learning_rate=0.0001)\n",
        "model.compile(loss=loss, optimizer=adam, metrics=['accuracy'])\n",
        "model_callbacks = get_squeezeNet_callbacks()"
      ],
      "execution_count": null,
      "outputs": []
    },
    {
      "cell_type": "code",
      "metadata": {
        "id": "Uqt84oZm0Tes",
        "execution": {
          "iopub.status.busy": "2021-07-23T23:30:42.334950Z",
          "iopub.execute_input": "2021-07-23T23:30:42.335287Z",
          "iopub.status.idle": "2021-07-23T23:36:05.444898Z",
          "shell.execute_reply.started": "2021-07-23T23:30:42.335256Z",
          "shell.execute_reply": "2021-07-23T23:36:05.444088Z"
        },
        "trusted": true,
        "colab": {
          "base_uri": "https://localhost:8080/"
        },
        "outputId": "21e1a863-2a75-4189-a5dc-34e9e6f9287c"
      },
      "source": [
        "history = model.fit(\n",
        "    train_gen, \n",
        "    validation_data = valid_gen, \n",
        "    steps_per_epoch = get_steps_per_epoch(int(0.9*(500*200)), BATCH_SIZE), \n",
        "    validation_steps = get_steps_per_epoch(int(0.1*(500*200)), BATCH_SIZE),\n",
        "    epochs = 6,\n",
        "    verbose = 1,\n",
        "    callbacks = model_callbacks)"
      ],
      "execution_count": null,
      "outputs": [
        {
          "output_type": "stream",
          "text": [
            "Epoch 1/6\n",
            "1407/1407 [==============================] - 161s 114ms/step - loss: 5.2297 - accuracy: 0.0069 - val_loss: 5.1261 - val_accuracy: 0.0097\n",
            "Epoch 2/6\n",
            "1407/1407 [==============================] - 158s 113ms/step - loss: 5.0247 - accuracy: 0.0194 - val_loss: 4.9063 - val_accuracy: 0.0286\n",
            "Epoch 3/6\n",
            "1407/1407 [==============================] - 157s 112ms/step - loss: 4.7882 - accuracy: 0.0394 - val_loss: 4.6732 - val_accuracy: 0.0525\n",
            "Epoch 4/6\n",
            "1407/1407 [==============================] - 158s 113ms/step - loss: 4.6164 - accuracy: 0.0577 - val_loss: 4.5095 - val_accuracy: 0.0725\n",
            "Epoch 5/6\n",
            "1407/1407 [==============================] - 158s 112ms/step - loss: 4.4799 - accuracy: 0.0725 - val_loss: 4.3726 - val_accuracy: 0.0862\n",
            "Epoch 6/6\n",
            "1407/1407 [==============================] - 156s 111ms/step - loss: 4.3586 - accuracy: 0.0883 - val_loss: 4.2951 - val_accuracy: 0.0945\n"
          ],
          "name": "stdout"
        }
      ]
    },
    {
      "cell_type": "code",
      "metadata": {
        "id": "k8pyYePmtId4",
        "colab": {
          "base_uri": "https://localhost:8080/",
          "height": 288
        },
        "outputId": "474ef258-bad1-4761-9fd0-ca5dec8e033c"
      },
      "source": [
        "plot_accuracy_and_loss(history)"
      ],
      "execution_count": null,
      "outputs": [
        {
          "output_type": "display_data",
          "data": {
            "image/png": "[encoded data removed]",
            "text/plain": [
              "<Figure size 1080x720 with 2 Axes>"
            ]
          },
          "metadata": {
            "tags": [],
            "needs_background": "light"
          }
        }
      ]
    },
    {
      "cell_type": "code",
      "metadata": {
        "id": "_kOxMhsGtZeQ"
      },
      "source": [
        "if not os.path.exists('models'):\n",
        "    os.mkdir(\"models\")\n",
        "model.save(os.path.join('models', 'squeezeNet_tinyimageNet.h5'))"
      ],
      "execution_count": null,
      "outputs": []
    },
    {
      "cell_type": "markdown",
      "metadata": {
        "id": "mTQ_z83JewGR"
      },
      "source": [
        "# ResNet50 transfer learning"
      ]
    },
    {
      "cell_type": "code",
      "metadata": {
        "id": "iPQBbdAaf1aY",
        "execution": {
          "iopub.status.busy": "2021-07-23T23:39:36.180233Z",
          "iopub.execute_input": "2021-07-23T23:39:36.180612Z",
          "iopub.status.idle": "2021-07-23T23:39:40.516959Z",
          "shell.execute_reply.started": "2021-07-23T23:39:36.180531Z",
          "shell.execute_reply": "2021-07-23T23:39:40.516178Z"
        },
        "trusted": true
      },
      "source": [
        "import numpy as np\n",
        "import pandas as pd \n",
        "from tensorflow import keras\n",
        "import tensorflow as tf\n",
        "import os"
      ],
      "execution_count": null,
      "outputs": []
    },
    {
      "cell_type": "code",
      "metadata": {
        "id": "AHb7gm72gWEO",
        "execution": {
          "iopub.status.busy": "2021-07-23T23:39:46.825755Z",
          "iopub.execute_input": "2021-07-23T23:39:46.826083Z",
          "iopub.status.idle": "2021-07-23T23:39:46.836200Z",
          "shell.execute_reply.started": "2021-07-23T23:39:46.826037Z",
          "shell.execute_reply": "2021-07-23T23:39:46.835167Z"
        },
        "trusted": true
      },
      "source": [
        "def res50Net_transfer(input_shape, n_classes, frozen_layers=168, final_layers=[]):\n",
        "    # load resnet with given input shape\n",
        "    input_t = tf.keras.Input(shape=input_shape)\n",
        "    res_model = tf.keras.applications.ResNet50(include_top=False,\n",
        "                                              weights=\"imagenet\",\n",
        "                                              input_tensor=input_t)\n",
        "    # freeze top layers of resnet\n",
        "    for layer in res_model.layers[:frozen_layers]:\n",
        "        layer.trainable =False\n",
        "\n",
        "    # wrap resnet by sequencial network\n",
        "    model = tf.keras.models.Sequential()\n",
        "    model.add(tf.keras.layers.Lambda(lambda image: tf.image.resize(image, input_shape[:2])))\n",
        "    model.add(res_model)\n",
        "    model.add(tf.keras.layers.Flatten())\n",
        "\n",
        "    for n_layer in final_layers: # add dense layers if we need more accuracy\n",
        "        model.add(tf.keras.layers.BatchNormalization())\n",
        "        model.add(tf.keras.layers.Dense(n_layer, activation='relu'))\n",
        "        model.add(tf.keras.layers.Dropout(0.5))\n",
        "\n",
        "    model.add(tf.keras.layers.Dense(n_classes, activation='softmax'))\n",
        "\n",
        "    loss = tf.keras.losses.CategoricalCrossentropy()\n",
        "    adam = tf.keras.optimizers.Adam(learning_rate=0.0001)\n",
        "    model.compile(loss=loss, optimizer=adam, metrics=['accuracy'])\n",
        "    return model\n",
        "\n",
        "from tensorflow.keras.callbacks import EarlyStopping, CSVLogger, ReduceLROnPlateau\n",
        "\n",
        "def get_res50Net_transfer_callbacks():\n",
        "    es_callback = EarlyStopping(monitor='val_loss', patience=25)\n",
        "    csv_logger = CSVLogger(os.path.join('res50Net_transfer.log'))\n",
        "    lr_callback = ReduceLROnPlateau(\n",
        "        monitor='val_loss', factor=0.1, patience=5, verbose=1, mode='auto'\n",
        "    )\n",
        "    return [es_callback, csv_logger, lr_callback]"
      ],
      "execution_count": null,
      "outputs": []
    },
    {
      "cell_type": "code",
      "metadata": {
        "execution": {
          "iopub.status.busy": "2021-07-23T23:46:52.508303Z",
          "iopub.execute_input": "2021-07-23T23:46:52.508648Z",
          "iopub.status.idle": "2021-07-23T23:46:52.514293Z",
          "shell.execute_reply.started": "2021-07-23T23:46:52.508615Z",
          "shell.execute_reply": "2021-07-23T23:46:52.513130Z"
        },
        "trusted": true,
        "id": "AFPwzmqq36Gt"
      },
      "source": [
        "def get_steps_per_epoch(n_data, batch_size):\n",
        "    \"\"\" Given the data size and batch size, gives the number of steps to travers the full dataset \"\"\"\n",
        "    if n_data%batch_size==0:\n",
        "        return int(n_data/batch_size)\n",
        "    else:\n",
        "        return int(n_data*1.0/batch_size)+1"
      ],
      "execution_count": null,
      "outputs": []
    },
    {
      "cell_type": "code",
      "metadata": {
        "execution": {
          "iopub.status.busy": "2021-07-23T23:43:02.770619Z",
          "iopub.execute_input": "2021-07-23T23:43:02.770942Z",
          "iopub.status.idle": "2021-07-23T23:43:02.777736Z",
          "shell.execute_reply.started": "2021-07-23T23:43:02.770911Z",
          "shell.execute_reply": "2021-07-23T23:43:02.776877Z"
        },
        "trusted": true,
        "id": "-dFQjxF836Gu"
      },
      "source": [
        "import matplotlib.pyplot as plt\n",
        "def plot_accuracy_and_loss(history):\n",
        "    plt.figure(1, figsize= (15, 10))\n",
        "\n",
        "    # plot train and test accuracy\n",
        "    plt.subplot(221)\n",
        "    plt.plot(history.history['accuracy'])\n",
        "    plt.plot(history.history['val_accuracy'])\n",
        "    plt.title('ResNet50 accuracy')\n",
        "    plt.ylabel('accuracy')\n",
        "    plt.xlabel('epoch')\n",
        "    plt.legend(['train', 'test'], loc='upper left')\n",
        "\n",
        "    # plot train and test loss\n",
        "    plt.subplot(222)\n",
        "    plt.plot(history.history['loss'])\n",
        "    plt.plot(history.history['val_loss'])\n",
        "    plt.title('ResNet50 loss')\n",
        "    plt.ylabel('loss')\n",
        "    plt.xlabel('epoch')\n",
        "    plt.legend(['train', 'test'], loc='upper right')\n",
        "\n",
        "    plt.show()"
      ],
      "execution_count": null,
      "outputs": []
    },
    {
      "cell_type": "markdown",
      "metadata": {
        "id": "inWNtiIPk0ao"
      },
      "source": [
        "## Cifar10"
      ]
    },
    {
      "cell_type": "code",
      "metadata": {
        "id": "wlpDKuQtlE4c",
        "execution": {
          "iopub.status.busy": "2021-07-23T23:39:50.916238Z",
          "iopub.execute_input": "2021-07-23T23:39:50.916584Z",
          "iopub.status.idle": "2021-07-23T23:39:50.923135Z",
          "shell.execute_reply.started": "2021-07-23T23:39:50.916555Z",
          "shell.execute_reply": "2021-07-23T23:39:50.921840Z"
        },
        "trusted": true
      },
      "source": [
        "# Cifar10 has 10 classes\n",
        "N_CLASSES = 10\n",
        "# our input dimensions\n",
        "INSHAPE = 32, 32, 3"
      ],
      "execution_count": null,
      "outputs": []
    },
    {
      "cell_type": "code",
      "metadata": {
        "id": "4N1eT-GRlE4d",
        "execution": {
          "iopub.status.busy": "2021-07-23T23:39:52.968957Z",
          "iopub.execute_input": "2021-07-23T23:39:52.969333Z",
          "iopub.status.idle": "2021-07-23T23:40:01.183130Z",
          "shell.execute_reply.started": "2021-07-23T23:39:52.969302Z",
          "shell.execute_reply": "2021-07-23T23:40:01.182261Z"
        },
        "trusted": true,
        "outputId": "337bf7a7-e86e-4512-ff6f-642077b17b3b"
      },
      "source": [
        "# get the data\n",
        "(x_train,y_train), (x_test, y_test) = tf.keras.datasets.cifar10.load_data()"
      ],
      "execution_count": null,
      "outputs": [
        {
          "output_type": "stream",
          "text": [
            "Downloading data from https://www.cs.toronto.edu/~kriz/cifar-10-python.tar.gz\n",
            "170500096/170498071 [==============================] - 6s 0us/step\n"
          ],
          "name": "stdout"
        }
      ]
    },
    {
      "cell_type": "code",
      "metadata": {
        "id": "VNwYnwzZlE4e",
        "execution": {
          "iopub.status.busy": "2021-07-23T23:40:02.346491Z",
          "iopub.execute_input": "2021-07-23T23:40:02.346818Z",
          "iopub.status.idle": "2021-07-23T23:40:02.351740Z",
          "shell.execute_reply.started": "2021-07-23T23:40:02.346788Z",
          "shell.execute_reply": "2021-07-23T23:40:02.350932Z"
        },
        "trusted": true
      },
      "source": [
        "# do a 1hot encoding on labels\n",
        "y_train = tf.keras.utils.to_categorical(y_train, N_CLASSES)\n",
        "y_test = tf.keras.utils.to_categorical(y_test, N_CLASSES)"
      ],
      "execution_count": null,
      "outputs": []
    },
    {
      "cell_type": "code",
      "metadata": {
        "id": "spbbba4TlE4g",
        "execution": {
          "iopub.status.busy": "2021-07-23T23:40:05.156122Z",
          "iopub.execute_input": "2021-07-23T23:40:05.156451Z",
          "iopub.status.idle": "2021-07-23T23:40:05.161474Z",
          "shell.execute_reply.started": "2021-07-23T23:40:05.156420Z",
          "shell.execute_reply": "2021-07-23T23:40:05.160616Z"
        },
        "trusted": true,
        "outputId": "d416484e-c2fb-4030-cf34-b4fe2878ae8a"
      },
      "source": [
        "# check if data shapes are correct\n",
        "print(x_train.shape, y_train.shape)\n",
        "print(x_test.shape, y_test.shape)"
      ],
      "execution_count": null,
      "outputs": [
        {
          "output_type": "stream",
          "text": [
            "(50000, 32, 32, 3) (50000, 10)\n",
            "(10000, 32, 32, 3) (10000, 10)\n"
          ],
          "name": "stdout"
        }
      ]
    },
    {
      "cell_type": "code",
      "metadata": {
        "id": "IjCGF1WBlE4i",
        "execution": {
          "iopub.status.busy": "2021-07-23T23:40:08.022536Z",
          "iopub.execute_input": "2021-07-23T23:40:08.022888Z",
          "iopub.status.idle": "2021-07-23T23:40:08.073051Z",
          "shell.execute_reply.started": "2021-07-23T23:40:08.022857Z",
          "shell.execute_reply": "2021-07-23T23:40:08.072307Z"
        },
        "trusted": true
      },
      "source": [
        "# augment pictures\n",
        "from keras.preprocessing.image import ImageDataGenerator\n",
        "\n",
        "datagen = ImageDataGenerator(\n",
        "    width_shift_range=0.1, \n",
        "    height_shift_range=0.1, \n",
        "    horizontal_flip=True)"
      ],
      "execution_count": null,
      "outputs": []
    },
    {
      "cell_type": "code",
      "metadata": {
        "id": "jGLp-xfXlE4k",
        "execution": {
          "iopub.status.busy": "2021-07-23T23:40:13.412840Z",
          "iopub.execute_input": "2021-07-23T23:40:13.413214Z",
          "iopub.status.idle": "2021-07-23T23:40:18.822564Z",
          "shell.execute_reply.started": "2021-07-23T23:40:13.413181Z",
          "shell.execute_reply": "2021-07-23T23:40:18.821533Z"
        },
        "trusted": true,
        "outputId": "71390763-c881-4ff5-9ac9-303f4323abc4"
      },
      "source": [
        "# clear old models and create new squeezeNet\n",
        "tf.keras.backend.clear_session()\n",
        "model = res50Net_transfer(INSHAPE, N_CLASSES, frozen_layers=168, \n",
        "                          final_layers=[256, 128, 64])\n",
        "model_callbacks = get_res50Net_transfer_callbacks()"
      ],
      "execution_count": null,
      "outputs": [
        {
          "output_type": "stream",
          "text": [
            "Downloading data from https://storage.googleapis.com/tensorflow/keras-applications/resnet/resnet50_weights_tf_dim_ordering_tf_kernels_notop.h5\n",
            "94773248/94765736 [==============================] - 2s 0us/step\n"
          ],
          "name": "stdout"
        }
      ]
    },
    {
      "cell_type": "code",
      "metadata": {
        "id": "y4Va1wYKmQCl",
        "execution": {
          "iopub.status.busy": "2021-07-23T23:40:21.944658Z",
          "iopub.execute_input": "2021-07-23T23:40:21.944983Z",
          "iopub.status.idle": "2021-07-23T23:40:22.101963Z",
          "shell.execute_reply.started": "2021-07-23T23:40:21.944951Z",
          "shell.execute_reply": "2021-07-23T23:40:22.100978Z"
        },
        "trusted": true
      },
      "source": [
        "# generator for data augmentation with 64 pictures per step generated\n",
        "it_train = datagen.flow(x_train, y_train, batch_size=64)\n",
        "steps = x_train.shape[0] // 64 # total steps needed to iterate all pictures"
      ],
      "execution_count": null,
      "outputs": []
    },
    {
      "cell_type": "code",
      "metadata": {
        "id": "ENilVjEMm9Ek",
        "execution": {
          "iopub.status.busy": "2021-07-23T23:41:51.020555Z",
          "iopub.execute_input": "2021-07-23T23:41:51.020887Z",
          "iopub.status.idle": "2021-07-23T23:42:55.383333Z",
          "shell.execute_reply.started": "2021-07-23T23:41:51.020856Z",
          "shell.execute_reply": "2021-07-23T23:42:55.382405Z"
        },
        "trusted": true,
        "outputId": "d2bffd06-15fa-4bb9-de99-3e2003ad13cf"
      },
      "source": [
        "history = model.fit(it_train, epochs=2, \n",
        "                    verbose=1, steps_per_epoch=steps, \n",
        "                    validation_data=(x_test, y_test), \n",
        "                    callbacks= model_callbacks)"
      ],
      "execution_count": null,
      "outputs": [
        {
          "output_type": "stream",
          "text": [
            "Epoch 1/2\n",
            "781/781 [==============================] - 31s 40ms/step - loss: 1.8066 - accuracy: 0.3627 - val_loss: 1.4141 - val_accuracy: 0.5228\n",
            "Epoch 2/2\n",
            "781/781 [==============================] - 33s 43ms/step - loss: 1.6952 - accuracy: 0.4008 - val_loss: 1.3391 - val_accuracy: 0.5527\n"
          ],
          "name": "stdout"
        }
      ]
    },
    {
      "cell_type": "code",
      "metadata": {
        "id": "MaJb61_t04Ab",
        "execution": {
          "iopub.status.busy": "2021-07-23T23:43:07.138354Z",
          "iopub.execute_input": "2021-07-23T23:43:07.138701Z",
          "iopub.status.idle": "2021-07-23T23:43:07.414814Z",
          "shell.execute_reply.started": "2021-07-23T23:43:07.138670Z",
          "shell.execute_reply": "2021-07-23T23:43:07.413787Z"
        },
        "trusted": true,
        "outputId": "fe01b5c4-ab0b-487b-f345-8a0cc8569f70"
      },
      "source": [
        "plot_accuracy_and_loss(history)"
      ],
      "execution_count": null,
      "outputs": [
        {
          "output_type": "display_data",
          "data": {
            "text/plain": [
              "<Figure size 1080x720 with 2 Axes>"
            ],
            "image/png": "[encoded data removed]"
          },
          "metadata": {
            "tags": [],
            "needs_background": "light"
          }
        }
      ]
    },
    {
      "cell_type": "code",
      "metadata": {
        "execution": {
          "iopub.status.busy": "2021-07-23T23:44:23.849235Z",
          "iopub.execute_input": "2021-07-23T23:44:23.849585Z",
          "iopub.status.idle": "2021-07-23T23:44:24.584345Z",
          "shell.execute_reply.started": "2021-07-23T23:44:23.849549Z",
          "shell.execute_reply": "2021-07-23T23:44:24.583443Z"
        },
        "trusted": true,
        "id": "9_ux0IL036Gx"
      },
      "source": [
        "if not os.path.exists('models'):\n",
        "    os.mkdir(\"models\")\n",
        "model.save(os.path.join('models', 'res50Net_cifar10.h5'))"
      ],
      "execution_count": null,
      "outputs": []
    },
    {
      "cell_type": "markdown",
      "metadata": {
        "id": "xhcWyNOwan17"
      },
      "source": [
        "## Tiny ImageNet"
      ]
    },
    {
      "cell_type": "code",
      "metadata": {
        "id": "sqTnf7e_bBVr",
        "execution": {
          "iopub.status.busy": "2021-07-24T00:08:44.027298Z",
          "iopub.execute_input": "2021-07-24T00:08:44.027639Z",
          "iopub.status.idle": "2021-07-24T00:08:44.032513Z",
          "shell.execute_reply.started": "2021-07-24T00:08:44.027605Z",
          "shell.execute_reply": "2021-07-24T00:08:44.031494Z"
        },
        "trusted": true
      },
      "source": [
        "# TinyIageNet has 200 classes\n",
        "N_CLASSES = 200\n",
        "# our input dimensions\n",
        "INSHAPE = 64, 64, 3\n",
        "PICTURE_SHAPE = (INSHAPE[0], INSHAPE[1])\n",
        "BATCH_SIZE = 32"
      ],
      "execution_count": null,
      "outputs": []
    },
    {
      "cell_type": "code",
      "metadata": {
        "id": "Vc3NqZk4bBVs",
        "execution": {
          "iopub.status.busy": "2021-07-24T00:08:45.834603Z",
          "iopub.execute_input": "2021-07-24T00:08:45.834921Z",
          "iopub.status.idle": "2021-07-24T00:08:45.839093Z",
          "shell.execute_reply.started": "2021-07-24T00:08:45.834892Z",
          "shell.execute_reply": "2021-07-24T00:08:45.837899Z"
        },
        "trusted": true
      },
      "source": [
        "import numpy as np\n",
        "import tensorflow as tf\n",
        "import random"
      ],
      "execution_count": null,
      "outputs": []
    },
    {
      "cell_type": "code",
      "metadata": {
        "id": "_bbMd8-ibBVs",
        "execution": {
          "iopub.status.busy": "2021-07-24T00:08:47.509753Z",
          "iopub.execute_input": "2021-07-24T00:08:47.510089Z",
          "iopub.status.idle": "2021-07-24T00:08:47.567917Z",
          "shell.execute_reply.started": "2021-07-24T00:08:47.510037Z",
          "shell.execute_reply": "2021-07-24T00:08:47.567090Z"
        },
        "trusted": true
      },
      "source": [
        "# Fixing the random seed for involved libraries\n",
        "random_seed=4321\n",
        "\n",
        "np.random.seed(random_seed)\n",
        "tf.random.set_seed(random_seed)\n",
        "random.seed(random_seed)"
      ],
      "execution_count": null,
      "outputs": []
    },
    {
      "cell_type": "code",
      "metadata": {
        "id": "HMVbqbPfbBVs",
        "execution": {
          "iopub.status.busy": "2021-07-24T00:08:49.273623Z",
          "iopub.execute_input": "2021-07-24T00:08:49.273986Z",
          "iopub.status.idle": "2021-07-24T00:08:49.282571Z",
          "shell.execute_reply.started": "2021-07-24T00:08:49.273956Z",
          "shell.execute_reply": "2021-07-24T00:08:49.281670Z"
        },
        "trusted": true,
        "outputId": "05b0bf01-1ffc-45ed-8a5d-5d5bbf9292a3"
      },
      "source": [
        "# download tiny Imagenet and create folder\n",
        "import os\n",
        "import requests\n",
        "import zipfile\n",
        "\n",
        "# Retrieve the data\n",
        "if not os.path.exists(os.path.join('data','tiny-imagenet-200.zip')):\n",
        "    url = \"http://cs231n.stanford.edu/tiny-imagenet-200.zip\"\n",
        "    # Get the file from web\n",
        "    r = requests.get(url)\n",
        "\n",
        "    if not os.path.exists('data'):\n",
        "        os.mkdir('data')\n",
        "    \n",
        "    # Write to a file\n",
        "    with open(os.path.join('data','tiny-imagenet-200.zip'), 'wb') as f:\n",
        "        f.write(r.content)\n",
        "else:\n",
        "    print(\"The zip file already exists.\")\n",
        "    \n",
        "if not os.path.exists(os.path.join('data', 'tiny-imagenet-200')):\n",
        "    with zipfile.ZipFile(os.path.join('data','tiny-imagenet-200.zip'), 'r') as zip_ref:\n",
        "        zip_ref.extractall('data')\n",
        "else:\n",
        "    print(\"The extracted data already exists\")"
      ],
      "execution_count": null,
      "outputs": [
        {
          "output_type": "stream",
          "text": [
            "The zip file already exists.\n",
            "The extracted data already exists\n"
          ],
          "name": "stdout"
        }
      ]
    },
    {
      "cell_type": "code",
      "metadata": {
        "id": "bOhWssyjbBVs",
        "execution": {
          "iopub.status.busy": "2021-07-24T00:08:51.611043Z",
          "iopub.execute_input": "2021-07-24T00:08:51.612228Z",
          "iopub.status.idle": "2021-07-24T00:08:57.506355Z",
          "shell.execute_reply.started": "2021-07-24T00:08:51.612184Z",
          "shell.execute_reply": "2021-07-24T00:08:57.504523Z"
        },
        "trusted": true,
        "outputId": "dcf136ee-e6a1-432a-d667-b25ffc05bea5"
      },
      "source": [
        "from keras.preprocessing.image import ImageDataGenerator\n",
        "# if we want to augment the data\n",
        "AUGMENT = True\n",
        "\n",
        "if AUGMENT:\n",
        "    image_gen = ImageDataGenerator(\n",
        "                      #rescale=1./255, # this didnt work\n",
        "                      width_shift_range=0.1, \n",
        "                      height_shift_range=0.1, \n",
        "                      shear_range = 0.1,\n",
        "                      zoom_range = 0.1,\n",
        "                      rotation_range=30,\n",
        "                      horizontal_flip=True,\n",
        "                      validation_split=0.1)\n",
        "else:\n",
        "    image_gen = ImageDataGenerator(samplewise_center=False, validation_split=0.1)\n",
        "\n",
        "train_gen = image_gen.flow_from_directory(directory='./data/tiny-imagenet-200/train', \n",
        "    target_size=PICTURE_SHAPE, classes=None,\n",
        "    class_mode='categorical', batch_size=BATCH_SIZE, \n",
        "    shuffle=True, seed=random_seed,subset='training')\n",
        "\n",
        "valid_gen = image_gen.flow_from_directory(directory='./data/tiny-imagenet-200/train', \n",
        "    target_size=PICTURE_SHAPE, classes=None,\n",
        "    class_mode='categorical', batch_size=BATCH_SIZE, \n",
        "    shuffle=True, seed=random_seed,subset='validation')"
      ],
      "execution_count": null,
      "outputs": [
        {
          "output_type": "stream",
          "text": [
            "Found 90000 images belonging to 200 classes.\n",
            "Found 10000 images belonging to 200 classes.\n"
          ],
          "name": "stdout"
        }
      ]
    },
    {
      "cell_type": "code",
      "metadata": {
        "id": "DCAOTJAPbBVt",
        "execution": {
          "iopub.status.busy": "2021-07-24T00:09:05.432266Z",
          "iopub.execute_input": "2021-07-24T00:09:05.432598Z",
          "iopub.status.idle": "2021-07-24T00:09:06.802710Z",
          "shell.execute_reply.started": "2021-07-24T00:09:05.432567Z",
          "shell.execute_reply": "2021-07-24T00:09:06.801857Z"
        },
        "trusted": true
      },
      "source": [
        "# clear old models and create new squeezeNet\n",
        "tf.keras.backend.clear_session()\n",
        "model = res50Net_transfer(INSHAPE, N_CLASSES, frozen_layers=168, \n",
        "                          final_layers=[256, 256])\n",
        "model_callbacks = get_res50Net_transfer_callbacks()"
      ],
      "execution_count": null,
      "outputs": []
    },
    {
      "cell_type": "code",
      "metadata": {
        "id": "kOgl7ChRcCSi",
        "execution": {
          "iopub.status.busy": "2021-07-24T00:09:09.693189Z",
          "iopub.execute_input": "2021-07-24T00:09:09.693516Z",
          "iopub.status.idle": "2021-07-24T00:15:08.720805Z",
          "shell.execute_reply.started": "2021-07-24T00:09:09.693487Z",
          "shell.execute_reply": "2021-07-24T00:15:08.719989Z"
        },
        "trusted": true,
        "outputId": "69239035-935c-4a73-de53-b3941e66e279"
      },
      "source": [
        "history = model.fit(\n",
        "    train_gen, validation_data=valid_gen,\n",
        "    steps_per_epoch=get_steps_per_epoch(int(0.9*(500*200)), BATCH_SIZE),\n",
        "    validation_steps=get_steps_per_epoch(int(0.1*(500*200)), BATCH_SIZE),\n",
        "    epochs=2, callbacks= model_callbacks,\n",
        "    verbose=1)"
      ],
      "execution_count": null,
      "outputs": [
        {
          "output_type": "stream",
          "text": [
            "Epoch 1/2\n",
            "2813/2813 [==============================] - 183s 63ms/step - loss: 5.3842 - accuracy: 0.0194 - val_loss: 4.1379 - val_accuracy: 0.1626\n",
            "Epoch 2/2\n",
            "2813/2813 [==============================] - 176s 63ms/step - loss: 4.4646 - accuracy: 0.0852 - val_loss: 3.6161 - val_accuracy: 0.2206\n"
          ],
          "name": "stdout"
        }
      ]
    },
    {
      "cell_type": "code",
      "metadata": {
        "execution": {
          "iopub.status.busy": "2021-07-23T23:52:30.048981Z",
          "iopub.execute_input": "2021-07-23T23:52:30.049392Z",
          "iopub.status.idle": "2021-07-23T23:52:30.325445Z",
          "shell.execute_reply.started": "2021-07-23T23:52:30.049357Z",
          "shell.execute_reply": "2021-07-23T23:52:30.324356Z"
        },
        "trusted": true,
        "id": "ICbYTtZU36Gy",
        "outputId": "db927ddb-564b-44d6-9df9-957161780a76"
      },
      "source": [
        "plot_accuracy_and_loss(history)"
      ],
      "execution_count": null,
      "outputs": [
        {
          "output_type": "display_data",
          "data": {
            "text/plain": [
              "<Figure size 1080x720 with 2 Axes>"
            ],
            "image/png": "[encoded data removed]"
          },
          "metadata": {
            "tags": [],
            "needs_background": "light"
          }
        }
      ]
    },
    {
      "cell_type": "code",
      "metadata": {
        "execution": {
          "iopub.status.busy": "2021-07-23T23:52:49.961771Z",
          "iopub.execute_input": "2021-07-23T23:52:49.962122Z",
          "iopub.status.idle": "2021-07-23T23:52:50.413502Z",
          "shell.execute_reply.started": "2021-07-23T23:52:49.962087Z",
          "shell.execute_reply": "2021-07-23T23:52:50.412668Z"
        },
        "trusted": true,
        "id": "-rOIQ8WD36Gy"
      },
      "source": [
        "if not os.path.exists('models'):\n",
        "    os.mkdir(\"models\")\n",
        "model.save(os.path.join('models', 'res50Net_tinyimageNet.h5'))"
      ],
      "execution_count": null,
      "outputs": []
    }
  ]
}