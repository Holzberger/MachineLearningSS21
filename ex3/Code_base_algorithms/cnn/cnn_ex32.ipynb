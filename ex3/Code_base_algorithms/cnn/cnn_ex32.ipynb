{
 "cells": [
  {
   "cell_type": "code",
   "execution_count": 11,
   "metadata": {},
   "outputs": [],
   "source": [
    "import numpy as np\n",
    "import pandas as pd \n",
    "from tensorflow import keras\n",
    "import tensorflow as tf"
   ]
  },
  {
   "cell_type": "markdown",
   "metadata": {},
   "source": [
    "# Res50Net by transfer learning"
   ]
  },
  {
   "cell_type": "code",
   "execution_count": 12,
   "metadata": {},
   "outputs": [],
   "source": [
    "(x_train,y_train), (x_test, y_test) = tf.keras.datasets.cifar10.load_data()"
   ]
  },
  {
   "cell_type": "code",
   "execution_count": 13,
   "metadata": {},
   "outputs": [
    {
     "name": "stdout",
     "output_type": "stream",
     "text": [
      "(50000, 32, 32, 3) (50000, 1)\n",
      "(10000, 32, 32, 3) (10000, 1)\n"
     ]
    }
   ],
   "source": [
    "print(x_train.shape, y_train.shape)\n",
    "print(x_test.shape, y_test.shape)"
   ]
  },
  {
   "cell_type": "code",
   "execution_count": 14,
   "metadata": {},
   "outputs": [],
   "source": [
    "# preprocess data to use in Resnet50\n",
    "def preproc(X,Y,leave_shape=True):\n",
    "    if leave_shape:\n",
    "        X_P = X\n",
    "    else:\n",
    "        X_P = tf.keras.applications.resnet50.preprocess_input(X)\n",
    "    Y_P = tf.keras.utils.to_categorical(Y,10)\n",
    "    return X_P,Y_P"
   ]
  },
  {
   "cell_type": "code",
   "execution_count": 15,
   "metadata": {},
   "outputs": [],
   "source": [
    "x_train,y_train = preproc(x_train,y_train,leave_shape=False)\n",
    "x_test, y_test = preproc(x_test, y_test,leave_shape=False)"
   ]
  },
  {
   "cell_type": "code",
   "execution_count": 16,
   "metadata": {},
   "outputs": [
    {
     "name": "stdout",
     "output_type": "stream",
     "text": [
      "(50000, 32, 32, 3) (50000, 10)\n",
      "(10000, 32, 32, 3) (10000, 10)\n"
     ]
    }
   ],
   "source": [
    "print(x_train.shape, y_train.shape)\n",
    "print(x_test.shape, y_test.shape)"
   ]
  },
  {
   "cell_type": "code",
   "execution_count": 17,
   "metadata": {},
   "outputs": [],
   "source": [
    "tf.keras.backend.clear_session()\n",
    "input_t = tf.keras.Input(shape=(32,32,3))\n",
    "res_model = tf.keras.applications.ResNet50(include_top=False,\n",
    "                                          weights=\"imagenet\",\n",
    "                                          input_tensor=input_t)"
   ]
  },
  {
   "cell_type": "code",
   "execution_count": 18,
   "metadata": {},
   "outputs": [],
   "source": [
    "# freeze all layers exept last one\n",
    "for layer in res_model.layers[:169]:\n",
    "    layer.trainable =False\n",
    "#for i, layer in enumerate(res_model.layers):\n",
    "#    print(i, layer.name)"
   ]
  },
  {
   "cell_type": "code",
   "execution_count": 19,
   "metadata": {},
   "outputs": [],
   "source": [
    "\n",
    "to_res = (32, 32)\n",
    "\n",
    "model = tf.keras.models.Sequential()\n",
    "model.add(tf.keras.layers.Lambda(lambda image: tf.image.resize(image, to_res)))\n",
    "model.add(res_model)\n",
    "model.add(tf.keras.layers.Flatten())\n",
    "#model.add(tf.keras.layers.BatchNormalization())\n",
    "#model.add(tf.keras.layers.Dense(256, activation='relu'))\n",
    "#model.add(tf.keras.layers.Dropout(0.5))\n",
    "#model.add(tf.keras.layers.BatchNormalization())\n",
    "#model.add(tf.keras.layers.Dense(128, activation='relu'))\n",
    "#model.add(tf.keras.layers.Dropout(0.5))\n",
    "#model.add(tf.keras.layers.BatchNormalization())\n",
    "#model.add(tf.keras.layers.Dense(64, activation='relu'))\n",
    "#model.add(tf.keras.layers.Dropout(0.5))\n",
    "#model.add(tf.keras.layers.BatchNormalization())\n",
    "model.add(tf.keras.layers.Dense(10, activation='softmax'))\n"
   ]
  },
  {
   "cell_type": "code",
   "execution_count": 20,
   "metadata": {},
   "outputs": [
    {
     "name": "stdout",
     "output_type": "stream",
     "text": [
      "Epoch 1/20\n",
      "400/400 [==============================] - 125s 300ms/step - loss: 3.3226 - accuracy: 0.2520 - val_loss: 2.6245 - val_accuracy: 0.3431\n",
      "Epoch 2/20\n",
      "400/400 [==============================] - 119s 298ms/step - loss: 2.3494 - accuracy: 0.3838 - val_loss: 2.1484 - val_accuracy: 0.4216\n",
      "Epoch 3/20\n",
      "400/400 [==============================] - 117s 291ms/step - loss: 1.9999 - accuracy: 0.4441 - val_loss: 1.9224 - val_accuracy: 0.4647\n",
      "Epoch 4/20\n",
      "400/400 [==============================] - 121s 303ms/step - loss: 1.8720 - accuracy: 0.4749 - val_loss: 1.8013 - val_accuracy: 0.4917\n",
      "Epoch 5/20\n",
      "400/400 [==============================] - 120s 301ms/step - loss: 1.6691 - accuracy: 0.5095 - val_loss: 1.7093 - val_accuracy: 0.5074\n",
      "Epoch 6/20\n",
      "400/400 [==============================] - 110s 276ms/step - loss: 1.6080 - accuracy: 0.5217 - val_loss: 1.6424 - val_accuracy: 0.5188\n",
      "Epoch 7/20\n",
      "400/400 [==============================] - 114s 285ms/step - loss: 1.5515 - accuracy: 0.5396 - val_loss: 1.5859 - val_accuracy: 0.5305\n",
      "Epoch 8/20\n",
      "400/400 [==============================] - 125s 312ms/step - loss: 1.4847 - accuracy: 0.5486 - val_loss: 1.5420 - val_accuracy: 0.5415\n",
      "Epoch 9/20\n",
      "400/400 [==============================] - 115s 289ms/step - loss: 1.3952 - accuracy: 0.5741 - val_loss: 1.5079 - val_accuracy: 0.5496\n",
      "Epoch 10/20\n",
      "400/400 [==============================] - 114s 286ms/step - loss: 1.3570 - accuracy: 0.5802 - val_loss: 1.4779 - val_accuracy: 0.5550\n",
      "Epoch 11/20\n",
      "400/400 [==============================] - 119s 298ms/step - loss: 1.3202 - accuracy: 0.5841 - val_loss: 1.4521 - val_accuracy: 0.5620\n",
      "Epoch 12/20\n",
      "400/400 [==============================] - 118s 294ms/step - loss: 1.3061 - accuracy: 0.5946 - val_loss: 1.4279 - val_accuracy: 0.5655\n",
      "Epoch 13/20\n",
      "400/400 [==============================] - 117s 292ms/step - loss: 1.2241 - accuracy: 0.6103 - val_loss: 1.4042 - val_accuracy: 0.5697\n",
      "Epoch 14/20\n",
      "400/400 [==============================] - 113s 284ms/step - loss: 1.2126 - accuracy: 0.6124 - val_loss: 1.3806 - val_accuracy: 0.5762\n",
      "Epoch 15/20\n",
      "400/400 [==============================] - 116s 289ms/step - loss: 1.2044 - accuracy: 0.6152 - val_loss: 1.3655 - val_accuracy: 0.5791\n",
      "Epoch 16/20\n",
      "400/400 [==============================] - 113s 283ms/step - loss: 1.1776 - accuracy: 0.6257 - val_loss: 1.3500 - val_accuracy: 0.5826\n",
      "Epoch 17/20\n",
      "400/400 [==============================] - 114s 285ms/step - loss: 1.1220 - accuracy: 0.6359 - val_loss: 1.3386 - val_accuracy: 0.5860\n",
      "Epoch 18/20\n",
      "400/400 [==============================] - 116s 290ms/step - loss: 1.1188 - accuracy: 0.6359 - val_loss: 1.3220 - val_accuracy: 0.5875\n",
      "Epoch 19/20\n",
      "400/400 [==============================] - 112s 281ms/step - loss: 1.1153 - accuracy: 0.6333 - val_loss: 1.3121 - val_accuracy: 0.5907\n",
      "Epoch 20/20\n",
      "400/400 [==============================] - 114s 284ms/step - loss: 1.0417 - accuracy: 0.6597 - val_loss: 1.3001 - val_accuracy: 0.5942\n"
     ]
    }
   ],
   "source": [
    "model.compile(loss='categorical_crossentropy',\n",
    "                  optimizer=tf.keras.optimizers.RMSprop(lr=2e-5),\n",
    "                  metrics=['accuracy'])\n",
    "history = model.fit(x_train, y_train, batch_size=32, epochs=20, verbose=1,steps_per_epoch=400,\n",
    "                    validation_data=(x_test, y_test))"
   ]
  },
  {
   "cell_type": "code",
   "execution_count": 21,
   "metadata": {},
   "outputs": [
    {
     "name": "stdout",
     "output_type": "stream",
     "text": [
      "Model: \"sequential\"\n",
      "_________________________________________________________________\n",
      "Layer (type)                 Output Shape              Param #   \n",
      "=================================================================\n",
      "lambda (Lambda)              (None, 32, 32, 3)         0         \n",
      "_________________________________________________________________\n",
      "resnet50 (Functional)        (None, 1, 1, 2048)        23587712  \n",
      "_________________________________________________________________\n",
      "flatten (Flatten)            (None, 2048)              0         \n",
      "_________________________________________________________________\n",
      "dense (Dense)                (None, 10)                20490     \n",
      "=================================================================\n",
      "Total params: 23,608,202\n",
      "Trainable params: 1,076,234\n",
      "Non-trainable params: 22,531,968\n",
      "_________________________________________________________________\n"
     ]
    }
   ],
   "source": [
    "model.summary()"
   ]
  },
  {
   "cell_type": "code",
   "execution_count": 24,
   "metadata": {},
   "outputs": [],
   "source": [
    "model.save_weights('cifar10_res50_net.h5', overwrite=True)"
   ]
  },
  {
   "cell_type": "code",
   "execution_count": 22,
   "metadata": {},
   "outputs": [],
   "source": [
    "import matplotlib.pyplot as plt\n",
    "def plot_accuracy_and_loss(history):\n",
    "    plt.figure(1, figsize= (15, 10))\n",
    "\n",
    "    # plot train and test accuracy\n",
    "    plt.subplot(221)\n",
    "    plt.plot(history.history['accuracy'])\n",
    "    plt.plot(history.history['val_accuracy'])\n",
    "    plt.title('ResNet50 accuracy')\n",
    "    plt.ylabel('accuracy')\n",
    "    plt.xlabel('epoch')\n",
    "    plt.legend(['train', 'test'], loc='upper left')\n",
    "\n",
    "    # plot train and test loss\n",
    "    plt.subplot(222)\n",
    "    plt.plot(history.history['loss'])\n",
    "    plt.plot(history.history['val_loss'])\n",
    "    plt.title('ResNet50 loss')\n",
    "    plt.ylabel('loss')\n",
    "    plt.xlabel('epoch')\n",
    "    plt.legend(['train', 'test'], loc='upper right')\n",
    "\n",
    "    plt.show()"
   ]
  },
  {
   "cell_type": "code",
   "execution_count": 23,
   "metadata": {},
   "outputs": [
    {
     "data": {
      "image/png": "[encoded data removed]",
      "text/plain": [
       "<Figure size 1080x720 with 2 Axes>"
      ]
     },
     "metadata": {
      "needs_background": "light"
     },
     "output_type": "display_data"
    }
   ],
   "source": [
    "plot_accuracy_and_loss(history)"
   ]
  },
  {
   "cell_type": "markdown",
   "metadata": {},
   "source": [
    "# SqueezeNet"
   ]
  },
  {
   "cell_type": "code",
   "execution_count": 15,
   "metadata": {},
   "outputs": [],
   "source": [
    "(x_train,y_train), (x_test, y_test) = tf.keras.datasets.cifar10.load_data()"
   ]
  },
  {
   "cell_type": "code",
   "execution_count": null,
   "metadata": {},
   "outputs": [],
   "source": [
    "x_train,y_train = preproc(x_train,y_train,leave_shape=True)\n",
    "x_test, y_test = preproc(x_test, y_test,leave_shape=True)"
   ]
  },
  {
   "cell_type": "code",
   "execution_count": 72,
   "metadata": {},
   "outputs": [],
   "source": [
    "def squeezeNet(input_shape, n_classes):\n",
    "    def fire(x_in, n_squeeze, n_expand):\n",
    "        x_sqeeze = tf.keras.layers.Conv2D(n_squeeze, 1, activation=\"relu\")(x_in)\n",
    "        x_expand1 = tf.keras.layers.Conv2D(n_expand, 1, activation=\"relu\")(x_sqeeze)\n",
    "        x_expand3 = tf.keras.layers.Conv2D(n_expand, 3, padding =\"same\", activation=\"relu\")(x_sqeeze)\n",
    "        output = tf.keras.layers.concatenate([x_expand1, x_expand3])\n",
    "        return output\n",
    "    inn = tf.keras.Input(input_shape) # size of your pictures\n",
    "    x = tf.keras.layers.Conv2D(96, 7, strides=2, padding =\"same\", activation=\"relu\")(inn)\n",
    "    x = tf.keras.layers.MaxPool2D(3, strides=2, padding =\"same\")(x)\n",
    "    x = fire(x, 16, 64)\n",
    "    x = fire(x, 16, 64)\n",
    "    x = fire(x, 32, 128)\n",
    "    x = tf.keras.layers.MaxPool2D(3, strides=2, padding =\"same\")(x)\n",
    "    x = fire(x, 32, 128)\n",
    "    x = fire(x, 48, 192)\n",
    "    x = fire(x, 48, 192)\n",
    "    x = fire(x, 64, 256)\n",
    "    x = tf.keras.layers.MaxPool2D(3, strides=2, padding =\"same\")(x)\n",
    "    x = fire(x, 64, 256)\n",
    "    x = tf.keras.layers.Conv2D(n_classes, 1)(x)\n",
    "    x = tf.keras.layers.GlobalAvgPool2D()(x)\n",
    "    output = tf.keras.layers.Activation(\"softmax\")(x)\n",
    "    model = tf.keras.models.Model(inn, output)\n",
    "    return model"
   ]
  },
  {
   "cell_type": "code",
   "execution_count": 73,
   "metadata": {},
   "outputs": [],
   "source": [
    "tf.keras.backend.clear_session()\n",
    "inshape = 32,32,3\n",
    "nclasses = 10\n",
    "model = squeezeNet(inshape, nclasses)\n",
    "#model.summary()"
   ]
  },
  {
   "cell_type": "code",
   "execution_count": 74,
   "metadata": {},
   "outputs": [],
   "source": [
    "model.compile(loss='categorical_crossentropy',\n",
    "                  optimizer=tf.keras.optimizers.RMSprop(lr=1e-4),\n",
    "                  metrics=['accuracy'])"
   ]
  },
  {
   "cell_type": "code",
   "execution_count": 75,
   "metadata": {},
   "outputs": [
    {
     "name": "stdout",
     "output_type": "stream",
     "text": [
      "Epoch 1/10\n",
      "400/400 [==============================] - 163s 399ms/step - loss: 2.0143 - accuracy: 0.2497 - val_loss: 1.8533 - val_accuracy: 0.3258\n",
      "Epoch 2/10\n",
      "400/400 [==============================] - 158s 394ms/step - loss: 1.7699 - accuracy: 0.3483 - val_loss: 1.7572 - val_accuracy: 0.3664\n",
      "Epoch 3/10\n",
      "400/400 [==============================] - 155s 387ms/step - loss: 1.6478 - accuracy: 0.3958 - val_loss: 1.5550 - val_accuracy: 0.4288\n",
      "Epoch 4/10\n",
      "400/400 [==============================] - 163s 408ms/step - loss: 1.5536 - accuracy: 0.4310 - val_loss: 1.4464 - val_accuracy: 0.4728\n",
      "Epoch 5/10\n",
      "400/400 [==============================] - 178s 444ms/step - loss: 1.4809 - accuracy: 0.4617 - val_loss: 1.6159 - val_accuracy: 0.4283\n",
      "Epoch 6/10\n",
      "400/400 [==============================] - 162s 404ms/step - loss: 1.4202 - accuracy: 0.4828 - val_loss: 1.3386 - val_accuracy: 0.5167\n",
      "Epoch 7/10\n",
      "400/400 [==============================] - 159s 397ms/step - loss: 1.3617 - accuracy: 0.5040 - val_loss: 1.3184 - val_accuracy: 0.5218\n",
      "Epoch 8/10\n",
      "400/400 [==============================] - 162s 406ms/step - loss: 1.3096 - accuracy: 0.5278 - val_loss: 1.3962 - val_accuracy: 0.4977\n",
      "Epoch 9/10\n",
      "400/400 [==============================] - 165s 414ms/step - loss: 1.2599 - accuracy: 0.5456 - val_loss: 1.2642 - val_accuracy: 0.5449\n",
      "Epoch 10/10\n",
      "400/400 [==============================] - 168s 421ms/step - loss: 1.2227 - accuracy: 0.5614 - val_loss: 1.2570 - val_accuracy: 0.5455\n"
     ]
    }
   ],
   "source": [
    "history = model.fit(x_train, y_train, epochs=10, verbose=1,steps_per_epoch=400,\n",
    "                    validation_data=(x_test, y_test), validation_steps=200)"
   ]
  },
  {
   "cell_type": "code",
   "execution_count": 81,
   "metadata": {},
   "outputs": [],
   "source": [
    "import matplotlib.pyplot as plt\n",
    "def plot_accuracy_and_loss(history):\n",
    "    plt.figure(1, figsize= (15, 10))\n",
    "\n",
    "    # plot train and test accuracy\n",
    "    plt.subplot(221)\n",
    "    plt.plot(history.history['accuracy'])\n",
    "    plt.plot(history.history['val_accuracy'])\n",
    "    plt.title('SqueezeNet accuracy')\n",
    "    plt.ylabel('accuracy')\n",
    "    plt.xlabel('epoch')\n",
    "    plt.legend(['train', 'test'], loc='upper left')\n",
    "\n",
    "    # plot train and test loss\n",
    "    plt.subplot(222)\n",
    "    plt.plot(history.history['loss'])\n",
    "    plt.plot(history.history['val_loss'])\n",
    "    plt.title('SqueezeNet loss')\n",
    "    plt.ylabel('loss')\n",
    "    plt.xlabel('epoch')\n",
    "    plt.legend(['train', 'test'], loc='upper right')\n",
    "\n",
    "    plt.show()"
   ]
  },
  {
   "cell_type": "code",
   "execution_count": 82,
   "metadata": {},
   "outputs": [
    {
     "data": {
      "image/png": "[encoded data removed]",
      "text/plain": [
       "<Figure size 1080x720 with 2 Axes>"
      ]
     },
     "metadata": {
      "needs_background": "light"
     },
     "output_type": "display_data"
    }
   ],
   "source": [
    "plot_accuracy_and_loss(history)"
   ]
  },
  {
   "cell_type": "code",
   "execution_count": 86,
   "metadata": {},
   "outputs": [
    {
     "name": "stdout",
     "output_type": "stream",
     "text": [
      "INFO:tensorflow:Assets written to: cifar10_squeeze_net/assets\n"
     ]
    }
   ],
   "source": [
    "# save model's learned weights\n",
    "#model.save_weights('cifar10_squeeze_net.h5', overwrite=True)\n",
    "model.save('cifar10_squeeze_net')\n"
   ]
  },
  {
   "cell_type": "code",
   "execution_count": 87,
   "metadata": {},
   "outputs": [],
   "source": [
    "model = tf.keras.models.load_model('./cifar10_squeeze_net')"
   ]
  },
  {
   "cell_type": "code",
   "execution_count": null,
   "metadata": {},
   "outputs": [],
   "source": []
  }
 ],
 "metadata": {
  "kernelspec": {
   "display_name": "Python 3",
   "language": "python",
   "name": "python3"
  },
  "language_info": {
   "codemirror_mode": {
    "name": "ipython",
    "version": 3
   },
   "file_extension": ".py",
   "mimetype": "text/x-python",
   "name": "python",
   "nbconvert_exporter": "python",
   "pygments_lexer": "ipython3",
   "version": "3.8.5"
  }
 },
 "nbformat": 4,
 "nbformat_minor": 4
}
