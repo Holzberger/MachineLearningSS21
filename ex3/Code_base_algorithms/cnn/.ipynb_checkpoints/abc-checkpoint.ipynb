{
 "cells": [
  {
   "cell_type": "markdown",
   "metadata": {
    "id": "KOCp0HTqD-Lm"
   },
   "source": [
    "# SqueezeNet "
   ]
  },
  {
   "cell_type": "code",
   "execution_count": null,
   "metadata": {
    "execution": {
     "iopub.execute_input": "2021-07-23T23:27:36.459491Z",
     "iopub.status.busy": "2021-07-23T23:27:36.459207Z",
     "iopub.status.idle": "2021-07-23T23:27:40.489895Z",
     "shell.execute_reply": "2021-07-23T23:27:40.489076Z",
     "shell.execute_reply.started": "2021-07-23T23:27:36.459428Z"
    },
    "id": "OKQaQCjlEi1R"
   },
   "outputs": [],
   "source": [
    "import numpy as np\n",
    "import pandas as pd \n",
    "import tensorflow as tf\n",
    "import os\n",
    "import random\n",
    "\n",
    "# fix random seed for involved libraries\n",
    "random_seed = 4321\n",
    "np.random.seed(random_seed)\n",
    "tf.random.set_seed(random_seed)\n",
    "random.seed(random_seed)"
   ]
  },
  {
   "cell_type": "code",
   "execution_count": null,
   "metadata": {
    "execution": {
     "iopub.execute_input": "2021-07-23T23:27:43.270985Z",
     "iopub.status.busy": "2021-07-23T23:27:43.270642Z",
     "iopub.status.idle": "2021-07-23T23:27:43.283443Z",
     "shell.execute_reply": "2021-07-23T23:27:43.282524Z",
     "shell.execute_reply.started": "2021-07-23T23:27:43.270952Z"
    },
    "id": "gGmBZlvlEqNI"
   },
   "outputs": [],
   "source": [
    "def squeezeNet(input_shape, n_classes):\n",
    "    def fire(x_in, n_squeeze, n_expand):\n",
    "        x_sqeeze = tf.keras.layers.Conv2D(n_squeeze, 1, padding =\"valid\", activation=\"relu\")(x_in)\n",
    "        x_expand1 = tf.keras.layers.Conv2D(n_expand, 1, padding =\"valid\", activation=\"relu\")(x_sqeeze)\n",
    "        x_expand3 = tf.keras.layers.Conv2D(n_expand, 3, padding =\"same\", activation=\"relu\")(x_sqeeze)\n",
    "        output = tf.keras.layers.concatenate([x_expand1, x_expand3],axis=3)\n",
    "        return output\n",
    "    img_input = tf.keras.Input(input_shape) # size of your pictures\n",
    "    x = tf.keras.layers.Conv2D(96, 7, strides=2, padding =\"same\", activation=\"relu\")(img_input)\n",
    "    x = tf.keras.layers.MaxPool2D(3, strides=2, padding =\"same\")(x)\n",
    "    x = fire(x, 16, 64)\n",
    "    x = fire(x, 16, 64)\n",
    "    x = fire(x, 32, 128)\n",
    "    x = tf.keras.layers.MaxPool2D(3, strides=2, padding =\"same\")(x)\n",
    "    x = fire(x, 32, 128)\n",
    "    x = fire(x, 48, 192)\n",
    "    x = fire(x, 48, 192)\n",
    "    x = fire(x, 64, 256)\n",
    "    x = tf.keras.layers.MaxPool2D(3, strides=2, padding =\"same\")(x)\n",
    "    x = fire(x, 64, 256)\n",
    "    x = tf.keras.layers.Dropout(0.5)(x)\n",
    "    x = tf.keras.layers.Conv2D(n_classes, 1 , strides=1, padding=\"same\")(x)\n",
    "    x = tf.keras.layers.GlobalAvgPool2D()(x)\n",
    "    output = tf.keras.layers.Activation(\"softmax\")(x)\n",
    "    model = tf.keras.models.Model(img_input, output)\n",
    "    return model"
   ]
  },
  {
   "cell_type": "code",
   "execution_count": null,
   "metadata": {
    "execution": {
     "iopub.execute_input": "2021-07-23T23:27:48.655847Z",
     "iopub.status.busy": "2021-07-23T23:27:48.655526Z",
     "iopub.status.idle": "2021-07-23T23:27:48.660988Z",
     "shell.execute_reply": "2021-07-23T23:27:48.660066Z",
     "shell.execute_reply.started": "2021-07-23T23:27:48.655815Z"
    },
    "id": "PhIncDrX6m76"
   },
   "outputs": [],
   "source": [
    "from tensorflow.keras.callbacks import EarlyStopping, CSVLogger, ReduceLROnPlateau\n",
    "\n",
    "# define squeeze net callbacks\n",
    "def get_squeezeNet_callbacks():\n",
    "    es_callback = EarlyStopping(monitor='val_loss', patience=25)\n",
    "    csv_logger = CSVLogger(os.path.join('squeezeNet.log'))\n",
    "    lr_callback = ReduceLROnPlateau(monitor='val_loss', factor=0.1, patience=5, verbose=1, mode='auto')\n",
    "    return [es_callback, csv_logger, lr_callback]"
   ]
  },
  {
   "cell_type": "code",
   "execution_count": null,
   "metadata": {
    "execution": {
     "iopub.execute_input": "2021-07-23T23:27:51.793935Z",
     "iopub.status.busy": "2021-07-23T23:27:51.793540Z",
     "iopub.status.idle": "2021-07-23T23:27:51.799861Z",
     "shell.execute_reply": "2021-07-23T23:27:51.798814Z",
     "shell.execute_reply.started": "2021-07-23T23:27:51.793885Z"
    },
    "id": "p1MKKrHs6nTR"
   },
   "outputs": [],
   "source": [
    "# return steps needed for training and validation with a given batch size\n",
    "def get_steps_per_epoch(n_data, batch_size):\n",
    "    if n_data%batch_size==0:\n",
    "        return int(n_data/batch_size)\n",
    "    else:\n",
    "        return int(n_data*1.0/batch_size)+1"
   ]
  },
  {
   "cell_type": "markdown",
   "metadata": {
    "id": "M5271sHeESzz"
   },
   "source": [
    "# Cifar10"
   ]
  },
  {
   "cell_type": "code",
   "execution_count": null,
   "metadata": {
    "id": "2gJHdAhHGRr7"
   },
   "outputs": [],
   "source": [
    "# Cifar10 has 10 classes\n",
    "N_CLASSES = 10\n",
    "# our input dimensions\n",
    "INSHAPE = 32, 32, 3\n",
    "BATCH_SIZE = 64"
   ]
  },
  {
   "cell_type": "code",
   "execution_count": null,
   "metadata": {
    "colab": {
     "base_uri": "https://localhost:8080/"
    },
    "id": "iAeOlMZEFHNs",
    "outputId": "be229850-f16a-4eda-b5c3-e0f645db30ae"
   },
   "outputs": [],
   "source": [
    "# get the data\n",
    "(x_train,y_train), (x_test, y_test) = tf.keras.datasets.cifar10.load_data()"
   ]
  },
  {
   "cell_type": "code",
   "execution_count": null,
   "metadata": {
    "id": "UBr3_APNFNy2"
   },
   "outputs": [],
   "source": [
    "# do a 1hot encoding on labels\n",
    "y_train = tf.keras.utils.to_categorical(y_train, N_CLASSES)\n",
    "y_test = tf.keras.utils.to_categorical(y_test, N_CLASSES)"
   ]
  },
  {
   "cell_type": "code",
   "execution_count": null,
   "metadata": {
    "colab": {
     "base_uri": "https://localhost:8080/"
    },
    "id": "mabIk6kNFzPD",
    "outputId": "1d781f8b-ec51-4914-9446-643657ddff4e"
   },
   "outputs": [],
   "source": [
    "# check if data shapes are correct\n",
    "print(x_train.shape, y_train.shape)\n",
    "print(x_test.shape, y_test.shape)"
   ]
  },
  {
   "cell_type": "code",
   "execution_count": null,
   "metadata": {
    "id": "AaKGEmlgGADT"
   },
   "outputs": [],
   "source": [
    "# augment pictures\n",
    "from keras.preprocessing.image import ImageDataGenerator\n",
    "# if we want to augment the data\n",
    "AUGMENT = True\n",
    "\n",
    "if AUGMENT:\n",
    "    datagen = ImageDataGenerator(\n",
    "                        rescale=1./255, \n",
    "                        width_shift_range=0.1, \n",
    "                        height_shift_range=0.1, \n",
    "                        shear_range = 0.1,\n",
    "                        zoom_range = 0.1,\n",
    "                        rotation_range=30,\n",
    "                        horizontal_flip=True,\n",
    "                        validation_split=0.1\n",
    "                        )\n",
    "else:\n",
    "    datagen = ImageDataGenerator(samplewise_center=False, validation_split=0.1)\n",
    "# get data generators for training and validation\n",
    "train_generator = datagen.flow( x_train, y_train, batch_size=BATCH_SIZE, subset='training')\n",
    "validation_generator = datagen.flow( x_train, y_train, batch_size=BATCH_SIZE, subset='validation')"
   ]
  },
  {
   "cell_type": "code",
   "execution_count": null,
   "metadata": {
    "id": "RbQwe_R6GNqM"
   },
   "outputs": [],
   "source": [
    "# clear old models and create new squeezeNet\n",
    "tf.keras.backend.clear_session()\n",
    "model = squeezeNet(INSHAPE, N_CLASSES)\n",
    "# chekout squeezeNet architecture\n",
    "#model.summary()"
   ]
  },
  {
   "cell_type": "code",
   "execution_count": null,
   "metadata": {
    "id": "t4dso5jpE8JL"
   },
   "outputs": [],
   "source": [
    "# training configuration\n",
    "loss = tf.keras.losses.CategoricalCrossentropy()\n",
    "adam = tf.keras.optimizers.Adam(learning_rate=0.0001)\n",
    "model.compile(loss=loss, optimizer=adam, metrics=['accuracy'])\n",
    "model_callbacks = get_squeezeNet_callbacks()"
   ]
  },
  {
   "cell_type": "code",
   "execution_count": null,
   "metadata": {
    "colab": {
     "base_uri": "https://localhost:8080/"
    },
    "id": "gxFaOMxFE9K0",
    "outputId": "68ceca68-38f0-4f36-a4cf-47e0660fff7f"
   },
   "outputs": [],
   "source": [
    "# start training\n",
    "history = model.fit(train_generator, \n",
    "                    epochs=150, \n",
    "                    steps_per_epoch = get_steps_per_epoch(int(x_train.shape[0]*0.9), BATCH_SIZE),\n",
    "                    validation_data=validation_generator , \n",
    "                    validation_steps = get_steps_per_epoch(int(x_train.shape[0]*0.1), BATCH_SIZE),\n",
    "                    verbose = 1,\n",
    "                    callbacks = model_callbacks)"
   ]
  },
  {
   "cell_type": "code",
   "execution_count": null,
   "metadata": {
    "id": "VInV62Q2KoyN"
   },
   "outputs": [],
   "source": [
    "import matplotlib.pyplot as plt\n",
    "def plot_accuracy_and_loss(history):\n",
    "    figure = plt.figure(1, figsize= (15, 10))\n",
    "\n",
    "    # plot train and test accuracy\n",
    "    plt.subplot(221)\n",
    "    plt.plot(history.history['accuracy'])\n",
    "    plt.plot(history.history['val_accuracy'])\n",
    "    plt.title('SqueezeNet accuracy')\n",
    "    plt.ylabel('accuracy')\n",
    "    plt.xlabel('epoch')\n",
    "    plt.legend(['train', 'validation'], loc='upper left')\n",
    "\n",
    "    # plot train and test loss\n",
    "    plt.subplot(222)\n",
    "    plt.plot(history.history['loss'])\n",
    "    plt.plot(history.history['val_loss'])\n",
    "    plt.title('SqueezeNet loss')\n",
    "    plt.ylabel('loss')\n",
    "    plt.xlabel('epoch')\n",
    "    plt.legend(['train', 'validation'], loc='upper right')\n",
    "    figure.savefig(\"squeezeNet.pdf\", bbox_inches='tight')\n",
    "    plt.show()"
   ]
  },
  {
   "cell_type": "code",
   "execution_count": null,
   "metadata": {
    "colab": {
     "base_uri": "https://localhost:8080/",
     "height": 288
    },
    "id": "-qQwRkY-KsmJ",
    "outputId": "ade2da6e-4583-4a23-9593-b5cbf24ce600"
   },
   "outputs": [],
   "source": [
    "plot_accuracy_and_loss(history)"
   ]
  },
  {
   "cell_type": "code",
   "execution_count": null,
   "metadata": {
    "id": "0UjSAWz-RxWg"
   },
   "outputs": [],
   "source": [
    "if not os.path.exists('models'):\n",
    "    os.mkdir(\"models\")\n",
    "model.save(os.path.join('models', 'squeezeNet_cifar10.h5'))"
   ]
  },
  {
   "cell_type": "markdown",
   "metadata": {
    "id": "sKUJyvK0JBHf"
   },
   "source": [
    "# Tiny ImageNet"
   ]
  },
  {
   "cell_type": "code",
   "execution_count": null,
   "metadata": {
    "execution": {
     "iopub.execute_input": "2021-07-23T23:30:26.649775Z",
     "iopub.status.busy": "2021-07-23T23:30:26.649449Z",
     "iopub.status.idle": "2021-07-23T23:30:26.653838Z",
     "shell.execute_reply": "2021-07-23T23:30:26.653040Z",
     "shell.execute_reply.started": "2021-07-23T23:30:26.649745Z"
    },
    "id": "iK6q-aFaYjVn"
   },
   "outputs": [],
   "source": [
    "# TinyIageNet has 200 classes\n",
    "N_CLASSES = 200\n",
    "# our input dimensions\n",
    "INSHAPE = 64, 64, 3\n",
    "PICTURE_SHAPE = INSHAPE[0], INSHAPE[1]\n",
    "BATCH_SIZE = 64"
   ]
  },
  {
   "cell_type": "code",
   "execution_count": null,
   "metadata": {
    "execution": {
     "iopub.execute_input": "2021-07-23T23:30:31.846824Z",
     "iopub.status.busy": "2021-07-23T23:30:31.846505Z",
     "iopub.status.idle": "2021-07-23T23:30:31.854967Z",
     "shell.execute_reply": "2021-07-23T23:30:31.853896Z",
     "shell.execute_reply.started": "2021-07-23T23:30:31.846792Z"
    },
    "id": "pXOw61S5z22K"
   },
   "outputs": [],
   "source": [
    "# download tiny Imagenet and create folder\n",
    "import os\n",
    "import requests\n",
    "import zipfile\n",
    "\n",
    "# Retrieve the data\n",
    "if not os.path.exists(os.path.join('data','tiny-imagenet-200.zip')):\n",
    "    url = \"http://cs231n.stanford.edu/tiny-imagenet-200.zip\"\n",
    "    # Get the file from web\n",
    "    r = requests.get(url)\n",
    "\n",
    "    if not os.path.exists('data'):\n",
    "        os.mkdir('data')\n",
    "    \n",
    "  # Write to a file\n",
    "    with open(os.path.join('data','tiny-imagenet-200.zip'), 'wb') as f:\n",
    "        f.write(r.content)\n",
    "else:\n",
    "      print(\"The zip file already exists.\")\n",
    "    \n",
    "if not os.path.exists(os.path.join('data', 'tiny-imagenet-200')):\n",
    "    with zipfile.ZipFile(os.path.join('data','tiny-imagenet-200.zip'), 'r') as zip_ref:\n",
    "        zip_ref.extractall('data')\n",
    "else:\n",
    "    print(\"The extracted data already exists\")"
   ]
  },
  {
   "cell_type": "code",
   "execution_count": null,
   "metadata": {
    "colab": {
     "base_uri": "https://localhost:8080/"
    },
    "execution": {
     "iopub.execute_input": "2021-07-23T23:30:34.395041Z",
     "iopub.status.busy": "2021-07-23T23:30:34.394661Z",
     "iopub.status.idle": "2021-07-23T23:30:40.778155Z",
     "shell.execute_reply": "2021-07-23T23:30:40.776670Z",
     "shell.execute_reply.started": "2021-07-23T23:30:34.394994Z"
    },
    "id": "GvGG89Ci36Gp",
    "outputId": "9e22c5ca-6285-485c-e757-fc1fbbfc8d49"
   },
   "outputs": [],
   "source": [
    "from keras.preprocessing.image import ImageDataGenerator\n",
    "# if we want to augment the data\n",
    "AUGMENT = True\n",
    "\n",
    "if AUGMENT:\n",
    "    image_gen = ImageDataGenerator(\n",
    "                      #rescale=1./255, # this didnt work\n",
    "                      width_shift_range=0.1, \n",
    "                      height_shift_range=0.1, \n",
    "                      shear_range = 0.1,\n",
    "                      zoom_range = 0.1,\n",
    "                      rotation_range=30,\n",
    "                      horizontal_flip=True,\n",
    "                      validation_split=0.1)\n",
    "else:\n",
    "    image_gen = ImageDataGenerator(samplewise_center=False, validation_split=0.1)\n",
    "\n",
    "train_gen = image_gen.flow_from_directory(directory='./data/tiny-imagenet-200/train', \n",
    "    target_size=PICTURE_SHAPE, classes=None,\n",
    "    class_mode='categorical', batch_size=BATCH_SIZE, \n",
    "    shuffle=True, seed=random_seed,subset='training')\n",
    "\n",
    "valid_gen = image_gen.flow_from_directory(directory='./data/tiny-imagenet-200/train', \n",
    "    target_size=PICTURE_SHAPE, classes=None,\n",
    "    class_mode='categorical', batch_size=BATCH_SIZE, \n",
    "    shuffle=True, seed=random_seed,subset='validation')"
   ]
  },
  {
   "cell_type": "code",
   "execution_count": null,
   "metadata": {
    "execution": {
     "iopub.execute_input": "2021-07-23T23:30:40.780130Z",
     "iopub.status.busy": "2021-07-23T23:30:40.779756Z",
     "iopub.status.idle": "2021-07-23T23:30:41.026589Z",
     "shell.execute_reply": "2021-07-23T23:30:41.025628Z",
     "shell.execute_reply.started": "2021-07-23T23:30:40.780092Z"
    },
    "id": "-SMuYxAg0PV0"
   },
   "outputs": [],
   "source": [
    "# clear old models and create new squeezeNet\n",
    "tf.keras.backend.clear_session()\n",
    "model = squeezeNet(INSHAPE, N_CLASSES)\n",
    "# chekout squeezeNet architecture\n",
    "#model.summary()"
   ]
  },
  {
   "cell_type": "code",
   "execution_count": null,
   "metadata": {
    "execution": {
     "iopub.execute_input": "2021-07-23T23:30:41.028856Z",
     "iopub.status.busy": "2021-07-23T23:30:41.028472Z",
     "iopub.status.idle": "2021-07-23T23:30:41.042641Z",
     "shell.execute_reply": "2021-07-23T23:30:41.041576Z",
     "shell.execute_reply.started": "2021-07-23T23:30:41.028813Z"
    },
    "id": "q64byl2A0RYT"
   },
   "outputs": [],
   "source": [
    "# training configuration\n",
    "loss = tf.keras.losses.CategoricalCrossentropy()\n",
    "adam = tf.keras.optimizers.Adam(learning_rate=0.0001)\n",
    "model.compile(loss=loss, optimizer=adam, metrics=['accuracy'])\n",
    "model_callbacks = get_squeezeNet_callbacks()"
   ]
  },
  {
   "cell_type": "code",
   "execution_count": null,
   "metadata": {
    "colab": {
     "base_uri": "https://localhost:8080/"
    },
    "execution": {
     "iopub.execute_input": "2021-07-23T23:30:42.335287Z",
     "iopub.status.busy": "2021-07-23T23:30:42.334950Z",
     "iopub.status.idle": "2021-07-23T23:36:05.444898Z",
     "shell.execute_reply": "2021-07-23T23:36:05.444088Z",
     "shell.execute_reply.started": "2021-07-23T23:30:42.335256Z"
    },
    "id": "Uqt84oZm0Tes",
    "outputId": "21e1a863-2a75-4189-a5dc-34e9e6f9287c"
   },
   "outputs": [],
   "source": [
    "history = model.fit(\n",
    "    train_gen, \n",
    "    validation_data = valid_gen, \n",
    "    steps_per_epoch = get_steps_per_epoch(int(0.9*(500*200)), BATCH_SIZE), \n",
    "    validation_steps = get_steps_per_epoch(int(0.1*(500*200)), BATCH_SIZE),\n",
    "    epochs = 150,\n",
    "    verbose = 1,\n",
    "    callbacks = model_callbacks)"
   ]
  },
  {
   "cell_type": "code",
   "execution_count": null,
   "metadata": {
    "colab": {
     "base_uri": "https://localhost:8080/",
     "height": 288
    },
    "id": "k8pyYePmtId4",
    "outputId": "474ef258-bad1-4761-9fd0-ca5dec8e033c"
   },
   "outputs": [],
   "source": [
    "plot_accuracy_and_loss(history)"
   ]
  },
  {
   "cell_type": "code",
   "execution_count": null,
   "metadata": {
    "id": "_kOxMhsGtZeQ"
   },
   "outputs": [],
   "source": [
    "if not os.path.exists('models'):\n",
    "    os.mkdir(\"models\")\n",
    "model.save(os.path.join('models', 'squeezeNet_tinyimageNet.h5'))"
   ]
  },
  {
   "cell_type": "markdown",
   "metadata": {
    "id": "mTQ_z83JewGR"
   },
   "source": [
    "# ResNet50 transfer learning"
   ]
  },
  {
   "cell_type": "code",
   "execution_count": null,
   "metadata": {
    "execution": {
     "iopub.execute_input": "2021-07-23T23:39:36.180612Z",
     "iopub.status.busy": "2021-07-23T23:39:36.180233Z",
     "iopub.status.idle": "2021-07-23T23:39:40.516959Z",
     "shell.execute_reply": "2021-07-23T23:39:40.516178Z",
     "shell.execute_reply.started": "2021-07-23T23:39:36.180531Z"
    },
    "id": "iPQBbdAaf1aY"
   },
   "outputs": [],
   "source": [
    "import numpy as np\n",
    "import pandas as pd \n",
    "from tensorflow import keras\n",
    "import tensorflow as tf\n",
    "import os"
   ]
  },
  {
   "cell_type": "code",
   "execution_count": null,
   "metadata": {
    "execution": {
     "iopub.execute_input": "2021-07-23T23:39:46.826083Z",
     "iopub.status.busy": "2021-07-23T23:39:46.825755Z",
     "iopub.status.idle": "2021-07-23T23:39:46.836200Z",
     "shell.execute_reply": "2021-07-23T23:39:46.835167Z",
     "shell.execute_reply.started": "2021-07-23T23:39:46.826037Z"
    },
    "id": "AHb7gm72gWEO"
   },
   "outputs": [],
   "source": [
    "def res50Net_transfer(input_shape, n_classes, frozen_layers=168, final_layers=[]):\n",
    "    # load resnet with given input shape\n",
    "    input_t = tf.keras.Input(shape=input_shape)\n",
    "    res_model = tf.keras.applications.ResNet50(include_top=False,\n",
    "                                              weights=\"imagenet\",\n",
    "                                              input_tensor=input_t)\n",
    "    # freeze top layers of resnet\n",
    "    for layer in res_model.layers[:frozen_layers]:\n",
    "        layer.trainable =False\n",
    "\n",
    "    # wrap resnet by sequencial network\n",
    "    model = tf.keras.models.Sequential()\n",
    "    model.add(tf.keras.layers.Lambda(lambda image: tf.image.resize(image, input_shape[:2])))\n",
    "    model.add(res_model)\n",
    "    model.add(tf.keras.layers.Flatten())\n",
    "\n",
    "    for n_layer in final_layers: # add dense layers if we need more accuracy\n",
    "        model.add(tf.keras.layers.BatchNormalization())\n",
    "        model.add(tf.keras.layers.Dense(n_layer, activation='relu'))\n",
    "        model.add(tf.keras.layers.Dropout(0.5))\n",
    "\n",
    "    model.add(tf.keras.layers.Dense(n_classes, activation='softmax'))\n",
    "\n",
    "    loss = tf.keras.losses.CategoricalCrossentropy()\n",
    "    adam = tf.keras.optimizers.Adam(learning_rate=0.0001)\n",
    "    model.compile(loss=loss, optimizer=adam, metrics=['accuracy'])\n",
    "    return model\n",
    "\n",
    "from tensorflow.keras.callbacks import EarlyStopping, CSVLogger, ReduceLROnPlateau\n",
    "\n",
    "def get_res50Net_transfer_callbacks():\n",
    "    es_callback = EarlyStopping(monitor='val_loss', patience=25)\n",
    "    csv_logger = CSVLogger(os.path.join('res50Net_transfer.log'))\n",
    "    lr_callback = ReduceLROnPlateau(\n",
    "        monitor='val_loss', factor=0.1, patience=5, verbose=1, mode='auto'\n",
    "    )\n",
    "    return [es_callback, csv_logger, lr_callback]"
   ]
  },
  {
   "cell_type": "code",
   "execution_count": null,
   "metadata": {
    "execution": {
     "iopub.execute_input": "2021-07-23T23:46:52.508648Z",
     "iopub.status.busy": "2021-07-23T23:46:52.508303Z",
     "iopub.status.idle": "2021-07-23T23:46:52.514293Z",
     "shell.execute_reply": "2021-07-23T23:46:52.513130Z",
     "shell.execute_reply.started": "2021-07-23T23:46:52.508615Z"
    },
    "id": "AFPwzmqq36Gt"
   },
   "outputs": [],
   "source": [
    "def get_steps_per_epoch(n_data, batch_size):\n",
    "    \"\"\" Given the data size and batch size, gives the number of steps to travers the full dataset \"\"\"\n",
    "    if n_data%batch_size==0:\n",
    "        return int(n_data/batch_size)\n",
    "    else:\n",
    "        return int(n_data*1.0/batch_size)+1"
   ]
  },
  {
   "cell_type": "code",
   "execution_count": null,
   "metadata": {
    "execution": {
     "iopub.execute_input": "2021-07-23T23:43:02.770942Z",
     "iopub.status.busy": "2021-07-23T23:43:02.770619Z",
     "iopub.status.idle": "2021-07-23T23:43:02.777736Z",
     "shell.execute_reply": "2021-07-23T23:43:02.776877Z",
     "shell.execute_reply.started": "2021-07-23T23:43:02.770911Z"
    },
    "id": "-dFQjxF836Gu"
   },
   "outputs": [],
   "source": [
    "import matplotlib.pyplot as plt\n",
    "def plot_accuracy_and_loss(history):\n",
    "    figure = plt.figure(1, figsize= (15, 10))\n",
    "\n",
    "    # plot train and test accuracy\n",
    "    plt.subplot(221)\n",
    "    plt.plot(history.history['accuracy'])\n",
    "    plt.plot(history.history['val_accuracy'])\n",
    "    plt.title('ResNet50 accuracy')\n",
    "    plt.ylabel('accuracy')\n",
    "    plt.xlabel('epoch')\n",
    "    plt.legend(['train', 'validation'], loc='upper left')\n",
    "\n",
    "    # plot train and test loss\n",
    "    plt.subplot(222)\n",
    "    plt.plot(history.history['loss'])\n",
    "    plt.plot(history.history['val_loss'])\n",
    "    plt.title('ResNet50 loss')\n",
    "    plt.ylabel('loss')\n",
    "    plt.xlabel('epoch')\n",
    "    plt.legend(['train', 'validation'], loc='upper right')\n",
    "    figure.savefig(\"res50Net_transfer.pdf\", bbox_inches='tight')\n",
    "\n",
    "    plt.show()"
   ]
  },
  {
   "cell_type": "markdown",
   "metadata": {
    "id": "inWNtiIPk0ao"
   },
   "source": [
    "## Cifar10"
   ]
  },
  {
   "cell_type": "code",
   "execution_count": null,
   "metadata": {
    "execution": {
     "iopub.execute_input": "2021-07-23T23:39:50.916584Z",
     "iopub.status.busy": "2021-07-23T23:39:50.916238Z",
     "iopub.status.idle": "2021-07-23T23:39:50.923135Z",
     "shell.execute_reply": "2021-07-23T23:39:50.921840Z",
     "shell.execute_reply.started": "2021-07-23T23:39:50.916555Z"
    },
    "id": "wlpDKuQtlE4c"
   },
   "outputs": [],
   "source": [
    "# Cifar10 has 10 classes\n",
    "N_CLASSES = 10\n",
    "# our input dimensions\n",
    "INSHAPE = 32, 32, 3"
   ]
  },
  {
   "cell_type": "code",
   "execution_count": null,
   "metadata": {
    "execution": {
     "iopub.execute_input": "2021-07-23T23:39:52.969333Z",
     "iopub.status.busy": "2021-07-23T23:39:52.968957Z",
     "iopub.status.idle": "2021-07-23T23:40:01.183130Z",
     "shell.execute_reply": "2021-07-23T23:40:01.182261Z",
     "shell.execute_reply.started": "2021-07-23T23:39:52.969302Z"
    },
    "id": "4N1eT-GRlE4d",
    "outputId": "337bf7a7-e86e-4512-ff6f-642077b17b3b"
   },
   "outputs": [],
   "source": [
    "# get the data\n",
    "(x_train,y_train), (x_test, y_test) = tf.keras.datasets.cifar10.load_data()"
   ]
  },
  {
   "cell_type": "code",
   "execution_count": null,
   "metadata": {
    "execution": {
     "iopub.execute_input": "2021-07-23T23:40:02.346818Z",
     "iopub.status.busy": "2021-07-23T23:40:02.346491Z",
     "iopub.status.idle": "2021-07-23T23:40:02.351740Z",
     "shell.execute_reply": "2021-07-23T23:40:02.350932Z",
     "shell.execute_reply.started": "2021-07-23T23:40:02.346788Z"
    },
    "id": "VNwYnwzZlE4e"
   },
   "outputs": [],
   "source": [
    "# do a 1hot encoding on labels\n",
    "y_train = tf.keras.utils.to_categorical(y_train, N_CLASSES)\n",
    "y_test = tf.keras.utils.to_categorical(y_test, N_CLASSES)"
   ]
  },
  {
   "cell_type": "code",
   "execution_count": null,
   "metadata": {
    "execution": {
     "iopub.execute_input": "2021-07-23T23:40:05.156451Z",
     "iopub.status.busy": "2021-07-23T23:40:05.156122Z",
     "iopub.status.idle": "2021-07-23T23:40:05.161474Z",
     "shell.execute_reply": "2021-07-23T23:40:05.160616Z",
     "shell.execute_reply.started": "2021-07-23T23:40:05.156420Z"
    },
    "id": "spbbba4TlE4g",
    "outputId": "d416484e-c2fb-4030-cf34-b4fe2878ae8a"
   },
   "outputs": [],
   "source": [
    "# check if data shapes are correct\n",
    "print(x_train.shape, y_train.shape)\n",
    "print(x_test.shape, y_test.shape)"
   ]
  },
  {
   "cell_type": "code",
   "execution_count": null,
   "metadata": {
    "execution": {
     "iopub.execute_input": "2021-07-23T23:40:08.022888Z",
     "iopub.status.busy": "2021-07-23T23:40:08.022536Z",
     "iopub.status.idle": "2021-07-23T23:40:08.073051Z",
     "shell.execute_reply": "2021-07-23T23:40:08.072307Z",
     "shell.execute_reply.started": "2021-07-23T23:40:08.022857Z"
    },
    "id": "IjCGF1WBlE4i"
   },
   "outputs": [],
   "source": [
    "# augment pictures\n",
    "from keras.preprocessing.image import ImageDataGenerator\n",
    "\n",
    "# if we want to augment the data\n",
    "AUGMENT = True\n",
    "\n",
    "if AUGMENT:\n",
    "    datagen = ImageDataGenerator(\n",
    "                      #rescale=1./255, \n",
    "                      width_shift_range=0.1, \n",
    "                      height_shift_range=0.1, \n",
    "                      shear_range = 0.1,\n",
    "                      zoom_range = 0.1,\n",
    "                      rotation_range=30,\n",
    "                      horizontal_flip=True,\n",
    "                      validation_split=0.1)\n",
    "else:\n",
    "    datagen = ImageDataGenerator(samplewise_center=False, validation_split=0.1)\n",
    "\n",
    "\n",
    "# get data generators for training and validation\n",
    "train_generator = datagen.flow( x_train, y_train, batch_size=BATCH_SIZE, subset='training')\n",
    "validation_generator = datagen.flow( x_train, y_train, batch_size=BATCH_SIZE, subset='validation')"
   ]
  },
  {
   "cell_type": "code",
   "execution_count": null,
   "metadata": {
    "execution": {
     "iopub.execute_input": "2021-07-23T23:40:13.413214Z",
     "iopub.status.busy": "2021-07-23T23:40:13.412840Z",
     "iopub.status.idle": "2021-07-23T23:40:18.822564Z",
     "shell.execute_reply": "2021-07-23T23:40:18.821533Z",
     "shell.execute_reply.started": "2021-07-23T23:40:13.413181Z"
    },
    "id": "jGLp-xfXlE4k",
    "outputId": "71390763-c881-4ff5-9ac9-303f4323abc4"
   },
   "outputs": [],
   "source": [
    "# clear old models and create new squeezeNet\n",
    "tf.keras.backend.clear_session()\n",
    "model = res50Net_transfer(INSHAPE, N_CLASSES, frozen_layers=168, \n",
    "                          final_layers=[256, 128, 64])\n",
    "model_callbacks = get_res50Net_transfer_callbacks()"
   ]
  },
  {
   "cell_type": "code",
   "execution_count": null,
   "metadata": {
    "execution": {
     "iopub.execute_input": "2021-07-23T23:41:51.020887Z",
     "iopub.status.busy": "2021-07-23T23:41:51.020555Z",
     "iopub.status.idle": "2021-07-23T23:42:55.383333Z",
     "shell.execute_reply": "2021-07-23T23:42:55.382405Z",
     "shell.execute_reply.started": "2021-07-23T23:41:51.020856Z"
    },
    "id": "ENilVjEMm9Ek",
    "outputId": "d2bffd06-15fa-4bb9-de99-3e2003ad13cf"
   },
   "outputs": [],
   "source": [
    "# start training\n",
    "history = model.fit(train_generator, \n",
    "                    epochs=150, \n",
    "                    steps_per_epoch = get_steps_per_epoch(int(x_train.shape[0]*0.9), BATCH_SIZE),\n",
    "                    validation_data=validation_generator , \n",
    "                    validation_steps = get_steps_per_epoch(int(x_train.shape[0]*0.1), BATCH_SIZE),\n",
    "                    verbose = 1,\n",
    "                    callbacks = model_callbacks)"
   ]
  },
  {
   "cell_type": "code",
   "execution_count": null,
   "metadata": {
    "execution": {
     "iopub.execute_input": "2021-07-23T23:43:07.138701Z",
     "iopub.status.busy": "2021-07-23T23:43:07.138354Z",
     "iopub.status.idle": "2021-07-23T23:43:07.414814Z",
     "shell.execute_reply": "2021-07-23T23:43:07.413787Z",
     "shell.execute_reply.started": "2021-07-23T23:43:07.138670Z"
    },
    "id": "MaJb61_t04Ab",
    "outputId": "fe01b5c4-ab0b-487b-f345-8a0cc8569f70"
   },
   "outputs": [],
   "source": [
    "plot_accuracy_and_loss(history)"
   ]
  },
  {
   "cell_type": "code",
   "execution_count": null,
   "metadata": {
    "execution": {
     "iopub.execute_input": "2021-07-23T23:44:23.849585Z",
     "iopub.status.busy": "2021-07-23T23:44:23.849235Z",
     "iopub.status.idle": "2021-07-23T23:44:24.584345Z",
     "shell.execute_reply": "2021-07-23T23:44:24.583443Z",
     "shell.execute_reply.started": "2021-07-23T23:44:23.849549Z"
    },
    "id": "9_ux0IL036Gx"
   },
   "outputs": [],
   "source": [
    "if not os.path.exists('models'):\n",
    "    os.mkdir(\"models\")\n",
    "model.save(os.path.join('models', 'res50Net_cifar10.h5'))"
   ]
  },
  {
   "cell_type": "markdown",
   "metadata": {
    "id": "xhcWyNOwan17"
   },
   "source": [
    "## Tiny ImageNet"
   ]
  },
  {
   "cell_type": "code",
   "execution_count": null,
   "metadata": {
    "execution": {
     "iopub.execute_input": "2021-07-24T00:08:44.027639Z",
     "iopub.status.busy": "2021-07-24T00:08:44.027298Z",
     "iopub.status.idle": "2021-07-24T00:08:44.032513Z",
     "shell.execute_reply": "2021-07-24T00:08:44.031494Z",
     "shell.execute_reply.started": "2021-07-24T00:08:44.027605Z"
    },
    "id": "sqTnf7e_bBVr"
   },
   "outputs": [],
   "source": [
    "# TinyIageNet has 200 classes\n",
    "N_CLASSES = 200\n",
    "# our input dimensions\n",
    "INSHAPE = 64, 64, 3\n",
    "PICTURE_SHAPE = (INSHAPE[0], INSHAPE[1])\n",
    "BATCH_SIZE = 32"
   ]
  },
  {
   "cell_type": "code",
   "execution_count": null,
   "metadata": {
    "execution": {
     "iopub.execute_input": "2021-07-24T00:08:45.834921Z",
     "iopub.status.busy": "2021-07-24T00:08:45.834603Z",
     "iopub.status.idle": "2021-07-24T00:08:45.839093Z",
     "shell.execute_reply": "2021-07-24T00:08:45.837899Z",
     "shell.execute_reply.started": "2021-07-24T00:08:45.834892Z"
    },
    "id": "Vc3NqZk4bBVs"
   },
   "outputs": [],
   "source": [
    "import numpy as np\n",
    "import tensorflow as tf\n",
    "import random"
   ]
  },
  {
   "cell_type": "code",
   "execution_count": null,
   "metadata": {
    "execution": {
     "iopub.execute_input": "2021-07-24T00:08:47.510089Z",
     "iopub.status.busy": "2021-07-24T00:08:47.509753Z",
     "iopub.status.idle": "2021-07-24T00:08:47.567917Z",
     "shell.execute_reply": "2021-07-24T00:08:47.567090Z",
     "shell.execute_reply.started": "2021-07-24T00:08:47.510037Z"
    },
    "id": "_bbMd8-ibBVs"
   },
   "outputs": [],
   "source": [
    "# Fixing the random seed for involved libraries\n",
    "random_seed=4321\n",
    "\n",
    "np.random.seed(random_seed)\n",
    "tf.random.set_seed(random_seed)\n",
    "random.seed(random_seed)"
   ]
  },
  {
   "cell_type": "code",
   "execution_count": null,
   "metadata": {
    "execution": {
     "iopub.execute_input": "2021-07-24T00:08:49.273986Z",
     "iopub.status.busy": "2021-07-24T00:08:49.273623Z",
     "iopub.status.idle": "2021-07-24T00:08:49.282571Z",
     "shell.execute_reply": "2021-07-24T00:08:49.281670Z",
     "shell.execute_reply.started": "2021-07-24T00:08:49.273956Z"
    },
    "id": "HMVbqbPfbBVs",
    "outputId": "05b0bf01-1ffc-45ed-8a5d-5d5bbf9292a3"
   },
   "outputs": [],
   "source": [
    "# download tiny Imagenet and create folder\n",
    "import os\n",
    "import requests\n",
    "import zipfile\n",
    "\n",
    "# Retrieve the data\n",
    "if not os.path.exists(os.path.join('data','tiny-imagenet-200.zip')):\n",
    "    url = \"http://cs231n.stanford.edu/tiny-imagenet-200.zip\"\n",
    "    # Get the file from web\n",
    "    r = requests.get(url)\n",
    "\n",
    "    if not os.path.exists('data'):\n",
    "        os.mkdir('data')\n",
    "    \n",
    "    # Write to a file\n",
    "    with open(os.path.join('data','tiny-imagenet-200.zip'), 'wb') as f:\n",
    "        f.write(r.content)\n",
    "else:\n",
    "    print(\"The zip file already exists.\")\n",
    "    \n",
    "if not os.path.exists(os.path.join('data', 'tiny-imagenet-200')):\n",
    "    with zipfile.ZipFile(os.path.join('data','tiny-imagenet-200.zip'), 'r') as zip_ref:\n",
    "        zip_ref.extractall('data')\n",
    "else:\n",
    "    print(\"The extracted data already exists\")"
   ]
  },
  {
   "cell_type": "code",
   "execution_count": null,
   "metadata": {
    "execution": {
     "iopub.execute_input": "2021-07-24T00:08:51.612228Z",
     "iopub.status.busy": "2021-07-24T00:08:51.611043Z",
     "iopub.status.idle": "2021-07-24T00:08:57.506355Z",
     "shell.execute_reply": "2021-07-24T00:08:57.504523Z",
     "shell.execute_reply.started": "2021-07-24T00:08:51.612184Z"
    },
    "id": "bOhWssyjbBVs",
    "outputId": "dcf136ee-e6a1-432a-d667-b25ffc05bea5"
   },
   "outputs": [],
   "source": [
    "from keras.preprocessing.image import ImageDataGenerator\n",
    "# if we want to augment the data\n",
    "AUGMENT = True\n",
    "\n",
    "if AUGMENT:\n",
    "    image_gen = ImageDataGenerator(\n",
    "                      #rescale=1./255, # this didnt work\n",
    "                      width_shift_range=0.1, \n",
    "                      height_shift_range=0.1, \n",
    "                      shear_range = 0.1,\n",
    "                      zoom_range = 0.1,\n",
    "                      rotation_range=30,\n",
    "                      horizontal_flip=True,\n",
    "                      validation_split=0.1)\n",
    "else:\n",
    "    image_gen = ImageDataGenerator(samplewise_center=False, validation_split=0.1)\n",
    "\n",
    "train_gen = image_gen.flow_from_directory(directory='./data/tiny-imagenet-200/train', \n",
    "    target_size=PICTURE_SHAPE, classes=None,\n",
    "    class_mode='categorical', batch_size=BATCH_SIZE, \n",
    "    shuffle=True, seed=random_seed,subset='training')\n",
    "\n",
    "valid_gen = image_gen.flow_from_directory(directory='./data/tiny-imagenet-200/train', \n",
    "    target_size=PICTURE_SHAPE, classes=None,\n",
    "    class_mode='categorical', batch_size=BATCH_SIZE, \n",
    "    shuffle=True, seed=random_seed,subset='validation')"
   ]
  },
  {
   "cell_type": "code",
   "execution_count": null,
   "metadata": {
    "execution": {
     "iopub.execute_input": "2021-07-24T00:09:05.432598Z",
     "iopub.status.busy": "2021-07-24T00:09:05.432266Z",
     "iopub.status.idle": "2021-07-24T00:09:06.802710Z",
     "shell.execute_reply": "2021-07-24T00:09:06.801857Z",
     "shell.execute_reply.started": "2021-07-24T00:09:05.432567Z"
    },
    "id": "DCAOTJAPbBVt"
   },
   "outputs": [],
   "source": [
    "# clear old models and create new squeezeNet\n",
    "tf.keras.backend.clear_session()\n",
    "model = res50Net_transfer(INSHAPE, N_CLASSES, frozen_layers=168, final_layers=[256, 256, 256])\n",
    "model_callbacks = get_res50Net_transfer_callbacks()"
   ]
  },
  {
   "cell_type": "code",
   "execution_count": null,
   "metadata": {
    "execution": {
     "iopub.execute_input": "2021-07-24T00:09:09.693516Z",
     "iopub.status.busy": "2021-07-24T00:09:09.693189Z",
     "iopub.status.idle": "2021-07-24T00:15:08.720805Z",
     "shell.execute_reply": "2021-07-24T00:15:08.719989Z",
     "shell.execute_reply.started": "2021-07-24T00:09:09.693487Z"
    },
    "id": "kOgl7ChRcCSi",
    "outputId": "69239035-935c-4a73-de53-b3941e66e279"
   },
   "outputs": [],
   "source": [
    "history = model.fit(\n",
    "    train_gen, validation_data=valid_gen,\n",
    "    steps_per_epoch=get_steps_per_epoch(int(0.9*(500*200)), BATCH_SIZE),\n",
    "    validation_steps=get_steps_per_epoch(int(0.1*(500*200)), BATCH_SIZE),\n",
    "    epochs=150, callbacks= model_callbacks,\n",
    "    verbose=1)"
   ]
  },
  {
   "cell_type": "code",
   "execution_count": null,
   "metadata": {
    "execution": {
     "iopub.execute_input": "2021-07-23T23:52:30.049392Z",
     "iopub.status.busy": "2021-07-23T23:52:30.048981Z",
     "iopub.status.idle": "2021-07-23T23:52:30.325445Z",
     "shell.execute_reply": "2021-07-23T23:52:30.324356Z",
     "shell.execute_reply.started": "2021-07-23T23:52:30.049357Z"
    },
    "id": "ICbYTtZU36Gy",
    "outputId": "db927ddb-564b-44d6-9df9-957161780a76"
   },
   "outputs": [],
   "source": [
    "plot_accuracy_and_loss(history)"
   ]
  },
  {
   "cell_type": "code",
   "execution_count": null,
   "metadata": {
    "execution": {
     "iopub.execute_input": "2021-07-23T23:52:49.962122Z",
     "iopub.status.busy": "2021-07-23T23:52:49.961771Z",
     "iopub.status.idle": "2021-07-23T23:52:50.413502Z",
     "shell.execute_reply": "2021-07-23T23:52:50.412668Z",
     "shell.execute_reply.started": "2021-07-23T23:52:49.962087Z"
    },
    "id": "-rOIQ8WD36Gy"
   },
   "outputs": [],
   "source": [
    "if not os.path.exists('models'):\n",
    "    os.mkdir(\"models\")\n",
    "model.save(os.path.join('models', 'res50Net_tinyimageNet.h5'))"
   ]
  }
 ],
 "metadata": {
  "accelerator": "GPU",
  "colab": {
   "name": "ex32.ipynb",
   "provenance": []
  },
  "kernelspec": {
   "display_name": "Python 3",
   "language": "python",
   "name": "python3"
  },
  "language_info": {
   "codemirror_mode": {
    "name": "ipython",
    "version": 3
   },
   "file_extension": ".py",
   "mimetype": "text/x-python",
   "name": "python",
   "nbconvert_exporter": "python",
   "pygments_lexer": "ipython3",
   "version": "3.8.5"
  }
 },
 "nbformat": 4,
 "nbformat_minor": 1
}
