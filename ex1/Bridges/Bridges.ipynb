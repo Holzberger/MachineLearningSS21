{
 "cells": [
  {
   "cell_type": "markdown",
   "metadata": {},
   "source": [
    "%\n",
    "\\section{Classification Dataset: Pittsburgh bridges dataset (\\href{https://archive.ics.uci.edu/ml/datasets/Pittsburgh+Bridges}{link to dataset})}\n",
    "\n",
    "The Pittsburgh dataset is used for classification, it is a prediction on the type of the bridge.\n",
    "\n",
    "It consists of 108 samples, 12 attributes and the target variable, which is the type of the bridge, and this label is a nominal value among \"simple-t\" (simple truss), \"cont-t\" (continuous truss), \"cantilev\" (cantilever truss), \"arch\", \"suspen\" (suspension) or \"wood\". This dataset is quite small with a medium dimension. The 12 attributes are the following: \n",
    "\n",
    "1.IDENTIF: identifier of the example. It is not relevant, we will drop it\n",
    "\n",
    "2.RIVER:  the crossed river (\"A\" for Allegheny, \"O\" for Ihoa, \"M\" for Monongahela or \"Y\" for Youghigheny)\n",
    "\n",
    "3.LOCATION: bridge location (1 to 52, nominal value)\n",
    "\n",
    "4.ERECTED: period in time when the bridge was built (nominal value among \"crafts\", \"emerging\", \"mature\", \"modern\")\n",
    "\n",
    "5.PURPOSE: purpose of the construction (nominal value among \"walk\", \"aqueduct\", \"rr\", \"highway\")  \n",
    "\n",
    "6.LENGTH: total length of the crossing (nominal value among \"short\", \"medium\", long\")\n",
    "\n",
    "7.LANES: number of lanes (nominal value among 1, 2, 4, 6)\n",
    "\n",
    "8.CLEAR-G:  a  vertical  navigation clearance requirement was enforced in the design (\"G\") or not (\"N\")\n",
    "\n",
    "9.T-OR-D:  specifies  the  vertical  location  of  the roadway on the bridge: within the structure (\"through\") or on top of it (\"deck\")\n",
    "\n",
    "10.MATERIAL: material that the bridge was built: nominal value among \"iron\",\"wood\",\"steel\"\n",
    "\n",
    "11.SPAN: length of the main span of the bridge (nominal value among \"short\", \"medium\", long\")\n",
    "\n",
    "12.REL-L: relative length of the main span of the bridge to the total crossing length (nominal value among \"S\", \"S-F\", \"F\")\n",
    "\n",
    "We can see that there are some missing values, and we have the repartition of missing values among samples with the following table {insert table}. We can notice that the feature \"LENGTH\" is the most incomplete one, with 25% missing values, and \"LANES\" and \"SPAN\" have 15% missing values. The other features having less than 6% missing values. We can also notice that three labels are missing, so we have to drop it.\n",
    "\n",
    "This trainset is imbalanced, with a bit less than the half of the samples which are labellized as simple truss... we can already imagine that our results will not be very accurate according to the small amount of samples and this very imbalanced dataset (we only have around 10 samples per label in most of cases).\n",
    "\n",
    "The threshold for the minimum number of known values to conserve for a row will be a tuning parameter for the algorithms.\n",
    "We also tried to impute them with a KNN imputer.\n",
    "\n",
    "During preprocessing, we transform split each feature with a nominal value to as many features as the number of distinct values in order to have only binary values. So we have now a much bigger dimension, #########."
   ]
  },
  {
   "cell_type": "code",
   "execution_count": 1,
   "metadata": {},
   "outputs": [],
   "source": [
    "import pandas as pd\n",
    "import random\n",
    "%matplotlib inline\n",
    "import matplotlib.pyplot as plt\n",
    "import seaborn as sns\n",
    "import numpy as np\n",
    "from sklearn.impute import KNNImputer\n",
    "\n",
    "attributes = [\"river\", \"location\", \"erected\", \"purpose\", \"length\", \"lanes\", \"clear-g\", \"t-or-d\", \"material\", \"span\", \"rel-l\"]\n",
    "training = pd.read_csv(\"./bridges v2.csv\", names= attributes + [\"type\"])\n",
    "training_init = training.copy()"
   ]
  },
  {
   "cell_type": "markdown",
   "metadata": {},
   "source": [
    "# Preprocessing and analysis of dataset"
   ]
  },
  {
   "cell_type": "code",
   "execution_count": 33,
   "metadata": {},
   "outputs": [],
   "source": [
    "# replaces \"?\" by NaN values and drops the samples of the training set with a bad value for type or less than 'thres' known values\n",
    "\n",
    "def clean_rows(data, thres=1) :\n",
    "    d = data.applymap(lambda x : np.nan if x == \"?\" else x)\n",
    "    d = d[(d['type'] != \"NIL\") & (d['type'].notna())]\n",
    "    return d.dropna(axis=0, thresh=thres, subset=None, inplace=False)\n",
    "\n",
    "# imputate the missing values following two possible methods : if imputation=1, we use the KNeighbors imputation algorithm \n",
    "# and if 0, we just replace by random values\n",
    "\n",
    "def imputate(data, imputation) :\n",
    "    # imputation\n",
    "    imp = KNNImputer(n_neighbors=1)\n",
    "    \n",
    "    # dictionnary with columns names as keys and a list of all the distinct values as value\n",
    "    dico = {}\n",
    "    for col in data :\n",
    "        dico[col] = list(data[col].dropna().unique())\n",
    "    \n",
    "    if (imputation) :\n",
    "        # we need to transform our entries in numerical values\n",
    "        d = data.copy()\n",
    "        for col in data :\n",
    "            d[col] = data[col].map(lambda x : dico[col].index(x) if isinstance(x, str) else x)\n",
    "        try:\n",
    "            t = d.drop('type', axis=1)\n",
    "        except:\n",
    "            # it's the test set and we already have trained our imputation function\n",
    "            array = imp.transform(d)\n",
    "            d = pd.DataFrame(array, columns = d.columns)\n",
    "        else:\n",
    "            # we fit the multivariate feature imputation\n",
    "            imp.fit(t)\n",
    "            # we use it on training dataset\n",
    "            array = imp.transform(t)\n",
    "            t = pd.DataFrame(array, columns = t.columns)\n",
    "            t.index = d.index\n",
    "            t['type'] = d['type']\n",
    "            d = t\n",
    "        # we process the reversed transformation\n",
    "        for col in data :\n",
    "            d[col] = d[col].map(lambda x : dico[col][round(x)])\n",
    "    else :\n",
    "        #we transform unknown values in other values from the list of distinct values randomly\n",
    "        d = data.copy()\n",
    "        for col in data :\n",
    "            d[col] = d[col].fillna(random.choice(dico[col]))\n",
    "    return d\n",
    "\n",
    "def split_nominal(data) :\n",
    "    D = []\n",
    "    d = data.drop('type', axis=1)\n",
    "    for a in attributes :\n",
    "        D.append(pd.get_dummies(d[a], prefix = a + \"_\"))\n",
    "    D.append(data['type'])\n",
    "    return pd.concat(D, axis=1)\n",
    "    \n",
    "# returns a table with the number of missing values in the first column and the number of samples concerned in the second   \n",
    "\n",
    "def number_of_samples_per_number_of_missing_values(data) :\n",
    "    # count how many rows have 'x' missing values\n",
    "    m = data.copy()\n",
    "    n = m.isna().sum(axis=1)\n",
    "    n.name = \"missing values in row\"\n",
    "    d = n.value_counts(sort=False)\n",
    "    return d\n",
    "\n",
    "# plots the final result of classification\n",
    "\n",
    "def plot_result_classes(data, name) :\n",
    "    countplt, ax = plt.subplots(figsize = (5,5))\n",
    "    ax = sns.countplot(data=data, x='type')\n",
    "    ax.set_title(\"Number of samples per class\")\n",
    "    ax.set_xticklabels(data[\"type\"].unique(), rotation=45)\n",
    "    plt.savefig(\"./\" + name + \".pdf\")"
   ]
  },
  {
   "cell_type": "code",
   "execution_count": 116,
   "metadata": {
    "scrolled": true
   },
   "outputs": [
    {
     "data": {
      "text/plain": [
       "0    70\n",
       "1    17\n",
       "2    13\n",
       "3     2\n",
       "4     3\n",
       "Name: missing values in row, dtype: int64"
      ]
     },
     "execution_count": 116,
     "metadata": {},
     "output_type": "execute_result"
    }
   ],
   "source": [
    "training = clean_rows(training)\n",
    "number_of_samples_per_number_of_missing_values(training)"
   ]
  },
  {
   "cell_type": "markdown",
   "metadata": {},
   "source": [
    "We can see that if we have a threshold at 12 known values for the preprocessing, we will lose a third of the information. On the contrary, with a threshold at 10, we keep barely the whole information."
   ]
  },
  {
   "cell_type": "code",
   "execution_count": 4,
   "metadata": {},
   "outputs": [
    {
     "data": {
      "text/html": [
       "<div>\n",
       "<style scoped>\n",
       "    .dataframe tbody tr th:only-of-type {\n",
       "        vertical-align: middle;\n",
       "    }\n",
       "\n",
       "    .dataframe tbody tr th {\n",
       "        vertical-align: top;\n",
       "    }\n",
       "\n",
       "    .dataframe thead th {\n",
       "        text-align: right;\n",
       "    }\n",
       "</style>\n",
       "<table border=\"1\" class=\"dataframe\">\n",
       "  <thead>\n",
       "    <tr style=\"text-align: right;\">\n",
       "      <th></th>\n",
       "      <th>river</th>\n",
       "      <th>location</th>\n",
       "      <th>erected</th>\n",
       "      <th>purpose</th>\n",
       "      <th>length</th>\n",
       "      <th>lanes</th>\n",
       "      <th>clear-g</th>\n",
       "      <th>t-or-d</th>\n",
       "      <th>material</th>\n",
       "      <th>span</th>\n",
       "      <th>rel-l</th>\n",
       "      <th>type</th>\n",
       "    </tr>\n",
       "  </thead>\n",
       "  <tbody>\n",
       "    <tr>\n",
       "      <td>count</td>\n",
       "      <td>105</td>\n",
       "      <td>104</td>\n",
       "      <td>105</td>\n",
       "      <td>105</td>\n",
       "      <td>81</td>\n",
       "      <td>92</td>\n",
       "      <td>103</td>\n",
       "      <td>102</td>\n",
       "      <td>105</td>\n",
       "      <td>92</td>\n",
       "      <td>100</td>\n",
       "      <td>105</td>\n",
       "    </tr>\n",
       "    <tr>\n",
       "      <td>unique</td>\n",
       "      <td>4</td>\n",
       "      <td>54</td>\n",
       "      <td>4</td>\n",
       "      <td>4</td>\n",
       "      <td>3</td>\n",
       "      <td>4</td>\n",
       "      <td>2</td>\n",
       "      <td>2</td>\n",
       "      <td>3</td>\n",
       "      <td>3</td>\n",
       "      <td>3</td>\n",
       "      <td>6</td>\n",
       "    </tr>\n",
       "    <tr>\n",
       "      <td>top</td>\n",
       "      <td>A</td>\n",
       "      <td>27</td>\n",
       "      <td>MATURE</td>\n",
       "      <td>HIGHWAY</td>\n",
       "      <td>MEDIUM</td>\n",
       "      <td>2</td>\n",
       "      <td>G</td>\n",
       "      <td>THROUGH</td>\n",
       "      <td>STEEL</td>\n",
       "      <td>MEDIUM</td>\n",
       "      <td>F</td>\n",
       "      <td>SIMPLE-T</td>\n",
       "    </tr>\n",
       "    <tr>\n",
       "      <td>freq</td>\n",
       "      <td>47</td>\n",
       "      <td>4</td>\n",
       "      <td>53</td>\n",
       "      <td>69</td>\n",
       "      <td>48</td>\n",
       "      <td>61</td>\n",
       "      <td>77</td>\n",
       "      <td>87</td>\n",
       "      <td>78</td>\n",
       "      <td>53</td>\n",
       "      <td>55</td>\n",
       "      <td>44</td>\n",
       "    </tr>\n",
       "  </tbody>\n",
       "</table>\n",
       "</div>"
      ],
      "text/plain": [
       "       river location erected  purpose  length lanes clear-g   t-or-d  \\\n",
       "count    105      104     105      105      81    92     103      102   \n",
       "unique     4       54       4        4       3     4       2        2   \n",
       "top        A       27  MATURE  HIGHWAY  MEDIUM     2       G  THROUGH   \n",
       "freq      47        4      53       69      48    61      77       87   \n",
       "\n",
       "       material    span rel-l      type  \n",
       "count       105      92   100       105  \n",
       "unique        3       3     3         6  \n",
       "top       STEEL  MEDIUM     F  SIMPLE-T  \n",
       "freq         78      53    55        44  "
      ]
     },
     "execution_count": 4,
     "metadata": {},
     "output_type": "execute_result"
    }
   ],
   "source": [
    "training.describe()"
   ]
  },
  {
   "cell_type": "code",
   "execution_count": 5,
   "metadata": {
    "scrolled": true
   },
   "outputs": [
    {
     "data": {
      "text/html": [
       "<div>\n",
       "<style scoped>\n",
       "    .dataframe tbody tr th:only-of-type {\n",
       "        vertical-align: middle;\n",
       "    }\n",
       "\n",
       "    .dataframe tbody tr th {\n",
       "        vertical-align: top;\n",
       "    }\n",
       "\n",
       "    .dataframe thead th {\n",
       "        text-align: right;\n",
       "    }\n",
       "</style>\n",
       "<table border=\"1\" class=\"dataframe\">\n",
       "  <thead>\n",
       "    <tr style=\"text-align: right;\">\n",
       "      <th></th>\n",
       "      <th>river</th>\n",
       "      <th>location</th>\n",
       "      <th>erected</th>\n",
       "      <th>purpose</th>\n",
       "      <th>length</th>\n",
       "      <th>lanes</th>\n",
       "      <th>clear-g</th>\n",
       "      <th>t-or-d</th>\n",
       "      <th>material</th>\n",
       "      <th>span</th>\n",
       "      <th>rel-l</th>\n",
       "      <th>type</th>\n",
       "    </tr>\n",
       "  </thead>\n",
       "  <tbody>\n",
       "    <tr>\n",
       "      <td>count</td>\n",
       "      <td>105</td>\n",
       "      <td>105</td>\n",
       "      <td>105</td>\n",
       "      <td>105</td>\n",
       "      <td>105</td>\n",
       "      <td>105</td>\n",
       "      <td>105</td>\n",
       "      <td>105</td>\n",
       "      <td>105</td>\n",
       "      <td>105</td>\n",
       "      <td>105</td>\n",
       "      <td>105</td>\n",
       "    </tr>\n",
       "    <tr>\n",
       "      <td>unique</td>\n",
       "      <td>4</td>\n",
       "      <td>54</td>\n",
       "      <td>4</td>\n",
       "      <td>4</td>\n",
       "      <td>3</td>\n",
       "      <td>4</td>\n",
       "      <td>2</td>\n",
       "      <td>2</td>\n",
       "      <td>3</td>\n",
       "      <td>3</td>\n",
       "      <td>3</td>\n",
       "      <td>6</td>\n",
       "    </tr>\n",
       "    <tr>\n",
       "      <td>top</td>\n",
       "      <td>A</td>\n",
       "      <td>39</td>\n",
       "      <td>MATURE</td>\n",
       "      <td>HIGHWAY</td>\n",
       "      <td>MEDIUM</td>\n",
       "      <td>2</td>\n",
       "      <td>G</td>\n",
       "      <td>THROUGH</td>\n",
       "      <td>STEEL</td>\n",
       "      <td>MEDIUM</td>\n",
       "      <td>F</td>\n",
       "      <td>SIMPLE-T</td>\n",
       "    </tr>\n",
       "    <tr>\n",
       "      <td>freq</td>\n",
       "      <td>47</td>\n",
       "      <td>4</td>\n",
       "      <td>53</td>\n",
       "      <td>69</td>\n",
       "      <td>48</td>\n",
       "      <td>61</td>\n",
       "      <td>79</td>\n",
       "      <td>87</td>\n",
       "      <td>78</td>\n",
       "      <td>66</td>\n",
       "      <td>60</td>\n",
       "      <td>44</td>\n",
       "    </tr>\n",
       "  </tbody>\n",
       "</table>\n",
       "</div>"
      ],
      "text/plain": [
       "       river location erected  purpose  length lanes clear-g   t-or-d  \\\n",
       "count    105      105     105      105     105   105     105      105   \n",
       "unique     4       54       4        4       3     4       2        2   \n",
       "top        A       39  MATURE  HIGHWAY  MEDIUM     2       G  THROUGH   \n",
       "freq      47        4      53       69      48    61      79       87   \n",
       "\n",
       "       material    span rel-l      type  \n",
       "count       105     105   105       105  \n",
       "unique        3       3     3         6  \n",
       "top       STEEL  MEDIUM     F  SIMPLE-T  \n",
       "freq         78      66    60        44  "
      ]
     },
     "execution_count": 5,
     "metadata": {},
     "output_type": "execute_result"
    }
   ],
   "source": [
    "training = imputate(training, False)\n",
    "training.describe()"
   ]
  },
  {
   "cell_type": "code",
   "execution_count": 6,
   "metadata": {},
   "outputs": [
    {
     "data": {
      "image/png": "[encoded data removed]",
      "text/plain": [
       "<Figure size 360x360 with 1 Axes>"
      ]
     },
     "metadata": {
      "needs_background": "light"
     },
     "output_type": "display_data"
    }
   ],
   "source": [
    "plot_result_classes(training, \"classification_trainset\")"
   ]
  },
  {
   "cell_type": "code",
   "execution_count": null,
   "metadata": {},
   "outputs": [],
   "source": [
    "training = split_nominal(training)\n",
    "training.describe()"
   ]
  },
  {
   "cell_type": "markdown",
   "metadata": {},
   "source": [
    "# Training models : perceptron, random forest and naive Bayes"
   ]
  },
  {
   "cell_type": "markdown",
   "metadata": {},
   "source": [
    "We decide to take cv=3 (number of folds) for the cross validation because our number of samples is very small."
   ]
  },
  {
   "cell_type": "code",
   "execution_count": 7,
   "metadata": {
    "scrolled": true
   },
   "outputs": [],
   "source": [
    "from sklearn.model_selection import train_test_split\n",
    "from sklearn import preprocessing as preprocess\n",
    "\n",
    "le = preprocess.LabelEncoder()\n",
    "target_init = np.array(training_init)[:,-1]\n",
    "le.fit(target_init)\n",
    "\n",
    "# preprocessing with as parameters : \n",
    "#    thres : threshold for the number of minimum known values\n",
    "#    imp : if true, uses the mmultivariate imputation, if not, fills missing values with random binary values\n",
    "# outputs the training set, the target for the training, the test set and the target for the test set\n",
    "\n",
    "def preprocessing(thres, imp) :\n",
    "    training = clean_rows(training_init, thres)\n",
    "    training = imputate(training, imp)\n",
    "    training = split_nominal(training)\n",
    "    train_set, test_set = train_test_split(training, test_size=0.2, random_state=42)\n",
    "    train = np.array(train_set)[:,:-1]\n",
    "    target = np.array(train_set)[:,-1]\n",
    "    train_target = le.transform(target)\n",
    "    test = np.array(test_set)[:,:-1]\n",
    "    t_target = np.array(test_set)[:,-1]\n",
    "    test_target = le.transform(t_target)\n",
    "    \n",
    "    return train, train_target, test, test_target"
   ]
  },
  {
   "cell_type": "code",
   "execution_count": 28,
   "metadata": {},
   "outputs": [],
   "source": [
    "from sklearn.neighbors import KNeighborsClassifier\n",
    "from sklearn.metrics import *\n",
    "from sklearn.linear_model import Perceptron\n",
    "from sklearn.tree import DecisionTreeClassifier\n",
    "from sklearn.ensemble import RandomForestClassifier\n",
    "from sklearn.naive_bayes import MultinomialNB\n",
    "from sklearn.model_selection import GridSearchCV, cross_val_score\n",
    "\n",
    "import seaborn as sns\n",
    "sns.set_style('whitegrid')\n",
    "\n",
    "# realizes the grid search with a dictionary of parameters as grid input, or if there is no grid input, creates a perceptron\n",
    "# with the inputs as parameters\n",
    "\n",
    "def create_perceptron(train_data, target, grid=[], **kwargs):\n",
    "    if grid != []:\n",
    "        clf = GridSearchCV(Perceptron(), grid, refit = \"f1_macro\", verbose = 3,n_jobs=4, cv=3)\n",
    "    else:\n",
    "        clf = Perceptron(**kwargs)\n",
    "    clf.fit(train_data, target)\n",
    "    return clf\n",
    "\n",
    "# realizes the grid search with a dictionary of parameters as grid input, or if there is no grid input, creates a random forest\n",
    "# with the inputs as parameters\n",
    "\n",
    "def create_rnd_forest(train_data, target, grid=[], **kwargs):\n",
    "    if grid != []:\n",
    "        clf = GridSearchCV(RandomForestClassifier(), grid, refit = \"f1_macro\", verbose = 3,n_jobs=4, cv=3)\n",
    "    else:\n",
    "        clf = RandomForestClassifier(**kwargs)\n",
    "    clf.fit(train_data, target)\n",
    "    return clf\n",
    "\n",
    "# realizes the grid search with a dictionary of parameters as grid input, or if there is no grid input, creates a naive Bayes\n",
    "# with the inputs as parameters\n",
    "\n",
    "def create_nb(train_data, target, grid=[], **kwargs) :\n",
    "    if grid != []:\n",
    "        clf = GridSearchCV(MultinomialNB(), grid, refit = \"f1_macro\", verbose = 3,n_jobs=4, cv=3)\n",
    "    else :\n",
    "        clf =MultinomialNB(**kwargs)\n",
    "    clf.fit(train_data , target)\n",
    "    return clf\n",
    "\n",
    "def most_frequent(List):\n",
    "    counter = 0\n",
    "    num = List[0]\n",
    "      \n",
    "    for i in List:\n",
    "        curr_frequency = List.count(i)\n",
    "        if(curr_frequency> counter):\n",
    "            counter = curr_frequency\n",
    "            num = i\n",
    "  \n",
    "    return num\n",
    "    \n",
    "# evaluates the algorithm by printing the relevant metrics and the confusion matrix for both train and test sets\n",
    "# outputs the metrics as a dictionary\n",
    "    \n",
    "def evaluate_algo(algo, test_data, test_target, train_data, train_target):\n",
    "    \n",
    "    print(algo)\n",
    "    pred_test  = algo.predict(test_data)\n",
    "    pred_train = algo.predict(train_data)\n",
    "    \n",
    "    # outputs\n",
    "    metrics_train = {\"accuracy\": 0, \"balanced_accuracy\": 0, \"f1_macro\": 0, \"precision_macro\": 0, \"recall_macro\": 0}\n",
    "    metrics_test = {\"accuracy\": 0, \"balanced_accuracy\": 0, \"f1_macro\": 0, \"precision_macro\": 0, \"recall_macro\": 0}\n",
    "    \n",
    "    metrics_test[\"accuracy\"] = accuracy_score(test_target, pred_test)\n",
    "    metrics_test[\"balanced_accuracy\"] = balanced_accuracy_score(test_target, pred_test)\n",
    "    metrics_test[\"f1_macro\"] = f1_score(test_target, pred_test, average=\"macro\")\n",
    "    metrics_test[\"precision_macro\"] = precision_score(test_target, pred_test, average=\"macro\")\n",
    "    metrics_test[\"recall_macro\"] = recall_score(test_target, pred_test, average=\"macro\")\n",
    "    \n",
    "    # report of metrics\n",
    "    for score in metrics_train.keys():\n",
    "        sc_train = cross_val_score(algo, train_data, train_target, cv=3, scoring=score).mean()\n",
    "        print(\"cross validation \" + score + \" train : \"+ str(sc_train))\n",
    "        metrics_train[score] = sc_train\n",
    "    \n",
    "        print(score + \" test : \"+ str(metrics_test[score]))\n",
    "    \n",
    "    # plot of the confusion matrix\n",
    "    cmat = confusion_matrix(test_target, pred_test)\n",
    "    cmat_train = confusion_matrix(train_target, pred_train)\n",
    "    print(\"\\n\")\n",
    "    print(\"Confusion matrix with the types : WOOD, SUSPEN, SIMPLE-T, ARCH, CANTILEV, CONT-T\")\n",
    "    print(\"test : \")\n",
    "    print(cmat) \n",
    "    print(\"train : \")\n",
    "    print(cmat_train) \n",
    "    \n",
    "    return metrics_test, metrics_train"
   ]
  },
  {
   "cell_type": "markdown",
   "metadata": {},
   "source": [
    "# Perceptron"
   ]
  },
  {
   "cell_type": "markdown",
   "metadata": {},
   "source": [
    "Test of different preprocessing methods with the optimal parameters found with grid search. We launch it 5 times to prevent a too large variation because of the random of the preprocessing. We have a range for thresholds of known values between 5 and 10 because we want to avoid having too less known values per sample (too large part for random values) or avoid the deletion of too much data because of the unknown values."
   ]
  },
  {
   "cell_type": "code",
   "execution_count": 109,
   "metadata": {
    "scrolled": true
   },
   "outputs": [
    {
     "name": "stdout",
     "output_type": "stream",
     "text": [
      "5\n",
      "Fitting 3 folds for each of 512 candidates, totalling 1536 fits\n",
      "Fitting 3 folds for each of 512 candidates, totalling 1536 fits\n",
      "Fitting 3 folds for each of 512 candidates, totalling 1536 fits\n",
      "Fitting 3 folds for each of 512 candidates, totalling 1536 fits\n",
      "Fitting 3 folds for each of 512 candidates, totalling 1536 fits\n",
      "6\n",
      "Fitting 3 folds for each of 512 candidates, totalling 1536 fits\n",
      "Fitting 3 folds for each of 512 candidates, totalling 1536 fits\n",
      "Fitting 3 folds for each of 512 candidates, totalling 1536 fits\n",
      "Fitting 3 folds for each of 512 candidates, totalling 1536 fits\n",
      "Fitting 3 folds for each of 512 candidates, totalling 1536 fits\n",
      "7\n",
      "Fitting 3 folds for each of 512 candidates, totalling 1536 fits\n",
      "Fitting 3 folds for each of 512 candidates, totalling 1536 fits\n",
      "Fitting 3 folds for each of 512 candidates, totalling 1536 fits\n",
      "Fitting 3 folds for each of 512 candidates, totalling 1536 fits\n",
      "Fitting 3 folds for each of 512 candidates, totalling 1536 fits\n",
      "8\n",
      "Fitting 3 folds for each of 512 candidates, totalling 1536 fits\n",
      "Fitting 3 folds for each of 512 candidates, totalling 1536 fits\n",
      "Fitting 3 folds for each of 512 candidates, totalling 1536 fits\n",
      "Fitting 3 folds for each of 512 candidates, totalling 1536 fits\n",
      "Fitting 3 folds for each of 512 candidates, totalling 1536 fits\n",
      "9\n",
      "Fitting 3 folds for each of 512 candidates, totalling 1536 fits\n",
      "Fitting 3 folds for each of 512 candidates, totalling 1536 fits\n",
      "Fitting 3 folds for each of 512 candidates, totalling 1536 fits\n",
      "Fitting 3 folds for each of 512 candidates, totalling 1536 fits\n",
      "Fitting 3 folds for each of 512 candidates, totalling 1536 fits\n",
      "5\n",
      "Fitting 3 folds for each of 512 candidates, totalling 1536 fits\n",
      "Fitting 3 folds for each of 512 candidates, totalling 1536 fits\n",
      "Fitting 3 folds for each of 512 candidates, totalling 1536 fits\n",
      "Fitting 3 folds for each of 512 candidates, totalling 1536 fits\n",
      "Fitting 3 folds for each of 512 candidates, totalling 1536 fits\n",
      "6\n",
      "Fitting 3 folds for each of 512 candidates, totalling 1536 fits\n",
      "Fitting 3 folds for each of 512 candidates, totalling 1536 fits\n",
      "Fitting 3 folds for each of 512 candidates, totalling 1536 fits\n",
      "Fitting 3 folds for each of 512 candidates, totalling 1536 fits\n",
      "Fitting 3 folds for each of 512 candidates, totalling 1536 fits\n",
      "7\n",
      "Fitting 3 folds for each of 512 candidates, totalling 1536 fits\n",
      "Fitting 3 folds for each of 512 candidates, totalling 1536 fits\n",
      "Fitting 3 folds for each of 512 candidates, totalling 1536 fits\n",
      "Fitting 3 folds for each of 512 candidates, totalling 1536 fits\n",
      "Fitting 3 folds for each of 512 candidates, totalling 1536 fits\n",
      "8\n",
      "Fitting 3 folds for each of 512 candidates, totalling 1536 fits\n",
      "Fitting 3 folds for each of 512 candidates, totalling 1536 fits\n",
      "Fitting 3 folds for each of 512 candidates, totalling 1536 fits\n",
      "Fitting 3 folds for each of 512 candidates, totalling 1536 fits\n",
      "Fitting 3 folds for each of 512 candidates, totalling 1536 fits\n",
      "9\n",
      "Fitting 3 folds for each of 512 candidates, totalling 1536 fits\n",
      "Fitting 3 folds for each of 512 candidates, totalling 1536 fits\n",
      "Fitting 3 folds for each of 512 candidates, totalling 1536 fits\n",
      "Fitting 3 folds for each of 512 candidates, totalling 1536 fits\n",
      "Fitting 3 folds for each of 512 candidates, totalling 1536 fits\n"
     ]
    },
    {
     "data": {
      "image/png": "[encoded data removed]",
      "text/plain": [
       "<Figure size 1296x576 with 2 Axes>"
      ]
     },
     "metadata": {},
     "output_type": "display_data"
    }
   ],
   "source": [
    "import warnings\n",
    "warnings.filterwarnings('ignore')\n",
    "\n",
    "param_grid = {'eta0': [0.1,0.2,0.3,0.4],  \n",
    "              'early_stopping': [True, False],\n",
    "              'max_iter':[10,20,30,100],\n",
    "              'tol':[1e-4,1e-3,1e-2,1e-1],\n",
    "              'penalty':[\"l2\",\"l1\",\"elasticnet\",\"None\"]}  \n",
    "\n",
    "L = []\n",
    "subpl, axes = plt.subplots(1, 2, figsize = (18,8))\n",
    "\n",
    "for imputation in [True, False] :\n",
    "    thresholds = np.arange(5,10)\n",
    "    scores = []\n",
    "    for thres in thresholds :\n",
    "        print(thres)\n",
    "        training = training_init.copy()\n",
    "        text = \"imputation: \" + str(imputation) + \", threshold = \" + str(thres)\n",
    "        score = 0\n",
    "        PPN = []\n",
    "        PREPROS = []\n",
    "        \n",
    "        for i in range(5) :\n",
    "            train, train_target, test, test_target = preprocessing(thres, imputation)\n",
    "            PPN.append( create_perceptron(train, train_target, grid = param_grid) )\n",
    "            score += PPN[i].best_score_\n",
    "            PREPROS.append([train, train_target, test, test_target])\n",
    "        \n",
    "        L.append((text,PPN,PREPROS))\n",
    "        scores.append(score/5)\n",
    "    \n",
    "    fig = axes[int(imputation)]\n",
    "    fig.plot(thresholds, scores)\n",
    "    title_ = \"Scores for optimal parameters \"\n",
    "    if (imputation) :\n",
    "        title_ += \"with\"\n",
    "    else :\n",
    "        title_ += \"without\"\n",
    "        title_ += \" imputation\"\n",
    "    fig.set_title(title_)\n",
    "    fig.set(xlabel = \"Threshold for number of known values\", ylabel = \"Score with cross validation\")\n",
    "    extent = fig.get_window_extent().transformed(fig.figure.dpi_scale_trans.inverted())\n",
    "    fig.figure.savefig(\"./threshold_grid_ppn\" + str(int(imputation)) + \".pdf\", bbox_inches=extent.expanded(1.2, 1.2))"
   ]
  },
  {
   "cell_type": "markdown",
   "metadata": {},
   "source": [
    "We can see that the two imputation methods give quite the same results, so we choose the 1NN imputer because it is reproductible and we have always the same trainset so the results are more reliable. The optimal threshold is 10. "
   ]
  },
  {
   "cell_type": "markdown",
   "metadata": {},
   "source": [
    "Now with this preprocessing method, we evaluate the perceptron method optimized by grid search. Because of the random values, the optimize values can change from one run to another, that is why we repeated it 5 times and for the scores we always take the mean of the ten values for the 5 preprocessing configurations."
   ]
  },
  {
   "cell_type": "code",
   "execution_count": 110,
   "metadata": {},
   "outputs": [
    {
     "name": "stdout",
     "output_type": "stream",
     "text": [
      "imputation: False, threshold = 7\n",
      "{'early_stopping': False, 'eta0': 0.2, 'max_iter': 10, 'penalty': 'None', 'tol': 0.1}\n",
      "{'early_stopping': False, 'eta0': 0.1, 'max_iter': 10, 'penalty': 'None', 'tol': 0.1}\n",
      "{'early_stopping': False, 'eta0': 0.1, 'max_iter': 10, 'penalty': 'elasticnet', 'tol': 0.1}\n",
      "{'early_stopping': True, 'eta0': 0.1, 'max_iter': 10, 'penalty': 'None', 'tol': 0.0001}\n",
      "{'early_stopping': False, 'eta0': 0.1, 'max_iter': 10, 'penalty': 'None', 'tol': 0.0001}\n",
      "\n",
      "\n",
      "Perceptron(eta0=0.2, max_iter=10, penalty='None', tol=0.1)\n",
      "cross validation accuracy train : 0.6666666666666666\n",
      "accuracy test : 0.7619047619047619\n",
      "cross validation balanced_accuracy train : 0.5728114478114478\n",
      "balanced_accuracy test : 0.6533333333333333\n",
      "cross validation f1_macro train : 0.5454212454212454\n",
      "f1_macro test : 0.6155555555555556\n",
      "cross validation precision_macro train : 0.613968000810106\n",
      "precision_macro test : 0.6133333333333333\n",
      "cross validation recall_macro train : 0.5728114478114478\n",
      "recall_macro test : 0.6533333333333333\n",
      "\n",
      "\n",
      "Confusion matrix with the types : WOOD, SUSPEN, SIMPLE-T, ARCH, CANTILEV, CONT-T\n",
      "test : \n",
      "[[2 1 0 0 0]\n",
      " [0 0 1 0 0]\n",
      " [0 0 2 0 0]\n",
      " [2 0 0 8 0]\n",
      " [1 0 0 0 4]]\n",
      "train : \n",
      "[[10  0  0  0  0  0]\n",
      " [ 2  7  1  0  0  0]\n",
      " [ 0  1  7  0  0  0]\n",
      " [ 1  0  1 30  2  0]\n",
      " [ 3  0  0  0  8  0]\n",
      " [ 0  0  0  0  0 11]]\n"
     ]
    }
   ],
   "source": [
    "prepro_text = \"\"\n",
    "best_ppn = None\n",
    "datasets = []\n",
    "score = 0\n",
    "for (text, PPN, PREPROS) in L :\n",
    "    new_score = 0\n",
    "    for i in range(5) :\n",
    "        prepro = PREPROS[i]\n",
    "        ppn = PPN[i]\n",
    "        train, train_target, test, test_target = prepro[0], prepro[1], prepro[2], prepro[3]\n",
    "        new_score += ppn.best_score_\n",
    "    new_score /= 5\n",
    "    if new_score > score :\n",
    "        score = new_score\n",
    "        prepro_text = text\n",
    "        best_ppn = PPN\n",
    "        datasets = PREPROS\n",
    "        #evaluate_algo(ppn, test, test_target, train, train_target)\n",
    "\n",
    "print(prepro_text)\n",
    "\n",
    "best_params = map(lambda x: x.best_params_, best_ppn)\n",
    "best_params = list(best_params)\n",
    "\n",
    "for param in best_params :\n",
    "    print(param)\n",
    "print(\"\\n\")\n",
    "\n",
    "# most frequent parameters among best perceptrons\n",
    "best_param = most_frequent(best_params)\n",
    "ind = best_params.index(best_param)\n",
    "\n",
    "datasets = datasets[ind]\n",
    "best_ppn = best_ppn[ind]\n",
    "train, train_target, test, test_target = datasets[0], datasets[1], datasets[2], datasets[3]\n",
    "ppn_grid = create_perceptron(train, train_target, **best_ppn.best_params_)\n",
    "metrics_ppn = evaluate_algo(ppn_grid, test, test_target, train, train_target)"
   ]
  },
  {
   "cell_type": "markdown",
   "metadata": {},
   "source": [
    "We had a huge overfitting with grid search when we were taking 10 as threshold, so we decided to change it and have a more data. Hence, the test score is much higher. However it would be a great idea to launch it only with imputation to avoid a random perfect configuration. We can also notice that there are 3 best parameters among the 5 algorithms so that is not very stable. Finally, the problem is the imbalanced data: it works very well for the 2 features with a lot of samples, but not for the others.\n",
    "\n",
    "We try to optimize it manually now. \n",
    "\n",
    "To optimize manually, we use a validation set to compare and be aware if we are overfitting too much. We do not create a third dataset to do so because we do not have enough data, but we try to optimize the trainset accuracy on first instance in order to introduce a too big bias. "
   ]
  },
  {
   "cell_type": "markdown",
   "metadata": {},
   "source": [
    "First we optimize the threshold of the preprocessing (we consider directly the 1NN imputation because it permit to have always the same training set and the accuracy is barely the same)."
   ]
  },
  {
   "cell_type": "code",
   "execution_count": 54,
   "metadata": {},
   "outputs": [
    {
     "data": {
      "image/png": "[encoded data removed]",
      "text/plain": [
       "<Figure size 432x288 with 1 Axes>"
      ]
     },
     "metadata": {},
     "output_type": "display_data"
    }
   ],
   "source": [
    "vals = np.arange(4,13)\n",
    "scores    = []\n",
    "scores_cv = []\n",
    "for x in vals:\n",
    "    train, train_target, test, test_target = preprocessing(x, True)\n",
    "    ppn = create_perceptron(train, train_target, eta0=0.1, max_iter=20,tol=0.001, early_stopping=False, penalty=None)\n",
    "    score = f1_score(test_target, ppn.predict(test), average=\"macro\")\n",
    "    score_cv = cross_val_score(ppn, train, train_target,scoring=\"f1_macro\", cv=3).mean()\n",
    "    scores.append(score)\n",
    "    scores_cv.append(score_cv)\n",
    "plt.plot(vals, scores,\"o-\", color=\"blue\")\n",
    "plt.plot(vals, scores_cv,\"o-\", color=\"orange\")\n",
    "plt.xlabel(\"Threshold\")\n",
    "plt.ylabel(\"f1 score\")\n",
    "plt.savefig(\"./thresholds_ppn.pdf\")"
   ]
  },
  {
   "cell_type": "markdown",
   "metadata": {},
   "source": [
    "Best seems to be 6 as threshold, because with less than 6 as threshold the imputation does nothing more (no sample has less than 7 known values) and when we increase the threshold the f1 should overfit (on the trainset or on the testset) because we have too less data."
   ]
  },
  {
   "cell_type": "markdown",
   "metadata": {},
   "source": [
    "Now we optimize the maximum number of iterations"
   ]
  },
  {
   "cell_type": "code",
   "execution_count": 103,
   "metadata": {},
   "outputs": [
    {
     "data": {
      "image/png": "[encoded data removed]",
      "text/plain": [
       "<Figure size 432x288 with 1 Axes>"
      ]
     },
     "metadata": {},
     "output_type": "display_data"
    }
   ],
   "source": [
    "prepro_ppn = preprocessing(6, True)\n",
    "\n",
    "# maximum iterations\n",
    "vals      = np.arange(5,20)\n",
    "scores    = []\n",
    "scores_cv = []\n",
    "for x in vals:\n",
    "    train, train_target, test, test_target = prepro_ppn\n",
    "    ppn = create_perceptron(train, train_target, eta0=0.1, max_iter=x,tol=0.001, early_stopping=False, penalty=None)\n",
    "    score = f1_score(test_target, ppn.predict(test), average=\"macro\")\n",
    "    score_cv = cross_val_score(ppn, train, train_target,scoring=\"f1_macro\", cv=3).mean()\n",
    "    scores.append(score)\n",
    "    scores_cv.append(score_cv)\n",
    "plt.plot(vals, scores, color=\"blue\")\n",
    "plt.plot(vals, scores_cv, color=\"orange\")\n",
    "plt.xlabel(\"Maximum number of iteration\")\n",
    "plt.ylabel(\"f1 score\")\n",
    "plt.savefig(\"./max_iter_ppn.pdf\")"
   ]
  },
  {
   "cell_type": "markdown",
   "metadata": {},
   "source": [
    "We choose 18 because the accuracy starts to be stable."
   ]
  },
  {
   "cell_type": "markdown",
   "metadata": {},
   "source": [
    "Now we choose the penalty parameter"
   ]
  },
  {
   "cell_type": "code",
   "execution_count": 104,
   "metadata": {},
   "outputs": [
    {
     "data": {
      "image/png": "[encoded data removed]",
      "text/plain": [
       "<Figure size 432x288 with 1 Axes>"
      ]
     },
     "metadata": {},
     "output_type": "display_data"
    }
   ],
   "source": [
    "vals = [\"l2\",\"l1\",\"elasticnet\",\"None\"]\n",
    "scores    = []\n",
    "scores_cv = []\n",
    "for x in vals:\n",
    "    train, train_target, test, test_target = prepro_ppn\n",
    "    ppn = create_perceptron(train, train_target, eta0=0.1, max_iter=18, tol=0.001, early_stopping=False, penalty=x)\n",
    "    score = f1_score(test_target, ppn.predict(test), average=\"macro\")\n",
    "    score_cv = cross_val_score(ppn, train, train_target,scoring=\"f1_macro\", cv=3).mean()\n",
    "    scores.append(score)\n",
    "    scores_cv.append(score_cv)\n",
    "plt.plot(vals, scores,\"o-\", color=\"blue\")\n",
    "plt.plot(vals, scores_cv,\"o-\", color=\"orange\")\n",
    "plt.xlabel(\"Penalty parameter\")\n",
    "plt.ylabel(\"f1 score\")\n",
    "plt.savefig(\"./penalty_ppn.pdf\")"
   ]
  },
  {
   "cell_type": "markdown",
   "metadata": {},
   "source": [
    "l2 has no overfitting and is the best accuracy"
   ]
  },
  {
   "cell_type": "markdown",
   "metadata": {},
   "source": [
    "Now we optimize the stopping criterion"
   ]
  },
  {
   "cell_type": "code",
   "execution_count": 105,
   "metadata": {},
   "outputs": [
    {
     "data": {
      "image/png": "[encoded data removed]",
      "text/plain": [
       "<Figure size 432x288 with 1 Axes>"
      ]
     },
     "metadata": {},
     "output_type": "display_data"
    }
   ],
   "source": [
    "vals      = np.array([1e-5,1e-4,1e-3,1e-2,0.05,0.1,0.2,0.5,1])\n",
    "scores    = []\n",
    "scores_cv = []\n",
    "for x in vals:\n",
    "    score = 0\n",
    "    score_cv = 0\n",
    "    for i in range(10) :\n",
    "        train, train_target, test, test_target = prepro_ppn\n",
    "        ppn = create_perceptron(train, train_target, eta0=0.1, max_iter=18,tol=x, early_stopping=False, penalty=\"l2\")\n",
    "        score += f1_score(test_target, ppn.predict(test), average=\"macro\")\n",
    "        score_cv += cross_val_score(ppn, train, train_target,scoring=\"f1_macro\", cv=3).mean()\n",
    "    scores.append(score/10)\n",
    "    scores_cv.append(score_cv/10)\n",
    "plt.semilogx(vals, scores,\"o-\", color=\"blue\")\n",
    "plt.semilogx(vals, scores_cv,\"o-\", color=\"orange\")\n",
    "plt.xlabel(\"Stopping criterion\")\n",
    "plt.ylabel(\"f1 score\")\n",
    "plt.savefig(\"./tol_ppn.pdf\")"
   ]
  },
  {
   "cell_type": "markdown",
   "metadata": {},
   "source": [
    "0.001 seems to be the best stopping criterion: it is the best f1 score for the trainset."
   ]
  },
  {
   "cell_type": "markdown",
   "metadata": {},
   "source": [
    "Now we optimize the learning rate"
   ]
  },
  {
   "cell_type": "code",
   "execution_count": 106,
   "metadata": {},
   "outputs": [
    {
     "data": {
      "image/png": "[encoded data removed]",
      "text/plain": [
       "<Figure size 432x288 with 1 Axes>"
      ]
     },
     "metadata": {},
     "output_type": "display_data"
    }
   ],
   "source": [
    "vals      = np.logspace(-6,0,num=30)\n",
    "scores    = []\n",
    "scores_cv = []\n",
    "for x in vals:\n",
    "    train, train_target, test, test_target = prepro_ppn\n",
    "    ppn = create_perceptron(train, train_target, eta0=x, max_iter=18,tol=0.001, early_stopping=False, penalty=\"l2\")\n",
    "    score = f1_score(test_target, ppn.predict(test), average=\"macro\")\n",
    "    score_cv = cross_val_score(ppn, train, train_target,scoring=\"f1_macro\", cv=3).mean()\n",
    "    scores.append(score)\n",
    "    scores_cv.append(score_cv)\n",
    "plt.semilogx(vals, scores,\"o-\", color=\"blue\")\n",
    "plt.semilogx(vals, scores_cv,\"o-\", color=\"orange\")\n",
    "plt.xlabel(\"Learning rate\")\n",
    "plt.ylabel(\"f1 score\")\n",
    "plt.savefig(\"./learning_rate_ppn.pdf\")"
   ]
  },
  {
   "cell_type": "markdown",
   "metadata": {},
   "source": [
    "A learning rate of 0.05 is great for both datasets because it is stable and an optimum"
   ]
  },
  {
   "cell_type": "markdown",
   "metadata": {},
   "source": [
    "Finally we choose if we want an early stopping"
   ]
  },
  {
   "cell_type": "code",
   "execution_count": 107,
   "metadata": {},
   "outputs": [
    {
     "data": {
      "image/png": "[encoded data removed]",
      "text/plain": [
       "<Figure size 432x288 with 1 Axes>"
      ]
     },
     "metadata": {},
     "output_type": "display_data"
    }
   ],
   "source": [
    "# early stopping\n",
    "bools     = [False,True]\n",
    "vals      = [\"False\",\"True\"]\n",
    "scores    = []\n",
    "scores_cv = []\n",
    "for x in bools :\n",
    "    train, train_target, test, test_target = prepro_ppn\n",
    "    ppn = create_perceptron(train, train_target, eta0=0.1, max_iter=18,tol=0.001, early_stopping=x, penalty=\"l2\")\n",
    "    score = f1_score(test_target, ppn.predict(test), average=\"macro\")\n",
    "    score_cv = cross_val_score(ppn, train, train_target,scoring=\"f1_macro\", cv=3).mean()\n",
    "    scores.append(score)\n",
    "    scores_cv.append(score_cv)\n",
    "plt.plot(vals, scores, color=\"blue\")\n",
    "plt.plot(vals, scores_cv, color=\"orange\")\n",
    "plt.xlabel(\"Early stopping\")\n",
    "plt.ylabel(\"f1 score\")\n",
    "plt.savefig(\"./early_stopping_ppn.pdf\")"
   ]
  },
  {
   "cell_type": "markdown",
   "metadata": {},
   "source": [
    "No early stopping is better for both datasets."
   ]
  },
  {
   "cell_type": "markdown",
   "metadata": {},
   "source": [
    "Now we create the perceptron that we got manually and we evaluate it :"
   ]
  },
  {
   "cell_type": "code",
   "execution_count": 108,
   "metadata": {},
   "outputs": [
    {
     "name": "stdout",
     "output_type": "stream",
     "text": [
      "Perceptron(eta0=0.1, max_iter=18, penalty='l2')\n",
      "cross validation accuracy train : 0.6190476190476191\n",
      "accuracy test : 0.8095238095238095\n",
      "cross validation balanced_accuracy train : 0.5454545454545454\n",
      "balanced_accuracy test : 0.6466666666666667\n",
      "cross validation f1_macro train : 0.5038303260525483\n",
      "f1_macro test : 0.524561403508772\n",
      "cross validation precision_macro train : 0.5646825396825397\n",
      "precision_macro test : 0.5277777777777778\n",
      "cross validation recall_macro train : 0.5454545454545454\n",
      "recall_macro test : 0.5388888888888889\n",
      "\n",
      "\n",
      "Confusion matrix with the types : WOOD, SUSPEN, SIMPLE-T, ARCH, CANTILEV, CONT-T\n",
      "test : \n",
      "[[1 0 1 0 1 0]\n",
      " [0 0 0 0 1 0]\n",
      " [0 0 2 0 0 0]\n",
      " [1 0 0 9 0 0]\n",
      " [0 0 0 0 0 0]\n",
      " [0 0 0 0 0 5]]\n",
      "train : \n",
      "[[10  0  0  0  0  0]\n",
      " [ 0  9  1  0  0  0]\n",
      " [ 0  0  7  1  0  0]\n",
      " [ 0  0  0 34  0  0]\n",
      " [ 0  0  0  0 11  0]\n",
      " [ 0  0  0  0  0 11]]\n"
     ]
    }
   ],
   "source": [
    "train, train_target, test, test_target = prepro_ppn\n",
    "best_ppn = create_perceptron(train, train_target, eta0=0.1, max_iter=18,tol=0.001, early_stopping=False, penalty=\"l2\")\n",
    "metrics_ppn = evaluate_algo(best_ppn, test, test_target, train, train_target)"
   ]
  },
  {
   "cell_type": "markdown",
   "metadata": {},
   "source": [
    "So finally we have an underfitting for the accuracy compared to this test set when we do it manually, but we can see with the confusion matrix that in the train set we fit actually very well but when we do the cross validation it is not really the case, we can imagine that it is due to the small amount of data."
   ]
  },
  {
   "cell_type": "markdown",
   "metadata": {},
   "source": [
    "# Random forest"
   ]
  },
  {
   "cell_type": "markdown",
   "metadata": {},
   "source": [
    "Test of different preprocessing methods with the optimal parameters found with grid search"
   ]
  },
  {
   "cell_type": "code",
   "execution_count": null,
   "metadata": {},
   "outputs": [
    {
     "name": "stdout",
     "output_type": "stream",
     "text": [
      "5\n",
      "Fitting 3 folds for each of 60 candidates, totalling 180 fits\n",
      "Fitting 3 folds for each of 60 candidates, totalling 180 fits\n",
      "Fitting 3 folds for each of 60 candidates, totalling 180 fits\n",
      "Fitting 3 folds for each of 60 candidates, totalling 180 fits\n",
      "Fitting 3 folds for each of 60 candidates, totalling 180 fits\n",
      "6\n",
      "Fitting 3 folds for each of 60 candidates, totalling 180 fits\n",
      "Fitting 3 folds for each of 60 candidates, totalling 180 fits\n",
      "Fitting 3 folds for each of 60 candidates, totalling 180 fits\n",
      "Fitting 3 folds for each of 60 candidates, totalling 180 fits\n"
     ]
    }
   ],
   "source": [
    "param_grid = {'criterion': [\"gini\", \"entropy\"],\n",
    "              'n_estimators': [100],\n",
    "              'min_samples_leaf': [0.01, 1, 2, 3, 4, 5],\n",
    "              'ccp_alpha': [1e-4, 1e-3, 1e-2, 1e-1, 1],\n",
    "              #'min_samples_split': [0.01, 0.04, 0.07, 0.1, 0.15, 0.2, 0.3, 0.5]\n",
    "             }  \n",
    "\n",
    "L = []\n",
    "subpl, axes = plt.subplots(1, 2, figsize = (18,8))\n",
    "\n",
    "for imputation in [False, True] :\n",
    "    thresholds = np.arange(5,10)\n",
    "    scores = []\n",
    "    training = training_init.copy()\n",
    "    for thres in thresholds :\n",
    "        print(thres)\n",
    "        text = \"imputation: \" + str(imputation) + \", threshold = \" + str(thres)\n",
    "        score = 0\n",
    "        RNF = []\n",
    "        PREPROS = []\n",
    "        \n",
    "        for i in range(5) :\n",
    "            train, train_target, test, test_target = preprocessing(thres, imputation)\n",
    "            RNF.append( create_rnd_forest(train, train_target, grid = param_grid) )\n",
    "            score += RNF[i].best_score_\n",
    "            PREPROS.append([train, train_target, test, test_target])\n",
    "        \n",
    "        L.append((text,RNF,PREPROS))\n",
    "        scores.append(score/5)\n",
    "    \n",
    "    fig = axes[int(imputation)]\n",
    "    fig.plot(thresholds, scores)\n",
    "    title_ = \"Scores for optimal parameters \"\n",
    "    if (imputation) :\n",
    "        title_ += \"with\"\n",
    "    else :\n",
    "        title_ += \"without\"\n",
    "        title_ += \" imputation\"\n",
    "    fig.set_title(title_)\n",
    "    fig.set(xlabel = \"Threshold for number of known values\", ylabel = \"Score with cross validation\")\n",
    "    extent = fig.get_window_extent().transformed(fig.figure.dpi_scale_trans.inverted())\n",
    "    fig.figure.savefig(\"./threshold_grid_rdf\" + str(int(imputation)) + \".pdf\", bbox_inches=extent.expanded(1.2, 1.2))"
   ]
  },
  {
   "cell_type": "markdown",
   "metadata": {},
   "source": [
    "We ran other test and the relevant imputation is the random imputation. Here we can see that the optimal threshold is 8."
   ]
  },
  {
   "cell_type": "markdown",
   "metadata": {},
   "source": [
    "Now with this preprocessing method, we evaluate the random forest method optimized by grid search"
   ]
  },
  {
   "cell_type": "code",
   "execution_count": null,
   "metadata": {},
   "outputs": [],
   "source": [
    "prepro_text = \"\"\n",
    "best_rdf = None\n",
    "datasets = []\n",
    "score = 0\n",
    "for (text, RDF, PREPROS) in L :\n",
    "    new_score = 0\n",
    "    for i in range(5) :\n",
    "        prepro = PREPROS[i]\n",
    "        rdf = RDF[i]\n",
    "        train, train_target, test, test_target = prepro[0], prepro[1], prepro[2], prepro[3]\n",
    "        new_score += rdf.best_score_\n",
    "    new_score /= 5\n",
    "    if new_score > score :\n",
    "        score = new_score\n",
    "        prepro_text = text\n",
    "        best_rdf = RDF\n",
    "        datasets = PREPROS\n",
    "        #evaluate_algo(ppn, test, test_target, train, train_target)\n",
    "\n",
    "print(prepro_text)\n",
    "\n",
    "best_params = map(lambda x: x.best_params_, best_rdf)\n",
    "best_params = list(best_params)\n",
    "\n",
    "for param in best_params :\n",
    "    print(param)\n",
    "print(\"\\n\")\n",
    "\n",
    "# most frequent parameters among best perceptrons\n",
    "best_param = most_frequent(best_params)\n",
    "ind = best_params.index(best_param)\n",
    "\n",
    "datasets = datasets[ind]\n",
    "best_rdf = best_rdf[ind]\n",
    "train, train_target, test, test_target = datasets[0], datasets[1], datasets[2], datasets[3]\n",
    "rdf_grid = create_rnd_forest(train, train_target, **best_rdf.best_params_)\n",
    "metrics_rdf = evaluate_algo(rdf_grid, test, test_target, train, train_target)"
   ]
  },
  {
   "cell_type": "markdown",
   "metadata": {},
   "source": [
    "We can see that with the grid search we have again a slight overfitting, so we have to optimize it manually. We use the test set to compare and be aware if we are overfitting too much. We have also here a problem of precision."
   ]
  },
  {
   "cell_type": "markdown",
   "metadata": {},
   "source": [
    "First we optimize the threshold of the preprocessing (we consider directly a random imputation)"
   ]
  },
  {
   "cell_type": "code",
   "execution_count": 79,
   "metadata": {},
   "outputs": [
    {
     "name": "stdout",
     "output_type": "stream",
     "text": [
      "4\n",
      "5\n",
      "6\n",
      "7\n",
      "8\n",
      "9\n",
      "10\n",
      "11\n",
      "12\n"
     ]
    },
    {
     "data": {
      "image/png": "[encoded data removed]",
      "text/plain": [
       "<Figure size 432x288 with 1 Axes>"
      ]
     },
     "metadata": {},
     "output_type": "display_data"
    }
   ],
   "source": [
    "vals = np.arange(4,13)\n",
    "scores    = []\n",
    "scores_cv = []\n",
    "for x in vals:\n",
    "    print(x)\n",
    "    train, train_target, test, test_target = preprocessing(x, True)\n",
    "    rdf = create_rnd_forest(train, train_target, criterion=\"gini\", n_estimators=200)\n",
    "    score = f1_score(test_target, rdf.predict(test), average=\"macro\")\n",
    "    score_cv = cross_val_score(rdf, train, train_target,scoring=\"f1_macro\", cv=3).mean()\n",
    "    scores.append(score)\n",
    "    scores_cv.append(score_cv)\n",
    "plt.plot(vals, scores,\"o-\", color=\"blue\")\n",
    "plt.plot(vals, scores_cv,\"o-\", color=\"orange\")\n",
    "plt.xlabel(\"Threshold\")\n",
    "plt.ylabel(\"f1 score\")\n",
    "plt.savefig(\"./thresholds_rdf.pdf\")"
   ]
  },
  {
   "cell_type": "markdown",
   "metadata": {},
   "source": [
    "We choose 8 because it is one of the best accuracy for trainset and we are not overfitting. What is more, we want to maintain the more data we can."
   ]
  },
  {
   "cell_type": "markdown",
   "metadata": {},
   "source": [
    "Now we choose the right criterion between Gini and entropy"
   ]
  },
  {
   "cell_type": "code",
   "execution_count": 80,
   "metadata": {},
   "outputs": [
    {
     "name": "stdout",
     "output_type": "stream",
     "text": [
      "gini\n",
      "entropy\n"
     ]
    },
    {
     "data": {
      "image/png": "[encoded data removed]",
      "text/plain": [
       "<Figure size 432x288 with 1 Axes>"
      ]
     },
     "metadata": {},
     "output_type": "display_data"
    }
   ],
   "source": [
    "prepro_rdf = preprocessing(8, True)\n",
    "\n",
    "vals      = [\"gini\", \"entropy\"]\n",
    "scores    = []\n",
    "scores_cv = []\n",
    "for x in vals:\n",
    "    print(x)\n",
    "    train, train_target, test, test_target = prepro_rdf\n",
    "    rdf = create_rnd_forest(train, train_target, criterion=x, n_estimators=200)\n",
    "    score = f1_score(test_target, rdf.predict(test), average=\"macro\")\n",
    "    score_cv = cross_val_score(rdf, train, train_target,scoring=\"f1_macro\", cv=3).mean()\n",
    "    scores.append(score)\n",
    "    scores_cv.append(score_cv)\n",
    "plt.plot(vals, scores, color=\"blue\")\n",
    "plt.plot(vals, scores_cv, color=\"orange\")\n",
    "plt.xlabel(\"Criterion\")\n",
    "plt.ylabel(\"f1 score\")\n",
    "plt.savefig(\"./criterion_rdf.pdf\")"
   ]
  },
  {
   "cell_type": "markdown",
   "metadata": {},
   "source": [
    "Gini is better"
   ]
  },
  {
   "cell_type": "markdown",
   "metadata": {},
   "source": [
    "Now we optimize the minimum number of samples on a leaf (0.01 is a fraction)"
   ]
  },
  {
   "cell_type": "code",
   "execution_count": 87,
   "metadata": {},
   "outputs": [
    {
     "name": "stdout",
     "output_type": "stream",
     "text": [
      "0.001\n",
      "0.0025118864315095794\n",
      "0.00630957344480193\n",
      "0.01584893192461114\n",
      "0.039810717055349734\n",
      "0.1\n",
      "1\n",
      "2\n",
      "3\n",
      "4\n",
      "5\n"
     ]
    },
    {
     "data": {
      "image/png": "[encoded data removed]",
      "text/plain": [
       "<Figure size 432x288 with 1 Axes>"
      ]
     },
     "metadata": {},
     "output_type": "display_data"
    }
   ],
   "source": [
    "# min_samples_leaf\n",
    "vals      = list(np.logspace(-3,-1,6)) + [1,2,3,4,5]\n",
    "vals_disp = [str(x)[:4] for x in vals]\n",
    "scores    = []\n",
    "scores_cv = []\n",
    "for x in vals:\n",
    "    print(x)\n",
    "    train, train_target, test, test_target = prepro_rdf\n",
    "    rdf = create_rnd_forest(train, train_target, criterion=\"gini\", n_estimators=200, min_samples_leaf=x)\n",
    "    score = f1_score(test_target, rdf.predict(test), average=\"macro\")\n",
    "    score_cv = cross_val_score(rdf, train, train_target,scoring=\"f1_macro\", cv=3).mean()\n",
    "    scores.append(score)\n",
    "    scores_cv.append(score_cv)\n",
    "plt.plot(vals_disp, scores, color=\"blue\")\n",
    "plt.plot(vals_disp, scores_cv, color=\"orange\")\n",
    "plt.xlabel(\"Minimum number of samples per leaf\")\n",
    "plt.ylabel(\"f1 score\")\n",
    "plt.savefig(\"./min_samples_leaf_rdf.pdf\")"
   ]
  },
  {
   "cell_type": "markdown",
   "metadata": {},
   "source": [
    "The best choice is 1, to have the best accuracy on train set"
   ]
  },
  {
   "cell_type": "markdown",
   "metadata": {},
   "source": [
    "Now we optimize the complexity parameter used for Minimal Cost-Complexity Pruning"
   ]
  },
  {
   "cell_type": "code",
   "execution_count": 89,
   "metadata": {},
   "outputs": [
    {
     "name": "stdout",
     "output_type": "stream",
     "text": [
      "1e-05\n",
      "3.5938136638046256e-05\n",
      "0.0001291549665014884\n",
      "0.0004641588833612782\n",
      "0.0016681005372000592\n",
      "0.005994842503189409\n",
      "0.021544346900318846\n",
      "0.07742636826811278\n",
      "0.2782559402207126\n",
      "1.0\n"
     ]
    },
    {
     "data": {
      "image/png": "[encoded data removed]",
      "text/plain": [
       "<Figure size 432x288 with 1 Axes>"
      ]
     },
     "metadata": {},
     "output_type": "display_data"
    }
   ],
   "source": [
    "# ccp_alpha \n",
    "vals      = np.logspace(-5,0,10)\n",
    "scores    = []\n",
    "scores_cv = []\n",
    "for x in vals:\n",
    "    print(x)\n",
    "    train, train_target, test, test_target = prepro_rdf\n",
    "    rdf = create_rnd_forest(train, train_target, criterion=\"gini\", n_estimators=200, min_samples_leaf=1, ccp_alpha=x)\n",
    "    score = f1_score(test_target, rdf.predict(test), average=\"macro\")\n",
    "    score_cv = cross_val_score(rdf, train, train_target,scoring=\"f1_macro\", cv=3).mean()\n",
    "    scores.append(score)\n",
    "    scores_cv.append(score_cv)\n",
    "plt.semilogx(vals, scores, color=\"blue\")\n",
    "plt.semilogx(vals, scores_cv, color=\"orange\")\n",
    "plt.xlabel(\"Complexity parameter for pruning\")\n",
    "plt.ylabel(\"f1 score\")\n",
    "plt.savefig(\"./ccp_alpha_rdf.pdf\")"
   ]
  },
  {
   "cell_type": "markdown",
   "metadata": {},
   "source": [
    "We take cpp_alpha = 0.001 because it's the optimum for the trainset and it is relatively stable"
   ]
  },
  {
   "cell_type": "markdown",
   "metadata": {},
   "source": [
    "Finally we optimize the mimum samples to split a node"
   ]
  },
  {
   "cell_type": "code",
   "execution_count": 91,
   "metadata": {},
   "outputs": [
    {
     "name": "stdout",
     "output_type": "stream",
     "text": [
      "0.01\n",
      "0.04\n",
      "0.07\n",
      "0.1\n",
      "0.15\n",
      "0.2\n",
      "0.3\n",
      "0.5\n"
     ]
    },
    {
     "data": {
      "image/png": "[encoded data removed]",
      "text/plain": [
       "<Figure size 432x288 with 1 Axes>"
      ]
     },
     "metadata": {},
     "output_type": "display_data"
    }
   ],
   "source": [
    "# min_samples_split\n",
    "vals      = [0.01, 0.04, 0.07, 0.1, 0.15, 0.2, 0.3, 0.5]\n",
    "scores    = []\n",
    "scores_cv = []\n",
    "for x in vals:\n",
    "    print(x)\n",
    "    train, train_target, test, test_target = prepro_rdf\n",
    "    rdf = create_rnd_forest(train, train_target, criterion=\"gini\", n_estimators=200, min_samples_leaf=1, ccp_alpha=1.3e-4, min_samples_split=x)\n",
    "    score = f1_score(test_target, rdf.predict(test), average=\"macro\")\n",
    "    score_cv = cross_val_score(rdf, train, train_target,scoring=\"f1_macro\", cv=3).mean()\n",
    "    scores.append(score)\n",
    "    scores_cv.append(score_cv)\n",
    "plt.plot(vals, scores, color=\"blue\")\n",
    "plt.plot(vals, scores_cv, color=\"orange\")\n",
    "plt.xlabel(\"Minimum number of samples to split a node\")\n",
    "plt.ylabel(\"f1 score\")\n",
    "plt.savefig(\"./min_samples_split_rdf.pdf\")"
   ]
  },
  {
   "cell_type": "markdown",
   "metadata": {},
   "source": [
    "0.04 seems to be the best choice."
   ]
  },
  {
   "cell_type": "markdown",
   "metadata": {},
   "source": [
    "Now we create the random forest that we got manually and we evaluate it :"
   ]
  },
  {
   "cell_type": "code",
   "execution_count": 92,
   "metadata": {},
   "outputs": [
    {
     "name": "stdout",
     "output_type": "stream",
     "text": [
      "RandomForestClassifier(ccp_alpha=0.00013, min_samples_split=0.04,\n",
      "                       n_estimators=200)\n",
      "cross validation accuracy train : 0.5952380952380952\n",
      "accuracy test : 0.8571428571428571\n",
      "cross validation balanced_accuracy train : 0.4852693602693603\n",
      "balanced_accuracy test : 0.7133333333333333\n",
      "cross validation f1_macro train : 0.4330834803057025\n",
      "f1_macro test : 0.6023391812865496\n",
      "cross validation precision_macro train : 0.4466042399865929\n",
      "precision_macro test : 0.611111111111111\n",
      "cross validation recall_macro train : 0.4713804713804713\n",
      "recall_macro test : 0.5944444444444444\n",
      "\n",
      "\n",
      "Confusion matrix with the types : WOOD, SUSPEN, SIMPLE-T, ARCH, CANTILEV, CONT-T\n",
      "test : \n",
      "[[2 1 0 0 0 0]\n",
      " [0 0 0 0 1 0]\n",
      " [0 0 2 0 0 0]\n",
      " [1 0 0 9 0 0]\n",
      " [0 0 0 0 0 0]\n",
      " [0 0 0 0 0 5]]\n",
      "train : \n",
      "[[10  0  0  0  0  0]\n",
      " [ 0  9  0  1  0  0]\n",
      " [ 0  0  8  0  0  0]\n",
      " [ 0  0  0 34  0  0]\n",
      " [ 0  0  0  0 11  0]\n",
      " [ 0  0  0  0  0 11]]\n"
     ]
    }
   ],
   "source": [
    "train, train_target, test, test_target = prepro_rdf\n",
    "best_rdf = create_rnd_forest(train, train_target, criterion=\"gini\", n_estimators=200, min_samples_leaf=1, ccp_alpha=1.3e-4, min_samples_split=0.04)\n",
    "new_score = f1_score(train_target, rdf.predict(train), average=\"macro\")\n",
    "metrics_rdf = evaluate_algo(best_rdf, test, test_target, train, train_target)"
   ]
  },
  {
   "cell_type": "markdown",
   "metadata": {},
   "source": [
    "So finally we have a random forest which is really underfitting"
   ]
  },
  {
   "cell_type": "markdown",
   "metadata": {},
   "source": [
    "# Naive Bayes"
   ]
  },
  {
   "cell_type": "markdown",
   "metadata": {},
   "source": [
    "Test of different preprocessing methods with the optimal parameters found with grid search"
   ]
  },
  {
   "cell_type": "code",
   "execution_count": 113,
   "metadata": {},
   "outputs": [
    {
     "name": "stdout",
     "output_type": "stream",
     "text": [
      "5\n",
      "Fitting 3 folds for each of 6 candidates, totalling 18 fits\n",
      "Fitting 3 folds for each of 6 candidates, totalling 18 fits\n",
      "Fitting 3 folds for each of 6 candidates, totalling 18 fits\n",
      "Fitting 3 folds for each of 6 candidates, totalling 18 fits\n",
      "Fitting 3 folds for each of 6 candidates, totalling 18 fits\n",
      "6\n",
      "Fitting 3 folds for each of 6 candidates, totalling 18 fits\n",
      "Fitting 3 folds for each of 6 candidates, totalling 18 fits\n",
      "Fitting 3 folds for each of 6 candidates, totalling 18 fits\n",
      "Fitting 3 folds for each of 6 candidates, totalling 18 fits\n",
      "Fitting 3 folds for each of 6 candidates, totalling 18 fits\n",
      "7\n",
      "Fitting 3 folds for each of 6 candidates, totalling 18 fits\n",
      "Fitting 3 folds for each of 6 candidates, totalling 18 fits\n",
      "Fitting 3 folds for each of 6 candidates, totalling 18 fits\n",
      "Fitting 3 folds for each of 6 candidates, totalling 18 fits\n",
      "Fitting 3 folds for each of 6 candidates, totalling 18 fits\n",
      "8\n",
      "Fitting 3 folds for each of 6 candidates, totalling 18 fits\n",
      "Fitting 3 folds for each of 6 candidates, totalling 18 fits\n",
      "Fitting 3 folds for each of 6 candidates, totalling 18 fits\n",
      "Fitting 3 folds for each of 6 candidates, totalling 18 fits\n",
      "Fitting 3 folds for each of 6 candidates, totalling 18 fits\n",
      "9\n",
      "Fitting 3 folds for each of 6 candidates, totalling 18 fits\n",
      "Fitting 3 folds for each of 6 candidates, totalling 18 fits\n",
      "Fitting 3 folds for each of 6 candidates, totalling 18 fits\n",
      "Fitting 3 folds for each of 6 candidates, totalling 18 fits\n",
      "Fitting 3 folds for each of 6 candidates, totalling 18 fits\n",
      "5\n",
      "Fitting 3 folds for each of 6 candidates, totalling 18 fits\n",
      "Fitting 3 folds for each of 6 candidates, totalling 18 fits\n",
      "Fitting 3 folds for each of 6 candidates, totalling 18 fits\n",
      "Fitting 3 folds for each of 6 candidates, totalling 18 fits\n",
      "Fitting 3 folds for each of 6 candidates, totalling 18 fits\n",
      "6\n",
      "Fitting 3 folds for each of 6 candidates, totalling 18 fits\n",
      "Fitting 3 folds for each of 6 candidates, totalling 18 fits\n",
      "Fitting 3 folds for each of 6 candidates, totalling 18 fits\n",
      "Fitting 3 folds for each of 6 candidates, totalling 18 fits\n",
      "Fitting 3 folds for each of 6 candidates, totalling 18 fits\n",
      "7\n",
      "Fitting 3 folds for each of 6 candidates, totalling 18 fits\n",
      "Fitting 3 folds for each of 6 candidates, totalling 18 fits\n",
      "Fitting 3 folds for each of 6 candidates, totalling 18 fits\n",
      "Fitting 3 folds for each of 6 candidates, totalling 18 fits\n",
      "Fitting 3 folds for each of 6 candidates, totalling 18 fits\n",
      "8\n",
      "Fitting 3 folds for each of 6 candidates, totalling 18 fits\n",
      "Fitting 3 folds for each of 6 candidates, totalling 18 fits\n",
      "Fitting 3 folds for each of 6 candidates, totalling 18 fits\n",
      "Fitting 3 folds for each of 6 candidates, totalling 18 fits\n",
      "Fitting 3 folds for each of 6 candidates, totalling 18 fits\n",
      "9\n",
      "Fitting 3 folds for each of 6 candidates, totalling 18 fits\n",
      "Fitting 3 folds for each of 6 candidates, totalling 18 fits\n",
      "Fitting 3 folds for each of 6 candidates, totalling 18 fits\n",
      "Fitting 3 folds for each of 6 candidates, totalling 18 fits\n",
      "Fitting 3 folds for each of 6 candidates, totalling 18 fits\n"
     ]
    },
    {
     "data": {
      "image/png": "[encoded data removed]",
      "text/plain": [
       "<Figure size 1296x576 with 2 Axes>"
      ]
     },
     "metadata": {},
     "output_type": "display_data"
    }
   ],
   "source": [
    "# test of different preprocessing methods with the optimal parameters \n",
    "\n",
    "import warnings\n",
    "warnings.filterwarnings('ignore')\n",
    "\n",
    "param_grid = {'alpha': [1e-2, 1e-1, 0.5, 1, 10, 100]}  \n",
    "\n",
    "L = []\n",
    "subpl, axes = plt.subplots(1, 2, figsize = (18,8))\n",
    "\n",
    "for imputation in [True, False] :\n",
    "    thresholds = np.arange(5,10)\n",
    "    scores = []\n",
    "    for thres in thresholds :\n",
    "        print(thres)\n",
    "        training = training_init.copy()\n",
    "        text = \"imputation: \" + str(imputation) + \", threshold = \" + str(thres)\n",
    "        score = 0\n",
    "        NB = []\n",
    "        PREPROS = []\n",
    "        \n",
    "        for i in range(5) :\n",
    "            train, train_target, test, test_target = preprocessing(thres, imputation)\n",
    "            NB.append( create_nb(train, train_target, grid = param_grid) )\n",
    "            score += NB[i].best_score_\n",
    "            PREPROS.append([train, train_target, test, test_target])\n",
    "        \n",
    "        L.append((text,NB,PREPROS))\n",
    "        scores.append(score/5)\n",
    "    \n",
    "    fig = axes[int(imputation)]\n",
    "    fig.plot(thresholds, scores)\n",
    "    title_ = \"Scores for optimal parameters \"\n",
    "    if (imputation) :\n",
    "        title_ += \"with\"\n",
    "    else :\n",
    "        title_ += \"without\"\n",
    "        title_ += \" imputation\"\n",
    "    fig.set_title(title_)\n",
    "    fig.set(xlabel = \"Threshold for number of known values\", ylabel = \"Score with cross validation\")\n",
    "    extent = fig.get_window_extent().transformed(fig.figure.dpi_scale_trans.inverted())\n",
    "    fig.figure.savefig(\"./threshold_grid_nb\" + str(int(imputation)) + \".pdf\", bbox_inches=extent.expanded(1.2, 1.2))"
   ]
  },
  {
   "cell_type": "markdown",
   "metadata": {},
   "source": [
    "We can see that the relevant imputation is the random imputation, and the optimal threshold is 16."
   ]
  },
  {
   "cell_type": "markdown",
   "metadata": {},
   "source": [
    "Now with this preprocessing method, we evaluate the random forest method optimized by grid search"
   ]
  },
  {
   "cell_type": "code",
   "execution_count": 114,
   "metadata": {},
   "outputs": [
    {
     "name": "stdout",
     "output_type": "stream",
     "text": [
      "imputation: False, threshold = 8\n",
      "{'alpha': 0.5}\n",
      "{'alpha': 0.1}\n",
      "{'alpha': 0.5}\n",
      "{'alpha': 0.5}\n",
      "{'alpha': 0.5}\n",
      "\n",
      "\n",
      "MultinomialNB(alpha=0.5)\n",
      "cross validation accuracy train : 0.6428571428571429\n",
      "accuracy test : 0.8571428571428571\n",
      "cross validation balanced_accuracy train : 0.5454545454545454\n",
      "balanced_accuracy test : 0.7133333333333333\n",
      "cross validation f1_macro train : 0.5157848324514992\n",
      "f1_macro test : 0.6637593984962405\n",
      "cross validation precision_macro train : 0.5388990638990638\n",
      "precision_macro test : 0.6333333333333333\n",
      "cross validation recall_macro train : 0.5454545454545454\n",
      "recall_macro test : 0.7133333333333333\n",
      "\n",
      "\n",
      "Confusion matrix with the types : WOOD, SUSPEN, SIMPLE-T, ARCH, CANTILEV, CONT-T\n",
      "test : \n",
      "[[2 0 1 0 0]\n",
      " [1 0 0 0 0]\n",
      " [0 0 2 0 0]\n",
      " [1 0 0 9 0]\n",
      " [0 0 0 0 5]]\n",
      "train : \n",
      "[[ 7  1  0  2  0  0]\n",
      " [ 0  7  1  2  0  0]\n",
      " [ 1  0  7  0  0  0]\n",
      " [ 1  0  0 32  0  1]\n",
      " [ 0  2  0  0  7  2]\n",
      " [ 0  0  0  0  0 11]]\n"
     ]
    }
   ],
   "source": [
    "prepro_text = \"\"\n",
    "best_nb = None\n",
    "datasets = []\n",
    "score = 0\n",
    "for (text, NB, PREPROS) in L :\n",
    "    new_score = 0\n",
    "    for i in range(5) :\n",
    "        prepro = PREPROS[i]\n",
    "        nb = NB[i]\n",
    "        train, train_target, test, test_target = prepro[0], prepro[1], prepro[2], prepro[3]\n",
    "        new_score += nb.best_score_\n",
    "    new_score /= 5\n",
    "    if new_score > score :\n",
    "        score = new_score\n",
    "        prepro_text = text\n",
    "        best_nb = NB\n",
    "        datasets = PREPROS\n",
    "        #evaluate_algo(ppn, test, test_target, train, train_target)\n",
    "\n",
    "print(prepro_text)\n",
    "\n",
    "best_params = map(lambda x: x.best_params_, best_nb)\n",
    "best_params = list(best_params)\n",
    "\n",
    "for param in best_params :\n",
    "    print(param)\n",
    "print(\"\\n\")\n",
    "\n",
    "# most frequent parameters among best perceptrons\n",
    "best_param = most_frequent(best_params)\n",
    "ind = best_params.index(best_param)\n",
    "\n",
    "datasets = datasets[ind]\n",
    "best_nb = best_nb[ind]\n",
    "train, train_target, test, test_target = datasets[0], datasets[1], datasets[2], datasets[3]\n",
    "nb_grid = create_nb(train, train_target, **best_nb.best_params_)\n",
    "metrics_nb = evaluate_algo(nb_grid, test, test_target, train, train_target)"
   ]
  },
  {
   "cell_type": "markdown",
   "metadata": {},
   "source": [
    "We can see that, even if we don't have any overfitting, the algorithm has not a very great accuracy. Here the problem is once again the precision. We use the test set to compare and be aware if we are overfitting too much. "
   ]
  },
  {
   "cell_type": "markdown",
   "metadata": {},
   "source": [
    "First we optimize the threshold of the preprocessing (we consider directly a random imputation)"
   ]
  },
  {
   "cell_type": "code",
   "execution_count": 97,
   "metadata": {},
   "outputs": [
    {
     "data": {
      "image/png": "[encoded data removed]",
      "text/plain": [
       "<Figure size 432x288 with 1 Axes>"
      ]
     },
     "metadata": {},
     "output_type": "display_data"
    }
   ],
   "source": [
    "# threshold for preprocessing\n",
    "vals = np.arange(4,13)\n",
    "scores    = []\n",
    "scores_cv = []\n",
    "for x in vals:\n",
    "    train, train_target, test, test_target = preprocessing(x, True)\n",
    "    nb = create_nb(train, train_target)\n",
    "    score = f1_score(test_target, nb.predict(test), average=\"macro\")\n",
    "    score_cv = cross_val_score(nb, train, train_target,scoring=\"f1_macro\", cv=3).mean()\n",
    "    scores.append(score)\n",
    "    scores_cv.append(score_cv)\n",
    "plt.plot(vals, scores,\"o-\", color=\"blue\")\n",
    "plt.plot(vals, scores_cv,\"o-\", color=\"orange\")\n",
    "plt.xlabel(\"Threshold\")\n",
    "plt.ylabel(\"f1 score\")\n",
    "plt.savefig(\"./thresholds_nb.pdf\")"
   ]
  },
  {
   "cell_type": "markdown",
   "metadata": {},
   "source": [
    "We choose 8 because we want have the more data we can and the f1 score does not decrease a lot."
   ]
  },
  {
   "cell_type": "markdown",
   "metadata": {},
   "source": [
    "Now we optimize the Laplace smoothing parameter"
   ]
  },
  {
   "cell_type": "code",
   "execution_count": 100,
   "metadata": {},
   "outputs": [
    {
     "name": "stdout",
     "output_type": "stream",
     "text": [
      "0.01\n",
      "0.012663801734674034\n",
      "0.0160371874375133\n",
      "0.020309176209047358\n",
      "0.025719138090593445\n",
      "0.03257020655659783\n",
      "0.04124626382901352\n",
      "0.052233450742668434\n",
      "0.06614740641230149\n",
      "0.08376776400682916\n",
      "0.10608183551394483\n",
      "0.13433993325989002\n",
      "0.17012542798525893\n",
      "0.21544346900318834\n",
      "0.2728333376486768\n",
      "0.34551072945922184\n",
      "0.43754793750741844\n",
      "0.5541020330009492\n",
      "0.7017038286703826\n",
      "0.8886238162743403\n",
      "1.1253355826007645\n",
      "1.4251026703029979\n",
      "1.8047217668271702\n",
      "2.2854638641349907\n",
      "2.8942661247167516\n",
      "3.665241237079626\n",
      "4.6415888336127775\n",
      "5.878016072274912\n",
      "7.443803013251689\n",
      "9.426684551178854\n",
      "11.937766417144358\n",
      "15.117750706156615\n",
      "19.144819761699576\n",
      "24.244620170823282\n",
      "30.702906297578497\n",
      "38.88155180308085\n",
      "49.238826317067364\n",
      "62.355073412739124\n",
      "78.96522868499724\n",
      "100.0\n"
     ]
    },
    {
     "data": {
      "image/png": "[encoded data removed]",
      "text/plain": [
       "<Figure size 432x288 with 1 Axes>"
      ]
     },
     "metadata": {},
     "output_type": "display_data"
    }
   ],
   "source": [
    "PREPROS_NB = [preprocessing(8, True) for i in range(10)]\n",
    "\n",
    "vals      = np.logspace(-2, 2, 40)\n",
    "scores    = []\n",
    "scores_cv = []\n",
    "for x in vals:\n",
    "    print(x)\n",
    "    train, train_target, test, test_target = PREPROS_NB[i]\n",
    "    nb = create_nb(train, train_target, alpha=x)\n",
    "    score = f1_score(test_target, nb.predict(test), average=\"macro\")\n",
    "    score_cv = cross_val_score(nb, train, train_target,scoring=\"f1_macro\", cv=3).mean()\n",
    "    scores.append(score)\n",
    "    scores_cv.append(score_cv)\n",
    "plt.semilogx(vals, scores, color=\"blue\")\n",
    "plt.semilogx(vals, scores_cv, color=\"orange\")\n",
    "plt.xlabel(\"Laplace smoothing parameter\")\n",
    "plt.ylabel(\"f1 score\")\n",
    "plt.savefig(\"./laplace_nb.pdf\")"
   ]
  },
  {
   "cell_type": "markdown",
   "metadata": {},
   "source": [
    "0.55 is the best choice (best accuracy for train set)."
   ]
  },
  {
   "cell_type": "markdown",
   "metadata": {},
   "source": [
    "Now we create the multinomial naive Bayes that we got manually and we evaluate it :"
   ]
  },
  {
   "cell_type": "code",
   "execution_count": 115,
   "metadata": {},
   "outputs": [
    {
     "ename": "NameError",
     "evalue": "name 'prepro_nb' is not defined",
     "output_type": "error",
     "traceback": [
      "\u001b[1;31m---------------------------------------------------------------------------\u001b[0m",
      "\u001b[1;31mNameError\u001b[0m                                 Traceback (most recent call last)",
      "\u001b[1;32m<ipython-input-115-1e0062f764b2>\u001b[0m in \u001b[0;36m<module>\u001b[1;34m\u001b[0m\n\u001b[1;32m----> 1\u001b[1;33m \u001b[0mtrain\u001b[0m\u001b[1;33m,\u001b[0m \u001b[0mtrain_target\u001b[0m\u001b[1;33m,\u001b[0m \u001b[0mtest\u001b[0m\u001b[1;33m,\u001b[0m \u001b[0mtest_target\u001b[0m \u001b[1;33m=\u001b[0m \u001b[0mprepro_nb\u001b[0m\u001b[1;33m\u001b[0m\u001b[1;33m\u001b[0m\u001b[0m\n\u001b[0m\u001b[0;32m      2\u001b[0m \u001b[0mbest_nb\u001b[0m \u001b[1;33m=\u001b[0m \u001b[0mcreate_nb\u001b[0m\u001b[1;33m(\u001b[0m\u001b[0mtrain\u001b[0m\u001b[1;33m,\u001b[0m \u001b[0mtrain_target\u001b[0m\u001b[1;33m,\u001b[0m \u001b[0malpha\u001b[0m\u001b[1;33m=\u001b[0m\u001b[1;36m0.55\u001b[0m\u001b[1;33m)\u001b[0m\u001b[1;33m\u001b[0m\u001b[1;33m\u001b[0m\u001b[0m\n\u001b[0;32m      3\u001b[0m \u001b[0mmetrics_nb\u001b[0m \u001b[1;33m=\u001b[0m \u001b[0mevaluate_algo\u001b[0m\u001b[1;33m(\u001b[0m\u001b[0mbest_nb\u001b[0m\u001b[1;33m,\u001b[0m \u001b[0mtest\u001b[0m\u001b[1;33m,\u001b[0m \u001b[0mtest_target\u001b[0m\u001b[1;33m,\u001b[0m \u001b[0mtrain\u001b[0m\u001b[1;33m,\u001b[0m \u001b[0mtrain_target\u001b[0m\u001b[1;33m)\u001b[0m\u001b[1;33m\u001b[0m\u001b[1;33m\u001b[0m\u001b[0m\n",
      "\u001b[1;31mNameError\u001b[0m: name 'prepro_nb' is not defined"
     ]
    }
   ],
   "source": [
    "train, train_target, test, test_target = prepro_nb\n",
    "best_nb = create_nb(train, train_target, alpha=0.55)\n",
    "metrics_nb = evaluate_algo(best_nb, test, test_target, train, train_target)"
   ]
  },
  {
   "cell_type": "markdown",
   "metadata": {},
   "source": [
    "So finally we have a naive Bayes which is not as performant as random forest but which has no over or underfitting. Here also we have a problem of precision. With more samples it would have been better to create a third set which is totally independant and test it again on this validation set."
   ]
  }
 ],
 "metadata": {
  "kernelspec": {
   "display_name": "Python 3",
   "language": "python",
   "name": "python3"
  },
  "language_info": {
   "codemirror_mode": {
    "name": "ipython",
    "version": 3
   },
   "file_extension": ".py",
   "mimetype": "text/x-python",
   "name": "python",
   "nbconvert_exporter": "python",
   "pygments_lexer": "ipython3",
   "version": "3.8.8"
  }
 },
 "nbformat": 4,
 "nbformat_minor": 4
}
