{
 "cells": [
  {
   "cell_type": "markdown",
   "metadata": {},
   "source": [
    "%\n",
    "\\section{Classification Dataset: Kaggle Congressional Voting (\\href{https://www.kaggle.com/c/184702-tu-ml-ss-21-congressional-voting/overview}{link to dataset})}\n",
    "The Congressional Voting dataset is used for classification, it is a prediction on the party (republican or democrat) for politicians of the congress. It consists of 218 samples and 17 attributes where 15 attributes are given as string values (but corresponding to booleans) and 1 further as numerical value, the id of the row, which is not relevant so we drop it during the preprocessing step. The label is an ordinal value, \"democrat\" or \"republican\", and during the preprocessing step we transform it to respectively 0 and 1 value, and we replace \"y\" and \"n\" by 1 and 0. Hence, we have now only binary values. The description of the training dataset is the following {insert figure}.\n",
    "We can see that there are some missing values, and we have the repartition of missing values among samples with the following table {insert table}. We can notice that the feature \"export-administration-act-south-africa\" is the most incomplete one, with 23% missing values, the other features having less than 11% missing values.\n",
    "We decide to delete the samples with too many missing values (4 or more) because they are a few (8/218, less than 4%) and we suppose that it is not a great loss of data and it could be dangerous to keep too incomplete data because we fill every missing value randomly with 1 or 0 during the preprocessing step. When we tested with and without deleting the missing values, it seemed that we were right, it increased the accuracy by at least 10% for each algorithm. \n",
    "We also tried to impute them with a multivariate feature imputation, but the results were better with the random method (at least 15% of decrease in accuracy for each algorithm).\n",
    "\n",
    "We have to notice about this dataset that the false negatives and false positives show no theoritical difference: we do not have to privilege one over the other. So the performance by class should be barely the same. What is more, we can see that the training dataset is inbalanced, so we will use balanced indicators (such as balanced accuracy and f1 score), and make sure that our precision and recall are close."
   ]
  },
  {
   "cell_type": "code",
   "execution_count": 1,
   "metadata": {},
   "outputs": [],
   "source": [
    "import pandas as pd\n",
    "import random\n",
    "%matplotlib inline\n",
    "import matplotlib.pyplot as plt\n",
    "import seaborn as sns\n",
    "import numpy as np\n",
    "from sklearn.experimental import enable_iterative_imputer\n",
    "from sklearn.impute import IterativeImputer\n",
    "\n",
    "training = pd.read_csv(\"./CongressionalVotingID.shuf.lrn.csv\")\n",
    "training_init = training.copy()"
   ]
  },
  {
   "cell_type": "code",
   "execution_count": 2,
   "metadata": {},
   "outputs": [],
   "source": [
    "#preprocessing\n",
    "\n",
    "def transform_to_binary(data) :\n",
    "    #we drop the ID column which is not relevant\n",
    "    d = data.drop('ID', axis=1)\n",
    "\n",
    "    #we transform yes in 1 and no in 0, we convert \"unknown\" in NaN value and republican in 1 and democrat in 0, thus we have \n",
    "    #only binary values\n",
    "    d = d.applymap(lambda x : 1 if x == \"y\" else (0 if x == \"n\" else (np.nan if x == \"unknown\" else (1 if x == \"republican\" else 0))))\n",
    "    return d\n",
    "    \n",
    "def clean_rows(training, thres) :\n",
    "    #only rows with at least 14 known values\n",
    "    return training.dropna(axis=0, thresh=thres, subset=None, inplace=False)\n",
    "\n",
    "def imputate(data, imputation) :\n",
    "    # imputation\n",
    "    imp = IterativeImputer(max_iter=10, random_state=0)\n",
    "    if (imputation) :\n",
    "        try:\n",
    "            t = data.drop('class', axis=1)\n",
    "        except:\n",
    "            # it's the test set and we already have trained our imputation function\n",
    "            print(\"HERE\")\n",
    "            array = np.round(imp.transform(data))\n",
    "            data = pd.DataFrame(array, columns = data.columns)\n",
    "        else:\n",
    "            # we fit the multivariate feature imputation\n",
    "            imp.fit(t)\n",
    "            # we use it on training dataset\n",
    "            array = np.round(imp.transform(t))\n",
    "            t = pd.DataFrame(array, columns = t.columns)\n",
    "            t.index = data.index\n",
    "            t['class'] = data['class']\n",
    "            data = t\n",
    "    else :\n",
    "        #we transform unknown values in 1 or 0 randomly\n",
    "        data = data.fillna(random.randint(0,1))\n",
    "    return data\n",
    "    \n",
    "        \n",
    "def number_of_samples_per_number_of_missing_values(data) :\n",
    "    # count how many rows have 'x' missing values\n",
    "    m = data.copy()\n",
    "    n = m.isna().sum(axis=1)\n",
    "    n.name = \"missing values in row\"\n",
    "    d = n.value_counts(sort=False)\n",
    "    return d\n",
    "\n",
    "def plot_count(data) :\n",
    "    \n",
    "    DF=[]\n",
    "    for i in range(1, len(data.columns)) :\n",
    "        DF.append(data[data.columns[i]].value_counts(dropna=False))\n",
    "    df = pd.concat(DF, axis=1)\n",
    "    df = df.transpose()\n",
    "    if len(df.columns) == 3 :\n",
    "        df.columns = [\"No\",\"Yes\",\"Unknown\"]\n",
    "    else :\n",
    "        df.columns = [\"No\",\"Yes\"]\n",
    "    \n",
    "    df.plot(kind='bar', figsize = (15,10))\n",
    "    \n",
    "    plt.title(\"Number of samples per class\")\n",
    "    plt.ylabel('Count')\n",
    "    plt.gca().xaxis.set_tick_params(rotation=90)\n",
    "\n",
    "def plot_result_classes(data) :\n",
    "    countplt, ax = plt.subplots(figsize = (15,10))\n",
    "    ax = sns.countplot(data=data, x='class')\n",
    "    ax.set_title(\"#Votes\")\n",
    "    ax.set_xticklabels([\"democrat\",\"republican\"], rotation=45)\n",
    "    \n",
    "def plot_decisions(data, missing_values) :\n",
    "    \n",
    "    DF=[]\n",
    "    F=[]\n",
    "    for i in range(1, len(data.columns)) :\n",
    "        DF.append(data.groupby(data.columns[i])['class'].mean())\n",
    "        F.append(data[data.columns[i]].mean())\n",
    "    \n",
    "    df = pd.concat(DF, axis=1)\n",
    "    df = df.transpose()\n",
    "    df.index = data.columns[1:]\n",
    "    df[\"final decision\"] = F\n",
    "    \n",
    "    if missing_values :\n",
    "        df.columns = [\"no\",\"yes\",\"final decision\"]\n",
    "    else :\n",
    "        df.columns = [\"no\",\"yes\",\"unknown\",\"final decision\"]\n",
    "\n",
    "    df.plot(kind='bar', figsize = (15,10))\n",
    "        \n",
    "    title = \"Who took the decision ? Close to 1: decision taken by republicans. Close to 0: decision taken by democrats. Green bar : decision finally taken if > 0.5.\"\n",
    "    plt.title(title)\n",
    "    plt.ylabel('Relative part of republicans in a vote / Green : percentage of yes')\n",
    "    plt.gca().xaxis.set_tick_params(rotation=90)"
   ]
  },
  {
   "cell_type": "code",
   "execution_count": 1185,
   "metadata": {
    "scrolled": true
   },
   "outputs": [
    {
     "data": {
      "text/plain": [
       "0     118\n",
       "1      61\n",
       "2      21\n",
       "3      10\n",
       "4       1\n",
       "5       2\n",
       "6       2\n",
       "9       1\n",
       "14      1\n",
       "15      1\n",
       "Name: missing values in row, dtype: int64"
      ]
     },
     "execution_count": 1185,
     "metadata": {},
     "output_type": "execute_result"
    }
   ],
   "source": [
    "training = transform_to_binary(training)\n",
    "number_of_samples_per_number_of_missing_values(training)"
   ]
  },
  {
   "cell_type": "code",
   "execution_count": 1186,
   "metadata": {},
   "outputs": [
    {
     "data": {
      "text/html": [
       "<div>\n",
       "<style scoped>\n",
       "    .dataframe tbody tr th:only-of-type {\n",
       "        vertical-align: middle;\n",
       "    }\n",
       "\n",
       "    .dataframe tbody tr th {\n",
       "        vertical-align: top;\n",
       "    }\n",
       "\n",
       "    .dataframe thead th {\n",
       "        text-align: right;\n",
       "    }\n",
       "</style>\n",
       "<table border=\"1\" class=\"dataframe\">\n",
       "  <thead>\n",
       "    <tr style=\"text-align: right;\">\n",
       "      <th></th>\n",
       "      <th>class</th>\n",
       "      <th>handicapped-infants</th>\n",
       "      <th>water-project-cost-sharing</th>\n",
       "      <th>adoption-of-the-budget-resolution</th>\n",
       "      <th>physician-fee-freeze</th>\n",
       "      <th>el-salvador-aid</th>\n",
       "      <th>religious-groups-in-schools</th>\n",
       "      <th>anti-satellite-test-ban</th>\n",
       "      <th>aid-to-nicaraguan-contras</th>\n",
       "      <th>mx-missile</th>\n",
       "      <th>immigration</th>\n",
       "      <th>synfuels-crporation-cutback</th>\n",
       "      <th>education-spending</th>\n",
       "      <th>superfund-right-to-sue</th>\n",
       "      <th>crime</th>\n",
       "      <th>duty-free-exports</th>\n",
       "      <th>export-administration-act-south-africa</th>\n",
       "    </tr>\n",
       "  </thead>\n",
       "  <tbody>\n",
       "    <tr>\n",
       "      <td>count</td>\n",
       "      <td>218.000000</td>\n",
       "      <td>211.000000</td>\n",
       "      <td>194.000000</td>\n",
       "      <td>209.000000</td>\n",
       "      <td>211.000000</td>\n",
       "      <td>212.000000</td>\n",
       "      <td>213.000000</td>\n",
       "      <td>211.000000</td>\n",
       "      <td>213.000000</td>\n",
       "      <td>209.000000</td>\n",
       "      <td>216.000000</td>\n",
       "      <td>206.000000</td>\n",
       "      <td>203.000000</td>\n",
       "      <td>206.000000</td>\n",
       "      <td>210.000000</td>\n",
       "      <td>199.000000</td>\n",
       "      <td>168.000000</td>\n",
       "    </tr>\n",
       "    <tr>\n",
       "      <td>mean</td>\n",
       "      <td>0.366972</td>\n",
       "      <td>0.459716</td>\n",
       "      <td>0.541237</td>\n",
       "      <td>0.598086</td>\n",
       "      <td>0.407583</td>\n",
       "      <td>0.504717</td>\n",
       "      <td>0.629108</td>\n",
       "      <td>0.559242</td>\n",
       "      <td>0.591549</td>\n",
       "      <td>0.511962</td>\n",
       "      <td>0.527778</td>\n",
       "      <td>0.398058</td>\n",
       "      <td>0.369458</td>\n",
       "      <td>0.529126</td>\n",
       "      <td>0.595238</td>\n",
       "      <td>0.437186</td>\n",
       "      <td>0.845238</td>\n",
       "    </tr>\n",
       "    <tr>\n",
       "      <td>std</td>\n",
       "      <td>0.483088</td>\n",
       "      <td>0.499560</td>\n",
       "      <td>0.499586</td>\n",
       "      <td>0.491462</td>\n",
       "      <td>0.492553</td>\n",
       "      <td>0.501161</td>\n",
       "      <td>0.484182</td>\n",
       "      <td>0.497659</td>\n",
       "      <td>0.492705</td>\n",
       "      <td>0.501057</td>\n",
       "      <td>0.500387</td>\n",
       "      <td>0.490690</td>\n",
       "      <td>0.483851</td>\n",
       "      <td>0.500367</td>\n",
       "      <td>0.492019</td>\n",
       "      <td>0.497290</td>\n",
       "      <td>0.362759</td>\n",
       "    </tr>\n",
       "    <tr>\n",
       "      <td>min</td>\n",
       "      <td>0.000000</td>\n",
       "      <td>0.000000</td>\n",
       "      <td>0.000000</td>\n",
       "      <td>0.000000</td>\n",
       "      <td>0.000000</td>\n",
       "      <td>0.000000</td>\n",
       "      <td>0.000000</td>\n",
       "      <td>0.000000</td>\n",
       "      <td>0.000000</td>\n",
       "      <td>0.000000</td>\n",
       "      <td>0.000000</td>\n",
       "      <td>0.000000</td>\n",
       "      <td>0.000000</td>\n",
       "      <td>0.000000</td>\n",
       "      <td>0.000000</td>\n",
       "      <td>0.000000</td>\n",
       "      <td>0.000000</td>\n",
       "    </tr>\n",
       "    <tr>\n",
       "      <td>25%</td>\n",
       "      <td>0.000000</td>\n",
       "      <td>0.000000</td>\n",
       "      <td>0.000000</td>\n",
       "      <td>0.000000</td>\n",
       "      <td>0.000000</td>\n",
       "      <td>0.000000</td>\n",
       "      <td>0.000000</td>\n",
       "      <td>0.000000</td>\n",
       "      <td>0.000000</td>\n",
       "      <td>0.000000</td>\n",
       "      <td>0.000000</td>\n",
       "      <td>0.000000</td>\n",
       "      <td>0.000000</td>\n",
       "      <td>0.000000</td>\n",
       "      <td>0.000000</td>\n",
       "      <td>0.000000</td>\n",
       "      <td>1.000000</td>\n",
       "    </tr>\n",
       "    <tr>\n",
       "      <td>50%</td>\n",
       "      <td>0.000000</td>\n",
       "      <td>0.000000</td>\n",
       "      <td>1.000000</td>\n",
       "      <td>1.000000</td>\n",
       "      <td>0.000000</td>\n",
       "      <td>1.000000</td>\n",
       "      <td>1.000000</td>\n",
       "      <td>1.000000</td>\n",
       "      <td>1.000000</td>\n",
       "      <td>1.000000</td>\n",
       "      <td>1.000000</td>\n",
       "      <td>0.000000</td>\n",
       "      <td>0.000000</td>\n",
       "      <td>1.000000</td>\n",
       "      <td>1.000000</td>\n",
       "      <td>0.000000</td>\n",
       "      <td>1.000000</td>\n",
       "    </tr>\n",
       "    <tr>\n",
       "      <td>75%</td>\n",
       "      <td>1.000000</td>\n",
       "      <td>1.000000</td>\n",
       "      <td>1.000000</td>\n",
       "      <td>1.000000</td>\n",
       "      <td>1.000000</td>\n",
       "      <td>1.000000</td>\n",
       "      <td>1.000000</td>\n",
       "      <td>1.000000</td>\n",
       "      <td>1.000000</td>\n",
       "      <td>1.000000</td>\n",
       "      <td>1.000000</td>\n",
       "      <td>1.000000</td>\n",
       "      <td>1.000000</td>\n",
       "      <td>1.000000</td>\n",
       "      <td>1.000000</td>\n",
       "      <td>1.000000</td>\n",
       "      <td>1.000000</td>\n",
       "    </tr>\n",
       "    <tr>\n",
       "      <td>max</td>\n",
       "      <td>1.000000</td>\n",
       "      <td>1.000000</td>\n",
       "      <td>1.000000</td>\n",
       "      <td>1.000000</td>\n",
       "      <td>1.000000</td>\n",
       "      <td>1.000000</td>\n",
       "      <td>1.000000</td>\n",
       "      <td>1.000000</td>\n",
       "      <td>1.000000</td>\n",
       "      <td>1.000000</td>\n",
       "      <td>1.000000</td>\n",
       "      <td>1.000000</td>\n",
       "      <td>1.000000</td>\n",
       "      <td>1.000000</td>\n",
       "      <td>1.000000</td>\n",
       "      <td>1.000000</td>\n",
       "      <td>1.000000</td>\n",
       "    </tr>\n",
       "  </tbody>\n",
       "</table>\n",
       "</div>"
      ],
      "text/plain": [
       "            class  handicapped-infants  water-project-cost-sharing  \\\n",
       "count  218.000000           211.000000                  194.000000   \n",
       "mean     0.366972             0.459716                    0.541237   \n",
       "std      0.483088             0.499560                    0.499586   \n",
       "min      0.000000             0.000000                    0.000000   \n",
       "25%      0.000000             0.000000                    0.000000   \n",
       "50%      0.000000             0.000000                    1.000000   \n",
       "75%      1.000000             1.000000                    1.000000   \n",
       "max      1.000000             1.000000                    1.000000   \n",
       "\n",
       "       adoption-of-the-budget-resolution  physician-fee-freeze  \\\n",
       "count                         209.000000            211.000000   \n",
       "mean                            0.598086              0.407583   \n",
       "std                             0.491462              0.492553   \n",
       "min                             0.000000              0.000000   \n",
       "25%                             0.000000              0.000000   \n",
       "50%                             1.000000              0.000000   \n",
       "75%                             1.000000              1.000000   \n",
       "max                             1.000000              1.000000   \n",
       "\n",
       "       el-salvador-aid  religious-groups-in-schools  anti-satellite-test-ban  \\\n",
       "count       212.000000                   213.000000               211.000000   \n",
       "mean          0.504717                     0.629108                 0.559242   \n",
       "std           0.501161                     0.484182                 0.497659   \n",
       "min           0.000000                     0.000000                 0.000000   \n",
       "25%           0.000000                     0.000000                 0.000000   \n",
       "50%           1.000000                     1.000000                 1.000000   \n",
       "75%           1.000000                     1.000000                 1.000000   \n",
       "max           1.000000                     1.000000                 1.000000   \n",
       "\n",
       "       aid-to-nicaraguan-contras  mx-missile  immigration  \\\n",
       "count                 213.000000  209.000000   216.000000   \n",
       "mean                    0.591549    0.511962     0.527778   \n",
       "std                     0.492705    0.501057     0.500387   \n",
       "min                     0.000000    0.000000     0.000000   \n",
       "25%                     0.000000    0.000000     0.000000   \n",
       "50%                     1.000000    1.000000     1.000000   \n",
       "75%                     1.000000    1.000000     1.000000   \n",
       "max                     1.000000    1.000000     1.000000   \n",
       "\n",
       "       synfuels-crporation-cutback  education-spending  \\\n",
       "count                   206.000000          203.000000   \n",
       "mean                      0.398058            0.369458   \n",
       "std                       0.490690            0.483851   \n",
       "min                       0.000000            0.000000   \n",
       "25%                       0.000000            0.000000   \n",
       "50%                       0.000000            0.000000   \n",
       "75%                       1.000000            1.000000   \n",
       "max                       1.000000            1.000000   \n",
       "\n",
       "       superfund-right-to-sue       crime  duty-free-exports  \\\n",
       "count              206.000000  210.000000         199.000000   \n",
       "mean                 0.529126    0.595238           0.437186   \n",
       "std                  0.500367    0.492019           0.497290   \n",
       "min                  0.000000    0.000000           0.000000   \n",
       "25%                  0.000000    0.000000           0.000000   \n",
       "50%                  1.000000    1.000000           0.000000   \n",
       "75%                  1.000000    1.000000           1.000000   \n",
       "max                  1.000000    1.000000           1.000000   \n",
       "\n",
       "       export-administration-act-south-africa  \n",
       "count                              168.000000  \n",
       "mean                                 0.845238  \n",
       "std                                  0.362759  \n",
       "min                                  0.000000  \n",
       "25%                                  1.000000  \n",
       "50%                                  1.000000  \n",
       "75%                                  1.000000  \n",
       "max                                  1.000000  "
      ]
     },
     "execution_count": 1186,
     "metadata": {},
     "output_type": "execute_result"
    }
   ],
   "source": [
    "training.describe()"
   ]
  },
  {
   "cell_type": "code",
   "execution_count": 1187,
   "metadata": {},
   "outputs": [
    {
     "data": {
      "image/png": "[encoded data removed]",
      "text/plain": [
       "<Figure size 1080x720 with 1 Axes>"
      ]
     },
     "metadata": {
      "needs_background": "light"
     },
     "output_type": "display_data"
    }
   ],
   "source": [
    "plot_count(training)"
   ]
  },
  {
   "cell_type": "code",
   "execution_count": 1188,
   "metadata": {},
   "outputs": [
    {
     "data": {
      "text/html": [
       "<div>\n",
       "<style scoped>\n",
       "    .dataframe tbody tr th:only-of-type {\n",
       "        vertical-align: middle;\n",
       "    }\n",
       "\n",
       "    .dataframe tbody tr th {\n",
       "        vertical-align: top;\n",
       "    }\n",
       "\n",
       "    .dataframe thead th {\n",
       "        text-align: right;\n",
       "    }\n",
       "</style>\n",
       "<table border=\"1\" class=\"dataframe\">\n",
       "  <thead>\n",
       "    <tr style=\"text-align: right;\">\n",
       "      <th></th>\n",
       "      <th>class</th>\n",
       "      <th>handicapped-infants</th>\n",
       "      <th>water-project-cost-sharing</th>\n",
       "      <th>adoption-of-the-budget-resolution</th>\n",
       "      <th>physician-fee-freeze</th>\n",
       "      <th>el-salvador-aid</th>\n",
       "      <th>religious-groups-in-schools</th>\n",
       "      <th>anti-satellite-test-ban</th>\n",
       "      <th>aid-to-nicaraguan-contras</th>\n",
       "      <th>mx-missile</th>\n",
       "      <th>immigration</th>\n",
       "      <th>synfuels-crporation-cutback</th>\n",
       "      <th>education-spending</th>\n",
       "      <th>superfund-right-to-sue</th>\n",
       "      <th>crime</th>\n",
       "      <th>duty-free-exports</th>\n",
       "      <th>export-administration-act-south-africa</th>\n",
       "    </tr>\n",
       "  </thead>\n",
       "  <tbody>\n",
       "    <tr>\n",
       "      <td>count</td>\n",
       "      <td>210.000000</td>\n",
       "      <td>210.000000</td>\n",
       "      <td>210.000000</td>\n",
       "      <td>210.000000</td>\n",
       "      <td>210.000000</td>\n",
       "      <td>210.000000</td>\n",
       "      <td>210.000000</td>\n",
       "      <td>210.000000</td>\n",
       "      <td>210.000000</td>\n",
       "      <td>210.000000</td>\n",
       "      <td>210.000000</td>\n",
       "      <td>210.000000</td>\n",
       "      <td>210.000000</td>\n",
       "      <td>210.000000</td>\n",
       "      <td>210.000000</td>\n",
       "      <td>210.000000</td>\n",
       "      <td>210.000000</td>\n",
       "    </tr>\n",
       "    <tr>\n",
       "      <td>mean</td>\n",
       "      <td>0.361905</td>\n",
       "      <td>0.461905</td>\n",
       "      <td>0.485714</td>\n",
       "      <td>0.585714</td>\n",
       "      <td>0.400000</td>\n",
       "      <td>0.500000</td>\n",
       "      <td>0.614286</td>\n",
       "      <td>0.552381</td>\n",
       "      <td>0.580952</td>\n",
       "      <td>0.490476</td>\n",
       "      <td>0.533333</td>\n",
       "      <td>0.385714</td>\n",
       "      <td>0.347619</td>\n",
       "      <td>0.509524</td>\n",
       "      <td>0.580952</td>\n",
       "      <td>0.414286</td>\n",
       "      <td>0.676190</td>\n",
       "    </tr>\n",
       "    <tr>\n",
       "      <td>std</td>\n",
       "      <td>0.481700</td>\n",
       "      <td>0.499738</td>\n",
       "      <td>0.500990</td>\n",
       "      <td>0.493775</td>\n",
       "      <td>0.491069</td>\n",
       "      <td>0.501195</td>\n",
       "      <td>0.487927</td>\n",
       "      <td>0.498437</td>\n",
       "      <td>0.494582</td>\n",
       "      <td>0.501104</td>\n",
       "      <td>0.500080</td>\n",
       "      <td>0.487927</td>\n",
       "      <td>0.477352</td>\n",
       "      <td>0.501104</td>\n",
       "      <td>0.494582</td>\n",
       "      <td>0.493775</td>\n",
       "      <td>0.469046</td>\n",
       "    </tr>\n",
       "    <tr>\n",
       "      <td>min</td>\n",
       "      <td>0.000000</td>\n",
       "      <td>0.000000</td>\n",
       "      <td>0.000000</td>\n",
       "      <td>0.000000</td>\n",
       "      <td>0.000000</td>\n",
       "      <td>0.000000</td>\n",
       "      <td>0.000000</td>\n",
       "      <td>0.000000</td>\n",
       "      <td>0.000000</td>\n",
       "      <td>0.000000</td>\n",
       "      <td>0.000000</td>\n",
       "      <td>0.000000</td>\n",
       "      <td>0.000000</td>\n",
       "      <td>0.000000</td>\n",
       "      <td>0.000000</td>\n",
       "      <td>0.000000</td>\n",
       "      <td>0.000000</td>\n",
       "    </tr>\n",
       "    <tr>\n",
       "      <td>25%</td>\n",
       "      <td>0.000000</td>\n",
       "      <td>0.000000</td>\n",
       "      <td>0.000000</td>\n",
       "      <td>0.000000</td>\n",
       "      <td>0.000000</td>\n",
       "      <td>0.000000</td>\n",
       "      <td>0.000000</td>\n",
       "      <td>0.000000</td>\n",
       "      <td>0.000000</td>\n",
       "      <td>0.000000</td>\n",
       "      <td>0.000000</td>\n",
       "      <td>0.000000</td>\n",
       "      <td>0.000000</td>\n",
       "      <td>0.000000</td>\n",
       "      <td>0.000000</td>\n",
       "      <td>0.000000</td>\n",
       "      <td>0.000000</td>\n",
       "    </tr>\n",
       "    <tr>\n",
       "      <td>50%</td>\n",
       "      <td>0.000000</td>\n",
       "      <td>0.000000</td>\n",
       "      <td>0.000000</td>\n",
       "      <td>1.000000</td>\n",
       "      <td>0.000000</td>\n",
       "      <td>0.500000</td>\n",
       "      <td>1.000000</td>\n",
       "      <td>1.000000</td>\n",
       "      <td>1.000000</td>\n",
       "      <td>0.000000</td>\n",
       "      <td>1.000000</td>\n",
       "      <td>0.000000</td>\n",
       "      <td>0.000000</td>\n",
       "      <td>1.000000</td>\n",
       "      <td>1.000000</td>\n",
       "      <td>0.000000</td>\n",
       "      <td>1.000000</td>\n",
       "    </tr>\n",
       "    <tr>\n",
       "      <td>75%</td>\n",
       "      <td>1.000000</td>\n",
       "      <td>1.000000</td>\n",
       "      <td>1.000000</td>\n",
       "      <td>1.000000</td>\n",
       "      <td>1.000000</td>\n",
       "      <td>1.000000</td>\n",
       "      <td>1.000000</td>\n",
       "      <td>1.000000</td>\n",
       "      <td>1.000000</td>\n",
       "      <td>1.000000</td>\n",
       "      <td>1.000000</td>\n",
       "      <td>1.000000</td>\n",
       "      <td>1.000000</td>\n",
       "      <td>1.000000</td>\n",
       "      <td>1.000000</td>\n",
       "      <td>1.000000</td>\n",
       "      <td>1.000000</td>\n",
       "    </tr>\n",
       "    <tr>\n",
       "      <td>max</td>\n",
       "      <td>1.000000</td>\n",
       "      <td>1.000000</td>\n",
       "      <td>1.000000</td>\n",
       "      <td>1.000000</td>\n",
       "      <td>1.000000</td>\n",
       "      <td>1.000000</td>\n",
       "      <td>1.000000</td>\n",
       "      <td>1.000000</td>\n",
       "      <td>1.000000</td>\n",
       "      <td>1.000000</td>\n",
       "      <td>1.000000</td>\n",
       "      <td>1.000000</td>\n",
       "      <td>1.000000</td>\n",
       "      <td>1.000000</td>\n",
       "      <td>1.000000</td>\n",
       "      <td>1.000000</td>\n",
       "      <td>1.000000</td>\n",
       "    </tr>\n",
       "  </tbody>\n",
       "</table>\n",
       "</div>"
      ],
      "text/plain": [
       "            class  handicapped-infants  water-project-cost-sharing  \\\n",
       "count  210.000000           210.000000                  210.000000   \n",
       "mean     0.361905             0.461905                    0.485714   \n",
       "std      0.481700             0.499738                    0.500990   \n",
       "min      0.000000             0.000000                    0.000000   \n",
       "25%      0.000000             0.000000                    0.000000   \n",
       "50%      0.000000             0.000000                    0.000000   \n",
       "75%      1.000000             1.000000                    1.000000   \n",
       "max      1.000000             1.000000                    1.000000   \n",
       "\n",
       "       adoption-of-the-budget-resolution  physician-fee-freeze  \\\n",
       "count                         210.000000            210.000000   \n",
       "mean                            0.585714              0.400000   \n",
       "std                             0.493775              0.491069   \n",
       "min                             0.000000              0.000000   \n",
       "25%                             0.000000              0.000000   \n",
       "50%                             1.000000              0.000000   \n",
       "75%                             1.000000              1.000000   \n",
       "max                             1.000000              1.000000   \n",
       "\n",
       "       el-salvador-aid  religious-groups-in-schools  anti-satellite-test-ban  \\\n",
       "count       210.000000                   210.000000               210.000000   \n",
       "mean          0.500000                     0.614286                 0.552381   \n",
       "std           0.501195                     0.487927                 0.498437   \n",
       "min           0.000000                     0.000000                 0.000000   \n",
       "25%           0.000000                     0.000000                 0.000000   \n",
       "50%           0.500000                     1.000000                 1.000000   \n",
       "75%           1.000000                     1.000000                 1.000000   \n",
       "max           1.000000                     1.000000                 1.000000   \n",
       "\n",
       "       aid-to-nicaraguan-contras  mx-missile  immigration  \\\n",
       "count                 210.000000  210.000000   210.000000   \n",
       "mean                    0.580952    0.490476     0.533333   \n",
       "std                     0.494582    0.501104     0.500080   \n",
       "min                     0.000000    0.000000     0.000000   \n",
       "25%                     0.000000    0.000000     0.000000   \n",
       "50%                     1.000000    0.000000     1.000000   \n",
       "75%                     1.000000    1.000000     1.000000   \n",
       "max                     1.000000    1.000000     1.000000   \n",
       "\n",
       "       synfuels-crporation-cutback  education-spending  \\\n",
       "count                   210.000000          210.000000   \n",
       "mean                      0.385714            0.347619   \n",
       "std                       0.487927            0.477352   \n",
       "min                       0.000000            0.000000   \n",
       "25%                       0.000000            0.000000   \n",
       "50%                       0.000000            0.000000   \n",
       "75%                       1.000000            1.000000   \n",
       "max                       1.000000            1.000000   \n",
       "\n",
       "       superfund-right-to-sue       crime  duty-free-exports  \\\n",
       "count              210.000000  210.000000         210.000000   \n",
       "mean                 0.509524    0.580952           0.414286   \n",
       "std                  0.501104    0.494582           0.493775   \n",
       "min                  0.000000    0.000000           0.000000   \n",
       "25%                  0.000000    0.000000           0.000000   \n",
       "50%                  1.000000    1.000000           0.000000   \n",
       "75%                  1.000000    1.000000           1.000000   \n",
       "max                  1.000000    1.000000           1.000000   \n",
       "\n",
       "       export-administration-act-south-africa  \n",
       "count                              210.000000  \n",
       "mean                                 0.676190  \n",
       "std                                  0.469046  \n",
       "min                                  0.000000  \n",
       "25%                                  0.000000  \n",
       "50%                                  1.000000  \n",
       "75%                                  1.000000  \n",
       "max                                  1.000000  "
      ]
     },
     "execution_count": 1188,
     "metadata": {},
     "output_type": "execute_result"
    }
   ],
   "source": [
    "training = clean_rows(training, 14)\n",
    "training = imputate(training, False)\n",
    "training.describe()"
   ]
  },
  {
   "cell_type": "code",
   "execution_count": 1189,
   "metadata": {},
   "outputs": [
    {
     "data": {
      "image/png": "[encoded data removed]",
      "text/plain": [
       "<Figure size 1080x720 with 1 Axes>"
      ]
     },
     "metadata": {
      "needs_background": "light"
     },
     "output_type": "display_data"
    }
   ],
   "source": [
    "plot_count(training)"
   ]
  },
  {
   "cell_type": "code",
   "execution_count": 1190,
   "metadata": {},
   "outputs": [
    {
     "data": {
      "image/png": "[encoded data removed]",
      "text/plain": [
       "<Figure size 1080x720 with 1 Axes>"
      ]
     },
     "metadata": {
      "needs_background": "light"
     },
     "output_type": "display_data"
    }
   ],
   "source": [
    "plot_result_classes(training)"
   ]
  },
  {
   "cell_type": "code",
   "execution_count": 1191,
   "metadata": {},
   "outputs": [
    {
     "data": {
      "image/png": "[encoded data removed]",
      "text/plain": [
       "<Figure size 1080x720 with 1 Axes>"
      ]
     },
     "metadata": {
      "needs_background": "light"
     },
     "output_type": "display_data"
    }
   ],
   "source": [
    "plot_decisions(training, True)"
   ]
  },
  {
   "cell_type": "code",
   "execution_count": 1192,
   "metadata": {},
   "outputs": [],
   "source": [
    "# training models"
   ]
  },
  {
   "cell_type": "code",
   "execution_count": 1193,
   "metadata": {
    "scrolled": true
   },
   "outputs": [],
   "source": [
    "from sklearn.model_selection import train_test_split\n",
    "\n",
    "def preprocessing(thres, imp) :\n",
    "    training = transform_to_binary(training_init)\n",
    "    training = clean_rows(training, thres)\n",
    "    training = imputate(training, imp)\n",
    "    \n",
    "    train_target = training.drop('class', axis=1)\n",
    "    train_set, test_set = train_test_split(training, test_size=0.2, random_state=42)\n",
    "    train = np.array(train_set)[:,1:]\n",
    "    train_target = np.array(train_set)[:,0]\n",
    "    test = np.array(test_set)[:,1:]\n",
    "    test_target = np.array(test_set)[:,0]\n",
    "    \n",
    "    return train, train_target, test, test_target"
   ]
  },
  {
   "cell_type": "code",
   "execution_count": 1194,
   "metadata": {},
   "outputs": [],
   "source": [
    "from sklearn.neighbors import KNeighborsClassifier\n",
    "from sklearn.metrics import classification_report , confusion_matrix , balanced_accuracy_score , precision_score , recall_score , f1_score\n",
    "from sklearn.linear_model import Perceptron\n",
    "from sklearn.tree import DecisionTreeClassifier\n",
    "from sklearn.ensemble import RandomForestClassifier\n",
    "from sklearn.naive_bayes import MultinomialNB\n",
    "from sklearn.model_selection import GridSearchCV, cross_val_score\n",
    "\n",
    "\n",
    "import seaborn as sns\n",
    "sns.set_style('whitegrid')\n",
    "\n",
    "### Variables for performance analysis ###\n",
    "\n",
    "def create_perceptron(train_data, target, grid=[], **kwargs):\n",
    "    if grid != []:\n",
    "        clf = GridSearchCV(Perceptron(), grid, refit = True, verbose = 3,n_jobs=2)\n",
    "    else:\n",
    "        clf = Perceptron(**kwargs)\n",
    "    clf.fit(train_data, target)\n",
    "    return clf\n",
    "\n",
    "def create_rnd_forrest(train_data, target, grid=[], **kwargs):\n",
    "    if grid != []:\n",
    "        clf = GridSearchCV(RandomForestClassifier(), grid, refit = True, verbose = 3,n_jobs=2)\n",
    "    else:\n",
    "        clf = RandomForestClassifier(**kwargs)\n",
    "    clf.fit(train_data, target)\n",
    "    return clf\n",
    "\n",
    "def create_nb(train_data, target):\n",
    "    clf =MultinomialNB()\n",
    "    clf.fit(train_data , target)\n",
    "    return clf\n",
    "    \n",
    "def evaluate_algo(algo, test_data, test_target, train_data, train_target):\n",
    "    \n",
    "    print(algo)\n",
    "    pred_test  = algo.predict(test_data)\n",
    "    pred_train = algo.predict(train_data)\n",
    "    \n",
    "    # outputs\n",
    "    metrics = {\"accuracy\": 0, \"roc_auc\": 0, \"f1\": 0, \"precision\": 0, \"recall\": 0}\n",
    "    \n",
    "    # accuracy\n",
    "    if (balance) :\n",
    "        metrics[\"accuracy\"] = cross_val_score(ppn, train, train_target, scoring=\"balanced_accuracy\", cv=10, n_jobs=3).mean()\n",
    "        print(\"cross validation of balanced accuracy is {:.5} %\".format(metrics[\"accuracy\"]*100))\n",
    "    else :\n",
    "        metrics[\"accuracy\"] = 100*cross_val_score(ppn, train, train_target, scoring=\"accuracy\", cv=10, n_jobs=3).mean()\n",
    "        print(\"cross validation of accuracy is {:.5} %\".format(metrics[\"accuracy\"]*100))\n",
    "    \n",
    "    # confusion matrix\n",
    "    cmat = confusion_matrix(test_target, pred_test)\n",
    "    cmat_train = confusion_matrix(train_target, pred_train)\n",
    "    \n",
    "    # report of metrics\n",
    "    for score in [\"roc_auc\", \"f1\", \"precision\", \"recall\"]:\n",
    "        cvs = cross_val_score(algo, train, train_target, scoring=score, cv=5, n_jobs=3).mean()\n",
    "        print(score + \" : \"+ str(cvs))\n",
    "        metrics[score] = cvs\n",
    "    \n",
    "    # plot of the confusion matrix\n",
    "    plt.figure(figsize = (6, 6))\n",
    "    sns.heatmap(cmat, annot = True, \n",
    "                cmap = 'Paired', \n",
    "                cbar = False, \n",
    "                fmt=\"d\", \n",
    "                xticklabels=['Democrat', 'Republican'], \n",
    "                yticklabels=['Democrat', 'Republican']);\n",
    "    \n",
    "    return metrics"
   ]
  },
  {
   "cell_type": "code",
   "execution_count": null,
   "metadata": {},
   "outputs": [],
   "source": []
  },
  {
   "cell_type": "code",
   "execution_count": 1195,
   "metadata": {},
   "outputs": [
    {
     "name": "stderr",
     "output_type": "stream",
     "text": [
      "C:\\Users\\saeny\\Anaconda3\\lib\\site-packages\\sklearn\\model_selection\\_split.py:1978: FutureWarning: The default value of cv will change from 3 to 5 in version 0.22. Specify it explicitly to silence this warning.\n",
      "  warnings.warn(CV_WARNING, FutureWarning)\n",
      "[Parallel(n_jobs=2)]: Using backend LokyBackend with 2 concurrent workers.\n"
     ]
    },
    {
     "name": "stdout",
     "output_type": "stream",
     "text": [
      "Fitting 3 folds for each of 128 candidates, totalling 384 fits\n"
     ]
    },
    {
     "name": "stderr",
     "output_type": "stream",
     "text": [
      "[Parallel(n_jobs=2)]: Done  30 tasks      | elapsed:    3.6s\n",
      "[Parallel(n_jobs=2)]: Done 384 out of 384 | elapsed:    4.7s finished\n",
      "C:\\Users\\saeny\\Anaconda3\\lib\\site-packages\\sklearn\\model_selection\\_search.py:814: DeprecationWarning: The default of the `iid` parameter will change from True to False in version 0.22 and will be removed in 0.24. This will change numeric results when test-set sizes are unequal.\n",
      "  DeprecationWarning)\n"
     ]
    },
    {
     "name": "stdout",
     "output_type": "stream",
     "text": [
      "imputation: True, threshold = 6\n",
      "{'early_stopping': False, 'eta0': 0.3, 'max_iter': 10, 'tol': 0.1}\n"
     ]
    },
    {
     "name": "stderr",
     "output_type": "stream",
     "text": [
      "C:\\Users\\saeny\\Anaconda3\\lib\\site-packages\\sklearn\\model_selection\\_split.py:1978: FutureWarning: The default value of cv will change from 3 to 5 in version 0.22. Specify it explicitly to silence this warning.\n",
      "  warnings.warn(CV_WARNING, FutureWarning)\n",
      "[Parallel(n_jobs=2)]: Using backend LokyBackend with 2 concurrent workers.\n"
     ]
    },
    {
     "name": "stdout",
     "output_type": "stream",
     "text": [
      "Fitting 3 folds for each of 128 candidates, totalling 384 fits\n"
     ]
    },
    {
     "name": "stderr",
     "output_type": "stream",
     "text": [
      "[Parallel(n_jobs=2)]: Done 384 out of 384 | elapsed:    1.1s finished\n",
      "C:\\Users\\saeny\\Anaconda3\\lib\\site-packages\\sklearn\\model_selection\\_search.py:814: DeprecationWarning: The default of the `iid` parameter will change from True to False in version 0.22 and will be removed in 0.24. This will change numeric results when test-set sizes are unequal.\n",
      "  DeprecationWarning)\n"
     ]
    },
    {
     "name": "stdout",
     "output_type": "stream",
     "text": [
      "imputation: True, threshold = 6\n",
      "{'early_stopping': False, 'eta0': 0.3, 'max_iter': 10, 'tol': 0.1}\n"
     ]
    },
    {
     "name": "stderr",
     "output_type": "stream",
     "text": [
      "C:\\Users\\saeny\\Anaconda3\\lib\\site-packages\\sklearn\\model_selection\\_split.py:1978: FutureWarning: The default value of cv will change from 3 to 5 in version 0.22. Specify it explicitly to silence this warning.\n",
      "  warnings.warn(CV_WARNING, FutureWarning)\n",
      "[Parallel(n_jobs=2)]: Using backend LokyBackend with 2 concurrent workers.\n"
     ]
    },
    {
     "name": "stdout",
     "output_type": "stream",
     "text": [
      "Fitting 3 folds for each of 128 candidates, totalling 384 fits\n"
     ]
    },
    {
     "name": "stderr",
     "output_type": "stream",
     "text": [
      "[Parallel(n_jobs=2)]: Done 384 out of 384 | elapsed:    1.1s finished\n",
      "C:\\Users\\saeny\\Anaconda3\\lib\\site-packages\\sklearn\\model_selection\\_search.py:814: DeprecationWarning: The default of the `iid` parameter will change from True to False in version 0.22 and will be removed in 0.24. This will change numeric results when test-set sizes are unequal.\n",
      "  DeprecationWarning)\n",
      "C:\\Users\\saeny\\Anaconda3\\lib\\site-packages\\sklearn\\linear_model\\stochastic_gradient.py:561: ConvergenceWarning: Maximum number of iteration reached before convergence. Consider increasing max_iter to improve the fit.\n",
      "  ConvergenceWarning)\n"
     ]
    },
    {
     "name": "stdout",
     "output_type": "stream",
     "text": [
      "imputation: True, threshold = 6\n",
      "{'early_stopping': True, 'eta0': 0.1, 'max_iter': 10, 'tol': 0.0001}\n"
     ]
    },
    {
     "name": "stderr",
     "output_type": "stream",
     "text": [
      "C:\\Users\\saeny\\Anaconda3\\lib\\site-packages\\sklearn\\model_selection\\_split.py:1978: FutureWarning: The default value of cv will change from 3 to 5 in version 0.22. Specify it explicitly to silence this warning.\n",
      "  warnings.warn(CV_WARNING, FutureWarning)\n",
      "[Parallel(n_jobs=2)]: Using backend LokyBackend with 2 concurrent workers.\n"
     ]
    },
    {
     "name": "stdout",
     "output_type": "stream",
     "text": [
      "Fitting 3 folds for each of 128 candidates, totalling 384 fits\n"
     ]
    },
    {
     "name": "stderr",
     "output_type": "stream",
     "text": [
      "[Parallel(n_jobs=2)]: Done 384 out of 384 | elapsed:    1.2s finished\n",
      "C:\\Users\\saeny\\Anaconda3\\lib\\site-packages\\sklearn\\model_selection\\_search.py:814: DeprecationWarning: The default of the `iid` parameter will change from True to False in version 0.22 and will be removed in 0.24. This will change numeric results when test-set sizes are unequal.\n",
      "  DeprecationWarning)\n"
     ]
    },
    {
     "name": "stdout",
     "output_type": "stream",
     "text": [
      "imputation: True, threshold = 6\n",
      "{'early_stopping': True, 'eta0': 0.1, 'max_iter': 10, 'tol': 0.0001}\n"
     ]
    },
    {
     "name": "stderr",
     "output_type": "stream",
     "text": [
      "C:\\Users\\saeny\\Anaconda3\\lib\\site-packages\\sklearn\\model_selection\\_split.py:1978: FutureWarning: The default value of cv will change from 3 to 5 in version 0.22. Specify it explicitly to silence this warning.\n",
      "  warnings.warn(CV_WARNING, FutureWarning)\n",
      "[Parallel(n_jobs=2)]: Using backend LokyBackend with 2 concurrent workers.\n"
     ]
    },
    {
     "name": "stdout",
     "output_type": "stream",
     "text": [
      "Fitting 3 folds for each of 128 candidates, totalling 384 fits\n"
     ]
    },
    {
     "name": "stderr",
     "output_type": "stream",
     "text": [
      "[Parallel(n_jobs=2)]: Done 384 out of 384 | elapsed:    1.3s finished\n",
      "C:\\Users\\saeny\\Anaconda3\\lib\\site-packages\\sklearn\\linear_model\\stochastic_gradient.py:561: ConvergenceWarning: Maximum number of iteration reached before convergence. Consider increasing max_iter to improve the fit.\n",
      "  ConvergenceWarning)\n",
      "C:\\Users\\saeny\\Anaconda3\\lib\\site-packages\\sklearn\\model_selection\\_split.py:1978: FutureWarning: The default value of cv will change from 3 to 5 in version 0.22. Specify it explicitly to silence this warning.\n",
      "  warnings.warn(CV_WARNING, FutureWarning)\n",
      "[Parallel(n_jobs=2)]: Using backend LokyBackend with 2 concurrent workers.\n"
     ]
    },
    {
     "name": "stdout",
     "output_type": "stream",
     "text": [
      "imputation: True, threshold = 6\n",
      "{'early_stopping': False, 'eta0': 0.1, 'max_iter': 10, 'tol': 0.001}\n",
      "Fitting 3 folds for each of 128 candidates, totalling 384 fits\n"
     ]
    },
    {
     "name": "stderr",
     "output_type": "stream",
     "text": [
      "[Parallel(n_jobs=2)]: Done 384 out of 384 | elapsed:    1.1s finished\n",
      "C:\\Users\\saeny\\Anaconda3\\lib\\site-packages\\sklearn\\model_selection\\_search.py:814: DeprecationWarning: The default of the `iid` parameter will change from True to False in version 0.22 and will be removed in 0.24. This will change numeric results when test-set sizes are unequal.\n",
      "  DeprecationWarning)\n",
      "C:\\Users\\saeny\\Anaconda3\\lib\\site-packages\\sklearn\\model_selection\\_split.py:1978: FutureWarning: The default value of cv will change from 3 to 5 in version 0.22. Specify it explicitly to silence this warning.\n",
      "  warnings.warn(CV_WARNING, FutureWarning)\n",
      "[Parallel(n_jobs=2)]: Using backend LokyBackend with 2 concurrent workers.\n"
     ]
    },
    {
     "name": "stdout",
     "output_type": "stream",
     "text": [
      "imputation: True, threshold = 6\n",
      "{'early_stopping': True, 'eta0': 0.3, 'max_iter': 10, 'tol': 0.0001}\n",
      "Fitting 3 folds for each of 128 candidates, totalling 384 fits\n"
     ]
    },
    {
     "name": "stderr",
     "output_type": "stream",
     "text": [
      "[Parallel(n_jobs=2)]: Done 384 out of 384 | elapsed:    1.2s finished\n",
      "C:\\Users\\saeny\\Anaconda3\\lib\\site-packages\\sklearn\\model_selection\\_search.py:814: DeprecationWarning: The default of the `iid` parameter will change from True to False in version 0.22 and will be removed in 0.24. This will change numeric results when test-set sizes are unequal.\n",
      "  DeprecationWarning)\n",
      "C:\\Users\\saeny\\Anaconda3\\lib\\site-packages\\sklearn\\model_selection\\_split.py:1978: FutureWarning: The default value of cv will change from 3 to 5 in version 0.22. Specify it explicitly to silence this warning.\n",
      "  warnings.warn(CV_WARNING, FutureWarning)\n",
      "[Parallel(n_jobs=2)]: Using backend LokyBackend with 2 concurrent workers.\n"
     ]
    },
    {
     "name": "stdout",
     "output_type": "stream",
     "text": [
      "imputation: False, threshold = 6\n",
      "{'early_stopping': True, 'eta0': 0.1, 'max_iter': 10, 'tol': 0.0001}\n",
      "Fitting 3 folds for each of 128 candidates, totalling 384 fits\n"
     ]
    },
    {
     "name": "stderr",
     "output_type": "stream",
     "text": [
      "[Parallel(n_jobs=2)]: Done 384 out of 384 | elapsed:    1.2s finished\n",
      "C:\\Users\\saeny\\Anaconda3\\lib\\site-packages\\sklearn\\model_selection\\_search.py:814: DeprecationWarning: The default of the `iid` parameter will change from True to False in version 0.22 and will be removed in 0.24. This will change numeric results when test-set sizes are unequal.\n",
      "  DeprecationWarning)\n",
      "C:\\Users\\saeny\\Anaconda3\\lib\\site-packages\\sklearn\\model_selection\\_split.py:1978: FutureWarning: The default value of cv will change from 3 to 5 in version 0.22. Specify it explicitly to silence this warning.\n",
      "  warnings.warn(CV_WARNING, FutureWarning)\n",
      "[Parallel(n_jobs=2)]: Using backend LokyBackend with 2 concurrent workers.\n"
     ]
    },
    {
     "name": "stdout",
     "output_type": "stream",
     "text": [
      "imputation: False, threshold = 6\n",
      "{'early_stopping': False, 'eta0': 0.1, 'max_iter': 10, 'tol': 0.1}\n",
      "Fitting 3 folds for each of 128 candidates, totalling 384 fits\n"
     ]
    },
    {
     "name": "stderr",
     "output_type": "stream",
     "text": [
      "[Parallel(n_jobs=2)]: Done 384 out of 384 | elapsed:    1.4s finished\n",
      "C:\\Users\\saeny\\Anaconda3\\lib\\site-packages\\sklearn\\model_selection\\_search.py:814: DeprecationWarning: The default of the `iid` parameter will change from True to False in version 0.22 and will be removed in 0.24. This will change numeric results when test-set sizes are unequal.\n",
      "  DeprecationWarning)\n",
      "C:\\Users\\saeny\\Anaconda3\\lib\\site-packages\\sklearn\\model_selection\\_split.py:1978: FutureWarning: The default value of cv will change from 3 to 5 in version 0.22. Specify it explicitly to silence this warning.\n",
      "  warnings.warn(CV_WARNING, FutureWarning)\n",
      "[Parallel(n_jobs=2)]: Using backend LokyBackend with 2 concurrent workers.\n"
     ]
    },
    {
     "name": "stdout",
     "output_type": "stream",
     "text": [
      "imputation: False, threshold = 6\n",
      "{'early_stopping': True, 'eta0': 0.1, 'max_iter': 10, 'tol': 0.0001}\n",
      "Fitting 3 folds for each of 128 candidates, totalling 384 fits\n"
     ]
    },
    {
     "name": "stderr",
     "output_type": "stream",
     "text": [
      "[Parallel(n_jobs=2)]: Done 384 out of 384 | elapsed:    1.3s finished\n",
      "C:\\Users\\saeny\\Anaconda3\\lib\\site-packages\\sklearn\\model_selection\\_search.py:814: DeprecationWarning: The default of the `iid` parameter will change from True to False in version 0.22 and will be removed in 0.24. This will change numeric results when test-set sizes are unequal.\n",
      "  DeprecationWarning)\n",
      "C:\\Users\\saeny\\Anaconda3\\lib\\site-packages\\sklearn\\model_selection\\_split.py:1978: FutureWarning: The default value of cv will change from 3 to 5 in version 0.22. Specify it explicitly to silence this warning.\n",
      "  warnings.warn(CV_WARNING, FutureWarning)\n",
      "[Parallel(n_jobs=2)]: Using backend LokyBackend with 2 concurrent workers.\n"
     ]
    },
    {
     "name": "stdout",
     "output_type": "stream",
     "text": [
      "imputation: False, threshold = 6\n",
      "{'early_stopping': False, 'eta0': 0.1, 'max_iter': 20, 'tol': 0.0001}\n",
      "Fitting 3 folds for each of 128 candidates, totalling 384 fits\n"
     ]
    },
    {
     "name": "stderr",
     "output_type": "stream",
     "text": [
      "[Parallel(n_jobs=2)]: Done 384 out of 384 | elapsed:    1.2s finished\n",
      "C:\\Users\\saeny\\Anaconda3\\lib\\site-packages\\sklearn\\model_selection\\_search.py:814: DeprecationWarning: The default of the `iid` parameter will change from True to False in version 0.22 and will be removed in 0.24. This will change numeric results when test-set sizes are unequal.\n",
      "  DeprecationWarning)\n",
      "C:\\Users\\saeny\\Anaconda3\\lib\\site-packages\\sklearn\\model_selection\\_split.py:1978: FutureWarning: The default value of cv will change from 3 to 5 in version 0.22. Specify it explicitly to silence this warning.\n",
      "  warnings.warn(CV_WARNING, FutureWarning)\n",
      "[Parallel(n_jobs=2)]: Using backend LokyBackend with 2 concurrent workers.\n"
     ]
    },
    {
     "name": "stdout",
     "output_type": "stream",
     "text": [
      "imputation: False, threshold = 6\n",
      "{'early_stopping': False, 'eta0': 0.3, 'max_iter': 20, 'tol': 0.0001}\n",
      "Fitting 3 folds for each of 128 candidates, totalling 384 fits\n",
      "imputation: False, threshold = 6\n",
      "{'early_stopping': False, 'eta0': 0.3, 'max_iter': 10, 'tol': 0.0001}\n"
     ]
    },
    {
     "name": "stderr",
     "output_type": "stream",
     "text": [
      "[Parallel(n_jobs=2)]: Done 384 out of 384 | elapsed:    1.2s finished\n",
      "C:\\Users\\saeny\\Anaconda3\\lib\\site-packages\\sklearn\\linear_model\\stochastic_gradient.py:561: ConvergenceWarning: Maximum number of iteration reached before convergence. Consider increasing max_iter to improve the fit.\n",
      "  ConvergenceWarning)\n"
     ]
    }
   ],
   "source": [
    "# test of different preprocessing methods with the optimal parameters \n",
    "\n",
    "param_grid = {'eta0': [0.1,0.2,0.3,0.4],  \n",
    "              'early_stopping': [True, False],\n",
    "              'max_iter':[10,20,30,100],\n",
    "              'tol':[1e-4,1e-3,1e-2,1e-1]}  \n",
    "\n",
    "L = []\n",
    "for imputation in [True, False] :\n",
    "    for thres in range(6,17,2) :\n",
    "        training = training_init.copy()\n",
    "        train, train_target, test, test_target = preprocessing(thres, imputation)\n",
    "        ppn = create_perceptron(train, train_target, grid = param_grid)\n",
    "        text = \"imputation: \" + str(imputation) + \", threshold = \" + str(thresh)\n",
    "        params = ppn.best_params_\n",
    "        print(text)\n",
    "        print(params) \n",
    "        L.append((text,params,[train, train_target, test, test_target]))"
   ]
  },
  {
   "cell_type": "code",
   "execution_count": 1197,
   "metadata": {},
   "outputs": [
    {
     "name": "stderr",
     "output_type": "stream",
     "text": [
      "C:\\Users\\saeny\\Anaconda3\\lib\\site-packages\\sklearn\\linear_model\\stochastic_gradient.py:561: ConvergenceWarning: Maximum number of iteration reached before convergence. Consider increasing max_iter to improve the fit.\n",
      "  ConvergenceWarning)\n",
      "C:\\Users\\saeny\\Anaconda3\\lib\\site-packages\\sklearn\\linear_model\\stochastic_gradient.py:561: ConvergenceWarning: Maximum number of iteration reached before convergence. Consider increasing max_iter to improve the fit.\n",
      "  ConvergenceWarning)\n",
      "C:\\Users\\saeny\\Anaconda3\\lib\\site-packages\\sklearn\\linear_model\\stochastic_gradient.py:561: ConvergenceWarning: Maximum number of iteration reached before convergence. Consider increasing max_iter to improve the fit.\n",
      "  ConvergenceWarning)\n"
     ]
    },
    {
     "name": "stdout",
     "output_type": "stream",
     "text": [
      "imputation: False, threshold = 6\n",
      "{'early_stopping': True, 'eta0': 0.1, 'max_iter': 10, 'tol': 0.0001}\n",
      "\n",
      "\n",
      "Perceptron(alpha=0.0001, class_weight=None, early_stopping=True, eta0=0.1,\n",
      "           fit_intercept=True, max_iter=10, n_iter_no_change=5, n_jobs=None,\n",
      "           penalty=None, random_state=0, shuffle=True, tol=0.0001,\n",
      "           validation_fraction=0.1, verbose=0, warm_start=False)\n",
      "cross validation of balanced accuracy is 92.051 %\n",
      "roc_auc : 0.9649184149184149\n",
      "f1 : 0.9099999999999999\n",
      "precision : 0.9833333333333332\n",
      "recall : 0.8505494505494505\n"
     ]
    },
    {
     "data": {
      "text/plain": [
       "{'accuracy': 0.9205128205128206,\n",
       " 'roc_auc': 0.9649184149184149,\n",
       " 'f1': 0.9099999999999999,\n",
       " 'precision': 0.9833333333333332,\n",
       " 'recall': 0.8505494505494505}"
      ]
     },
     "execution_count": 1197,
     "metadata": {},
     "output_type": "execute_result"
    },
    {
     "data": {
      "image/png": "[encoded data removed]",
      "text/plain": [
       "<Figure size 432x432 with 1 Axes>"
      ]
     },
     "metadata": {},
     "output_type": "display_data"
    }
   ],
   "source": [
    "prepro_text = \"\"\n",
    "parameters = None\n",
    "datasets = []\n",
    "score = 0\n",
    "for (text, params, prepro) in L :\n",
    "    train, train_target, test, test_target = prepro[0], prepro[1], prepro[2], prepro[3]\n",
    "    ppn = create_perceptron(train, train_target, **params)\n",
    "    new_score = cross_val_score(ppn, train, train_target, scoring=\"accuracy\", cv=5, n_jobs=3).mean()\n",
    "    if new_score > score :\n",
    "        score = new_score\n",
    "        prepro_text = text\n",
    "        parameters = params\n",
    "        datasets = prepro\n",
    "    #evaluate_algo(ppn, test, test_target, train, train_target)\n",
    "print(best_preprocessing)\n",
    "print(parameters)\n",
    "print(\"\\n\")\n",
    "\n",
    "train, train_target, test, test_target = datasets[0], datasets[1], datasets[2], datasets[3]\n",
    "ppn = create_perceptron(train, train_target, **parameters)\n",
    "evaluate_algo(ppn, test, test_target, train, train_target)"
   ]
  },
  {
   "cell_type": "code",
   "execution_count": 1223,
   "metadata": {},
   "outputs": [
    {
     "data": {
      "text/plain": [
       "[<matplotlib.lines.Line2D at 0x186a2162f48>]"
      ]
     },
     "execution_count": 1223,
     "metadata": {},
     "output_type": "execute_result"
    },
    {
     "data": {
      "image/png": "[encoded data removed]",
      "text/plain": [
       "<Figure size 432x288 with 1 Axes>"
      ]
     },
     "metadata": {},
     "output_type": "display_data"
    }
   ],
   "source": [
    "# stopping criterion\n",
    "import warnings\n",
    "warnings.filterwarnings('ignore')\n",
    "vals      = np.array([1e-5,1e-4,1e-3,1e-2,1e-1])\n",
    "scores    = []\n",
    "scores_cv = []\n",
    "for x in vals:\n",
    "    ppn = create_perceptron(train, train_target, eta0=0.1, max_iter=10,tol=x)\n",
    "    scores.append(ppn.score(train, train_target))\n",
    "    scores_cv.append(cross_val_score(ppn, train, train_target,scoring=\"balanced_accuracy\", cv=10).mean())\n",
    "plt.semilogx(vals, scores,\"o-\")\n",
    "plt.semilogx(vals, scores_cv,\"o-\")"
   ]
  },
  {
   "cell_type": "code",
   "execution_count": 1221,
   "metadata": {},
   "outputs": [
    {
     "data": {
      "text/plain": [
       "[<matplotlib.lines.Line2D at 0x186a1ce2bc8>]"
      ]
     },
     "execution_count": 1221,
     "metadata": {},
     "output_type": "execute_result"
    },
    {
     "data": {
      "image/png": "[encoded data removed]",
      "text/plain": [
       "<Figure size 432x288 with 1 Axes>"
      ]
     },
     "metadata": {},
     "output_type": "display_data"
    }
   ],
   "source": [
    "# maximum iterations\n",
    "vals      = np.array([5, 7, 8, 9, 10, 11, 12, 15, 20, 25, 30, 40, 50])\n",
    "scores    = []\n",
    "scores_cv = []\n",
    "for x in vals:\n",
    "    ppn = create_perceptron(train, train_target, eta0=0.1, max_iter=x,tol=0.001)\n",
    "    scores.append(ppn.score(train, train_target))\n",
    "    scores_cv.append(cross_val_score(ppn, train, train_target,scoring=\"balanced_accuracy\", cv=10).mean())\n",
    "plt.plot(vals, scores,\"o-\")\n",
    "plt.plot(vals, scores_cv,\"o-\")"
   ]
  },
  {
   "cell_type": "code",
   "execution_count": 1225,
   "metadata": {},
   "outputs": [
    {
     "data": {
      "text/plain": [
       "[<matplotlib.lines.Line2D at 0x186a342c088>]"
      ]
     },
     "execution_count": 1225,
     "metadata": {},
     "output_type": "execute_result"
    },
    {
     "data": {
      "image/png": "[encoded data removed]",
      "text/plain": [
       "<Figure size 432x288 with 1 Axes>"
      ]
     },
     "metadata": {},
     "output_type": "display_data"
    }
   ],
   "source": [
    "#learning rate\n",
    "vals      = np.array([1e-4, 1e-3, 0.01, 0.1, 0.2, 0.3, 0.4, 0.6, 0.8])\n",
    "scores    = []\n",
    "scores_cv = []\n",
    "for x in vals:\n",
    "    ppn = create_perceptron(train, train_target, eta0=x, max_iter=10,tol=0.001)\n",
    "    scores.append(ppn.score(train, train_target))\n",
    "    scores_cv.append(cross_val_score(ppn, train, train_target,scoring=\"balanced_accuracy\", cv=10).mean())\n",
    "plt.semilogx(vals, scores,\"o-\")\n",
    "plt.semilogx(vals, scores_cv,\"o-\")"
   ]
  },
  {
   "cell_type": "code",
   "execution_count": null,
   "metadata": {},
   "outputs": [],
   "source": [
    "# penalty parameter\n",
    "vals_names = [\"l2\",\"l1\",\"elasticnet\",\"None\"]\n",
    "vals       = [0, 1, 2, 3]\n",
    "scores    = []\n",
    "scores_cv = []\n",
    "for x in vals_names:\n",
    "    ppn = create_perceptron(train, train_target, eta0=0.1, max_iter=10,tol=0.001, penalty=x)\n",
    "    scores.append(ppn.score(train, train_target))\n",
    "    scores_cv.append(cross_val_score(ppn, train, train_target,scoring=\"accuracy\", cv=10).mean())\n",
    "plt.plot(vals, scores,\"o-\")\n",
    "plt.plot(vals, scores_cv,\"o-\")"
   ]
  },
  {
   "cell_type": "code",
   "execution_count": null,
   "metadata": {},
   "outputs": [],
   "source": [
    "param_grid = {'criterion': [\"gini\", \"entropy\"]}  \n",
    "rndf = create_rnd_forrest(train, train_target, grid=param_grid)\n",
    "print(rndf.best_params_) "
   ]
  },
  {
   "cell_type": "code",
   "execution_count": null,
   "metadata": {},
   "outputs": [],
   "source": [
    "rndf = create_rnd_forrest(train, train_target, **rndf.best_params_)\n",
    "\n",
    "evaluate_algo(rndf, test, test_target, train, train_target)\n"
   ]
  },
  {
   "cell_type": "code",
   "execution_count": null,
   "metadata": {},
   "outputs": [],
   "source": [
    "nb = create_nb(train, train_target)\n",
    "evaluate_algo(nb, test, test_target, train, train_target)"
   ]
  },
  {
   "cell_type": "code",
   "execution_count": null,
   "metadata": {},
   "outputs": [],
   "source": [
    "for row in abstract :\n",
    "    print(\"_________________________________________________________________________________________________\")\n",
    "    print(\"\\n\")\n",
    "    print(row[0])\n",
    "    for e in row[1:] :\n",
    "        print(e[0] + \" : \" + str(e[1]) + \" \" + str(e[2]))\n",
    "    print(\"\\n\")"
   ]
  },
  {
   "cell_type": "code",
   "execution_count": null,
   "metadata": {},
   "outputs": [],
   "source": []
  },
  {
   "cell_type": "code",
   "execution_count": null,
   "metadata": {},
   "outputs": [],
   "source": []
  },
  {
   "cell_type": "code",
   "execution_count": null,
   "metadata": {},
   "outputs": [],
   "source": [
    "#preprocessing of testset\n",
    "\n",
    "test = pd.read_csv(\"./CongressionalVotingID.shuf.tes.csv\")\n",
    "test_init = test.copy()\n",
    "test.drop('ID', axis=1, inplace=True)\n",
    "test = test.applymap(lambda x : 1 if x == \"y\" else (0 if x == \"n\" else (np.nan if x == \"unknown\" else (1 if x == \"republican\" else 0))))\n",
    "m = test.copy()\n",
    "n = m.isna().sum(axis=1)\n",
    "n.name = \"missing values in row\"\n",
    "d = n.to_frame()\n",
    "d[\"number of rows\"] = test_init[\"ID\"]\n",
    "d = d.groupby(\"missing values in row\").count()\n",
    "if (imputation) :\n",
    "    array = np.round(imp.transform(test))\n",
    "    test = pd.DataFrame(array, columns = test.columns)\n",
    "else :\n",
    "    test = test.fillna(random.randint(0,1))\n",
    "test.describe()\n"
   ]
  },
  {
   "cell_type": "code",
   "execution_count": null,
   "metadata": {},
   "outputs": [],
   "source": []
  },
  {
   "cell_type": "code",
   "execution_count": null,
   "metadata": {},
   "outputs": [],
   "source": []
  }
 ],
 "metadata": {
  "kernelspec": {
   "display_name": "Python 3",
   "language": "python",
   "name": "python3"
  },
  "language_info": {
   "codemirror_mode": {
    "name": "ipython",
    "version": 3
   },
   "file_extension": ".py",
   "mimetype": "text/x-python",
   "name": "python",
   "nbconvert_exporter": "python",
   "pygments_lexer": "ipython3",
   "version": "3.8.8"
  }
 },
 "nbformat": 4,
 "nbformat_minor": 4
}
