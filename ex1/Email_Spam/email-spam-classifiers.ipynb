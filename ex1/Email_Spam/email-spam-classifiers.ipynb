{
 "cells": [
  {
   "cell_type": "code",
   "execution_count": 1,
   "id": "proud-robertson",
   "metadata": {},
   "outputs": [],
   "source": [
    "import pandas as pd\n",
    "%matplotlib inline\n",
    "import matplotlib.pyplot as plt\n",
    "import seaborn as sns\n",
    "import numpy as np"
   ]
  },
  {
   "cell_type": "code",
   "execution_count": 2,
   "id": "popular-buffer",
   "metadata": {},
   "outputs": [
    {
     "data": {
      "text/html": [
       "<div>\n",
       "<style scoped>\n",
       "    .dataframe tbody tr th:only-of-type {\n",
       "        vertical-align: middle;\n",
       "    }\n",
       "\n",
       "    .dataframe tbody tr th {\n",
       "        vertical-align: top;\n",
       "    }\n",
       "\n",
       "    .dataframe thead th {\n",
       "        text-align: right;\n",
       "    }\n",
       "</style>\n",
       "<table border=\"1\" class=\"dataframe\">\n",
       "  <thead>\n",
       "    <tr style=\"text-align: right;\">\n",
       "      <th></th>\n",
       "      <th>Body</th>\n",
       "      <th>Label</th>\n",
       "    </tr>\n",
       "  </thead>\n",
       "  <tbody>\n",
       "    <tr>\n",
       "      <th>0</th>\n",
       "      <td>Subject: stock promo mover : cwtd\\n * * * urge...</td>\n",
       "      <td>1</td>\n",
       "    </tr>\n",
       "    <tr>\n",
       "      <th>1</th>\n",
       "      <td>Subject: are you listed in major search engine...</td>\n",
       "      <td>1</td>\n",
       "    </tr>\n",
       "    <tr>\n",
       "      <th>2</th>\n",
       "      <td>Subject: important information thu , 30 jun 20...</td>\n",
       "      <td>1</td>\n",
       "    </tr>\n",
       "    <tr>\n",
       "      <th>3</th>\n",
       "      <td>Subject: = ? utf - 8 ? q ? bask your life with...</td>\n",
       "      <td>1</td>\n",
       "    </tr>\n",
       "    <tr>\n",
       "      <th>4</th>\n",
       "      <td>Subject: \" bidstogo \" is places to go , things...</td>\n",
       "      <td>1</td>\n",
       "    </tr>\n",
       "  </tbody>\n",
       "</table>\n",
       "</div>"
      ],
      "text/plain": [
       "                                                Body  Label\n",
       "0  Subject: stock promo mover : cwtd\\n * * * urge...      1\n",
       "1  Subject: are you listed in major search engine...      1\n",
       "2  Subject: important information thu , 30 jun 20...      1\n",
       "3  Subject: = ? utf - 8 ? q ? bask your life with...      1\n",
       "4  Subject: \" bidstogo \" is places to go , things...      1"
      ]
     },
     "execution_count": 2,
     "metadata": {},
     "output_type": "execute_result"
    }
   ],
   "source": [
    "# read datasets:\n",
    "sp_data0 = pd.read_csv(\"./enronSpamSubset.csv\").drop(['Unnamed: 0', 'Unnamed: 0.1'], axis=1)\n",
    "sp_data1 = pd.read_csv(\"./lingSpam.csv\").drop(['Unnamed: 0'], axis=1)\n",
    "sp_data1.drop(sp_data1.tail(1).index,inplace=True) # drop last row since it summarizes all rows again\n",
    "sp_data = pd.concat([sp_data0, sp_data1]) \n",
    "sp_data.head()"
   ]
  },
  {
   "cell_type": "code",
   "execution_count": 10,
   "id": "alien-distribution",
   "metadata": {},
   "outputs": [
    {
     "name": "stdout",
     "output_type": "stream",
     "text": [
      "<class 'pandas.core.frame.DataFrame'>\n",
      "Int64Index: 2521 entries, 8466 to 9802\n",
      "Data columns (total 2 columns):\n",
      " #   Column  Non-Null Count  Dtype \n",
      "---  ------  --------------  ----- \n",
      " 0   Body    2521 non-null   object\n",
      " 1   Label   2521 non-null   int64 \n",
      "dtypes: int64(1), object(1)\n",
      "memory usage: 59.1+ KB\n"
     ]
    }
   ],
   "source": [
    "# test train split\n",
    "from sklearn.model_selection import train_test_split\n",
    "train_set, test_set = train_test_split(sp_data, test_size=0.2, random_state=42)\n",
    "test_set.info()"
   ]
  },
  {
   "cell_type": "code",
   "execution_count": 11,
   "id": "widespread-bulletin",
   "metadata": {},
   "outputs": [
    {
     "name": "stdout",
     "output_type": "stream",
     "text": [
      "There are 217 duplicates.\n"
     ]
    }
   ],
   "source": [
    "# check if we have duplicates\n",
    "print(\"There are {} duplicates.\".format(np.sum(train_set.duplicated())))\n",
    "\n",
    "# remove duplicates\n",
    "if False:\n",
    "    sp_data = train_set.drop_duplicates() "
   ]
  },
  {
   "cell_type": "code",
   "execution_count": 12,
   "id": "imposed-sarah",
   "metadata": {},
   "outputs": [
    {
     "name": "stdout",
     "output_type": "stream",
     "text": [
      "<class 'pandas.core.frame.DataFrame'>\n",
      "Int64Index: 10083 entries, 4299 to 7270\n",
      "Data columns (total 2 columns):\n",
      " #   Column  Non-Null Count  Dtype \n",
      "---  ------  --------------  ----- \n",
      " 0   Body    10083 non-null  object\n",
      " 1   Label   10083 non-null  int64 \n",
      "dtypes: int64(1), object(1)\n",
      "memory usage: 236.3+ KB\n"
     ]
    }
   ],
   "source": [
    "train_set.info() # check if we have missing values\n",
    "\n",
    "# delete missing values\n",
    "if False:\n",
    "    train_set.dropna(inplace=True)"
   ]
  },
  {
   "cell_type": "code",
   "execution_count": 117,
   "id": "sustained-average",
   "metadata": {},
   "outputs": [
    {
     "name": "stderr",
     "output_type": "stream",
     "text": [
      "[nltk_data] Downloading package wordnet to /home/fabian/nltk_data...\n",
      "[nltk_data]   Package wordnet is already up-to-date!\n",
      "[nltk_data] Downloading package punkt to /home/fabian/nltk_data...\n",
      "[nltk_data]   Package punkt is already up-to-date!\n",
      "[nltk_data] Downloading package stopwords to /home/fabian/nltk_data...\n",
      "[nltk_data]   Package stopwords is already up-to-date!\n"
     ]
    }
   ],
   "source": [
    "import re\n",
    "import nltk\n",
    "from nltk.stem import WordNetLemmatizer\n",
    "nltk.download('wordnet')\n",
    "nltk.download('punkt')\n",
    "nltk.download('stopwords')\n",
    "\n",
    "\n",
    "def prep_mails(text_col, features=[1,1,1,1,1]):\n",
    "    \n",
    "    text_col = [text[7:] for text in text_col] # do not include \"Subject:\" prefix\n",
    "    \n",
    "    if features[0]:\n",
    "        # remove links since they end up in tokens with no meaning\n",
    "        text_col = [re.sub(r'http\\S+', '', text) for text in text_col]\n",
    "    \n",
    "    if features[1]:\n",
    "        # remove everything exept alphabetical characters and numbers\n",
    "        pattern = [\"[^a-zA-Z0-9]\", \"[^a-zA-Z]\"]\n",
    "        text_col = [re.sub(pattern[1],\" \",text) for text in text_col]\n",
    "    \n",
    "    if features[2]:\n",
    "        # convert uppercase chars in lowercase chars\n",
    "        text_col = [text.lower() for text in text_col]\n",
    "    \n",
    "    # turn sentences into seperate worlds\n",
    "    data_tokenized = [nltk.word_tokenize(text) for text in text_col]\n",
    "    \n",
    "    if features[3]:\n",
    "        # lemmatize all world, that is convert them into most basic form\n",
    "        lemma = WordNetLemmatizer()\n",
    "        data_tokenized = [[lemma.lemmatize(word) for word in text] for text in data_tokenized]\n",
    "    \n",
    "    if features[4]:\n",
    "        stopwords = nltk.corpus.stopwords.words(\"english\")\n",
    "        data_tokenized = [[word for word in text if word not in stopwords] for text in data_tokenized]\n",
    "    \n",
    "    return data_tokenized"
   ]
  },
  {
   "cell_type": "code",
   "execution_count": 118,
   "id": "corporate-buffer",
   "metadata": {},
   "outputs": [],
   "source": [
    "# clean up text data \n",
    "train_set_prepped = prep_mails(train_set[\"Body\"])"
   ]
  },
  {
   "cell_type": "code",
   "execution_count": 119,
   "id": "perceived-springer",
   "metadata": {
    "scrolled": true
   },
   "outputs": [],
   "source": [
    "def split_words(document_list):\n",
    "    return [\" \".join(text) for text in document_list]\n",
    "\n",
    "n_features = 300 # maximum number in bag of words extractor\n",
    "# count occurences of attibutes in mails\n",
    "# reduced number of attributes to the N-attributes with most occureces\n",
    "from sklearn.feature_extraction.text import CountVectorizer\n",
    "\n",
    "vectorizer_bow = CountVectorizer(max_features=n_features)\n",
    "# Learn the vocabulary dictionary and return document-term matrix.\n",
    "train_vectors = vectorizer_bow.fit_transform(split_words(train_set_prepped)).toarray()\n",
    "#vectorizer_bow.get_feature_names()\n"
   ]
  },
  {
   "cell_type": "code",
   "execution_count": 137,
   "id": "necessary-jacksonville",
   "metadata": {},
   "outputs": [
    {
     "data": {
      "text/plain": [
       "KNeighborsClassifier(n_neighbors=2)"
      ]
     },
     "execution_count": 137,
     "metadata": {},
     "output_type": "execute_result"
    }
   ],
   "source": [
    "from sklearn.neighbors import KNeighborsClassifier\n",
    "knn = KNeighborsClassifier(n_neighbors = 2)\n",
    "knn.fit(train_vectors, train_set[\"Label\"] )"
   ]
  },
  {
   "cell_type": "code",
   "execution_count": 128,
   "id": "apparent-solomon",
   "metadata": {},
   "outputs": [],
   "source": [
    "# apply cleanup pipeline to testset\n",
    "test_set_prepped = prep_mails(test_set[\"Body\"])"
   ]
  },
  {
   "cell_type": "code",
   "execution_count": 138,
   "id": "rental-entrance",
   "metadata": {},
   "outputs": [],
   "source": [
    "# vectorize testset by same vectorizer as train set\n",
    "test_vectors = vectorizer_bow.transform(split_words(test_set_prepped)).toarray()\n",
    "pred_test = knn.predict(test_vectors)"
   ]
  },
  {
   "cell_type": "code",
   "execution_count": 139,
   "id": "reserved-michael",
   "metadata": {},
   "outputs": [
    {
     "data": {
      "text/plain": [
       "0.9044030146767156"
      ]
     },
     "execution_count": 139,
     "metadata": {},
     "output_type": "execute_result"
    }
   ],
   "source": [
    "# evaluate results\n",
    "from sklearn.metrics import classification_report , confusion_matrix , accuracy_score\n",
    "accuracy_score(test_set[\"Label\"], pred_test)"
   ]
  },
  {
   "cell_type": "code",
   "execution_count": null,
   "id": "massive-restoration",
   "metadata": {},
   "outputs": [],
   "source": []
  },
  {
   "cell_type": "code",
   "execution_count": 168,
   "id": "painful-relaxation",
   "metadata": {},
   "outputs": [
    {
     "data": {
      "text/plain": [
       "0.882189607298691"
      ]
     },
     "execution_count": 168,
     "metadata": {},
     "output_type": "execute_result"
    }
   ],
   "source": [
    "# count ony if word occurs or not\n",
    "train_vectors[train_vectors>0] = 1\n",
    "test_vectors[test_vectors>0] = 1\n",
    "knn1 = KNeighborsClassifier(n_neighbors = 1,weights=\"distance\", algorithm=\"ball_tree\")\n",
    "knn1.fit(train_vectors, train_set[\"Label\"] )\n",
    "pred_test = knn1.predict(test_vectors)\n",
    "accuracy_score(test_set[\"Label\"], pred_test)"
   ]
  },
  {
   "cell_type": "code",
   "execution_count": 153,
   "id": "closed-living",
   "metadata": {},
   "outputs": [
    {
     "data": {
      "text/plain": [
       "1"
      ]
     },
     "execution_count": 153,
     "metadata": {},
     "output_type": "execute_result"
    }
   ],
   "source": []
  },
  {
   "cell_type": "code",
   "execution_count": null,
   "id": "elder-better",
   "metadata": {},
   "outputs": [],
   "source": []
  }
 ],
 "metadata": {
  "kernelspec": {
   "display_name": "Python 3",
   "language": "python",
   "name": "python3"
  },
  "language_info": {
   "codemirror_mode": {
    "name": "ipython",
    "version": 3
   },
   "file_extension": ".py",
   "mimetype": "text/x-python",
   "name": "python",
   "nbconvert_exporter": "python",
   "pygments_lexer": "ipython3",
   "version": "3.8.8"
  }
 },
 "nbformat": 4,
 "nbformat_minor": 5
}
