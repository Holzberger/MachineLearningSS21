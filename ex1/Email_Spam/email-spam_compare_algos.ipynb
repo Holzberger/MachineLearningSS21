{
 "cells": [
  {
   "cell_type": "code",
   "execution_count": 1,
   "metadata": {},
   "outputs": [
    {
     "name": "stderr",
     "output_type": "stream",
     "text": [
      "[nltk_data] Downloading package wordnet to\n",
      "[nltk_data]     C:\\Users\\saeny\\AppData\\Roaming\\nltk_data...\n",
      "[nltk_data]   Package wordnet is already up-to-date!\n",
      "[nltk_data] Downloading package punkt to\n",
      "[nltk_data]     C:\\Users\\saeny\\AppData\\Roaming\\nltk_data...\n",
      "[nltk_data]   Package punkt is already up-to-date!\n",
      "[nltk_data] Downloading package stopwords to\n",
      "[nltk_data]     C:\\Users\\saeny\\AppData\\Roaming\\nltk_data...\n",
      "[nltk_data]   Package stopwords is already up-to-date!\n"
     ]
    }
   ],
   "source": [
    "from extractor import *\n",
    "\n",
    "from algo_spam import *\n",
    "\n",
    "from sklearn.model_selection import train_test_split\n",
    "from sklearn.model_selection import cross_val_score\n",
    "\n",
    "import os.path\n",
    "from os import path\n",
    "\n",
    "import matplotlib.pyplot as plt\n",
    "import numpy as np"
   ]
  },
  {
   "cell_type": "markdown",
   "metadata": {},
   "source": [
    "# Importing the datasets"
   ]
  },
  {
   "cell_type": "code",
   "execution_count": 2,
   "metadata": {},
   "outputs": [
    {
     "ename": "FileNotFoundError",
     "evalue": "[Errno 2] File b'./../../../checkdatasets/enronSpamSubset.csv' does not exist: b'./../../../checkdatasets/enronSpamSubset.csv'",
     "output_type": "error",
     "traceback": [
      "\u001b[1;31m---------------------------------------------------------------------------\u001b[0m",
      "\u001b[1;31mFileNotFoundError\u001b[0m                         Traceback (most recent call last)",
      "\u001b[1;32m<ipython-input-2-02d7fffd297c>\u001b[0m in \u001b[0;36m<module>\u001b[1;34m\u001b[0m\n\u001b[0;32m      1\u001b[0m \u001b[0mlink_datafolder\u001b[0m \u001b[1;33m=\u001b[0m \u001b[1;34m\"./../../../checkdatasets/\"\u001b[0m\u001b[1;33m\u001b[0m\u001b[1;33m\u001b[0m\u001b[0m\n\u001b[0;32m      2\u001b[0m \u001b[1;33m\u001b[0m\u001b[0m\n\u001b[1;32m----> 3\u001b[1;33m \u001b[0mdataset\u001b[0m \u001b[1;33m=\u001b[0m \u001b[0mimport_email_data\u001b[0m\u001b[1;33m(\u001b[0m\u001b[0mlink_folder\u001b[0m\u001b[1;33m=\u001b[0m\u001b[0mlink_datafolder\u001b[0m\u001b[1;33m)\u001b[0m\u001b[1;33m\u001b[0m\u001b[1;33m\u001b[0m\u001b[0m\n\u001b[0m\u001b[0;32m      4\u001b[0m \u001b[0mtrain_set\u001b[0m\u001b[1;33m,\u001b[0m \u001b[0mtest_set\u001b[0m \u001b[1;33m=\u001b[0m \u001b[0mtrain_test_split\u001b[0m\u001b[1;33m(\u001b[0m\u001b[0mdataset\u001b[0m\u001b[1;33m,\u001b[0m \u001b[0mtest_size\u001b[0m\u001b[1;33m=\u001b[0m\u001b[1;36m0.2\u001b[0m\u001b[1;33m,\u001b[0m \u001b[0mrandom_state\u001b[0m\u001b[1;33m=\u001b[0m\u001b[1;36m42\u001b[0m\u001b[1;33m)\u001b[0m\u001b[1;33m\u001b[0m\u001b[1;33m\u001b[0m\u001b[0m\n",
      "\u001b[1;32m~\\Desktop\\git directory\\MachineLearningSS21\\ex1\\Email_Spam\\extractor.py\u001b[0m in \u001b[0;36mimport_email_data\u001b[1;34m(link_folder)\u001b[0m\n\u001b[0;32m     28\u001b[0m \u001b[1;33m\u001b[0m\u001b[0m\n\u001b[0;32m     29\u001b[0m \u001b[1;32mdef\u001b[0m \u001b[0mimport_email_data\u001b[0m\u001b[1;33m(\u001b[0m\u001b[0mlink_folder\u001b[0m\u001b[1;33m=\u001b[0m\u001b[1;34m\"./\"\u001b[0m\u001b[1;33m)\u001b[0m\u001b[1;33m:\u001b[0m\u001b[1;33m\u001b[0m\u001b[1;33m\u001b[0m\u001b[0m\n\u001b[1;32m---> 30\u001b[1;33m     \u001b[0menorm_spam_data\u001b[0m \u001b[1;33m=\u001b[0m \u001b[0mimport_dataset\u001b[0m\u001b[1;33m(\u001b[0m\u001b[0mlink_folder\u001b[0m\u001b[1;33m,\u001b[0m \u001b[1;34m\"enronSpamSubset.csv\"\u001b[0m\u001b[1;33m)\u001b[0m\u001b[1;33m\u001b[0m\u001b[1;33m\u001b[0m\u001b[0m\n\u001b[0m\u001b[0;32m     31\u001b[0m     \u001b[0mling_spam_data\u001b[0m  \u001b[1;33m=\u001b[0m \u001b[0mimport_dataset\u001b[0m\u001b[1;33m(\u001b[0m\u001b[0mlink_folder\u001b[0m\u001b[1;33m,\u001b[0m \u001b[1;34m\"lingSpam.csv\"\u001b[0m\u001b[1;33m)\u001b[0m\u001b[1;33m\u001b[0m\u001b[1;33m\u001b[0m\u001b[0m\n\u001b[0;32m     32\u001b[0m \u001b[1;33m\u001b[0m\u001b[0m\n",
      "\u001b[1;32m~\\Desktop\\git directory\\MachineLearningSS21\\ex1\\Email_Spam\\extractor.py\u001b[0m in \u001b[0;36mimport_dataset\u001b[1;34m(link_folder, name_dataset)\u001b[0m\n\u001b[0;32m     25\u001b[0m \u001b[1;33m\u001b[0m\u001b[0m\n\u001b[0;32m     26\u001b[0m \u001b[1;32mdef\u001b[0m \u001b[0mimport_dataset\u001b[0m\u001b[1;33m(\u001b[0m\u001b[0mlink_folder\u001b[0m\u001b[1;33m=\u001b[0m\u001b[1;34m\"./\"\u001b[0m\u001b[1;33m,\u001b[0m \u001b[0mname_dataset\u001b[0m\u001b[1;33m=\u001b[0m\u001b[1;34m\"dataset.csv\"\u001b[0m\u001b[1;33m)\u001b[0m\u001b[1;33m:\u001b[0m\u001b[1;33m\u001b[0m\u001b[1;33m\u001b[0m\u001b[0m\n\u001b[1;32m---> 27\u001b[1;33m     \u001b[1;32mreturn\u001b[0m \u001b[0mpd\u001b[0m\u001b[1;33m.\u001b[0m\u001b[0mread_csv\u001b[0m\u001b[1;33m(\u001b[0m\u001b[0mlink_folder\u001b[0m\u001b[1;33m+\u001b[0m\u001b[0mname_dataset\u001b[0m\u001b[1;33m)\u001b[0m\u001b[1;33m\u001b[0m\u001b[1;33m\u001b[0m\u001b[0m\n\u001b[0m\u001b[0;32m     28\u001b[0m \u001b[1;33m\u001b[0m\u001b[0m\n\u001b[0;32m     29\u001b[0m \u001b[1;32mdef\u001b[0m \u001b[0mimport_email_data\u001b[0m\u001b[1;33m(\u001b[0m\u001b[0mlink_folder\u001b[0m\u001b[1;33m=\u001b[0m\u001b[1;34m\"./\"\u001b[0m\u001b[1;33m)\u001b[0m\u001b[1;33m:\u001b[0m\u001b[1;33m\u001b[0m\u001b[1;33m\u001b[0m\u001b[0m\n",
      "\u001b[1;32m~\\Anaconda3\\lib\\site-packages\\pandas\\io\\parsers.py\u001b[0m in \u001b[0;36mparser_f\u001b[1;34m(filepath_or_buffer, sep, delimiter, header, names, index_col, usecols, squeeze, prefix, mangle_dupe_cols, dtype, engine, converters, true_values, false_values, skipinitialspace, skiprows, skipfooter, nrows, na_values, keep_default_na, na_filter, verbose, skip_blank_lines, parse_dates, infer_datetime_format, keep_date_col, date_parser, dayfirst, cache_dates, iterator, chunksize, compression, thousands, decimal, lineterminator, quotechar, quoting, doublequote, escapechar, comment, encoding, dialect, error_bad_lines, warn_bad_lines, delim_whitespace, low_memory, memory_map, float_precision)\u001b[0m\n\u001b[0;32m    683\u001b[0m         )\n\u001b[0;32m    684\u001b[0m \u001b[1;33m\u001b[0m\u001b[0m\n\u001b[1;32m--> 685\u001b[1;33m         \u001b[1;32mreturn\u001b[0m \u001b[0m_read\u001b[0m\u001b[1;33m(\u001b[0m\u001b[0mfilepath_or_buffer\u001b[0m\u001b[1;33m,\u001b[0m \u001b[0mkwds\u001b[0m\u001b[1;33m)\u001b[0m\u001b[1;33m\u001b[0m\u001b[1;33m\u001b[0m\u001b[0m\n\u001b[0m\u001b[0;32m    686\u001b[0m \u001b[1;33m\u001b[0m\u001b[0m\n\u001b[0;32m    687\u001b[0m     \u001b[0mparser_f\u001b[0m\u001b[1;33m.\u001b[0m\u001b[0m__name__\u001b[0m \u001b[1;33m=\u001b[0m \u001b[0mname\u001b[0m\u001b[1;33m\u001b[0m\u001b[1;33m\u001b[0m\u001b[0m\n",
      "\u001b[1;32m~\\Anaconda3\\lib\\site-packages\\pandas\\io\\parsers.py\u001b[0m in \u001b[0;36m_read\u001b[1;34m(filepath_or_buffer, kwds)\u001b[0m\n\u001b[0;32m    455\u001b[0m \u001b[1;33m\u001b[0m\u001b[0m\n\u001b[0;32m    456\u001b[0m     \u001b[1;31m# Create the parser.\u001b[0m\u001b[1;33m\u001b[0m\u001b[1;33m\u001b[0m\u001b[1;33m\u001b[0m\u001b[0m\n\u001b[1;32m--> 457\u001b[1;33m     \u001b[0mparser\u001b[0m \u001b[1;33m=\u001b[0m \u001b[0mTextFileReader\u001b[0m\u001b[1;33m(\u001b[0m\u001b[0mfp_or_buf\u001b[0m\u001b[1;33m,\u001b[0m \u001b[1;33m**\u001b[0m\u001b[0mkwds\u001b[0m\u001b[1;33m)\u001b[0m\u001b[1;33m\u001b[0m\u001b[1;33m\u001b[0m\u001b[0m\n\u001b[0m\u001b[0;32m    458\u001b[0m \u001b[1;33m\u001b[0m\u001b[0m\n\u001b[0;32m    459\u001b[0m     \u001b[1;32mif\u001b[0m \u001b[0mchunksize\u001b[0m \u001b[1;32mor\u001b[0m \u001b[0miterator\u001b[0m\u001b[1;33m:\u001b[0m\u001b[1;33m\u001b[0m\u001b[1;33m\u001b[0m\u001b[0m\n",
      "\u001b[1;32m~\\Anaconda3\\lib\\site-packages\\pandas\\io\\parsers.py\u001b[0m in \u001b[0;36m__init__\u001b[1;34m(self, f, engine, **kwds)\u001b[0m\n\u001b[0;32m    893\u001b[0m             \u001b[0mself\u001b[0m\u001b[1;33m.\u001b[0m\u001b[0moptions\u001b[0m\u001b[1;33m[\u001b[0m\u001b[1;34m\"has_index_names\"\u001b[0m\u001b[1;33m]\u001b[0m \u001b[1;33m=\u001b[0m \u001b[0mkwds\u001b[0m\u001b[1;33m[\u001b[0m\u001b[1;34m\"has_index_names\"\u001b[0m\u001b[1;33m]\u001b[0m\u001b[1;33m\u001b[0m\u001b[1;33m\u001b[0m\u001b[0m\n\u001b[0;32m    894\u001b[0m \u001b[1;33m\u001b[0m\u001b[0m\n\u001b[1;32m--> 895\u001b[1;33m         \u001b[0mself\u001b[0m\u001b[1;33m.\u001b[0m\u001b[0m_make_engine\u001b[0m\u001b[1;33m(\u001b[0m\u001b[0mself\u001b[0m\u001b[1;33m.\u001b[0m\u001b[0mengine\u001b[0m\u001b[1;33m)\u001b[0m\u001b[1;33m\u001b[0m\u001b[1;33m\u001b[0m\u001b[0m\n\u001b[0m\u001b[0;32m    896\u001b[0m \u001b[1;33m\u001b[0m\u001b[0m\n\u001b[0;32m    897\u001b[0m     \u001b[1;32mdef\u001b[0m \u001b[0mclose\u001b[0m\u001b[1;33m(\u001b[0m\u001b[0mself\u001b[0m\u001b[1;33m)\u001b[0m\u001b[1;33m:\u001b[0m\u001b[1;33m\u001b[0m\u001b[1;33m\u001b[0m\u001b[0m\n",
      "\u001b[1;32m~\\Anaconda3\\lib\\site-packages\\pandas\\io\\parsers.py\u001b[0m in \u001b[0;36m_make_engine\u001b[1;34m(self, engine)\u001b[0m\n\u001b[0;32m   1133\u001b[0m     \u001b[1;32mdef\u001b[0m \u001b[0m_make_engine\u001b[0m\u001b[1;33m(\u001b[0m\u001b[0mself\u001b[0m\u001b[1;33m,\u001b[0m \u001b[0mengine\u001b[0m\u001b[1;33m=\u001b[0m\u001b[1;34m\"c\"\u001b[0m\u001b[1;33m)\u001b[0m\u001b[1;33m:\u001b[0m\u001b[1;33m\u001b[0m\u001b[1;33m\u001b[0m\u001b[0m\n\u001b[0;32m   1134\u001b[0m         \u001b[1;32mif\u001b[0m \u001b[0mengine\u001b[0m \u001b[1;33m==\u001b[0m \u001b[1;34m\"c\"\u001b[0m\u001b[1;33m:\u001b[0m\u001b[1;33m\u001b[0m\u001b[1;33m\u001b[0m\u001b[0m\n\u001b[1;32m-> 1135\u001b[1;33m             \u001b[0mself\u001b[0m\u001b[1;33m.\u001b[0m\u001b[0m_engine\u001b[0m \u001b[1;33m=\u001b[0m \u001b[0mCParserWrapper\u001b[0m\u001b[1;33m(\u001b[0m\u001b[0mself\u001b[0m\u001b[1;33m.\u001b[0m\u001b[0mf\u001b[0m\u001b[1;33m,\u001b[0m \u001b[1;33m**\u001b[0m\u001b[0mself\u001b[0m\u001b[1;33m.\u001b[0m\u001b[0moptions\u001b[0m\u001b[1;33m)\u001b[0m\u001b[1;33m\u001b[0m\u001b[1;33m\u001b[0m\u001b[0m\n\u001b[0m\u001b[0;32m   1136\u001b[0m         \u001b[1;32melse\u001b[0m\u001b[1;33m:\u001b[0m\u001b[1;33m\u001b[0m\u001b[1;33m\u001b[0m\u001b[0m\n\u001b[0;32m   1137\u001b[0m             \u001b[1;32mif\u001b[0m \u001b[0mengine\u001b[0m \u001b[1;33m==\u001b[0m \u001b[1;34m\"python\"\u001b[0m\u001b[1;33m:\u001b[0m\u001b[1;33m\u001b[0m\u001b[1;33m\u001b[0m\u001b[0m\n",
      "\u001b[1;32m~\\Anaconda3\\lib\\site-packages\\pandas\\io\\parsers.py\u001b[0m in \u001b[0;36m__init__\u001b[1;34m(self, src, **kwds)\u001b[0m\n\u001b[0;32m   1915\u001b[0m         \u001b[0mkwds\u001b[0m\u001b[1;33m[\u001b[0m\u001b[1;34m\"usecols\"\u001b[0m\u001b[1;33m]\u001b[0m \u001b[1;33m=\u001b[0m \u001b[0mself\u001b[0m\u001b[1;33m.\u001b[0m\u001b[0musecols\u001b[0m\u001b[1;33m\u001b[0m\u001b[1;33m\u001b[0m\u001b[0m\n\u001b[0;32m   1916\u001b[0m \u001b[1;33m\u001b[0m\u001b[0m\n\u001b[1;32m-> 1917\u001b[1;33m         \u001b[0mself\u001b[0m\u001b[1;33m.\u001b[0m\u001b[0m_reader\u001b[0m \u001b[1;33m=\u001b[0m \u001b[0mparsers\u001b[0m\u001b[1;33m.\u001b[0m\u001b[0mTextReader\u001b[0m\u001b[1;33m(\u001b[0m\u001b[0msrc\u001b[0m\u001b[1;33m,\u001b[0m \u001b[1;33m**\u001b[0m\u001b[0mkwds\u001b[0m\u001b[1;33m)\u001b[0m\u001b[1;33m\u001b[0m\u001b[1;33m\u001b[0m\u001b[0m\n\u001b[0m\u001b[0;32m   1918\u001b[0m         \u001b[0mself\u001b[0m\u001b[1;33m.\u001b[0m\u001b[0munnamed_cols\u001b[0m \u001b[1;33m=\u001b[0m \u001b[0mself\u001b[0m\u001b[1;33m.\u001b[0m\u001b[0m_reader\u001b[0m\u001b[1;33m.\u001b[0m\u001b[0munnamed_cols\u001b[0m\u001b[1;33m\u001b[0m\u001b[1;33m\u001b[0m\u001b[0m\n\u001b[0;32m   1919\u001b[0m \u001b[1;33m\u001b[0m\u001b[0m\n",
      "\u001b[1;32mpandas\\_libs\\parsers.pyx\u001b[0m in \u001b[0;36mpandas._libs.parsers.TextReader.__cinit__\u001b[1;34m()\u001b[0m\n",
      "\u001b[1;32mpandas\\_libs\\parsers.pyx\u001b[0m in \u001b[0;36mpandas._libs.parsers.TextReader._setup_parser_source\u001b[1;34m()\u001b[0m\n",
      "\u001b[1;31mFileNotFoundError\u001b[0m: [Errno 2] File b'./../../../checkdatasets/enronSpamSubset.csv' does not exist: b'./../../../checkdatasets/enronSpamSubset.csv'"
     ]
    }
   ],
   "source": [
    "link_datafolder = \"./../../../checkdatasets/\"\n",
    "\n",
    "dataset = import_email_data(link_folder=link_datafolder)\n",
    "train_set, test_set = train_test_split(dataset, test_size=0.2, random_state=42)"
   ]
  },
  {
   "cell_type": "markdown",
   "metadata": {},
   "source": [
    "# Clean up datasets"
   ]
  },
  {
   "cell_type": "code",
   "execution_count": 3,
   "metadata": {},
   "outputs": [
    {
     "name": "stdout",
     "output_type": "stream",
     "text": [
      "There are 213 duplicates.\n",
      "There are:\n",
      " Body     0\n",
      "Label    0\n",
      "dtype: int64 \n",
      " missing values.\n"
     ]
    }
   ],
   "source": [
    "train_set = remove_duplicates(train_set, remove_dups=True, print_dups=True)\n",
    "train_set = remove_missing_vals(train_set, remove_missing=True, print_missing=True)"
   ]
  },
  {
   "cell_type": "code",
   "execution_count": 4,
   "metadata": {},
   "outputs": [
    {
     "name": "stdout",
     "output_type": "stream",
     "text": [
      "realoading cleaned dataset\n",
      "\n"
     ]
    }
   ],
   "source": [
    "# try to reload datasets with extracted features to save up time\n",
    "force_repickle = False # force to extract features again\n",
    "pickle_name    = \"datasets_optimum_clean\"\n",
    "\n",
    "if path.exists(link_datafolder+pickle_name) and (not force_repickle):\n",
    "    print(\"realoading cleaned dataset\\n\")\n",
    "    [train_set_clean, \n",
    "     test_set_clean] = pickle_data(link_folder=link_datafolder, \n",
    "                                    name=pickle_name, operation=\"rb\")\n",
    "else:\n",
    "    print(\"pickling cleaned dataset\\n\")\n",
    "    train_set_clean = prep_mails(train_set['Body'])\n",
    "    test_set_clean = prep_mails(test_set['Body'])\n",
    "    pickle_data(data_item=[train_set_clean, \n",
    "                           test_set_clean], link_folder=link_datafolder, \n",
    "                name=pickle_name, operation=\"wb\")"
   ]
  },
  {
   "cell_type": "markdown",
   "metadata": {},
   "source": [
    "# extract features"
   ]
  },
  {
   "cell_type": "code",
   "execution_count": 5,
   "metadata": {},
   "outputs": [],
   "source": [
    "train_set_copy = train_set # make a copy since we remove outlyers"
   ]
  },
  {
   "cell_type": "code",
   "execution_count": 22,
   "metadata": {},
   "outputs": [
    {
     "name": "stdout",
     "output_type": "stream",
     "text": [
      "removing 43 rows\n",
      "\n"
     ]
    }
   ],
   "source": [
    "vectorizer_bow ,train_vec, test_vec =\\\n",
    "create_vectorizer(train_set_clean, test_set_clean, max_features=3000)\n",
    "\n",
    "[train_vec, train_set] = remove_outlyers(train_vec, train_set_copy, threshold=100)"
   ]
  },
  {
   "cell_type": "markdown",
   "metadata": {},
   "source": [
    "# Perceptron"
   ]
  },
  {
   "cell_type": "code",
   "execution_count": 23,
   "metadata": {},
   "outputs": [],
   "source": [
    "ppn      = create_perceptron(train_vec, train_set['Label'], eta0=0.3,early_stopping=False, max_iter=100,tol=1e-4)"
   ]
  },
  {
   "cell_type": "code",
   "execution_count": 24,
   "metadata": {},
   "outputs": [
    {
     "name": "stdout",
     "output_type": "stream",
     "text": [
      "0.9665206733295542\n"
     ]
    }
   ],
   "source": [
    "cv_score = cross_val_score(ppn, train_vec, train_set['Label'],scoring=\"accuracy\", cv=5)\n",
    "print(cv_score.mean())"
   ]
  },
  {
   "cell_type": "code",
   "execution_count": 25,
   "metadata": {},
   "outputs": [
    {
     "data": {
      "text/plain": [
       "[<matplotlib.lines.Line2D at 0x7ff9e67b6520>]"
      ]
     },
     "execution_count": 25,
     "metadata": {},
     "output_type": "execute_result"
    },
    {
     "data": {
      "image/png": "[encoded data removed]",
      "text/plain": [
       "<Figure size 432x288 with 1 Axes>"
      ]
     },
     "metadata": {},
     "output_type": "display_data"
    }
   ],
   "source": [
    "#learning rate\n",
    "vals      = np.array([1e-4, 1e-3, 0.01, 0.1, 0.2, 0.3, 0.4, 0.6, 0.8])\n",
    "scores    = []\n",
    "scores_cv = []\n",
    "for x in vals:\n",
    "    ppn = create_perceptron(train_vec, train_set['Label'], eta0=x, max_iter=100,tol=1e-4)\n",
    "    scores.append(ppn.score(train_vec, train_set['Label']))\n",
    "    scores_cv.append(cross_val_score(ppn, train_vec, train_set['Label'],scoring=\"accuracy\", cv=5).mean())\n",
    "plt.semilogx(vals, scores,\"o-\")\n",
    "plt.semilogx(vals, scores_cv,\"o-\")"
   ]
  },
  {
   "cell_type": "code",
   "execution_count": 31,
   "metadata": {},
   "outputs": [
    {
     "data": {
      "text/plain": [
       "[<matplotlib.lines.Line2D at 0x7ff9e58d81c0>]"
      ]
     },
     "execution_count": 31,
     "metadata": {},
     "output_type": "execute_result"
    },
    {
     "data": {
      "image/png": "[encoded data removed]",
      "text/plain": [
       "<Figure size 432x288 with 1 Axes>"
      ]
     },
     "metadata": {},
     "output_type": "display_data"
    }
   ],
   "source": [
    "# maximum iterations\n",
    "import warnings\n",
    "warnings.filterwarnings('ignore')\n",
    "vals      = np.array([5, 10, 50, 100, 200])\n",
    "scores    = []\n",
    "scores_cv = []\n",
    "for x in vals:\n",
    "    ppn = create_perceptron(train_vec, train_set['Label'], eta0=1e-1, max_iter=x,tol=1e-4)\n",
    "    scores.append(ppn.score(train_vec, train_set['Label']))\n",
    "    scores_cv.append(cross_val_score(ppn, train_vec, train_set['Label'],scoring=\"accuracy\", cv=5).mean())\n",
    "plt.plot(vals, scores,\"o-\")\n",
    "plt.plot(vals, scores_cv,\"o-\")"
   ]
  },
  {
   "cell_type": "code",
   "execution_count": 32,
   "metadata": {},
   "outputs": [
    {
     "data": {
      "text/plain": [
       "[<matplotlib.lines.Line2D at 0x7ff9e76cab80>]"
      ]
     },
     "execution_count": 32,
     "metadata": {},
     "output_type": "execute_result"
    },
    {
     "data": {
      "image/png": "[encoded data removed]",
      "text/plain": [
       "<Figure size 432x288 with 1 Axes>"
      ]
     },
     "metadata": {},
     "output_type": "display_data"
    }
   ],
   "source": [
    "# stopping criterion\n",
    "import warnings\n",
    "warnings.filterwarnings('ignore')\n",
    "vals      = np.array([1e-5,1e-4,1e-3,1e-2,1e-1])\n",
    "scores    = []\n",
    "scores_cv = []\n",
    "for x in vals:\n",
    "    ppn = create_perceptron(train_vec, train_set['Label'], eta0=1e-1, max_iter=50,tol=x)\n",
    "    scores.append(ppn.score(train_vec, train_set['Label']))\n",
    "    scores_cv.append(cross_val_score(ppn, train_vec, train_set['Label'],scoring=\"accuracy\", cv=5).mean())\n",
    "plt.semilogx(vals, scores,\"o-\")\n",
    "plt.semilogx(vals, scores_cv,\"o-\")"
   ]
  },
  {
   "cell_type": "code",
   "execution_count": 34,
   "metadata": {},
   "outputs": [
    {
     "data": {
      "text/plain": [
       "[<matplotlib.lines.Line2D at 0x7ff9e6802070>]"
      ]
     },
     "execution_count": 34,
     "metadata": {},
     "output_type": "execute_result"
    },
    {
     "data": {
      "image/png": "[encoded data removed]",
      "text/plain": [
       "<Figure size 432x288 with 1 Axes>"
      ]
     },
     "metadata": {},
     "output_type": "display_data"
    }
   ],
   "source": [
    "# penalty parameter\n",
    "vals_names = [\"l2\",\"l1\",\"elasticnet\",\"None\"]\n",
    "vals       = [0, 1, 2, 3]\n",
    "scores    = []\n",
    "scores_cv = []\n",
    "for x in vals_names:\n",
    "    ppn = create_perceptron(train_vec, train_set['Label'], eta0=1e-1, max_iter=50,tol=1e-5, penalty=x)\n",
    "    scores.append(ppn.score(train_vec, train_set['Label']))\n",
    "    scores_cv.append(cross_val_score(ppn, train_vec, train_set['Label'],scoring=\"accuracy\", cv=5).mean())\n",
    "plt.plot(vals, scores,\"o-\")\n",
    "plt.plot(vals, scores_cv,\"o-\")\n"
   ]
  },
  {
   "cell_type": "code",
   "execution_count": 36,
   "metadata": {},
   "outputs": [
    {
     "name": "stdout",
     "output_type": "stream",
     "text": [
      "removing 28 rows\n",
      "\n",
      "removing 37 rows\n",
      "\n",
      "removing 38 rows\n",
      "\n",
      "removing 43 rows\n",
      "\n",
      "removing 43 rows\n",
      "\n",
      "removing 43 rows\n",
      "\n"
     ]
    },
    {
     "data": {
      "text/plain": [
       "[<matplotlib.lines.Line2D at 0x7ff9e5add7f0>]"
      ]
     },
     "execution_count": 36,
     "metadata": {},
     "output_type": "execute_result"
    },
    {
     "data": {
      "image/png": "[encoded data removed]",
      "text/plain": [
       "<Figure size 432x288 with 1 Axes>"
      ]
     },
     "metadata": {},
     "output_type": "display_data"
    }
   ],
   "source": [
    "# check for performance with different feature numbers\n",
    "vals      = [10, 100, 500, 1000, 2000, 3000]\n",
    "scores    = []\n",
    "scores_cv = []\n",
    "\n",
    "for x in vals:\n",
    "    vectorizer_bow ,train_vec, test_vec =\\\n",
    "    create_vectorizer(train_set_clean, test_set_clean, max_features=x)\n",
    "    [train_vec, train_set] = remove_outlyers(train_vec, train_set_copy, threshold=100)\n",
    "    ppn = create_perceptron(train_vec, train_set['Label'], eta0=1e-1, max_iter=50, tol=1e-5)\n",
    "    scores.append(ppn.score(train_vec, train_set['Label']))\n",
    "    scores_cv.append(cross_val_score(ppn, train_vec, train_set['Label'],scoring=\"accuracy\", cv=5).mean())\n",
    "plt.plot(vals, scores,\"o-\")\n",
    "plt.plot(vals, scores_cv,\"o-\")"
   ]
  },
  {
   "cell_type": "code",
   "execution_count": 37,
   "metadata": {},
   "outputs": [
    {
     "name": "stdout",
     "output_type": "stream",
     "text": [
      "removing 28 rows\n",
      "\n",
      "removing 37 rows\n",
      "\n",
      "removing 38 rows\n",
      "\n",
      "removing 43 rows\n",
      "\n",
      "removing 43 rows\n",
      "\n",
      "removing 43 rows\n",
      "\n"
     ]
    },
    {
     "data": {
      "text/plain": [
       "[<matplotlib.lines.Line2D at 0x7ff9e57a2eb0>]"
      ]
     },
     "execution_count": 37,
     "metadata": {},
     "output_type": "execute_result"
    },
    {
     "data": {
      "image/png": "[encoded data removed]",
      "text/plain": [
       "<Figure size 432x288 with 1 Axes>"
      ]
     },
     "metadata": {},
     "output_type": "display_data"
    }
   ],
   "source": [
    "# check for performance with binary features\n",
    "vals      = [10, 100, 500, 1000, 2000, 3000]\n",
    "scores    = []\n",
    "scores_cv = []\n",
    "\n",
    "for x in vals:\n",
    "    vectorizer_bow ,train_vec, test_vec =\\\n",
    "    create_vectorizer(train_set_clean, test_set_clean, max_features=x)\n",
    "    [train_vec, train_set] = remove_outlyers(train_vec, train_set_copy, threshold=100)\n",
    "    train_vec[train_vec>0] = 1\n",
    "    ppn = create_perceptron(train_vec, train_set['Label'], eta0=1e-1, max_iter=50, tol=1e-5)\n",
    "    scores.append(ppn.score(train_vec, train_set['Label']))\n",
    "    scores_cv.append(cross_val_score(ppn, train_vec, train_set['Label'],scoring=\"accuracy\", cv=5).mean())\n",
    "plt.plot(vals, scores,\"o-\")\n",
    "plt.plot(vals, scores_cv,\"o-\")"
   ]
  },
  {
   "cell_type": "markdown",
   "metadata": {},
   "source": [
    "# compare CV and holdout"
   ]
  },
  {
   "cell_type": "code",
   "execution_count": 51,
   "metadata": {},
   "outputs": [
    {
     "name": "stdout",
     "output_type": "stream",
     "text": [
      "removing 43 rows\n",
      "\n"
     ]
    }
   ],
   "source": [
    "vectorizer_bow ,train_vec, test_vec =\\\n",
    "    create_vectorizer(train_set_clean, test_set_clean, max_features=3000)\n",
    "[train_vec, train_set] = remove_outlyers(train_vec, train_set_copy, threshold=100)"
   ]
  },
  {
   "cell_type": "code",
   "execution_count": 54,
   "metadata": {},
   "outputs": [
    {
     "name": "stdout",
     "output_type": "stream",
     "text": [
      "dict_keys(['fit_time', 'score_time', 'test_precision_macro', 'test_recall_macro'])\n"
     ]
    }
   ],
   "source": [
    "from sklearn.metrics import classification_report\n",
    "from sklearn.model_selection import cross_validate\n",
    "ppn = create_perceptron(train_vec, train_set['Label'], eta0=1e-1, max_iter=50, tol=1e-5)\n",
    "# percision: Of the spam filter says this email is spam, what’s the probability that it’s spam?\n",
    "# recall: Of all the spam in the email set, what fraction did the spam filter detect?”\n",
    "scoring = ['precision_macro', 'recall_macro']\n",
    "scores_test = cross_validate(ppn, test_vec, test_set['Label'], scoring=scoring, cv=10)\n",
    "scores_train = cross_validate(ppn, train_vec, train_set['Label'], scoring=scoring, cv=10)\n",
    "keys = scores_test.keys()\n",
    "print(keys)"
   ]
  },
  {
   "cell_type": "code",
   "execution_count": 56,
   "metadata": {},
   "outputs": [
    {
     "name": "stdout",
     "output_type": "stream",
     "text": [
      "testset\n",
      "0.9520539642265744\n",
      "0.9530925403052478\n",
      "trainset\n",
      "0.9688706659141566\n",
      "0.9690734482720164\n"
     ]
    }
   ],
   "source": [
    "# CV\n",
    "print(\"testset\")\n",
    "print(scores_test['test_recall_macro'].mean())\n",
    "print(scores_test['test_precision_macro'].mean())\n",
    "print(\"trainset\")\n",
    "print(scores_train['test_recall_macro'].mean())\n",
    "print(scores_train['test_precision_macro'].mean())"
   ]
  },
  {
   "cell_type": "code",
   "execution_count": 62,
   "metadata": {},
   "outputs": [
    {
     "name": "stdout",
     "output_type": "stream",
     "text": [
      "testset\n",
      "(0.9728823508371209, 0.9731616049288033, 0.9730205378833293, None)\n",
      "trainset\n",
      "(0.9995509794363134, 0.999615206074894, 0.999583048279844, None)\n"
     ]
    }
   ],
   "source": [
    "# Holdout\n",
    "from sklearn.metrics import precision_recall_fscore_support\n",
    "predict_test  = ppn.predict(test_vec)\n",
    "predict_train = ppn.predict(train_vec)\n",
    "print(\"testset\")\n",
    "print(precision_recall_fscore_support(test_set['Label'], predict_test, average='macro'))\n",
    "print(\"trainset\")\n",
    "print(precision_recall_fscore_support(train_set['Label'], predict_train, average='macro'))"
   ]
  },
  {
   "cell_type": "markdown",
   "metadata": {},
   "source": [
    "# Random Forrest"
   ]
  },
  {
   "cell_type": "code",
   "execution_count": 79,
   "metadata": {},
   "outputs": [
    {
     "name": "stdout",
     "output_type": "stream",
     "text": [
      "removing 43 rows\n",
      "\n"
     ]
    }
   ],
   "source": [
    "vectorizer_bow ,train_vec, test_vec =\\\n",
    "    create_vectorizer(train_set_clean, test_set_clean, max_features=2000)\n",
    "[train_vec, train_set] = remove_outlyers(train_vec, train_set_copy, threshold=100)"
   ]
  },
  {
   "cell_type": "code",
   "execution_count": 81,
   "metadata": {},
   "outputs": [
    {
     "name": "stdout",
     "output_type": "stream",
     "text": [
      "iteration done\n",
      "iteration done\n",
      "iteration done\n",
      "iteration done\n",
      "iteration done\n"
     ]
    },
    {
     "data": {
      "text/plain": [
       "[<matplotlib.lines.Line2D at 0x7ff9e42a5df0>]"
      ]
     },
     "execution_count": 81,
     "metadata": {},
     "output_type": "execute_result"
    },
    {
     "data": {
      "image/png": "[encoded data removed]",
      "text/plain": [
       "<Figure size 432x288 with 1 Axes>"
      ]
     },
     "metadata": {},
     "output_type": "display_data"
    }
   ],
   "source": [
    "# trees in the forrest\n",
    "vals      = np.array([1,5,10,50,70])\n",
    "scores    = []\n",
    "scores_cv = []\n",
    "for x in vals:\n",
    "    print(\"iteration done\")\n",
    "    dtree = create_rnd_forrest(train_vec, train_set['Label'], random_state=42, n_estimators=x)\n",
    "    scores.append(dtree.score(train_vec, train_set['Label']))\n",
    "    #scores_cv.append(cross_val_score(dtree, train_vec, train_set['Label'],scoring=\"accuracy\", cv=5).mean())\n",
    "plt.semilogx(vals, scores,\"o-\")\n",
    "#plt.semilogx(vals, scores_cv,\"o-\")"
   ]
  },
  {
   "cell_type": "code",
   "execution_count": 100,
   "metadata": {},
   "outputs": [],
   "source": [
    "# cost complexity pruning\n",
    "clfs = []\n",
    "ccp_alphas = [1e-6, 1e-5, 15e-6, 2e-5, 1e-4, 2e-4, 1e-3]\n",
    "for ccp_alpha in ccp_alphas:\n",
    "    clf = RandomForestClassifier(random_state=42, ccp_alpha=ccp_alpha, n_estimators=70)\n",
    "    clf.fit(train_vec, train_set['Label'])\n",
    "    clfs.append(clf)"
   ]
  },
  {
   "cell_type": "code",
   "execution_count": 101,
   "metadata": {},
   "outputs": [
    {
     "data": {
      "image/png": "[encoded data removed]",
      "text/plain": [
       "<Figure size 432x432 with 1 Axes>"
      ]
     },
     "metadata": {},
     "output_type": "display_data"
    }
   ],
   "source": [
    "train_scores = [clf.score(train_vec, train_set['Label']) for clf in clfs]\n",
    "test_scores = [clf.score(test_vec, test_set['Label']) for clf in clfs]\n",
    "\n",
    "fig, ax = plt.subplots(figsize=(6,6))\n",
    "ax.set_xlabel(\"alpha\")\n",
    "ax.set_ylabel(\"accuracy\")\n",
    "ax.set_title(\"Accuracy vs alpha for training and testing sets\")\n",
    "ax.semilogx(ccp_alphas, train_scores, marker='o', label=\"train\",\n",
    "        drawstyle=\"steps-post\")\n",
    "ax.semilogx(ccp_alphas, test_scores, marker='o', label=\"test\",\n",
    "        drawstyle=\"steps-post\")\n",
    "ax.legend()\n",
    "plt.show()"
   ]
  },
  {
   "cell_type": "code",
   "execution_count": 98,
   "metadata": {},
   "outputs": [
    {
     "name": "stdout",
     "output_type": "stream",
     "text": [
      "removing 28 rows\n",
      "\n",
      "removing 37 rows\n",
      "\n",
      "removing 38 rows\n",
      "\n",
      "removing 43 rows\n",
      "\n",
      "removing 43 rows\n",
      "\n",
      "removing 43 rows\n",
      "\n"
     ]
    },
    {
     "data": {
      "text/plain": [
       "[<matplotlib.lines.Line2D at 0x7ff9e7c5a970>]"
      ]
     },
     "execution_count": 98,
     "metadata": {},
     "output_type": "execute_result"
    },
    {
     "data": {
      "image/png": "[encoded data removed]",
      "text/plain": [
       "<Figure size 432x288 with 1 Axes>"
      ]
     },
     "metadata": {},
     "output_type": "display_data"
    }
   ],
   "source": [
    "# check for performance with different feature numbers\n",
    "vals      = [10, 100, 500, 1000, 2000, 3000]\n",
    "scores    = []\n",
    "scores_cv = []\n",
    "\n",
    "for x in vals:\n",
    "    vectorizer_bow ,train_vec, test_vec =\\\n",
    "    create_vectorizer(train_set_clean, test_set_clean, max_features=x)\n",
    "    [train_vec, train_set] = remove_outlyers(train_vec, train_set_copy, threshold=100)\n",
    "    dtree = create_rnd_forrest(train_vec, train_set['Label'], random_state=42, ccp_alpha=2e-5, n_estimators=70)\n",
    "    scores.append(dtree.score(train_vec, train_set['Label']))\n",
    "    #scores_cv.append(cross_val_score(ppn, train_vec, train_set['Label'],scoring=\"accuracy\", cv=5).mean())\n",
    "plt.plot(vals, scores,\"o-\")\n",
    "#plt.plot(vals, scores_cv,\"o-\")"
   ]
  },
  {
   "cell_type": "markdown",
   "metadata": {},
   "source": [
    "# compare CV and holdout"
   ]
  },
  {
   "cell_type": "code",
   "execution_count": 105,
   "metadata": {},
   "outputs": [
    {
     "name": "stdout",
     "output_type": "stream",
     "text": [
      "removing 43 rows\n",
      "\n"
     ]
    }
   ],
   "source": [
    "vectorizer_bow ,train_vec, test_vec =\\\n",
    "    create_vectorizer(train_set_clean, test_set_clean, max_features=1000)\n",
    "[train_vec, train_set] = remove_outlyers(train_vec, train_set_copy, threshold=100)"
   ]
  },
  {
   "cell_type": "code",
   "execution_count": 106,
   "metadata": {},
   "outputs": [
    {
     "name": "stdout",
     "output_type": "stream",
     "text": [
      "dict_keys(['fit_time', 'score_time', 'test_precision_macro', 'test_recall_macro'])\n"
     ]
    }
   ],
   "source": [
    "from sklearn.metrics import classification_report\n",
    "from sklearn.model_selection import cross_validate\n",
    "dtree = create_rnd_forrest(train_vec, train_set['Label'], random_state=42, ccp_alpha=2e-5, n_estimators=70)\n",
    "# percision: Of the spam filter says this email is spam, what’s the probability that it’s spam?\n",
    "# recall: Of all the spam in the email set, what fraction did the spam filter detect?”\n",
    "scoring = ['precision_macro', 'recall_macro']\n",
    "scores_test = cross_validate(dtree, test_vec, test_set['Label'], scoring=scoring, cv=10)\n",
    "scores_train = cross_validate(dtree, train_vec, train_set['Label'], scoring=scoring, cv=10)\n",
    "keys = scores_test.keys()\n",
    "print(keys)"
   ]
  },
  {
   "cell_type": "code",
   "execution_count": 107,
   "metadata": {},
   "outputs": [
    {
     "name": "stdout",
     "output_type": "stream",
     "text": [
      "testset\n",
      "0.9570359238744015\n",
      "0.9543936869582982\n",
      "trainset\n",
      "0.9636056117192636\n",
      "0.9615000111893621\n"
     ]
    }
   ],
   "source": [
    "# CV\n",
    "print(\"testset\")\n",
    "print(scores_test['test_recall_macro'].mean())\n",
    "print(scores_test['test_precision_macro'].mean())\n",
    "print(\"trainset\")\n",
    "print(scores_train['test_recall_macro'].mean())\n",
    "print(scores_train['test_precision_macro'].mean())"
   ]
  },
  {
   "cell_type": "code",
   "execution_count": 108,
   "metadata": {},
   "outputs": [
    {
     "name": "stdout",
     "output_type": "stream",
     "text": [
      "testset\n",
      "(0.973020556796985, 0.9748616330495692, 0.9738708196540421, None)\n",
      "trainset\n",
      "(0.9983828077327717, 0.9987014981864595, 0.9985410431173731, None)\n"
     ]
    }
   ],
   "source": [
    "# Holdout\n",
    "from sklearn.metrics import precision_recall_fscore_support\n",
    "predict_test  = dtree.predict(test_vec)\n",
    "predict_train = dtree.predict(train_vec)\n",
    "print(\"testset\")\n",
    "print(precision_recall_fscore_support(test_set['Label'], predict_test, average='macro'))\n",
    "print(\"trainset\")\n",
    "print(precision_recall_fscore_support(train_set['Label'], predict_train, average='macro'))"
   ]
  },
  {
   "cell_type": "markdown",
   "metadata": {},
   "source": [
    "# Naive Bayes"
   ]
  },
  {
   "cell_type": "code",
   "execution_count": 110,
   "metadata": {},
   "outputs": [
    {
     "name": "stdout",
     "output_type": "stream",
     "text": [
      "removing 28 rows\n",
      "\n",
      "removing 37 rows\n",
      "\n",
      "removing 38 rows\n",
      "\n",
      "removing 43 rows\n",
      "\n",
      "removing 43 rows\n",
      "\n",
      "removing 43 rows\n",
      "\n",
      "removing 43 rows\n",
      "\n",
      "removing 43 rows\n",
      "\n"
     ]
    },
    {
     "data": {
      "text/plain": [
       "[<matplotlib.lines.Line2D at 0x7ff9e7c26610>]"
      ]
     },
     "execution_count": 110,
     "metadata": {},
     "output_type": "execute_result"
    },
    {
     "data": {
      "image/png": "[encoded data removed]",
      "text/plain": [
       "<Figure size 432x288 with 1 Axes>"
      ]
     },
     "metadata": {},
     "output_type": "display_data"
    }
   ],
   "source": [
    "# check for performance with different feature numbers\n",
    "vals      = [10, 100, 500, 1000, 2000, 3000, 4000, 5000]\n",
    "scores    = []\n",
    "scores_cv = []\n",
    "\n",
    "for x in vals:\n",
    "    vectorizer_bow ,train_vec, test_vec =\\\n",
    "    create_vectorizer(train_set_clean, test_set_clean, max_features=x)\n",
    "    [train_vec, train_set] = remove_outlyers(train_vec, train_set_copy, threshold=100)\n",
    "    nb = create_nb(train_vec, train_set['Label'])\n",
    "    scores.append(nb.score(train_vec, train_set['Label']))\n",
    "    scores_cv.append(cross_val_score(ppn, train_vec, train_set['Label'],scoring=\"accuracy\", cv=5).mean())\n",
    "plt.plot(vals, scores,\"o-\")\n",
    "plt.plot(vals, scores_cv,\"o-\")"
   ]
  },
  {
   "cell_type": "code",
   "execution_count": 6,
   "metadata": {},
   "outputs": [
    {
     "name": "stdout",
     "output_type": "stream",
     "text": [
      "removing 43 rows\n",
      "\n"
     ]
    }
   ],
   "source": [
    "vectorizer_bow ,train_vec, test_vec =\\\n",
    "    create_vectorizer(train_set_clean, test_set_clean, max_features=5000)\n",
    "[train_vec, train_set] = remove_outlyers(train_vec, train_set_copy, threshold=100)"
   ]
  },
  {
   "cell_type": "code",
   "execution_count": 9,
   "metadata": {},
   "outputs": [
    {
     "name": "stdout",
     "output_type": "stream",
     "text": [
      "iteration done\n",
      "iteration done\n",
      "iteration done\n",
      "iteration done\n",
      "iteration done\n",
      "iteration done\n"
     ]
    },
    {
     "data": {
      "text/plain": [
       "[<matplotlib.lines.Line2D at 0x7f0a8c43a430>]"
      ]
     },
     "execution_count": 9,
     "metadata": {},
     "output_type": "execute_result"
    },
    {
     "data": {
      "image/png": "[encoded data removed]",
      "text/plain": [
       "<Figure size 432x288 with 1 Axes>"
      ]
     },
     "metadata": {},
     "output_type": "display_data"
    }
   ],
   "source": [
    "# laplace smoothing parameter\n",
    "vals      = np.array([1e-2, 1e-1, 0.5, 1, 10, 100])\n",
    "scores    = []\n",
    "scores_cv = []\n",
    "for x in vals:\n",
    "    print(\"iteration done\")\n",
    "    nb = create_nb(train_vec, train_set['Label'], alpha=x)\n",
    "    scores.append(nb.score(train_vec, train_set['Label']))\n",
    "    scores_cv.append(cross_val_score(nb, train_vec, train_set['Label'],scoring=\"accuracy\", cv=5).mean())\n",
    "plt.semilogx(vals, scores,\"o-\")\n",
    "plt.semilogx(vals, scores_cv,\"o-\")"
   ]
  },
  {
   "cell_type": "markdown",
   "metadata": {},
   "source": [
    "# compare CV and holdout"
   ]
  },
  {
   "cell_type": "code",
   "execution_count": 10,
   "metadata": {},
   "outputs": [
    {
     "name": "stdout",
     "output_type": "stream",
     "text": [
      "dict_keys(['fit_time', 'score_time', 'test_precision_macro', 'test_recall_macro'])\n"
     ]
    }
   ],
   "source": [
    "from sklearn.metrics import classification_report\n",
    "from sklearn.model_selection import cross_validate\n",
    "nb = create_nb(train_vec, train_set['Label'], alpha=100)\n",
    "# percision: Of the spam filter says this email is spam, what’s the probability that it’s spam?\n",
    "# recall: Of all the spam in the email set, what fraction did the spam filter detect?”\n",
    "scoring = ['precision_macro', 'recall_macro']\n",
    "scores_test = cross_validate(nb, test_vec, test_set['Label'], scoring=scoring, cv=10)\n",
    "scores_train = cross_validate(nb, train_vec, train_set['Label'], scoring=scoring, cv=10)\n",
    "keys = scores_test.keys()\n",
    "print(keys)"
   ]
  },
  {
   "cell_type": "code",
   "execution_count": 11,
   "metadata": {},
   "outputs": [
    {
     "name": "stdout",
     "output_type": "stream",
     "text": [
      "testset\n",
      "0.9283429137040164\n",
      "0.9460663360941315\n",
      "trainset\n",
      "0.9669951559406208\n",
      "0.966384653606195\n"
     ]
    }
   ],
   "source": [
    "# CV\n",
    "print(\"testset\")\n",
    "print(scores_test['test_recall_macro'].mean())\n",
    "print(scores_test['test_precision_macro'].mean())\n",
    "print(\"trainset\")\n",
    "print(scores_train['test_recall_macro'].mean())\n",
    "print(scores_train['test_precision_macro'].mean())"
   ]
  },
  {
   "cell_type": "code",
   "execution_count": 12,
   "metadata": {},
   "outputs": [
    {
     "name": "stdout",
     "output_type": "stream",
     "text": [
      "testset\n",
      "(0.9657214389601876, 0.9649618452335302, 0.9653314528405674, None)\n",
      "trainset\n",
      "(0.9673737082768784, 0.9682872692339679, 0.9678201861765299, None)\n"
     ]
    }
   ],
   "source": [
    "# Holdout\n",
    "from sklearn.metrics import precision_recall_fscore_support\n",
    "predict_test  = nb.predict(test_vec)\n",
    "predict_train = nb.predict(train_vec)\n",
    "print(\"testset\")\n",
    "print(precision_recall_fscore_support(test_set['Label'], predict_test, average='macro'))\n",
    "print(\"trainset\")\n",
    "print(precision_recall_fscore_support(train_set['Label'], predict_train, average='macro'))"
   ]
  },
  {
   "cell_type": "code",
   "execution_count": null,
   "metadata": {},
   "outputs": [],
   "source": []
  }
 ],
 "metadata": {
  "kernelspec": {
   "display_name": "Python 3",
   "language": "python",
   "name": "python3"
  },
  "language_info": {
   "codemirror_mode": {
    "name": "ipython",
    "version": 3
   },
   "file_extension": ".py",
   "mimetype": "text/x-python",
   "name": "python",
   "nbconvert_exporter": "python",
   "pygments_lexer": "ipython3",
   "version": "3.7.4"
  }
 },
 "nbformat": 4,
 "nbformat_minor": 4
}
